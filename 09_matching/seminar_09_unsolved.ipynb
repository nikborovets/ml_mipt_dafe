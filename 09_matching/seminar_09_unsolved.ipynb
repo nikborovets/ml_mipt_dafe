{
 "cells": [
  {
   "cell_type": "markdown",
   "id": "2b8978a6-8494-42a0-84df-36569f26a074",
   "metadata": {
    "tags": []
   },
   "source": [
    "# Семинар 09 - Ранжирование"
   ]
  },
  {
   "cell_type": "code",
   "execution_count": 1,
   "id": "d254fb0b-17d4-47ab-9fc4-4a97c77bda75",
   "metadata": {},
   "outputs": [
    {
     "name": "stderr",
     "output_type": "stream",
     "text": [
      "D:\\Anaconda3\\Lib\\site-packages\\pandas\\core\\arrays\\masked.py:60: UserWarning: Pandas requires version '1.3.6' or newer of 'bottleneck' (version '1.3.5' currently installed).\n",
      "  from pandas.core import (\n"
     ]
    }
   ],
   "source": [
    "import numpy as np\n",
    "import pandas as pd\n",
    "\n",
    "seed = 42\n",
    "np.random.seed(seed)"
   ]
  },
  {
   "cell_type": "markdown",
   "id": "bfed1a86-5dc8-46eb-b9bb-21abe721b80d",
   "metadata": {},
   "source": [
    "<a id=\"Content\"></a>\n",
    "# Содержание\n",
    "0. [Pointwise - TF-IDF](#0)\n",
    "   - [Данные](#0.1)\n",
    "   - [Неперсонализированная рекомендация](#0.2)\n",
    "   - [Content-based рекомендация](#0.3)\n",
    "1. [Pairwise - RankNet](#1)\n",
    "2. [Listwise - ListNet](#2)\n",
    "3. [Полезные ссылки](#3)"
   ]
  },
  {
   "cell_type": "markdown",
   "id": "29e599fa-fb41-4e7d-8745-2fc9cb3ff7e1",
   "metadata": {
    "id": "IyKW4l6ZGsGO",
    "tags": []
   },
   "source": [
    "<a id=\"0\"></a>\n",
    "# 0. Pointwise - TF-IDF"
   ]
  },
  {
   "cell_type": "markdown",
   "id": "847a837f-ddf3-4a9a-9a81-a22c564fcd35",
   "metadata": {},
   "source": [
    "<a id=\"0.1\"></a>\n",
    "## 0.1. Данные\n",
    "[Исходники данных](https://www.kaggle.com/rounakbanik/the-movies-dataset) для работы на семинаре."
   ]
  },
  {
   "cell_type": "code",
   "execution_count": 2,
   "id": "2e1b620c-9817-40ba-8cf5-9c5f2c16f1da",
   "metadata": {
    "colab": {
     "base_uri": "https://localhost:8080/",
     "height": 666
    },
    "executionInfo": {
     "elapsed": 1169,
     "status": "ok",
     "timestamp": 1637675666500,
     "user": {
      "displayName": "Даниил Русланович Махоткин",
      "photoUrl": "https://lh3.googleusercontent.com/a/default-user=s64",
      "userId": "18336248573599285046"
     },
     "user_tz": -180
    },
    "id": "D0ep8BwjKiur",
    "outputId": "6e374f3e-8977-462a-e648-43567d0d8113"
   },
   "outputs": [
    {
     "data": {
      "text/html": [
       "<div>\n",
       "<style scoped>\n",
       "    .dataframe tbody tr th:only-of-type {\n",
       "        vertical-align: middle;\n",
       "    }\n",
       "\n",
       "    .dataframe tbody tr th {\n",
       "        vertical-align: top;\n",
       "    }\n",
       "\n",
       "    .dataframe thead th {\n",
       "        text-align: right;\n",
       "    }\n",
       "</style>\n",
       "<table border=\"1\" class=\"dataframe\">\n",
       "  <thead>\n",
       "    <tr style=\"text-align: right;\">\n",
       "      <th></th>\n",
       "      <th>adult</th>\n",
       "      <th>belongs_to_collection</th>\n",
       "      <th>budget</th>\n",
       "      <th>genres</th>\n",
       "      <th>homepage</th>\n",
       "      <th>id</th>\n",
       "      <th>imdb_id</th>\n",
       "      <th>original_language</th>\n",
       "      <th>original_title</th>\n",
       "      <th>overview</th>\n",
       "      <th>...</th>\n",
       "      <th>release_date</th>\n",
       "      <th>revenue</th>\n",
       "      <th>runtime</th>\n",
       "      <th>spoken_languages</th>\n",
       "      <th>status</th>\n",
       "      <th>tagline</th>\n",
       "      <th>title</th>\n",
       "      <th>video</th>\n",
       "      <th>vote_average</th>\n",
       "      <th>vote_count</th>\n",
       "    </tr>\n",
       "  </thead>\n",
       "  <tbody>\n",
       "    <tr>\n",
       "      <th>0</th>\n",
       "      <td>False</td>\n",
       "      <td>{'id': 10194, 'name': 'Toy Story Collection', ...</td>\n",
       "      <td>30000000</td>\n",
       "      <td>[{'id': 16, 'name': 'Animation'}, {'id': 35, '...</td>\n",
       "      <td>http://toystory.disney.com/toy-story</td>\n",
       "      <td>862</td>\n",
       "      <td>tt0114709</td>\n",
       "      <td>en</td>\n",
       "      <td>Toy Story</td>\n",
       "      <td>Led by Woody, Andy's toys live happily in his ...</td>\n",
       "      <td>...</td>\n",
       "      <td>1995-10-30</td>\n",
       "      <td>373554033.0</td>\n",
       "      <td>81.0</td>\n",
       "      <td>[{'iso_639_1': 'en', 'name': 'English'}]</td>\n",
       "      <td>Released</td>\n",
       "      <td>NaN</td>\n",
       "      <td>Toy Story</td>\n",
       "      <td>False</td>\n",
       "      <td>7.7</td>\n",
       "      <td>5415.0</td>\n",
       "    </tr>\n",
       "    <tr>\n",
       "      <th>1</th>\n",
       "      <td>False</td>\n",
       "      <td>NaN</td>\n",
       "      <td>65000000</td>\n",
       "      <td>[{'id': 12, 'name': 'Adventure'}, {'id': 14, '...</td>\n",
       "      <td>NaN</td>\n",
       "      <td>8844</td>\n",
       "      <td>tt0113497</td>\n",
       "      <td>en</td>\n",
       "      <td>Jumanji</td>\n",
       "      <td>When siblings Judy and Peter discover an encha...</td>\n",
       "      <td>...</td>\n",
       "      <td>1995-12-15</td>\n",
       "      <td>262797249.0</td>\n",
       "      <td>104.0</td>\n",
       "      <td>[{'iso_639_1': 'en', 'name': 'English'}, {'iso...</td>\n",
       "      <td>Released</td>\n",
       "      <td>Roll the dice and unleash the excitement!</td>\n",
       "      <td>Jumanji</td>\n",
       "      <td>False</td>\n",
       "      <td>6.9</td>\n",
       "      <td>2413.0</td>\n",
       "    </tr>\n",
       "    <tr>\n",
       "      <th>2</th>\n",
       "      <td>False</td>\n",
       "      <td>{'id': 119050, 'name': 'Grumpy Old Men Collect...</td>\n",
       "      <td>0</td>\n",
       "      <td>[{'id': 10749, 'name': 'Romance'}, {'id': 35, ...</td>\n",
       "      <td>NaN</td>\n",
       "      <td>15602</td>\n",
       "      <td>tt0113228</td>\n",
       "      <td>en</td>\n",
       "      <td>Grumpier Old Men</td>\n",
       "      <td>A family wedding reignites the ancient feud be...</td>\n",
       "      <td>...</td>\n",
       "      <td>1995-12-22</td>\n",
       "      <td>0.0</td>\n",
       "      <td>101.0</td>\n",
       "      <td>[{'iso_639_1': 'en', 'name': 'English'}]</td>\n",
       "      <td>Released</td>\n",
       "      <td>Still Yelling. Still Fighting. Still Ready for...</td>\n",
       "      <td>Grumpier Old Men</td>\n",
       "      <td>False</td>\n",
       "      <td>6.5</td>\n",
       "      <td>92.0</td>\n",
       "    </tr>\n",
       "  </tbody>\n",
       "</table>\n",
       "<p>3 rows × 24 columns</p>\n",
       "</div>"
      ],
      "text/plain": [
       "   adult                              belongs_to_collection    budget  \\\n",
       "0  False  {'id': 10194, 'name': 'Toy Story Collection', ...  30000000   \n",
       "1  False                                                NaN  65000000   \n",
       "2  False  {'id': 119050, 'name': 'Grumpy Old Men Collect...         0   \n",
       "\n",
       "                                              genres  \\\n",
       "0  [{'id': 16, 'name': 'Animation'}, {'id': 35, '...   \n",
       "1  [{'id': 12, 'name': 'Adventure'}, {'id': 14, '...   \n",
       "2  [{'id': 10749, 'name': 'Romance'}, {'id': 35, ...   \n",
       "\n",
       "                               homepage     id    imdb_id original_language  \\\n",
       "0  http://toystory.disney.com/toy-story    862  tt0114709                en   \n",
       "1                                   NaN   8844  tt0113497                en   \n",
       "2                                   NaN  15602  tt0113228                en   \n",
       "\n",
       "     original_title                                           overview  ...  \\\n",
       "0         Toy Story  Led by Woody, Andy's toys live happily in his ...  ...   \n",
       "1           Jumanji  When siblings Judy and Peter discover an encha...  ...   \n",
       "2  Grumpier Old Men  A family wedding reignites the ancient feud be...  ...   \n",
       "\n",
       "  release_date      revenue runtime  \\\n",
       "0   1995-10-30  373554033.0    81.0   \n",
       "1   1995-12-15  262797249.0   104.0   \n",
       "2   1995-12-22          0.0   101.0   \n",
       "\n",
       "                                    spoken_languages    status  \\\n",
       "0           [{'iso_639_1': 'en', 'name': 'English'}]  Released   \n",
       "1  [{'iso_639_1': 'en', 'name': 'English'}, {'iso...  Released   \n",
       "2           [{'iso_639_1': 'en', 'name': 'English'}]  Released   \n",
       "\n",
       "                                             tagline             title  video  \\\n",
       "0                                                NaN         Toy Story  False   \n",
       "1          Roll the dice and unleash the excitement!           Jumanji  False   \n",
       "2  Still Yelling. Still Fighting. Still Ready for...  Grumpier Old Men  False   \n",
       "\n",
       "  vote_average vote_count  \n",
       "0          7.7     5415.0  \n",
       "1          6.9     2413.0  \n",
       "2          6.5       92.0  \n",
       "\n",
       "[3 rows x 24 columns]"
      ]
     },
     "execution_count": 2,
     "metadata": {},
     "output_type": "execute_result"
    }
   ],
   "source": [
    "# загрузим данные о фильмах (набор документов)\n",
    "\n",
    "metadata = pd.read_csv('data/movies/movies_metadata.csv', low_memory=False)\n",
    "metadata.head(3)"
   ]
  },
  {
   "cell_type": "code",
   "execution_count": 3,
   "id": "254aeeb5-d313-4579-9351-608f07d7240d",
   "metadata": {
    "colab": {
     "base_uri": "https://localhost:8080/",
     "height": 204
    },
    "executionInfo": {
     "elapsed": 254,
     "status": "ok",
     "timestamp": 1637681955698,
     "user": {
      "displayName": "Даниил Русланович Махоткин",
      "photoUrl": "https://lh3.googleusercontent.com/a/default-user=s64",
      "userId": "18336248573599285046"
     },
     "user_tz": -180
    },
    "id": "FwrtU7LmKixj",
    "outputId": "90d0eeb3-cb0e-45dc-c3d8-0bdadaad3773"
   },
   "outputs": [
    {
     "data": {
      "text/html": [
       "<div>\n",
       "<style scoped>\n",
       "    .dataframe tbody tr th:only-of-type {\n",
       "        vertical-align: middle;\n",
       "    }\n",
       "\n",
       "    .dataframe tbody tr th {\n",
       "        vertical-align: top;\n",
       "    }\n",
       "\n",
       "    .dataframe thead th {\n",
       "        text-align: right;\n",
       "    }\n",
       "</style>\n",
       "<table border=\"1\" class=\"dataframe\">\n",
       "  <thead>\n",
       "    <tr style=\"text-align: right;\">\n",
       "      <th></th>\n",
       "      <th>userId</th>\n",
       "      <th>movieId</th>\n",
       "      <th>rating</th>\n",
       "      <th>timestamp</th>\n",
       "    </tr>\n",
       "  </thead>\n",
       "  <tbody>\n",
       "    <tr>\n",
       "      <th>0</th>\n",
       "      <td>1</td>\n",
       "      <td>31</td>\n",
       "      <td>2.5</td>\n",
       "      <td>1260759144</td>\n",
       "    </tr>\n",
       "    <tr>\n",
       "      <th>1</th>\n",
       "      <td>1</td>\n",
       "      <td>1029</td>\n",
       "      <td>3.0</td>\n",
       "      <td>1260759179</td>\n",
       "    </tr>\n",
       "    <tr>\n",
       "      <th>2</th>\n",
       "      <td>1</td>\n",
       "      <td>1061</td>\n",
       "      <td>3.0</td>\n",
       "      <td>1260759182</td>\n",
       "    </tr>\n",
       "  </tbody>\n",
       "</table>\n",
       "</div>"
      ],
      "text/plain": [
       "   userId  movieId  rating   timestamp\n",
       "0       1       31     2.5  1260759144\n",
       "1       1     1029     3.0  1260759179\n",
       "2       1     1061     3.0  1260759182"
      ]
     },
     "execution_count": 3,
     "metadata": {},
     "output_type": "execute_result"
    }
   ],
   "source": [
    "# загрузим данные о фильмах (оценки релевантности)\n",
    "rating = pd.read_csv('data/movies/ratings_small.csv', low_memory=False)\n",
    "\n",
    "rating.head(3)"
   ]
  },
  {
   "cell_type": "markdown",
   "id": "5417412c-2b16-435c-a428-6fecb38aba9c",
   "metadata": {
    "id": "OyM2nL_ZaGJb"
   },
   "source": [
    "<a id=\"0.2\"></a>\n",
    "## 0.2. Неперсонализированная рекомендация\n",
    "\n",
    "Сделаем свой аналог [IMDb rating](https://www.imdb.com/chart/top?ref_=nb_mv_3_chttp) через взвешенный рейтинг:\n",
    "$$WeightedRating=(\\frac{v}{v+m}⋅R)+(\\frac{m}{v+m}⋅C)$$\n",
    "\n",
    "где:\n",
    "- v (votes) число оценок фильма;\n",
    "- m (minimum) минимальное число оценок для попадания в топ;\n",
    "- R (rating) средний рейтинг фильма;\n",
    "- C (across) средний рейтинг по всем фильмам.\n",
    "\n",
    "Эта формула позволяет сгладить рейтинги элементов с небольшим количеством оценок, приближая их к среднему рейтингу по всем элементам. Это помогает избежать ситуаций, когда элемент с небольшим количеством оценок, но высоким средним рейтингом, занимает слишком высокое место в рейтинге."
   ]
  },
  {
   "cell_type": "code",
   "execution_count": 4,
   "id": "7a116199-184e-408f-8f53-1454d0d7d588",
   "metadata": {
    "colab": {
     "base_uri": "https://localhost:8080/"
    },
    "executionInfo": {
     "elapsed": 280,
     "status": "ok",
     "timestamp": 1637661458640,
     "user": {
      "displayName": "Даниил Русланович Махоткин",
      "photoUrl": "https://lh3.googleusercontent.com/a/default-user=s64",
      "userId": "18336248573599285046"
     },
     "user_tz": -180
    },
    "id": "NpR_W5XraNuB",
    "outputId": "387576ae-39ba-4b6e-e019-12c4f28a8958"
   },
   "outputs": [
    {
     "name": "stdout",
     "output_type": "stream",
     "text": [
      "5.618207215134185\n",
      "160.0\n",
      "(4555, 24)\n"
     ]
    }
   ],
   "source": [
    "C = metadata['vote_average'].mean()\n",
    "print(C)\n",
    "\n",
    "m = metadata['vote_count'].quantile(0.90)\n",
    "print(m)\n",
    "\n",
    "q_movies = metadata.copy().loc[metadata['vote_count'] >= m]\n",
    "print(q_movies.shape)"
   ]
  },
  {
   "cell_type": "markdown",
   "id": "c307a64e-0361-4477-947d-1b5aa1d932d7",
   "metadata": {},
   "source": [
    "**Задание 0:** Реализуйте взвешенную оценку. \n",
    "\n",
    "*Hint*: для того, чтобы применить функцию к столбцу с помощью метода .apply, реализуйте так, что входная переменная x является строкой с конкретным фильмом. "
   ]
  },
  {
   "cell_type": "code",
   "execution_count": 5,
   "id": "9d9782c7-45cd-45f8-88f5-38443d3bdf7a",
   "metadata": {
    "id": "w3TYs-0naN4Y"
   },
   "outputs": [],
   "source": [
    "def weighted_rating(x, m=m, C=C):"
   ]
  },
  {
   "cell_type": "code",
   "execution_count": 6,
   "id": "8618de2a-0f77-4176-a0bf-fd9f9540fc9e",
   "metadata": {
    "id": "2xVmmV5xdMBE"
   },
   "outputs": [],
   "source": [
    "q_movies['score'] = q_movies.apply(weighted_rating, axis=1)"
   ]
  },
  {
   "cell_type": "code",
   "execution_count": 7,
   "id": "192b22f5-2ae0-41fc-8505-625eaaa4dae5",
   "metadata": {
    "colab": {
     "base_uri": "https://localhost:8080/",
     "height": 669
    },
    "executionInfo": {
     "elapsed": 551,
     "status": "ok",
     "timestamp": 1637665567366,
     "user": {
      "displayName": "Даниил Русланович Махоткин",
      "photoUrl": "https://lh3.googleusercontent.com/a/default-user=s64",
      "userId": "18336248573599285046"
     },
     "user_tz": -180
    },
    "id": "YXq-v4f9dMEX",
    "outputId": "e495c4c0-fc8a-4e5e-9c94-084b7d621b8b"
   },
   "outputs": [
    {
     "data": {
      "text/html": [
       "<div>\n",
       "<style scoped>\n",
       "    .dataframe tbody tr th:only-of-type {\n",
       "        vertical-align: middle;\n",
       "    }\n",
       "\n",
       "    .dataframe tbody tr th {\n",
       "        vertical-align: top;\n",
       "    }\n",
       "\n",
       "    .dataframe thead th {\n",
       "        text-align: right;\n",
       "    }\n",
       "</style>\n",
       "<table border=\"1\" class=\"dataframe\">\n",
       "  <thead>\n",
       "    <tr style=\"text-align: right;\">\n",
       "      <th></th>\n",
       "      <th>title</th>\n",
       "      <th>vote_count</th>\n",
       "      <th>vote_average</th>\n",
       "      <th>score</th>\n",
       "    </tr>\n",
       "  </thead>\n",
       "  <tbody>\n",
       "    <tr>\n",
       "      <th>314</th>\n",
       "      <td>The Shawshank Redemption</td>\n",
       "      <td>8358.0</td>\n",
       "      <td>8.5</td>\n",
       "      <td>8.445869</td>\n",
       "    </tr>\n",
       "    <tr>\n",
       "      <th>834</th>\n",
       "      <td>The Godfather</td>\n",
       "      <td>6024.0</td>\n",
       "      <td>8.5</td>\n",
       "      <td>8.425439</td>\n",
       "    </tr>\n",
       "    <tr>\n",
       "      <th>10309</th>\n",
       "      <td>Dilwale Dulhania Le Jayenge</td>\n",
       "      <td>661.0</td>\n",
       "      <td>9.1</td>\n",
       "      <td>8.421453</td>\n",
       "    </tr>\n",
       "    <tr>\n",
       "      <th>12481</th>\n",
       "      <td>The Dark Knight</td>\n",
       "      <td>12269.0</td>\n",
       "      <td>8.3</td>\n",
       "      <td>8.265477</td>\n",
       "    </tr>\n",
       "    <tr>\n",
       "      <th>2843</th>\n",
       "      <td>Fight Club</td>\n",
       "      <td>9678.0</td>\n",
       "      <td>8.3</td>\n",
       "      <td>8.256385</td>\n",
       "    </tr>\n",
       "    <tr>\n",
       "      <th>292</th>\n",
       "      <td>Pulp Fiction</td>\n",
       "      <td>8670.0</td>\n",
       "      <td>8.3</td>\n",
       "      <td>8.251406</td>\n",
       "    </tr>\n",
       "    <tr>\n",
       "      <th>522</th>\n",
       "      <td>Schindler's List</td>\n",
       "      <td>4436.0</td>\n",
       "      <td>8.3</td>\n",
       "      <td>8.206639</td>\n",
       "    </tr>\n",
       "    <tr>\n",
       "      <th>23673</th>\n",
       "      <td>Whiplash</td>\n",
       "      <td>4376.0</td>\n",
       "      <td>8.3</td>\n",
       "      <td>8.205404</td>\n",
       "    </tr>\n",
       "    <tr>\n",
       "      <th>5481</th>\n",
       "      <td>Spirited Away</td>\n",
       "      <td>3968.0</td>\n",
       "      <td>8.3</td>\n",
       "      <td>8.196055</td>\n",
       "    </tr>\n",
       "    <tr>\n",
       "      <th>2211</th>\n",
       "      <td>Life Is Beautiful</td>\n",
       "      <td>3643.0</td>\n",
       "      <td>8.3</td>\n",
       "      <td>8.187171</td>\n",
       "    </tr>\n",
       "  </tbody>\n",
       "</table>\n",
       "</div>"
      ],
      "text/plain": [
       "                             title  vote_count  vote_average     score\n",
       "314       The Shawshank Redemption      8358.0           8.5  8.445869\n",
       "834                  The Godfather      6024.0           8.5  8.425439\n",
       "10309  Dilwale Dulhania Le Jayenge       661.0           9.1  8.421453\n",
       "12481              The Dark Knight     12269.0           8.3  8.265477\n",
       "2843                    Fight Club      9678.0           8.3  8.256385\n",
       "292                   Pulp Fiction      8670.0           8.3  8.251406\n",
       "522               Schindler's List      4436.0           8.3  8.206639\n",
       "23673                     Whiplash      4376.0           8.3  8.205404\n",
       "5481                 Spirited Away      3968.0           8.3  8.196055\n",
       "2211             Life Is Beautiful      3643.0           8.3  8.187171"
      ]
     },
     "execution_count": 7,
     "metadata": {},
     "output_type": "execute_result"
    }
   ],
   "source": [
    "# Фильмы, основанные на баллах, рассчитанных выше\n",
    "q_movies = q_movies.sort_values('score', ascending=False)\n",
    "\n",
    "q_movies[['title', 'vote_count', 'vote_average', 'score']].head(10)"
   ]
  },
  {
   "cell_type": "markdown",
   "id": "b3c2b0b4-0ccd-4c73-b0cc-7a47e14f0a20",
   "metadata": {
    "id": "adwAcWcCepay"
   },
   "source": [
    "Получилось достаточно близко к оригинальному топу."
   ]
  },
  {
   "cell_type": "markdown",
   "id": "0c5fa7e8-b520-41c8-9fa9-5417a3d6853e",
   "metadata": {
    "id": "bRm_qTeZaQ9g"
   },
   "source": [
    "<a id=\"0.3\"></a>\n",
    "## 0.3. Content-based рекомендация\n",
    "\n",
    "Попробуем сделаем рекомендательную систему на основе описания фильмов."
   ]
  },
  {
   "cell_type": "code",
   "execution_count": 8,
   "id": "6da9386e-04db-48c3-bbdb-ecab3c2c20e8",
   "metadata": {
    "colab": {
     "base_uri": "https://localhost:8080/"
    },
    "executionInfo": {
     "elapsed": 271,
     "status": "ok",
     "timestamp": 1637675729538,
     "user": {
      "displayName": "Даниил Русланович Махоткин",
      "photoUrl": "https://lh3.googleusercontent.com/a/default-user=s64",
      "userId": "18336248573599285046"
     },
     "user_tz": -180
    },
    "id": "71O2_hNfaYxs",
    "outputId": "6e27d928-b039-4427-a5af-b164cdd64531"
   },
   "outputs": [
    {
     "data": {
      "text/plain": [
       "0    Led by Woody, Andy's toys live happily in his ...\n",
       "1    When siblings Judy and Peter discover an encha...\n",
       "2    A family wedding reignites the ancient feud be...\n",
       "3    Cheated on, mistreated and stepped on, the wom...\n",
       "4    Just when George Banks has recovered from his ...\n",
       "Name: overview, dtype: object"
      ]
     },
     "execution_count": 8,
     "metadata": {},
     "output_type": "execute_result"
    }
   ],
   "source": [
    "metadata['overview'].head()"
   ]
  },
  {
   "cell_type": "code",
   "execution_count": 9,
   "id": "b684182c-f01d-43d8-abd6-4140404c49fa",
   "metadata": {
    "executionInfo": {
     "elapsed": 2,
     "status": "ok",
     "timestamp": 1637675729948,
     "user": {
      "displayName": "Даниил Русланович Махоткин",
      "photoUrl": "https://lh3.googleusercontent.com/a/default-user=s64",
      "userId": "18336248573599285046"
     },
     "user_tz": -180
    },
    "id": "5_sT3J7s8vsU"
   },
   "outputs": [],
   "source": [
    "first_n =  metadata.copy()[:30000]"
   ]
  },
  {
   "cell_type": "markdown",
   "id": "254d355d-f010-4faf-ac41-f70e079468c7",
   "metadata": {
    "id": "BbqIl1JRh1wx"
   },
   "source": [
    "### Найдем векторное представление описаний фильмов - TF-IDF"
   ]
  },
  {
   "cell_type": "markdown",
   "id": "959a83e1-ae7d-4629-8c46-b660e807f298",
   "metadata": {
    "id": "2ad2gTGTf9sa"
   },
   "source": [
    "Рассмотрим частотное представление слов через TF-IDF.\n",
    "\n",
    "TF-IDF (сокращение от term frequency — inverse document frequency) – это статистическая мера для оценки важности слова в документе, который является частью коллекции или корпуса.\n",
    "\n",
    "Скоринг по TF-IDF растет пропорционально частоте появления слова в документе, но это компенсируется количеством документов, содержащих это слово.\n",
    "\n",
    "Формула скоринга для слова X в документе Y:\n",
    "![](img/td-idf-graphic.png)\n",
    "\n",
    "TF (term frequency — частота слова) – отношение числа вхождений слова к общему числу слов документа.\n",
    "\n",
    "![](img/tf.png)\n",
    "\n",
    "IDF (inverse document frequency — обратная частота документа) — инверсия частоты, с которой некоторое слово встречается в документах коллекции.\n",
    "\n",
    "![](img/idf.png)\n",
    "\n",
    "В итоге, вычислить TF-IDF для слова term можно так:\n",
    "\n",
    "![](img/tf-idf.png)\n",
    "\n",
    "Как это работает:\r\n",
    "\n",
    "TF: Чем чаще слово встречается в документе, тем выше его TF. Например, если слово \"кот\" встречается 5 раз в документе, его TF будет выше, чем у слова \"собака\", которое встречается только 1 раз.\r\n",
    "\r\n",
    "IDF: Чем реже слово встречается в коллекции документов, тем выше его IDF. Например, если слово \"кот\" встречается только в одном документе из 100, его IDF будет выше, чем у слова \"и\", которое встречается во всех документах."
   ]
  },
  {
   "cell_type": "code",
   "execution_count": 10,
   "id": "8f6f1190-58ed-4f8e-812a-b29704e15de5",
   "metadata": {},
   "outputs": [],
   "source": [
    "from sklearn.feature_extraction.text import TfidfVectorizer"
   ]
  },
  {
   "cell_type": "code",
   "execution_count": 11,
   "id": "ec2eda81-9075-42ba-a960-f07273a780e2",
   "metadata": {
    "executionInfo": {
     "elapsed": 663,
     "status": "ok",
     "timestamp": 1637675733586,
     "user": {
      "displayName": "Даниил Русланович Махоткин",
      "photoUrl": "https://lh3.googleusercontent.com/a/default-user=s64",
      "userId": "18336248573599285046"
     },
     "user_tz": -180
    },
    "id": "sQ6ZEED8aY0j"
   },
   "outputs": [],
   "source": [
    "# ограничим размер словаря до 5000 элементов\n",
    "tfidf = TfidfVectorizer(stop_words='english', max_features=5000)"
   ]
  },
  {
   "cell_type": "code",
   "execution_count": 12,
   "id": "e4fa9023-dcd1-428e-951a-08ddc08369b6",
   "metadata": {
    "executionInfo": {
     "elapsed": 4,
     "status": "ok",
     "timestamp": 1637675734512,
     "user": {
      "displayName": "Даниил Русланович Махоткин",
      "photoUrl": "https://lh3.googleusercontent.com/a/default-user=s64",
      "userId": "18336248573599285046"
     },
     "user_tz": -180
    },
    "id": "hfAuB8s7aY3R"
   },
   "outputs": [],
   "source": [
    "first_n['overview'] = first_n['overview'].fillna('')"
   ]
  },
  {
   "cell_type": "code",
   "execution_count": 13,
   "id": "567b06e0-9078-4a26-81a5-e49443bc4c48",
   "metadata": {
    "colab": {
     "base_uri": "https://localhost:8080/"
    },
    "executionInfo": {
     "elapsed": 1989,
     "status": "ok",
     "timestamp": 1637675736498,
     "user": {
      "displayName": "Даниил Русланович Махоткин",
      "photoUrl": "https://lh3.googleusercontent.com/a/default-user=s64",
      "userId": "18336248573599285046"
     },
     "user_tz": -180
    },
    "id": "t4TZR_3TaY6B",
    "outputId": "39385d1f-20a7-4e9e-96d9-cb9eaadc300c"
   },
   "outputs": [
    {
     "data": {
      "text/plain": [
       "(30000, 5000)"
      ]
     },
     "execution_count": 13,
     "metadata": {},
     "output_type": "execute_result"
    }
   ],
   "source": [
    "tfidf_matrix = tfidf.fit_transform(first_n['overview'])\n",
    "\n",
    "#Output the shape of tfidf_matrix\n",
    "tfidf_matrix.shape"
   ]
  },
  {
   "cell_type": "markdown",
   "id": "ccf15473-f88a-4b0d-ab79-7b10cef07615",
   "metadata": {},
   "source": [
    "![](img/tf-idf_matrix.png)"
   ]
  },
  {
   "cell_type": "code",
   "execution_count": 14,
   "id": "e00e610f-d4e2-4d80-afd0-13534ac1f327",
   "metadata": {
    "colab": {
     "base_uri": "https://localhost:8080/"
    },
    "executionInfo": {
     "elapsed": 9,
     "status": "ok",
     "timestamp": 1637675736498,
     "user": {
      "displayName": "Даниил Русланович Махоткин",
      "photoUrl": "https://lh3.googleusercontent.com/a/default-user=s64",
      "userId": "18336248573599285046"
     },
     "user_tz": -180
    },
    "id": "NsrTyaVRp0pX",
    "outputId": "88b3c3a6-b73e-482d-a950-3f9202fac548"
   },
   "outputs": [
    {
     "data": {
      "text/plain": [
       "array(['believe', 'believed', 'believes', 'believing', 'bell', 'belle',\n",
       "       'belongs', 'beloved', 'ben', 'beneath'], dtype=object)"
      ]
     },
     "execution_count": 14,
     "metadata": {},
     "output_type": "execute_result"
    }
   ],
   "source": [
    "tfidf.get_feature_names_out()[500:510]"
   ]
  },
  {
   "cell_type": "markdown",
   "id": "220fd0af-9004-48dc-b0ed-bf2385d728b8",
   "metadata": {
    "id": "efAikRaJh7xn"
   },
   "source": [
    "### Оценим схожесть полученных векторов"
   ]
  },
  {
   "cell_type": "markdown",
   "id": "1e1a64e5-9616-461f-8277-b4fbeebf61ab",
   "metadata": {
    "id": "nVi08d_VrRYv"
   },
   "source": [
    "Схожесть будем измерять по косинусной метрике"
   ]
  },
  {
   "cell_type": "code",
   "execution_count": 20,
   "id": "c66c4af4-00c4-4626-a12a-f8574baa753b",
   "metadata": {
    "executionInfo": {
     "elapsed": 12295,
     "status": "ok",
     "timestamp": 1637675761690,
     "user": {
      "displayName": "Даниил Русланович Махоткин",
      "photoUrl": "https://lh3.googleusercontent.com/a/default-user=s64",
      "userId": "18336248573599285046"
     },
     "user_tz": -180
    },
    "id": "nXAEc5bJED3w"
   },
   "outputs": [],
   "source": [
    "cosine_sim = tfidf_matrix.dot(tfidf_matrix.T).toarray()"
   ]
  },
  {
   "cell_type": "code",
   "execution_count": 21,
   "id": "12711be7-58c6-4375-a15d-87bc5035059e",
   "metadata": {
    "colab": {
     "base_uri": "https://localhost:8080/"
    },
    "executionInfo": {
     "elapsed": 14,
     "status": "ok",
     "timestamp": 1637675762662,
     "user": {
      "displayName": "Даниил Русланович Махоткин",
      "photoUrl": "https://lh3.googleusercontent.com/a/default-user=s64",
      "userId": "18336248573599285046"
     },
     "user_tz": -180
    },
    "id": "hTpEusdap0u8",
    "outputId": "7b7bebc2-0933-4f5a-fcc6-9d6858f378ab"
   },
   "outputs": [
    {
     "data": {
      "text/plain": [
       "(30000, 30000)"
      ]
     },
     "execution_count": 21,
     "metadata": {},
     "output_type": "execute_result"
    }
   ],
   "source": [
    "cosine_sim.shape"
   ]
  },
  {
   "cell_type": "code",
   "execution_count": 25,
   "id": "61daddb2-5a4b-475e-bb73-27a48d7f8bf5",
   "metadata": {},
   "outputs": [
    {
     "data": {
      "text/plain": [
       "0                                Toy Story\n",
       "1                                  Jumanji\n",
       "2                         Grumpier Old Men\n",
       "3                        Waiting to Exhale\n",
       "4              Father of the Bride Part II\n",
       "                       ...                \n",
       "29995                      Seventeen Again\n",
       "29996                        Sweet Sixteen\n",
       "29997    The Disappearance of Garcia Lorca\n",
       "29998              The Dramatics: A Comedy\n",
       "29999                         Up the Creek\n",
       "Name: title, Length: 30000, dtype: object"
      ]
     },
     "execution_count": 25,
     "metadata": {},
     "output_type": "execute_result"
    }
   ],
   "source": [
    "first_n['title']"
   ]
  },
  {
   "cell_type": "code",
   "execution_count": 26,
   "id": "0ffc7402-803e-491a-a490-fe9cd5c96dbf",
   "metadata": {
    "executionInfo": {
     "elapsed": 356,
     "status": "ok",
     "timestamp": 1637675770474,
     "user": {
      "displayName": "Даниил Русланович Махоткин",
      "photoUrl": "https://lh3.googleusercontent.com/a/default-user=s64",
      "userId": "18336248573599285046"
     },
     "user_tz": -180
    },
    "id": "zjDda49WsAiw"
   },
   "outputs": [],
   "source": [
    "indices = pd.Series(first_n.index, index=first_n['title']).drop_duplicates()"
   ]
  },
  {
   "cell_type": "code",
   "execution_count": 27,
   "id": "49d4258d-0fdb-400c-86b0-f212a74ebc2b",
   "metadata": {
    "colab": {
     "base_uri": "https://localhost:8080/"
    },
    "executionInfo": {
     "elapsed": 3,
     "status": "ok",
     "timestamp": 1637675770868,
     "user": {
      "displayName": "Даниил Русланович Махоткин",
      "photoUrl": "https://lh3.googleusercontent.com/a/default-user=s64",
      "userId": "18336248573599285046"
     },
     "user_tz": -180
    },
    "id": "7PbOJNNEzs-s",
    "outputId": "08f00b7b-1583-4bfc-a515-a8bfad98f3be"
   },
   "outputs": [
    {
     "data": {
      "text/plain": [
       "title\n",
       "Toy Story                                0\n",
       "Jumanji                                  1\n",
       "Grumpier Old Men                         2\n",
       "Waiting to Exhale                        3\n",
       "Father of the Bride Part II              4\n",
       "                                     ...  \n",
       "Seventeen Again                      29995\n",
       "Sweet Sixteen                        29996\n",
       "The Disappearance of Garcia Lorca    29997\n",
       "The Dramatics: A Comedy              29998\n",
       "Up the Creek                         29999\n",
       "Length: 30000, dtype: int64"
      ]
     },
     "execution_count": 27,
     "metadata": {},
     "output_type": "execute_result"
    }
   ],
   "source": [
    "indices"
   ]
  },
  {
   "cell_type": "code",
   "execution_count": 28,
   "id": "55887217-a63b-45e6-8c79-bebc69ff6cd4",
   "metadata": {
    "executionInfo": {
     "elapsed": 261,
     "status": "ok",
     "timestamp": 1637683140424,
     "user": {
      "displayName": "Даниил Русланович Махоткин",
      "photoUrl": "https://lh3.googleusercontent.com/a/default-user=s64",
      "userId": "18336248573599285046"
     },
     "user_tz": -180
    },
    "id": "FObrL2HvsAoK"
   },
   "outputs": [],
   "source": [
    "def get_recommendations(title, cosine_sim=cosine_sim):\n",
    "    # Получить индекс фильма, соответствующий названию\n",
    "    idx = indices[title]\n",
    "\n",
    "    # Взять парные оценки сходства всех фильмов с этим фильмом\n",
    "    sim_scores = list(enumerate(cosine_sim[idx]))\n",
    "\n",
    "    # Сортировать фильмы по сходству\n",
    "    sim_scores = sorted(sim_scores, key=lambda x: x[1], reverse=True)\n",
    "\n",
    "    # Взять оценки 10 самых похожих фильмов\n",
    "    sim_scores = sim_scores[1:11]\n",
    "\n",
    "    # Получить индексы фильма\n",
    "    movie_indices = [i[0] for i in sim_scores]\n",
    "\n",
    "    # Вернуть 10 самых похожих фильмов\n",
    "    return metadata['title'].iloc[movie_indices]"
   ]
  },
  {
   "cell_type": "code",
   "execution_count": 29,
   "id": "1f128699-9b25-4082-af2c-f8e0b7d302ec",
   "metadata": {
    "colab": {
     "base_uri": "https://localhost:8080/"
    },
    "executionInfo": {
     "elapsed": 4,
     "status": "ok",
     "timestamp": 1637675771202,
     "user": {
      "displayName": "Даниил Русланович Махоткин",
      "photoUrl": "https://lh3.googleusercontent.com/a/default-user=s64",
      "userId": "18336248573599285046"
     },
     "user_tz": -180
    },
    "id": "2P3Hf8CPsAqw",
    "outputId": "dfd0f512-e79f-4d52-c567-cd8aa10c2e45"
   },
   "outputs": [
    {
     "data": {
      "text/plain": [
       "150                                         Batman Forever\n",
       "1328                                        Batman Returns\n",
       "12481                                      The Dark Knight\n",
       "21194    Batman Unmasked: The Psychology of the Dark Kn...\n",
       "20232              Batman: The Dark Knight Returns, Part 2\n",
       "15511                           Batman: Under the Red Hood\n",
       "11753                                            Slow Burn\n",
       "27521                                       Rage of Angels\n",
       "6042                                                 Q & A\n",
       "4363                                          Criminal Law\n",
       "Name: title, dtype: object"
      ]
     },
     "execution_count": 29,
     "metadata": {},
     "output_type": "execute_result"
    }
   ],
   "source": [
    "get_recommendations('The Dark Knight Rises')"
   ]
  },
  {
   "cell_type": "markdown",
   "id": "351ea317-06b7-471f-9cd1-7b50703e89ca",
   "metadata": {
    "id": "dfOJHakwdOV5"
   },
   "source": [
    "### Сделеаем рекомендацию для пользователя"
   ]
  },
  {
   "cell_type": "code",
   "execution_count": 30,
   "id": "bb997e2c-f29f-4158-9b2d-31d7091511b0",
   "metadata": {
    "colab": {
     "base_uri": "https://localhost:8080/",
     "height": 419
    },
    "executionInfo": {
     "elapsed": 267,
     "status": "ok",
     "timestamp": 1637682466675,
     "user": {
      "displayName": "Даниил Русланович Махоткин",
      "photoUrl": "https://lh3.googleusercontent.com/a/default-user=s64",
      "userId": "18336248573599285046"
     },
     "user_tz": -180
    },
    "id": "ZH4TYQUddPJc",
    "outputId": "e93c56c7-d483-416f-f19f-b41d0f1aa110"
   },
   "outputs": [
    {
     "data": {
      "text/html": [
       "<div>\n",
       "<style scoped>\n",
       "    .dataframe tbody tr th:only-of-type {\n",
       "        vertical-align: middle;\n",
       "    }\n",
       "\n",
       "    .dataframe tbody tr th {\n",
       "        vertical-align: top;\n",
       "    }\n",
       "\n",
       "    .dataframe thead th {\n",
       "        text-align: right;\n",
       "    }\n",
       "</style>\n",
       "<table border=\"1\" class=\"dataframe\">\n",
       "  <thead>\n",
       "    <tr style=\"text-align: right;\">\n",
       "      <th></th>\n",
       "      <th>userId</th>\n",
       "      <th>movieId</th>\n",
       "      <th>rating</th>\n",
       "    </tr>\n",
       "  </thead>\n",
       "  <tbody>\n",
       "    <tr>\n",
       "      <th>0</th>\n",
       "      <td>1</td>\n",
       "      <td>31</td>\n",
       "      <td>2.5</td>\n",
       "    </tr>\n",
       "    <tr>\n",
       "      <th>1</th>\n",
       "      <td>1</td>\n",
       "      <td>1029</td>\n",
       "      <td>3.0</td>\n",
       "    </tr>\n",
       "    <tr>\n",
       "      <th>2</th>\n",
       "      <td>1</td>\n",
       "      <td>1061</td>\n",
       "      <td>3.0</td>\n",
       "    </tr>\n",
       "    <tr>\n",
       "      <th>3</th>\n",
       "      <td>1</td>\n",
       "      <td>1129</td>\n",
       "      <td>2.0</td>\n",
       "    </tr>\n",
       "    <tr>\n",
       "      <th>4</th>\n",
       "      <td>1</td>\n",
       "      <td>1172</td>\n",
       "      <td>4.0</td>\n",
       "    </tr>\n",
       "    <tr>\n",
       "      <th>...</th>\n",
       "      <td>...</td>\n",
       "      <td>...</td>\n",
       "      <td>...</td>\n",
       "    </tr>\n",
       "    <tr>\n",
       "      <th>99999</th>\n",
       "      <td>671</td>\n",
       "      <td>6268</td>\n",
       "      <td>2.5</td>\n",
       "    </tr>\n",
       "    <tr>\n",
       "      <th>100000</th>\n",
       "      <td>671</td>\n",
       "      <td>6269</td>\n",
       "      <td>4.0</td>\n",
       "    </tr>\n",
       "    <tr>\n",
       "      <th>100001</th>\n",
       "      <td>671</td>\n",
       "      <td>6365</td>\n",
       "      <td>4.0</td>\n",
       "    </tr>\n",
       "    <tr>\n",
       "      <th>100002</th>\n",
       "      <td>671</td>\n",
       "      <td>6385</td>\n",
       "      <td>2.5</td>\n",
       "    </tr>\n",
       "    <tr>\n",
       "      <th>100003</th>\n",
       "      <td>671</td>\n",
       "      <td>6565</td>\n",
       "      <td>3.5</td>\n",
       "    </tr>\n",
       "  </tbody>\n",
       "</table>\n",
       "<p>100004 rows × 3 columns</p>\n",
       "</div>"
      ],
      "text/plain": [
       "        userId  movieId  rating\n",
       "0            1       31     2.5\n",
       "1            1     1029     3.0\n",
       "2            1     1061     3.0\n",
       "3            1     1129     2.0\n",
       "4            1     1172     4.0\n",
       "...        ...      ...     ...\n",
       "99999      671     6268     2.5\n",
       "100000     671     6269     4.0\n",
       "100001     671     6365     4.0\n",
       "100002     671     6385     2.5\n",
       "100003     671     6565     3.5\n",
       "\n",
       "[100004 rows x 3 columns]"
      ]
     },
     "execution_count": 30,
     "metadata": {},
     "output_type": "execute_result"
    }
   ],
   "source": [
    "rating = rating.drop(['timestamp'], axis=1)\n",
    "rating"
   ]
  },
  {
   "cell_type": "code",
   "execution_count": 31,
   "id": "a3cae4bf-ed2a-4ae0-9132-087785cd92b6",
   "metadata": {
    "colab": {
     "base_uri": "https://localhost:8080/",
     "height": 669
    },
    "executionInfo": {
     "elapsed": 271,
     "status": "ok",
     "timestamp": 1637682678587,
     "user": {
      "displayName": "Даниил Русланович Махоткин",
      "photoUrl": "https://lh3.googleusercontent.com/a/default-user=s64",
      "userId": "18336248573599285046"
     },
     "user_tz": -180
    },
    "id": "25pGvb_ddaD8",
    "outputId": "7efb6504-3f2c-4900-9673-e26b06a11575"
   },
   "outputs": [
    {
     "data": {
      "text/html": [
       "<div>\n",
       "<style scoped>\n",
       "    .dataframe tbody tr th:only-of-type {\n",
       "        vertical-align: middle;\n",
       "    }\n",
       "\n",
       "    .dataframe tbody tr th {\n",
       "        vertical-align: top;\n",
       "    }\n",
       "\n",
       "    .dataframe thead th {\n",
       "        text-align: right;\n",
       "    }\n",
       "</style>\n",
       "<table border=\"1\" class=\"dataframe\">\n",
       "  <thead>\n",
       "    <tr style=\"text-align: right;\">\n",
       "      <th></th>\n",
       "      <th>movieId</th>\n",
       "      <th>rating</th>\n",
       "    </tr>\n",
       "  </thead>\n",
       "  <tbody>\n",
       "    <tr>\n",
       "      <th>4</th>\n",
       "      <td>1172</td>\n",
       "      <td>4.0</td>\n",
       "    </tr>\n",
       "    <tr>\n",
       "      <th>13</th>\n",
       "      <td>2105</td>\n",
       "      <td>4.0</td>\n",
       "    </tr>\n",
       "    <tr>\n",
       "      <th>12</th>\n",
       "      <td>1953</td>\n",
       "      <td>4.0</td>\n",
       "    </tr>\n",
       "    <tr>\n",
       "      <th>8</th>\n",
       "      <td>1339</td>\n",
       "      <td>3.5</td>\n",
       "    </tr>\n",
       "    <tr>\n",
       "      <th>19</th>\n",
       "      <td>3671</td>\n",
       "      <td>3.0</td>\n",
       "    </tr>\n",
       "    <tr>\n",
       "      <th>1</th>\n",
       "      <td>1029</td>\n",
       "      <td>3.0</td>\n",
       "    </tr>\n",
       "    <tr>\n",
       "      <th>2</th>\n",
       "      <td>1061</td>\n",
       "      <td>3.0</td>\n",
       "    </tr>\n",
       "    <tr>\n",
       "      <th>14</th>\n",
       "      <td>2150</td>\n",
       "      <td>3.0</td>\n",
       "    </tr>\n",
       "    <tr>\n",
       "      <th>17</th>\n",
       "      <td>2455</td>\n",
       "      <td>2.5</td>\n",
       "    </tr>\n",
       "    <tr>\n",
       "      <th>0</th>\n",
       "      <td>31</td>\n",
       "      <td>2.5</td>\n",
       "    </tr>\n",
       "    <tr>\n",
       "      <th>10</th>\n",
       "      <td>1371</td>\n",
       "      <td>2.5</td>\n",
       "    </tr>\n",
       "    <tr>\n",
       "      <th>9</th>\n",
       "      <td>1343</td>\n",
       "      <td>2.0</td>\n",
       "    </tr>\n",
       "    <tr>\n",
       "      <th>7</th>\n",
       "      <td>1293</td>\n",
       "      <td>2.0</td>\n",
       "    </tr>\n",
       "    <tr>\n",
       "      <th>6</th>\n",
       "      <td>1287</td>\n",
       "      <td>2.0</td>\n",
       "    </tr>\n",
       "    <tr>\n",
       "      <th>5</th>\n",
       "      <td>1263</td>\n",
       "      <td>2.0</td>\n",
       "    </tr>\n",
       "    <tr>\n",
       "      <th>15</th>\n",
       "      <td>2193</td>\n",
       "      <td>2.0</td>\n",
       "    </tr>\n",
       "    <tr>\n",
       "      <th>16</th>\n",
       "      <td>2294</td>\n",
       "      <td>2.0</td>\n",
       "    </tr>\n",
       "    <tr>\n",
       "      <th>3</th>\n",
       "      <td>1129</td>\n",
       "      <td>2.0</td>\n",
       "    </tr>\n",
       "    <tr>\n",
       "      <th>11</th>\n",
       "      <td>1405</td>\n",
       "      <td>1.0</td>\n",
       "    </tr>\n",
       "    <tr>\n",
       "      <th>18</th>\n",
       "      <td>2968</td>\n",
       "      <td>1.0</td>\n",
       "    </tr>\n",
       "  </tbody>\n",
       "</table>\n",
       "</div>"
      ],
      "text/plain": [
       "    movieId  rating\n",
       "4      1172     4.0\n",
       "13     2105     4.0\n",
       "12     1953     4.0\n",
       "8      1339     3.5\n",
       "19     3671     3.0\n",
       "1      1029     3.0\n",
       "2      1061     3.0\n",
       "14     2150     3.0\n",
       "17     2455     2.5\n",
       "0        31     2.5\n",
       "10     1371     2.5\n",
       "9      1343     2.0\n",
       "7      1293     2.0\n",
       "6      1287     2.0\n",
       "5      1263     2.0\n",
       "15     2193     2.0\n",
       "16     2294     2.0\n",
       "3      1129     2.0\n",
       "11     1405     1.0\n",
       "18     2968     1.0"
      ]
     },
     "execution_count": 31,
     "metadata": {},
     "output_type": "execute_result"
    }
   ],
   "source": [
    "# возьмем одного пользователя\n",
    "user_id = 1\n",
    "\n",
    "user_rating = rating[rating['userId'] == user_id].drop(['userId'], axis=1).sort_values(by=['rating'], ascending=False)\n",
    "user_rating"
   ]
  },
  {
   "cell_type": "code",
   "execution_count": 32,
   "id": "59fa2714-ca81-448a-9760-0e20204e7a90",
   "metadata": {
    "colab": {
     "base_uri": "https://localhost:8080/"
    },
    "executionInfo": {
     "elapsed": 247,
     "status": "ok",
     "timestamp": 1637683024311,
     "user": {
      "displayName": "Даниил Русланович Махоткин",
      "photoUrl": "https://lh3.googleusercontent.com/a/default-user=s64",
      "userId": "18336248573599285046"
     },
     "user_tz": -180
    },
    "id": "v5hQO0MSgw29",
    "outputId": "9aeff406-641b-4e8c-a7e0-15366ffa50d6"
   },
   "outputs": [
    {
     "data": {
      "text/plain": [
       "1172"
      ]
     },
     "execution_count": 32,
     "metadata": {},
     "output_type": "execute_result"
    }
   ],
   "source": [
    "user_rating[\"movieId\"].values[0]"
   ]
  },
  {
   "cell_type": "code",
   "execution_count": 34,
   "id": "ea34c3ee-42ad-48bd-b8c4-753a70b85bf4",
   "metadata": {
    "colab": {
     "base_uri": "https://localhost:8080/",
     "height": 35
    },
    "executionInfo": {
     "elapsed": 264,
     "status": "ok",
     "timestamp": 1637683087708,
     "user": {
      "displayName": "Даниил Русланович Махоткин",
      "photoUrl": "https://lh3.googleusercontent.com/a/default-user=s64",
      "userId": "18336248573599285046"
     },
     "user_tz": -180
    },
    "id": "hwu3HgbchGh4",
    "outputId": "c2acfef3-3b00-4acf-bd59-f964f2415b22"
   },
   "outputs": [
    {
     "data": {
      "text/plain": [
       "'Army of Darkness'"
      ]
     },
     "execution_count": 34,
     "metadata": {},
     "output_type": "execute_result"
    }
   ],
   "source": [
    "first_n[\"title\"].values[1172]"
   ]
  },
  {
   "cell_type": "code",
   "execution_count": 35,
   "id": "2218a7ac-27c3-4966-a047-6b73a106e6e2",
   "metadata": {
    "colab": {
     "base_uri": "https://localhost:8080/"
    },
    "executionInfo": {
     "elapsed": 264,
     "status": "ok",
     "timestamp": 1637683110296,
     "user": {
      "displayName": "Даниил Русланович Махоткин",
      "photoUrl": "https://lh3.googleusercontent.com/a/default-user=s64",
      "userId": "18336248573599285046"
     },
     "user_tz": -180
    },
    "id": "FE4aq4vShNYN",
    "outputId": "ff3d5a3f-466d-4d8a-fd75-79666d033657"
   },
   "outputs": [
    {
     "data": {
      "text/plain": [
       "1172"
      ]
     },
     "execution_count": 35,
     "metadata": {},
     "output_type": "execute_result"
    }
   ],
   "source": [
    "indices[\"Army of Darkness\"]"
   ]
  },
  {
   "cell_type": "code",
   "execution_count": 36,
   "id": "bf2375e9-fb22-442d-98db-79b96d61afbc",
   "metadata": {
    "colab": {
     "base_uri": "https://localhost:8080/"
    },
    "executionInfo": {
     "elapsed": 260,
     "status": "ok",
     "timestamp": 1637683121819,
     "user": {
      "displayName": "Даниил Русланович Махоткин",
      "photoUrl": "https://lh3.googleusercontent.com/a/default-user=s64",
      "userId": "18336248573599285046"
     },
     "user_tz": -180
    },
    "id": "T6D0qT9Tc0Ho",
    "outputId": "a5b5886a-3070-46b0-b8b5-73b11c661789"
   },
   "outputs": [
    {
     "data": {
      "text/plain": [
       "17978                                     Return of Django\n",
       "22714                                      Berkeley Square\n",
       "8618                                           Point Blank\n",
       "3319     Teenage Mutant Ninja Turtles II: The Secret of...\n",
       "16736                                     Run of the Arrow\n",
       "7215                                       Never Die Alone\n",
       "24326                                     No Time for Nuts\n",
       "20971                                                 Epic\n",
       "10716                                           Hallelujah\n",
       "13373                                      Point of Order!\n",
       "Name: title, dtype: object"
      ]
     },
     "execution_count": 36,
     "metadata": {},
     "output_type": "execute_result"
    }
   ],
   "source": [
    "get_recommendations(\"Army of Darkness\")"
   ]
  },
  {
   "cell_type": "code",
   "execution_count": 38,
   "id": "4696dcf7-5cc7-4515-8d45-52f04cec4934",
   "metadata": {},
   "outputs": [
    {
     "data": {
      "text/plain": [
       "array(['Army of Darkness', 'Number Seventeen', 'The Governess', 'Jaws 2',\n",
       "       'X-Men', 'Romeo + Juliet', 'The Doors', 'About Last Night...',\n",
       "       'The Mod Squad', 'Twelve Monkeys', 'Inside', 'Citizen Ruth',\n",
       "       'Burnt Offerings', 'The Blob', 'Parallel Sons', 'Holy Man',\n",
       "       'Cocoon', 'American Dream',\n",
       "       'Unforgotten: Twenty-Five Years After Willowbrook',\n",
       "       'The Living Dead Girl'], dtype=object)"
      ]
     },
     "execution_count": 38,
     "metadata": {},
     "output_type": "execute_result"
    }
   ],
   "source": [
    "first_n[\"title\"].values[user_rating[\"movieId\"].values]"
   ]
  },
  {
   "cell_type": "markdown",
   "id": "89194a72-8fa3-4427-8bcd-f1ba52ced492",
   "metadata": {},
   "source": [
    "<a id=\"1\"></a>\n",
    "# 1. Pairwise - RankNet\n",
    "\n",
    "Функция ошибки по паре объектов (в пару к запросу).\n",
    "\n",
    "$\\displaystyle \\sum_q \\sum_{i, j:\\ r^q_i \\gt r^q_j} l(f({x}^q_i) - f({x}^q_j)) \\to \\min$\n",
    "\n",
    "В качестве функции для оптимизации мы берём классическую функцию потерь: кросс-энтропию $C$:\n",
    "$C_{ij}=C(o_{ij})=-\\bar{P_{ij}}log(P_{ij})-(1-\\bar{P_{ij}})log(1-P_{ij})$\n",
    "\n",
    "$o_i$ — предсказание нашего алгоритма для одного объекта (*логит* или *скор*):\n",
    "\n",
    "$o_i \\equiv f(x_i)$,\n",
    "\n",
    "$o_{ij}=f(x_i)-f(x_j)$\n",
    "\n",
    "Для превращения этого в вероятность, т.е. нормирования в интервал $[0, 1]$, мы можем воспользоваться обычной логистической функцией. Разность логитов будем использовать как степень для числа $e$:\n",
    "\n",
    "$\\displaystyle P_{ij} \\equiv \\frac {e^{o_{ij}}} {1 + e^{o_{ij}}}$ — функция отображения предсказания (логита) в вероятность.\n",
    "\n",
    "\n",
    "Тогда функцию потерь, или функцию стоимости (cost function) можно переписать следующим образом:\n",
    "\n",
    "$C_{ij} = -\\overline P_{ij} o_{ij} + \\log(1 + e^{o_{ij}})$"
   ]
  },
  {
   "cell_type": "code",
   "execution_count": 15,
   "id": "98e7447d-23df-42c6-83f9-ffb03b57a955",
   "metadata": {},
   "outputs": [],
   "source": [
    "import torch"
   ]
  },
  {
   "cell_type": "code",
   "execution_count": 16,
   "id": "13c2b249-00ff-46e8-9510-1368743cb8e1",
   "metadata": {},
   "outputs": [],
   "source": [
    "class RankNet(torch.nn.Module):\n",
    "    def __init__(self, num_input_features, hidden_dim=10):\n",
    "        super().__init__()\n",
    "        self.hidden_dim = hidden_dim\n",
    "        self.model = torch.nn.Sequential(\n",
    "            torch.nn.Linear(num_input_features, self.hidden_dim),\n",
    "            torch.nn.ReLU(),\n",
    "            torch.nn.Linear(self.hidden_dim, 1),\n",
    "        )\n",
    "        \n",
    "        self.out_activation = torch.nn.Sigmoid()\n",
    "\n",
    "    def forward(self, input_1, input_2):\n",
    "        logits_1 = self.predict(input_1)\n",
    "        logits_2 = self.predict(input_2)\n",
    "        \n",
    "        logits_diff = logits_1 - logits_2\n",
    "        out = self.out_activation(logits_diff)\n",
    "\n",
    "        return out\n",
    "    \n",
    "    def predict(self, inp):\n",
    "        logits = self.model(inp)\n",
    "        return logits"
   ]
  },
  {
   "cell_type": "code",
   "execution_count": 17,
   "id": "1cec2e79-000f-4313-bee4-5c1443077cf9",
   "metadata": {},
   "outputs": [],
   "source": [
    "ranknet_model = RankNet(num_input_features=10)"
   ]
  },
  {
   "cell_type": "code",
   "execution_count": 19,
   "id": "5195d543-fae4-48df-aecf-46f700578371",
   "metadata": {},
   "outputs": [
    {
     "data": {
      "text/plain": [
       "(tensor([[0.3544, 0.7896, 0.7779, 0.5681, 0.9910, 0.0394, 0.6498, 0.9910, 0.8920,\n",
       "          0.1686],\n",
       "         [0.7035, 0.8068, 0.2411, 0.0703, 0.6117, 0.0247, 0.9841, 0.8135, 0.1979,\n",
       "          0.5919],\n",
       "         [0.4757, 0.2316, 0.8592, 0.4112, 0.3345, 0.1644, 0.2501, 0.9897, 0.0430,\n",
       "          0.5650],\n",
       "         [0.5516, 0.3083, 0.7735, 0.5606, 0.2462, 0.5510, 0.6025, 0.6693, 0.6546,\n",
       "          0.4504]]),\n",
       " tensor([[0.6360, 0.1272, 0.3292, 0.5305, 0.3082, 0.7333, 0.5952, 0.7116, 0.8484,\n",
       "          0.9124],\n",
       "         [0.2592, 0.9663, 0.1726, 0.6058, 0.1518, 0.9204, 0.8926, 0.6894, 0.0559,\n",
       "          0.4377],\n",
       "         [0.0274, 0.4307, 0.2349, 0.5437, 0.9654, 0.7846, 0.2720, 0.6678, 0.7380,\n",
       "          0.6404],\n",
       "         [0.5313, 0.9752, 0.5979, 0.6314, 0.5449, 0.5772, 0.7725, 0.0698, 0.5350,\n",
       "          0.4211]]))"
      ]
     },
     "execution_count": 19,
     "metadata": {},
     "output_type": "execute_result"
    }
   ],
   "source": [
    "inp_1, inp_2 = torch.rand(4, 10), torch.rand(4, 10)\n",
    "# batch_size x input_dim\n",
    "inp_2, inp_1"
   ]
  },
  {
   "cell_type": "code",
   "execution_count": 23,
   "id": "6bbf2d4a-dfcb-419a-ba7e-9223bdd2e316",
   "metadata": {},
   "outputs": [
    {
     "data": {
      "text/plain": [
       "tensor([[0.5424],\n",
       "        [0.5143],\n",
       "        [0.4981],\n",
       "        [0.5075]], grad_fn=<SigmoidBackward0>)"
      ]
     },
     "execution_count": 23,
     "metadata": {},
     "output_type": "execute_result"
    }
   ],
   "source": [
    "preds = ranknet_model(inp_1, inp_2)\n",
    "preds"
   ]
  },
  {
   "cell_type": "code",
   "execution_count": 24,
   "id": "ac78dc6d-6da3-4bdc-b8e5-22db963c4a17",
   "metadata": {},
   "outputs": [],
   "source": [
    "first_linear_layer = ranknet_model.model[0]"
   ]
  },
  {
   "cell_type": "code",
   "execution_count": 25,
   "id": "33a3d930-c445-4f66-845b-032c0b230148",
   "metadata": {},
   "outputs": [],
   "source": [
    "first_linear_layer.weight.grad"
   ]
  },
  {
   "cell_type": "code",
   "execution_count": 26,
   "id": "f3f17983-580c-49f0-8636-11ddd007d885",
   "metadata": {},
   "outputs": [],
   "source": [
    "criterion = torch.nn.BCELoss()\n",
    "loss = criterion(preds, torch.ones_like(preds))\n",
    "loss.backward()"
   ]
  },
  {
   "cell_type": "code",
   "execution_count": 27,
   "id": "fc49422c-6133-417f-b509-ca9ed6f600fa",
   "metadata": {},
   "outputs": [
    {
     "data": {
      "text/plain": [
       "tensor([[ 0.0051, -0.0056, -0.0112, -0.0175,  0.0018, -0.0173,  0.0062,  0.0229,\n",
       "         -0.0106,  0.0051],\n",
       "        [-0.0016, -0.0005, -0.0017, -0.0005, -0.0008, -0.0002, -0.0014, -0.0031,\n",
       "         -0.0005, -0.0016],\n",
       "        [ 0.0000,  0.0000,  0.0000,  0.0000,  0.0000,  0.0000,  0.0000,  0.0000,\n",
       "          0.0000,  0.0000],\n",
       "        [ 0.0085, -0.0053,  0.0101, -0.0016,  0.0045, -0.0067,  0.0016,  0.0156,\n",
       "          0.0027,  0.0068],\n",
       "        [-0.0074,  0.0047, -0.0147,  0.0079, -0.0017,  0.0247,  0.0006, -0.0148,\n",
       "          0.0046,  0.0066],\n",
       "        [-0.0196,  0.0123, -0.0388,  0.0209, -0.0044,  0.0655,  0.0015, -0.0392,\n",
       "          0.0122,  0.0176],\n",
       "        [-0.0250,  0.0157, -0.0496,  0.0267, -0.0056,  0.0836,  0.0020, -0.0501,\n",
       "          0.0156,  0.0224],\n",
       "        [-0.0104,  0.0091, -0.0125,  0.0115, -0.0028,  0.0310,  0.0015, -0.0196,\n",
       "          0.0041,  0.0028],\n",
       "        [-0.0028, -0.0201, -0.0013, -0.0233, -0.0028, -0.0340, -0.0135,  0.0013,\n",
       "         -0.0113, -0.0142],\n",
       "        [ 0.0254, -0.0160,  0.0504, -0.0272,  0.0057, -0.0851, -0.0020,  0.0509,\n",
       "         -0.0159, -0.0228]])"
      ]
     },
     "execution_count": 27,
     "metadata": {},
     "output_type": "execute_result"
    }
   ],
   "source": [
    "first_linear_layer.weight.grad"
   ]
  },
  {
   "cell_type": "code",
   "execution_count": 28,
   "id": "5214a965",
   "metadata": {},
   "outputs": [],
   "source": [
    "ranknet_model.zero_grad()"
   ]
  },
  {
   "cell_type": "markdown",
   "id": "350c7d49-d18d-4604-a5e4-879b98127b59",
   "metadata": {
    "tags": []
   },
   "source": [
    "<a id=\"2\"></a>\n",
    "# 2. Listwise - ListNet\n",
    "\n",
    "В listwise, как следует из названия, мы должны использовать функцию потерь, которая рассчитывается на всём множестве релевантных запросу документов.\n",
    "\n",
    "Можем говорить, что представлено полное множество перестановок $\\Omega_n$, указывая размер множества объектов, на которых рассчитываются перестановки $n$.\n",
    "\n",
    "Каждая перестановка $\\pi$  характеризуется полным указанием, какой объект стоит на первой, на второй и так далее до позиции $n$.\n",
    "\n",
    "$\\pi = \\langle \\pi(1), \\pi(2), ..., \\pi(n) \\rangle$\n",
    "\n",
    "Каждое $\\pi_i$ указывает на конкретный объект в перестановке.\n",
    "\n",
    "$\\displaystyle P_s (\\pi) = \\prod^n_{j = 1} \\frac {\\phi(s_{\\pi(j)})} {\\sum^n_{k = j} \\phi(s_{\\pi(k)})}$ — вероятность возникновения такой перестановки\n",
    "\n",
    "И в числителе, и в знаменателе к скору, или к логиту, $j$-го объекта конкретной перестановки $\\pi_i$ применяется функция преобразования скоров.\n",
    "\n",
    "К этой функции указываются следующие требования:\n",
    "\n",
    "- Возрастающая;\n",
    "- Строго положительная.\n",
    "\n",
    "То есть, чем больше логит, тем выше значение этой функции, при этом ни при каких обстоятельствах она не может стать отрицательной (*иначе бы мы могли получать отрицательные вероятности, чего быть не может*).\n",
    "\n",
    "Под эти требования подходит много функций, но самая распространенная — экспонента, то есть возведение e в степень логита с индексом $\\pi_j$.\n",
    "\n",
    "Рассмотрим знаменатель: здесь сумма от $j$-го до $n$-го (последнего) объекта, суммируем мы в точности те же значения, что и в числителе — некоего рода нормализация.\n",
    "\n",
    "Смотрим, какую долю от суммы всех скоров составляет наш текущий $j$-й объект.\n",
    "\n",
    "![](img/softmax.png)\n",
    "\n",
    "Выводы для метода:\n",
    "\n",
    "- Наибольшая вероятность у перестановки, в которой объекты отсортированы в порядке убывания.\n",
    "- Наименьшая вероятность у перестановки, в которой объекты отсортированы в порядке возрастания.\n",
    "- Количество перестановок равно $n!$ (много)."
   ]
  },
  {
   "cell_type": "markdown",
   "id": "c7507035-03f8-4578-b990-bce444f3697f",
   "metadata": {},
   "source": [
    "Благодаря SoftMax не нужно считать все перестановки — можно получить скоры и преобразовать их в TopOneProbability.\n",
    "\n",
    "Для обучения нашего алгоритма, для расчёта градиентов и градиентного спуска по весам, можно использовать любую функцию потерь, которая оптимизирует расстояние между двумя распределениями вероятностей.\n",
    "\n",
    "Это может быть классическая кросс-энтропия:\n",
    "\n",
    "$\\displaystyle L(y^{(i)}, z^{(i)}) = -\\sum^n_{j = 1} P_{y^{(i)}}(j) \\log(P_{z^{(i)}}(j))$,"
   ]
  },
  {
   "cell_type": "code",
   "execution_count": 29,
   "id": "88092400-3fcf-41a8-bb39-bffeec24bba3",
   "metadata": {},
   "outputs": [],
   "source": [
    "from itertools import combinations\n",
    "\n",
    "from utils import ndcg, num_swapped_pairs"
   ]
  },
  {
   "cell_type": "code",
   "execution_count": 30,
   "id": "a32856fa-3a39-4bd6-bb51-afca275698f7",
   "metadata": {},
   "outputs": [],
   "source": [
    "class ListNet(torch.nn.Module):\n",
    "    def __init__(self, num_input_features, hidden_dim=10):\n",
    "        super().__init__()\n",
    "        self.hidden_dim = hidden_dim\n",
    "        self.model = torch.nn.Sequential(\n",
    "            torch.nn.Linear(num_input_features, self.hidden_dim),\n",
    "            torch.nn.ReLU(),\n",
    "            torch.nn.Linear(self.hidden_dim, 1),\n",
    "        )\n",
    "\n",
    "\n",
    "    def forward(self, input_1):\n",
    "        logits = self.model(input_1)\n",
    "        return logits"
   ]
  },
  {
   "cell_type": "code",
   "execution_count": 31,
   "id": "874906e2-40b0-4aa7-930d-66929ccada62",
   "metadata": {},
   "outputs": [],
   "source": [
    "def listnet_ce_loss(y_i, z_i):\n",
    "    \"\"\"\n",
    "    y_i: (n_i, 1) GT\n",
    "    z_i: (n_i, 1) preds\n",
    "    \"\"\"\n",
    "\n",
    "    P_y_i = torch.softmax(y_i, dim=0)\n",
    "    P_z_i = torch.softmax(z_i, dim=0)\n",
    "    return -torch.sum(P_y_i * torch.log(P_z_i))\n",
    "\n",
    "def listnet_kl_loss(y_i, z_i):\n",
    "    \"\"\"\n",
    "    y_i: (n_i, 1) GT\n",
    "    z_i: (n_i, 1) preds\n",
    "    \"\"\"\n",
    "    P_y_i = torch.softmax(y_i, dim=0)\n",
    "    P_z_i = torch.softmax(z_i, dim=0)\n",
    "    return -torch.sum(P_y_i * torch.log(P_z_i/P_y_i))\n",
    "\n",
    "\n",
    "def make_dataset(N_train, N_valid, vector_dim):\n",
    "    fake_weights = torch.randn(vector_dim, 1)\n",
    "\n",
    "    X_train = torch.randn(N_train, vector_dim)\n",
    "    X_valid = torch.randn(N_valid, vector_dim)\n",
    "\n",
    "    ys_train_score = torch.mm(X_train, fake_weights)\n",
    "    ys_train_score += torch.randn_like(ys_train_score)\n",
    "\n",
    "    ys_valid_score = torch.mm(X_valid, fake_weights)\n",
    "    ys_valid_score += torch.randn_like(ys_valid_score)\n",
    "\n",
    "#     bins = [-1, 1]  # 3 relevances\n",
    "    bins = [-1, 0, 1, 2]  # 5 relevances\n",
    "    ys_train_rel = torch.Tensor(\n",
    "        np.digitize(ys_train_score.clone().detach().numpy(), bins=bins)\n",
    "    )\n",
    "    ys_valid_rel = torch.Tensor(\n",
    "        np.digitize(ys_valid_score.clone().detach().numpy(), bins=bins)\n",
    "    )\n",
    "\n",
    "    return X_train, X_valid, ys_train_rel, ys_valid_rel"
   ]
  },
  {
   "cell_type": "code",
   "execution_count": 35,
   "id": "45412498-4b6f-4143-aab3-168530f8d8e5",
   "metadata": {},
   "outputs": [],
   "source": [
    "N_train = 1000\n",
    "N_valid = 500\n",
    "\n",
    "vector_dim = 100\n",
    "epochs = 2\n",
    "\n",
    "batch_size = 16\n",
    "\n",
    "X_train, X_valid, ys_train, ys_valid = make_dataset(N_train, N_valid, vector_dim)\n",
    "\n",
    "net = ListNet(num_input_features=vector_dim)\n",
    "opt = torch.optim.Adam(net.parameters())"
   ]
  },
  {
   "cell_type": "code",
   "execution_count": 36,
   "id": "89262071-9916-4290-844c-7a06ed279274",
   "metadata": {},
   "outputs": [
    {
     "data": {
      "text/plain": [
       "tensor([0., 1., 2., 3., 4.])"
      ]
     },
     "execution_count": 36,
     "metadata": {},
     "output_type": "execute_result"
    }
   ],
   "source": [
    "torch.unique(ys_train)"
   ]
  },
  {
   "cell_type": "code",
   "execution_count": 37,
   "id": "7c2a5885-b653-40b6-8fc7-3936e15cd0a6",
   "metadata": {},
   "outputs": [
    {
     "name": "stdout",
     "output_type": "stream",
     "text": [
      "epoch: 1.\tNumber of swapped pairs: 43485/124750\tnDCG: 0.8082\n",
      "epoch: 1.\tNumber of swapped pairs: 41090/124750\tnDCG: 0.8386\n",
      "epoch: 1.\tNumber of swapped pairs: 38912/124750\tnDCG: 0.8495\n",
      "epoch: 1.\tNumber of swapped pairs: 36422/124750\tnDCG: 0.8656\n",
      "epoch: 1.\tNumber of swapped pairs: 33965/124750\tnDCG: 0.8784\n",
      "epoch: 1.\tNumber of swapped pairs: 31494/124750\tnDCG: 0.8940\n",
      "epoch: 1.\tNumber of swapped pairs: 29122/124750\tnDCG: 0.9076\n",
      "epoch: 2.\tNumber of swapped pairs: 28723/124750\tnDCG: 0.9100\n",
      "epoch: 2.\tNumber of swapped pairs: 26520/124750\tnDCG: 0.9209\n",
      "epoch: 2.\tNumber of swapped pairs: 24144/124750\tnDCG: 0.9314\n",
      "epoch: 2.\tNumber of swapped pairs: 22032/124750\tnDCG: 0.9395\n",
      "epoch: 2.\tNumber of swapped pairs: 20209/124750\tnDCG: 0.9469\n",
      "epoch: 2.\tNumber of swapped pairs: 18535/124750\tnDCG: 0.9543\n",
      "epoch: 2.\tNumber of swapped pairs: 17184/124750\tnDCG: 0.9596\n"
     ]
    }
   ],
   "source": [
    "for epoch in range(epochs):\n",
    "    idx = torch.randperm(N_train)\n",
    "\n",
    "    X_train = X_train[idx]\n",
    "    ys_train = ys_train[idx]\n",
    "\n",
    "    cur_batch = 0\n",
    "    for it in range(N_train // batch_size):\n",
    "        batch_X = X_train[cur_batch: cur_batch + batch_size]\n",
    "        batch_ys = ys_train[cur_batch: cur_batch + batch_size]\n",
    "        cur_batch += batch_size\n",
    "\n",
    "        opt.zero_grad()\n",
    "        if len(batch_X) > 0:\n",
    "            batch_pred = net(batch_X)\n",
    "            batch_loss = listnet_kl_loss(batch_ys, batch_pred)\n",
    "            # batch_loss = listnet_ce_loss(batch_ys, batch_pred)\n",
    "            batch_loss.backward(retain_graph=True)\n",
    "            opt.step()\n",
    "\n",
    "        if it % 10 == 0:\n",
    "            with torch.no_grad():\n",
    "                valid_pred = net(X_valid)\n",
    "                valid_swapped_pairs = num_swapped_pairs(ys_valid, valid_pred)\n",
    "                ndcg_score = ndcg(ys_valid, valid_pred)\n",
    "            print(f\"epoch: {epoch + 1}.\\tNumber of swapped pairs: \" \n",
    "                  f\"{valid_swapped_pairs}/{N_valid * (N_valid - 1) // 2}\\t\"\n",
    "                  f\"nDCG: {ndcg_score:.4f}\")"
   ]
  },
  {
   "cell_type": "markdown",
   "id": "2b0a0d9f-87b9-442c-af4c-b9f62d1ee453",
   "metadata": {},
   "source": [
    "<a id=\"3\"></a>\n",
    "# 3. Полезные ссылки\n",
    "Что почитать:\n",
    "1. [От сопоставления слов к TF-IDF и до BM-25](https://habr.com/ru/articles/823568/)\n",
    "\n",
    "Что посмотреть:\n",
    "1. [Лекции](https://disk.yandex.ru/d/VTH7icXZRpXgAA)"
   ]
  },
  {
   "cell_type": "code",
   "execution_count": null,
   "id": "61e39cad-0636-4ca8-bb7f-9f41fcd10390",
   "metadata": {},
   "outputs": [],
   "source": []
  }
 ],
 "metadata": {
  "kernelspec": {
   "display_name": "Python 3 (ipykernel)",
   "language": "python",
   "name": "python3"
  },
  "language_info": {
   "codemirror_mode": {
    "name": "ipython",
    "version": 3
   },
   "file_extension": ".py",
   "mimetype": "text/x-python",
   "name": "python",
   "nbconvert_exporter": "python",
   "pygments_lexer": "ipython3",
   "version": "3.11.5"
  }
 },
 "nbformat": 4,
 "nbformat_minor": 5
}
