{
 "cells": [
  {
   "cell_type": "markdown",
   "metadata": {
    "id": "AGf_xvZiT0Ww"
   },
   "source": [
    "# Домашнее задание № 1\n",
    "\n",
    "Вам необходимо провести анализ и подготовить данные."
   ]
  },
  {
   "cell_type": "markdown",
   "metadata": {
    "_cell_guid": "d2034be1-8579-d4b9-9b18-b7bf2c6fc651",
    "id": "rWc3WRD0TtVq"
   },
   "source": [
    "# Исходные данные\n",
    "\n",
    "Ознакомьтесь с данными в [источнике](https://www.kaggle.com/uciml/student-alcohol-consumption?select=student-por.csv):\n",
    "\n",
    "Если вкратце, то у вас есть 29 параметров и одна целевая переменная G3."
   ]
  },
  {
   "cell_type": "code",
   "execution_count": null,
   "metadata": {
    "_cell_guid": "87372d85-e9ac-b3b3-c25d-33dfb357ccd8",
    "id": "pQ5OrqpATtVl"
   },
   "outputs": [],
   "source": [
    "import pandas as pd"
   ]
  },
  {
   "cell_type": "code",
   "execution_count": null,
   "metadata": {
    "id": "cE9FdACVcBHd"
   },
   "outputs": [],
   "source": [
    "# Читаем данные\n",
    "\n",
    "X_train = pd.read_csv('train_features_with_answers.csv')"
   ]
  },
  {
   "cell_type": "code",
   "execution_count": null,
   "metadata": {
    "id": "i1j9Yn9Jhz-S"
   },
   "outputs": [],
   "source": [
    "# Про характеристики прочитайте в источнике\n",
    "\n",
    "X_train.head(5)"
   ]
  },
  {
   "cell_type": "markdown",
   "metadata": {
    "_cell_guid": "daf6f291-b7aa-d184-39f8-6278cc04f0ee",
    "id": "fxkflheLTtVv"
   },
   "source": [
    "# Часть 1. Визуальный анализ данных (Exploratory Data Analysis)\n",
    "\n",
    "Перед тем, как приступать к построению алгоритмов, необходимо понять данные, с которыми требуется работать. Для этого в подходах к построению алгоритмов машинного обучения выделят специальный этап - Разведочный анализ данных или Exploratory Data Analysis (EDA). EDA в себя включает все те, что касается описания данных: визуализацию, интерпретацию и анализ.\n",
    "\n",
    "Прежде всего сделаем визуализацию данных для того, чтобы оценить диапазоны значений и виды их распределений.\n",
    "\n",
    "Постройте для приведенных ниже характеристик следующие виды графиков:\n",
    "- Гистограммы;\n",
    "- Круговые диаграмм;\n",
    "- Графики;\n",
    "- Таблицы;\n",
    "- 3D диаграммы.\n",
    "\n",
    "Выберите наиболее подходящий тип графика для каждой характеристки.\n",
    "\n",
    "__Основной критерий оценивания__ - читаемость и интерпретируемость данных."
   ]
  },
  {
   "cell_type": "markdown",
   "metadata": {
    "id": "FA0btFcmmpAG"
   },
   "source": [
    "## Характеристика: \"Sex\""
   ]
  },
  {
   "cell_type": "code",
   "execution_count": null,
   "metadata": {
    "_cell_guid": "74f8d40e-415f-9e29-03ca-aa1e75714c11",
    "id": "QElGbkh1TtVw"
   },
   "outputs": [],
   "source": []
  },
  {
   "cell_type": "markdown",
   "metadata": {
    "_cell_guid": "fe453992-94f6-ae3b-b1fd-63027e71729f",
    "id": "eOkuFjVRTtVy"
   },
   "source": [
    "## Характеристика: \"Age\""
   ]
  },
  {
   "cell_type": "code",
   "execution_count": null,
   "metadata": {
    "_cell_guid": "1051bfb6-f29e-0c40-1666-c97827578ad3",
    "id": "i9a_yujdTtVy"
   },
   "outputs": [],
   "source": []
  },
  {
   "cell_type": "markdown",
   "metadata": {
    "_cell_guid": "7febeef3-e6b0-a18a-5705-7ee3876c1965",
    "id": "vgfL_e8lTtV0"
   },
   "source": [
    "## Характеристика: \"Weekly study time\""
   ]
  },
  {
   "cell_type": "code",
   "execution_count": null,
   "metadata": {
    "_cell_guid": "12f1d266-9efa-4bd9-a3c1-48ea880080be",
    "id": "e3UTlpoMTtV1"
   },
   "outputs": [],
   "source": []
  },
  {
   "cell_type": "markdown",
   "metadata": {
    "_cell_guid": "a0732dfe-165e-3c44-319c-bb7bf890fe9b",
    "id": "QmcAzPipTtV3"
   },
   "source": [
    "## Характеристика: \"Romantic Relationship\""
   ]
  },
  {
   "cell_type": "code",
   "execution_count": null,
   "metadata": {
    "_cell_guid": "048c1de0-e55c-6e2f-09db-1263e9fbac76",
    "id": "yICND3ynTtV3"
   },
   "outputs": [],
   "source": []
  },
  {
   "cell_type": "markdown",
   "metadata": {
    "_cell_guid": "21ae96ef-7925-4a81-1f1d-54d4ed018ec3",
    "id": "cJTillXMTtV5"
   },
   "source": [
    "## Характеристика: \"Alcohol Consumption\""
   ]
  },
  {
   "cell_type": "code",
   "execution_count": null,
   "metadata": {
    "id": "e4KynL-GnIrc"
   },
   "outputs": [],
   "source": []
  },
  {
   "cell_type": "markdown",
   "metadata": {
    "_cell_guid": "21ae96ef-7925-4a81-1f1d-54d4ed018ec3",
    "id": "JL7MDeVBnDBw"
   },
   "source": [
    "## Целевая зависимость: \"G3\" (Final Grade)"
   ]
  },
  {
   "cell_type": "code",
   "execution_count": null,
   "metadata": {
    "id": "Fshy5JYdTgyr"
   },
   "outputs": [],
   "source": []
  },
  {
   "cell_type": "markdown",
   "metadata": {
    "id": "HyR-ETD6Tgys"
   },
   "source": [
    "## Прочие характеристики\n",
    "\n",
    "Прочитайте описание данных на [сайте](https://www.kaggle.com/uciml/student-alcohol-consumption) и подумайте, какие еще характеристики было бы полезно проанализировать. Постройте соответсвующие графики для выбранных характеристик.\n",
    "\n",
    "Постройте графики еще для минимум 4 характеристик: числовая (2) и категориальная (2), применив хотя бы один раз:\n",
    "- pieplot\n",
    "- boxplot\n",
    "- violinplot"
   ]
  },
  {
   "cell_type": "code",
   "execution_count": null,
   "metadata": {
    "id": "zYBWdQKjnDB1"
   },
   "outputs": [],
   "source": []
  },
  {
   "cell_type": "markdown",
   "metadata": {
    "_cell_guid": "21ae96ef-7925-4a81-1f1d-54d4ed018ec3",
    "id": "dDiTs21MnRYu"
   },
   "source": [
    "## Корреляция признаков\n",
    "\n",
    "Для того, чтобы быстро получить оценку о взаимосвязи признаков целесообразно построить матрицу их корреляции. Постройте матрицу корреляции."
   ]
  },
  {
   "cell_type": "code",
   "execution_count": null,
   "metadata": {
    "id": "KagTTs4mnRYv"
   },
   "outputs": [],
   "source": []
  },
  {
   "cell_type": "markdown",
   "metadata": {
    "id": "Uamr3aOOSVo4"
   },
   "source": [
    "## Посчитайте корреляцию Спирмана и нарисуйте ее в виде тепловой карты"
   ]
  },
  {
   "cell_type": "code",
   "execution_count": null,
   "metadata": {
    "id": "OA7BA80QSVo5"
   },
   "outputs": [],
   "source": []
  },
  {
   "cell_type": "markdown",
   "metadata": {
    "_cell_guid": "21ae96ef-7925-4a81-1f1d-54d4ed018ec3",
    "id": "HU8fL_6GtGWV"
   },
   "source": [
    "## Диапазон значений характеристик\n",
    "\n",
    "Посчитайте число уникальных значений для каждого признака и сравните их между собой."
   ]
  },
  {
   "cell_type": "code",
   "execution_count": null,
   "metadata": {
    "id": "MnBcttm5tGWW"
   },
   "outputs": [],
   "source": []
  },
  {
   "cell_type": "code",
   "execution_count": null,
   "metadata": {
    "id": "UbcS5K4kUI7L"
   },
   "outputs": [],
   "source": []
  },
  {
   "cell_type": "markdown",
   "metadata": {
    "id": "p_mf61fgSVo5"
   },
   "source": [
    "## Найдите соотношение мужского и женского пола для самых выскоих оценок (G3) из датасета, у которых время на дорогу больше, чем 30 минут. Нарисуйте это соотношение на круговой диаграмме"
   ]
  },
  {
   "cell_type": "code",
   "execution_count": null,
   "metadata": {
    "id": "Q_GM66scSVo5"
   },
   "outputs": [],
   "source": []
  },
  {
   "cell_type": "markdown",
   "metadata": {
    "id": "hw0rZvP0SVo5"
   },
   "source": [
    "## Построить boxplot для оценок по возрасту.  "
   ]
  },
  {
   "cell_type": "code",
   "execution_count": null,
   "metadata": {
    "id": "2auancXdSVo5"
   },
   "outputs": [],
   "source": []
  },
  {
   "cell_type": "markdown",
   "metadata": {
    "id": "wCL9MGy8SVo5"
   },
   "source": [
    "## Найти id топ-5 самых юных отличников."
   ]
  },
  {
   "cell_type": "code",
   "execution_count": null,
   "metadata": {
    "id": "TkhnGJ1iSVo5"
   },
   "outputs": [],
   "source": []
  },
  {
   "cell_type": "markdown",
   "metadata": {
    "id": "9UPBcWBUSVo6"
   },
   "source": [
    "## Для каждого возраста найдите максимальную и минимальную оценку (G3)"
   ]
  },
  {
   "cell_type": "code",
   "execution_count": null,
   "metadata": {
    "id": "FIJ5B35ySVo6"
   },
   "outputs": [],
   "source": []
  },
  {
   "cell_type": "markdown",
   "metadata": {
    "_cell_guid": "0e9fb698-c819-074d-26ee-7a6afe00ad62",
    "id": "ZnrLrANOTtWC"
   },
   "source": [
    "# Часть 2. Предобработка данных\n",
    "\n",
    "Теперь перейдем к подготовке данных для моделей машинного обучения. Не все из описанного ниже нужно делать. Подумайте."
   ]
  },
  {
   "cell_type": "code",
   "execution_count": null,
   "metadata": {
    "id": "q6-p0CoXeYeH"
   },
   "outputs": [],
   "source": []
  },
  {
   "cell_type": "markdown",
   "metadata": {
    "_cell_guid": "21ae96ef-7925-4a81-1f1d-54d4ed018ec3",
    "id": "lY0qoZnQ90NO"
   },
   "source": [
    "## Найдите и исправьте ошибки в данных"
   ]
  },
  {
   "cell_type": "code",
   "execution_count": null,
   "metadata": {
    "id": "Xt4J1g5l90NP"
   },
   "outputs": [],
   "source": []
  },
  {
   "cell_type": "markdown",
   "metadata": {
    "_cell_guid": "21ae96ef-7925-4a81-1f1d-54d4ed018ec3",
    "id": "JCVXK7Wsnuf0"
   },
   "source": [
    "## Удалите скоррелированные данные"
   ]
  },
  {
   "cell_type": "code",
   "execution_count": null,
   "metadata": {
    "id": "KJAfBn9znuf1"
   },
   "outputs": [],
   "source": []
  },
  {
   "cell_type": "markdown",
   "metadata": {
    "id": "qF81qsInnuf4"
   },
   "source": [
    "## Заполните пропуски в данных\n",
    "\n",
    "Заполнить пропуски в данных можно одним из следующи способов или разными для разных признаков:\n",
    "- Заполнить нулями\n",
    "- Выбросить данные с нулями (не рекомендуется)\n",
    "- Заполнить средним для данного параметра\n",
    "- Заполнить наиболее соответствующим данному прецеденту (рекомендуется)"
   ]
  },
  {
   "cell_type": "code",
   "execution_count": null,
   "metadata": {
    "id": "yaCEkU9anuf4"
   },
   "outputs": [],
   "source": []
  },
  {
   "cell_type": "markdown",
   "metadata": {
    "_cell_guid": "21ae96ef-7925-4a81-1f1d-54d4ed018ec3",
    "id": "_p3_0Is6nuf6"
   },
   "source": [
    "## Закодируйте категориальные признаки"
   ]
  },
  {
   "cell_type": "code",
   "execution_count": null,
   "metadata": {
    "id": "TTzs_qcqnuf6"
   },
   "outputs": [],
   "source": []
  },
  {
   "cell_type": "markdown",
   "metadata": {
    "_cell_guid": "21ae96ef-7925-4a81-1f1d-54d4ed018ec3",
    "id": "TQGQtLdynuf8"
   },
   "source": [
    "## Придумайте сложные признаки\n",
    "\n",
    "Сложные признаки - это комбинации существующих (линейных или нелинейных).\n",
    "Это нужно для того, чтобы самостоятельно добавить нелинейность в алгоритм.\n",
    "\n",
    "Приведите не менее двух признаков."
   ]
  },
  {
   "cell_type": "code",
   "execution_count": null,
   "metadata": {
    "id": "JttEVehTeYeI"
   },
   "outputs": [],
   "source": []
  },
  {
   "cell_type": "code",
   "execution_count": null,
   "metadata": {
    "id": "y_ZuIZlSuERv"
   },
   "outputs": [],
   "source": []
  },
  {
   "cell_type": "markdown",
   "metadata": {
    "_cell_guid": "9d8e5350-8caa-ab7d-834c-bbaf3e30c2b1",
    "id": "621800ae-7aae-4802-b714-b727f39d5c11"
   },
   "source": [
    "# Часть 3. Стратегия валидации\n",
    "\n",
    "Итак, у вас есть данные для обучения и данные, на которых необходимо сделать предсказание. Для оценки точности необходимо проводить валидацию (так как мало данных, можно проводить кросс валидацию).\n",
    "Валидацию проще всего реализовать методами sklearn, например:\n",
    "- KFold\n",
    "- ShuffleSplit\n",
    "- StratifiedKFold\n",
    "- StratifiedShuffleSplit\n",
    "- GroupKFold\n",
    "- GroupShuffleSplit"
   ]
  },
  {
   "cell_type": "code",
   "execution_count": null,
   "metadata": {
    "id": "fee2652c-2c50-4eae-ac00-d5cc84bea6d4"
   },
   "outputs": [],
   "source": [
    "# Ваш код"
   ]
  },
  {
   "cell_type": "markdown",
   "metadata": {
    "id": "1a479fa7-ee88-469d-9f14-7e513f1b3f98"
   },
   "source": [
    "## Разделите данные и объясните выбор стратегии"
   ]
  },
  {
   "cell_type": "code",
   "execution_count": null,
   "metadata": {
    "_cell_guid": "35d7b6ae-6a83-d93d-0fa3-8502b8f9bee0",
    "id": "27828236-8b74-40db-ae41-fbbba4f0704f"
   },
   "outputs": [],
   "source": [
    "# Ваш код"
   ]
  },
  {
   "cell_type": "markdown",
   "metadata": {
    "id": "54901900-de8c-4f6e-a755-17f6b4aaf937"
   },
   "source": [
    "__Ваш ответ:__ ..."
   ]
  },
  {
   "cell_type": "markdown",
   "metadata": {
    "id": "8cc67c68-03f3-4cfa-a7fb-b56d86ed6805"
   },
   "source": [
    "# Часть 4. Заполнение пропусков в данных"
   ]
  },
  {
   "cell_type": "markdown",
   "metadata": {
    "id": "1c34dd70-4252-4c1d-86ac-4fa063f41c0c"
   },
   "source": [
    "## Фильтрация по диапазону значений\n",
    "\n",
    "Проверьте, что все характеристики принадлежат тому диапазону значений, который приведен в описании к исходным данным. Например, если в графе \"Пол\" есть значение FF, P или -1, то это явная ошибка заполнения.\n",
    "\n",
    "Приведите данные в соответствии с описанием данных. Если значение указано неверно - укажите ```NaN```."
   ]
  },
  {
   "cell_type": "code",
   "execution_count": null,
   "metadata": {
    "id": "2ea9237e-f421-4994-a87a-4b8c17e5e550"
   },
   "outputs": [],
   "source": [
    "# Ваш код"
   ]
  },
  {
   "cell_type": "markdown",
   "metadata": {
    "id": "a31c8aea-226c-4378-a78b-e68842921ead"
   },
   "source": [
    "## Адаптивное заполнения пропусков\n",
    "\n",
    "Реализуйте стратегию заполнения пропусков данных на основе схожих примеров. Обучите один из известных вам алгоритмов (knn, Naive Bayes, linear regression) для предсказания той характеристики, пропуски которой присутсвуют в данных. В качестве характеристики для обучения алгоритмов __нельзя__ использовать ```G3```."
   ]
  },
  {
   "cell_type": "code",
   "execution_count": null,
   "metadata": {
    "id": "c48d9077-392e-48ef-9a3f-3347ca38da4b"
   },
   "outputs": [],
   "source": [
    "# Ваш код"
   ]
  },
  {
   "cell_type": "code",
   "execution_count": null,
   "metadata": {
    "id": "ef0e8f16-8ab8-497b-b8db-4884b29babd2"
   },
   "outputs": [],
   "source": []
  },
  {
   "cell_type": "code",
   "execution_count": null,
   "metadata": {
    "id": "8s4YixXzuJRC"
   },
   "outputs": [],
   "source": []
  },
  {
   "cell_type": "markdown",
   "metadata": {
    "_cell_guid": "3013b854-7aaa-4ad6-7952-1d188121ea25",
    "id": "22646374-f328-4412-8c59-5e157e779cf2"
   },
   "source": [
    "# Часть 5. Обучение алгоритма"
   ]
  },
  {
   "cell_type": "markdown",
   "metadata": {
    "id": "fc9c91d2-bfea-43e0-b6df-7f96664a7d66"
   },
   "source": [
    "Целевая переменная принимает дискретные значения [0; 20], поэтому вы можете поставить как задачу классификации, так и задачу регрессии.\n",
    "\n",
    "!Не забудьте про оптимизацию параметров алгоритмов, у вас же уже есть данные для валидации."
   ]
  },
  {
   "cell_type": "markdown",
   "metadata": {
    "id": "fcb899db-1e1f-428c-a035-1d2b690714e5"
   },
   "source": [
    "## KNN"
   ]
  },
  {
   "cell_type": "code",
   "execution_count": null,
   "metadata": {
    "_cell_guid": "74f8d40e-415f-9e29-03ca-aa1e75714c11",
    "id": "e37ad661-fc01-4164-bf37-9f6d09370058"
   },
   "outputs": [],
   "source": []
  },
  {
   "cell_type": "markdown",
   "metadata": {
    "id": "c0b47e9a-3c22-415c-98db-8be4aabbf021"
   },
   "source": [
    "## Bayes"
   ]
  },
  {
   "cell_type": "code",
   "execution_count": null,
   "metadata": {
    "id": "e7976a0b-0a53-4a9d-b7b6-e5fd5dbf83a6"
   },
   "outputs": [],
   "source": []
  },
  {
   "cell_type": "markdown",
   "metadata": {
    "_cell_guid": "7febeef3-e6b0-a18a-5705-7ee3876c1965",
    "id": "dbe6c3e0-11c0-4f15-8cab-9250255625fc"
   },
   "source": [
    "## Регрессия"
   ]
  },
  {
   "cell_type": "code",
   "execution_count": null,
   "metadata": {
    "_cell_guid": "12f1d266-9efa-4bd9-a3c1-48ea880080be",
    "id": "591b682b-ff10-4a38-8e17-1b0ddef9ec1a"
   },
   "outputs": [],
   "source": []
  },
  {
   "cell_type": "markdown",
   "metadata": {
    "id": "7975eaae-4b07-43b8-a4c7-c573f8593957"
   },
   "source": [
    "## SVM"
   ]
  },
  {
   "cell_type": "code",
   "execution_count": null,
   "metadata": {
    "id": "3d9d4146-15e4-44df-a882-b794ce252ec5"
   },
   "outputs": [],
   "source": []
  },
  {
   "cell_type": "markdown",
   "metadata": {
    "id": "8a1ce346-4ac2-4950-b2c8-ffc6cdb0cca5"
   },
   "source": [
    "## Постройте сложную модель на основе предыдущих четырех простых и оцените ее точность"
   ]
  },
  {
   "cell_type": "markdown",
   "metadata": {
    "id": "dfad6385-0e3b-47c2-aecf-0e894089f013"
   },
   "source": [
    "Вариант 1. Нужно взвесить предсказания простых моделей. Предложите метод взвешивания."
   ]
  },
  {
   "cell_type": "code",
   "execution_count": null,
   "metadata": {
    "id": "2a791883-273f-4b2d-a300-8a6d287b44f7"
   },
   "outputs": [],
   "source": []
  },
  {
   "cell_type": "markdown",
   "metadata": {
    "id": "2e550dac-82ba-41bc-835e-61a4661e2452"
   },
   "source": [
    "Вариант 2. Нужно оценить корреляцию предсказаний простых моделей."
   ]
  },
  {
   "cell_type": "code",
   "execution_count": null,
   "metadata": {
    "id": "1c992ab6-ad87-48a9-9535-e9c8940a1d5c"
   },
   "outputs": [],
   "source": []
  },
  {
   "cell_type": "markdown",
   "metadata": {
    "_cell_guid": "3013b854-7aaa-4ad6-7952-1d188121ea25",
    "id": "208a2eca-34e3-4339-830e-e5b26eee33bb"
   },
   "source": [
    "## Сделайте итоговое предсказание"
   ]
  },
  {
   "cell_type": "markdown",
   "metadata": {
    "id": "788d78fb-ee0f-40c9-9831-97b7cffe44ed"
   },
   "source": [
    "Решением домашнего задания является данный ноутбук + .csv файл с предсказанием. Пример формата файла, который должен у вас получится приведен в ```data/sample_submission.csv```. Данные для предсказания - ```X_test.csv```.\n",
    "\n",
    "За лучшее предсказание 5 человек получат +10% к домашке.\n",
    "\n",
    "Значения предсказаний должны быть целочисленными. Проверка будет точности решения будет по MSE."
   ]
  },
  {
   "cell_type": "code",
   "execution_count": null,
   "metadata": {
    "_cell_guid": "74f8d40e-415f-9e29-03ca-aa1e75714c11",
    "id": "f3bc9980-1330-439f-8d1f-f980620c4a14"
   },
   "outputs": [],
   "source": [
    "# Для jupyter notebook\n",
    "\n",
    "submission = pd.read_csv('data/sample_submission.csv', index_col='id')\n",
    "submission['G3'] = 1 # ваше предсказание\n",
    "submission.to_csv('data/submission.csv', index=False)"
   ]
  },
  {
   "cell_type": "code",
   "execution_count": null,
   "metadata": {
    "id": "28d93753-2124-465d-a6bd-825fab0f5fb1"
   },
   "outputs": [],
   "source": [
    "# Для colab notebook\n",
    "\n",
    "from google.colab import files\n",
    "\n",
    "pd.read_csv('data/sample_submission.csv', index_col='id')\n",
    "submission['G3'] = 1 # ваше предсказание\n",
    "submission.to_csv('data/submission.csv', index=False)\n",
    "files.download('data/submission.csv')"
   ]
  },
  {
   "cell_type": "code",
   "execution_count": null,
   "metadata": {
    "id": "f6e88673-34c1-4df8-aa6a-327b2e590661"
   },
   "outputs": [],
   "source": []
  },
  {
   "cell_type": "markdown",
   "metadata": {
    "id": "7582f216-5e7c-4189-ad8d-1a5f1714a6a0"
   },
   "source": [
    "# Часть 6. Состязательная валидация (Adversarial Validation)"
   ]
  },
  {
   "cell_type": "markdown",
   "metadata": {
    "id": "26b24cd0-771b-440d-9fad-f792a9a00d81"
   },
   "source": [
    "Данная стратегия часто применяется в соревнованиях по машинному обучению. Так как проверить свой алгоритм возможно только на заданном тренировочном наборе данных, а результат требуется к набору, для которого нет ответов, то выбирают следующий подход:\n",
    "- оценить степень схожести тренировочных и тестовых данных;\n",
    "- составить валидацию из тех тренировочных данных, которые больше похожи на тестовые.\n",
    "\n",
    "Алгоритм реализации AV:\n",
    "1. Удаляем ответы из тренировочных данных.\n",
    "2. Добавляем специальные метки (```is_test```) для классов: тренировочные данные и тестовые.\n",
    "То есть у тестовых данных будет значение ```is_test = 1```, а у тренировочных ```is_test = 0```.\n",
    "4. Учим алгоритм классификации предсказывать заданную метку ```is_test```.\n",
    "5. Делим тренировочные данные на N частей и проводим кросс-валидацию.\n",
    "\n",
    "Обучаем N алгоритмов классификации: каждый обучается на всех тестовых данных и на N-1 наборах тренировочных. Предсказываем на 1 тренировочном наборе.\n",
    "\n",
    "6. Для каждого элемента в выборке предсказываем вероятность принадлежности класса и сортируем тренировочные данные по вероятности принадлежности тестовой выборке.\n",
    "7. Выделяем заданное число данных в валидацию.\n",
    "8. Обучаемся для итогового предсказания на всех данных."
   ]
  },
  {
   "cell_type": "code",
   "execution_count": null,
   "metadata": {
    "_cell_guid": "03e74d0f-a241-a724-8b95-215bf4369d90",
    "id": "b1b92221-c587-4555-a4de-3131a56d6e70"
   },
   "outputs": [],
   "source": []
  }
 ],
 "metadata": {
  "_change_revision": 0,
  "_is_fork": false,
  "colab": {
   "provenance": [],
   "toc_visible": true
  },
  "kernelspec": {
   "display_name": "Python 3 (ipykernel)",
   "language": "python",
   "name": "python3"
  },
  "language_info": {
   "codemirror_mode": {
    "name": "ipython",
    "version": 3
   },
   "file_extension": ".py",
   "mimetype": "text/x-python",
   "name": "python",
   "nbconvert_exporter": "python",
   "pygments_lexer": "ipython3",
   "version": "3.11.5"
  }
 },
 "nbformat": 4,
 "nbformat_minor": 4
}
