{
 "cells": [
  {
   "cell_type": "markdown",
   "id": "b72e3312-3536-4f83-8697-18967877614d",
   "metadata": {
    "id": "OVkl09sgHGj4"
   },
   "source": [
    "# Семинар 01 - Первичный анализ данных, векторизация, пайплайны"
   ]
  },
  {
   "cell_type": "markdown",
   "id": "6231b4b2-2673-4f20-b63a-9c8cb279186d",
   "metadata": {},
   "source": [
    "<a id=\"Content\"></a>\n",
    "# Содержание\n",
    "1. [NumPy](#1)\n",
    "    - [Установка](#1.0)\n",
    "    - [Вводная часть](#1.1)\n",
    "    - [Базовые операции над массивами](#1.2)\n",
    "    - [Векторизация](#1.3)\n",
    "    - [Случайные величины](#1.4)\n",
    "2. [Pandas](#2)\n",
    "    - [Установка](#2.0)\n",
    "    - [Series](#2.1)\n",
    "    - [DataFrame](#2.2)\n",
    "    - [Визуализация](#2.3)"
   ]
  },
  {
   "cell_type": "markdown",
   "id": "92664b65-d448-4664-989f-5cc987203c13",
   "metadata": {
    "id": "1cnGhhAkw9yw"
   },
   "source": [
    "<a id=\"1\"></a>\n",
    "# 1 NumPy\n",
    "\n",
    "**NumPy** — великолепная библиотека Python для матричных вычислений. Она позволяет [легко] работать с матрицами, массивами, математикой и т.п. Кроме того, она позволяет производить векторные операции, которые **гораздо** быстрее стандартных.\n",
    "\n",
    "**Полезные ссылки:**\n",
    "\n",
    " - [numpy](http://www.numpy.org)\n",
    " - [numpy tutorial](http://cs231n.github.io/python-numpy-tutorial/)\n",
    " - [100 numpy exercises](http://www.labri.fr/perso/nrougier/teaching/numpy.100/)"
   ]
  },
  {
   "cell_type": "code",
   "execution_count": 3,
   "id": "1e749a31-07b9-4882-aefb-0913a2ab6ce1",
   "metadata": {},
   "outputs": [],
   "source": [
    "import numpy as np\n",
    "from plotly.subplots import make_subplots\n",
    "import plotly.graph_objects as go\n",
    "import plotly.express as px\n",
    "from plotly.offline import iplot\n",
    "\n",
    "# Показывать несколько выводов в одной клетке. Улучшает читаемость и удобство понимания\n",
    "from IPython.core.interactiveshell import InteractiveShell\n",
    "InteractiveShell.ast_node_interactivity = \"all\""
   ]
  },
  {
   "cell_type": "markdown",
   "id": "b65213fd-d5a3-4132-b051-8894673d2d1c",
   "metadata": {},
   "source": [
    "<a id=\"1.0\"></a>\n",
    "## 1.0. Установка"
   ]
  },
  {
   "cell_type": "code",
   "execution_count": 30,
   "id": "2d6a2362-0b93-44e5-ae98-49fdc444baa2",
   "metadata": {},
   "outputs": [
    {
     "name": "stdout",
     "output_type": "stream",
     "text": [
      "Requirement already satisfied: numpy==1.26.* in c:\\users\\kitro\\anaconda3\\envs\\jupyterlab\\lib\\site-packages (1.26.4)\n",
      "Note: you may need to restart the kernel to use updated packages.\n"
     ]
    }
   ],
   "source": [
    "pip install numpy==1.26.*"
   ]
  },
  {
   "cell_type": "markdown",
   "id": "45f7946e-aa57-4e6f-9389-4c542628fafa",
   "metadata": {
    "id": "_EVDc6u9TXH6"
   },
   "source": [
    "<a id=\"1.1\"></a>\n",
    "## 1.1. Вводная часть"
   ]
  },
  {
   "cell_type": "markdown",
   "id": "3d14bc1b-ec69-421f-90e9-919ac5765a67",
   "metadata": {},
   "source": [
    "### 1.1.0. Размерность"
   ]
  },
  {
   "cell_type": "markdown",
   "id": "17bfb95b-5be8-415d-98f9-ad730e6196ad",
   "metadata": {
    "id": "oMZeErASTXH9"
   },
   "source": [
    "Основной тип  — [numpy.ndarray](http://docs.scipy.org/doc/numpy-1.10.0/reference/generated/numpy.array.html). \n",
    "Каждый `ndarray` имеет оси.  \n",
    "<img src=data/numpy_array_axes.png></img>"
   ]
  },
  {
   "cell_type": "code",
   "execution_count": 264,
   "id": "e407d707-1c49-428d-9b3b-6f02e476fe5f",
   "metadata": {
    "id": "6OtT_WMlTXH9",
    "outputId": "a3e086fb-fbc2-4e2a-f649-898b44b4f7f1"
   },
   "outputs": [
    {
     "data": {
      "text/plain": [
       "1"
      ]
     },
     "execution_count": 264,
     "metadata": {},
     "output_type": "execute_result"
    },
    {
     "data": {
      "text/plain": [
       "(3,)"
      ]
     },
     "execution_count": 264,
     "metadata": {},
     "output_type": "execute_result"
    },
    {
     "data": {
      "text/plain": [
       "numpy.ndarray"
      ]
     },
     "execution_count": 264,
     "metadata": {},
     "output_type": "execute_result"
    }
   ],
   "source": [
    "vec = np.array([1, 2, 3])\n",
    "vec.ndim  # количество осей\n",
    "vec.shape  # размерность массива\n",
    "type(vec) # тип - np.ndarray, но создается с помощью функции np.array() ( не np.ndarray() )"
   ]
  },
  {
   "cell_type": "code",
   "execution_count": 265,
   "id": "45504b67-3b80-454f-93a5-95dca4ea97e1",
   "metadata": {
    "id": "pAkiq2cQTXIA",
    "outputId": "48700de9-430d-4a41-8be3-80be107e3fc0"
   },
   "outputs": [
    {
     "data": {
      "text/plain": [
       "2"
      ]
     },
     "execution_count": 265,
     "metadata": {},
     "output_type": "execute_result"
    },
    {
     "data": {
      "text/plain": [
       "(2, 3)"
      ]
     },
     "execution_count": 265,
     "metadata": {},
     "output_type": "execute_result"
    }
   ],
   "source": [
    "mat = np.array([[1, 2, 3], [4, 5, 6]])\n",
    "mat.ndim  # количество осей\n",
    "mat.shape  # размерность массива"
   ]
  },
  {
   "cell_type": "markdown",
   "id": "ade2b18a-a8c0-4318-835d-3959aaf7802f",
   "metadata": {},
   "source": [
    "### 1.1.1. Типы данных"
   ]
  },
  {
   "cell_type": "markdown",
   "id": "8a150ccd-a2c5-4617-8ce1-1df87872da3b",
   "metadata": {},
   "source": [
    "В Numpy есть разные встроенные типы данных, с которыми мы будем встречаться, аналогичные C++.  \n",
    "<br>\n",
    "<img src=data/numpy_dtypes.png></img>"
   ]
  },
  {
   "cell_type": "code",
   "execution_count": 23,
   "id": "6c587ad5-cf21-49b6-807c-0febeeb0ad7d",
   "metadata": {},
   "outputs": [
    {
     "data": {
      "text/plain": [
       "dtype('int32')"
      ]
     },
     "execution_count": 23,
     "metadata": {},
     "output_type": "execute_result"
    },
    {
     "data": {
      "text/plain": [
       "24"
      ]
     },
     "execution_count": 23,
     "metadata": {},
     "output_type": "execute_result"
    },
    {
     "data": {
      "text/plain": [
       "array([[1, 2, 3],\n",
       "       [4, 5, 6]])"
      ]
     },
     "execution_count": 23,
     "metadata": {},
     "output_type": "execute_result"
    }
   ],
   "source": [
    "mat = np.array([[1, 2, 3], [4, 5, 6]])\n",
    "mat.dtype  # Тип данных в массиве\n",
    "mat.nbytes  # Занимаемое в памяти место \n",
    "mat"
   ]
  },
  {
   "cell_type": "code",
   "execution_count": 24,
   "id": "f94050d7-ca8c-45f2-94c6-d527c0bd256d",
   "metadata": {},
   "outputs": [
    {
     "data": {
      "text/plain": [
       "dtype('float64')"
      ]
     },
     "execution_count": 24,
     "metadata": {},
     "output_type": "execute_result"
    },
    {
     "data": {
      "text/plain": [
       "48"
      ]
     },
     "execution_count": 24,
     "metadata": {},
     "output_type": "execute_result"
    },
    {
     "data": {
      "text/plain": [
       "array([[1., 2., 3.],\n",
       "       [4., 5., 6.]])"
      ]
     },
     "execution_count": 24,
     "metadata": {},
     "output_type": "execute_result"
    }
   ],
   "source": [
    "mat = np.array([[1, 2, 3], [4, 5, 6]], dtype=np.float64)  # Явно указываем тип данных в массиве\n",
    "mat.dtype  # Тип данных в массиве\n",
    "mat.nbytes  # Занимаемое в памяти место \n",
    "mat"
   ]
  },
  {
   "cell_type": "markdown",
   "id": "1fa7f2bf-ebfb-4675-937c-d86d2dbc20be",
   "metadata": {
    "id": "lgSTz_PtTXIC"
   },
   "source": [
    "### 1.1.2 Создание векторов и матриц "
   ]
  },
  {
   "cell_type": "code",
   "execution_count": 25,
   "id": "77847a26-6b96-4ef4-aef1-c361e2bf8815",
   "metadata": {
    "id": "EOlQq-sXTXIC",
    "outputId": "dbb84d85-b2fb-40bd-df9f-50d74d201d38"
   },
   "outputs": [
    {
     "data": {
      "text/plain": [
       "array([0., 0., 0.])"
      ]
     },
     "execution_count": 25,
     "metadata": {},
     "output_type": "execute_result"
    },
    {
     "data": {
      "text/plain": [
       "array([False, False, False])"
      ]
     },
     "execution_count": 25,
     "metadata": {},
     "output_type": "execute_result"
    },
    {
     "data": {
      "text/plain": [
       "array([0., 0., 0.], dtype=float64)"
      ]
     },
     "execution_count": 25,
     "metadata": {},
     "output_type": "execute_result"
    }
   ],
   "source": [
    "np.zeros((3,))  # Создание матрицы из нулей \n",
    "np.zeros((3,), dtype=bool)\n",
    "np.zeros((3,), dtype=np.longfloat)"
   ]
  },
  {
   "cell_type": "code",
   "execution_count": 26,
   "id": "587413ce-0739-4798-9901-26783bc7622f",
   "metadata": {
    "id": "I21QhYyKTXIF",
    "outputId": "b445ca4a-c4a4-4493-d661-3f4719951414"
   },
   "outputs": [
    {
     "data": {
      "text/plain": [
       "array([[1., 1., 1., 1.],\n",
       "       [1., 1., 1., 1.],\n",
       "       [1., 1., 1., 1.]])"
      ]
     },
     "execution_count": 26,
     "metadata": {},
     "output_type": "execute_result"
    }
   ],
   "source": [
    "np.ones((3, 4))  # Создание матрицы из единиц"
   ]
  },
  {
   "cell_type": "code",
   "execution_count": 27,
   "id": "66e7fd0b-f4c2-49db-8e2f-cbdfdf8432c4",
   "metadata": {
    "id": "tRNntmPOTXIH",
    "outputId": "41b23d15-a2ca-405b-c81b-20b2ba41393e"
   },
   "outputs": [
    {
     "data": {
      "text/plain": [
       "array([[1., 0., 0.],\n",
       "       [0., 1., 0.],\n",
       "       [0., 0., 1.]])"
      ]
     },
     "execution_count": 27,
     "metadata": {},
     "output_type": "execute_result"
    }
   ],
   "source": [
    "np.identity(3)  # Создание единичной матрицы"
   ]
  },
  {
   "cell_type": "code",
   "execution_count": 28,
   "id": "bb22c346-333e-4d5d-a3f0-52c124d80a2e",
   "metadata": {
    "id": "4lsPKvzzTXIJ",
    "outputId": "63f0622e-df8b-433f-a626-5fc1a4781928"
   },
   "outputs": [
    {
     "data": {
      "text/plain": [
       "array([ 2,  5,  8, 11, 14, 17])"
      ]
     },
     "execution_count": 28,
     "metadata": {},
     "output_type": "execute_result"
    },
    {
     "data": {
      "text/plain": [
       "array([ 1.,  4.,  7., 10.])"
      ]
     },
     "execution_count": 28,
     "metadata": {},
     "output_type": "execute_result"
    }
   ],
   "source": [
    "np.arange(2, 20, 3)  # Создание вектора с указанием границ и шага (как range)\n",
    "np.linspace(1, 10, 4)  # Создание вектора с указанием границ и количества значений между ними (границы включительно)"
   ]
  },
  {
   "cell_type": "markdown",
   "id": "5c0d7cf6-816c-489e-9628-164fa8288904",
   "metadata": {},
   "source": [
    "### 1.1.3. Изменение формы массива"
   ]
  },
  {
   "cell_type": "markdown",
   "id": "7d737ed1-a5a6-415a-8050-146a39a2e91f",
   "metadata": {},
   "source": [
    "Изменение формы происходит при помощи функции _np.reshape_\n",
    "<br>\n",
    "<img src=data/numpy_reshape.png> </img>"
   ]
  },
  {
   "cell_type": "code",
   "execution_count": 29,
   "id": "4f923893-5534-407f-bea6-dc90c29ea3df",
   "metadata": {
    "id": "61Y2rk2dTXIM",
    "outputId": "fe54c6a0-4f52-4b5c-b68e-9d3153b09df2"
   },
   "outputs": [
    {
     "data": {
      "text/plain": [
       "array([1., 2., 3., 4., 5., 6.])"
      ]
     },
     "execution_count": 29,
     "metadata": {},
     "output_type": "execute_result"
    },
    {
     "data": {
      "text/plain": [
       "array([[1., 2., 3.],\n",
       "       [4., 5., 6.]])"
      ]
     },
     "execution_count": 29,
     "metadata": {},
     "output_type": "execute_result"
    }
   ],
   "source": [
    "A = np.linspace(1, 6, 6)\n",
    "A\n",
    "A.reshape(2, 3)  # Изменение формы "
   ]
  },
  {
   "cell_type": "code",
   "execution_count": 30,
   "id": "c22b17b9-8f97-41e0-966c-d103fe1048e6",
   "metadata": {
    "id": "qkD4N50PTXIO",
    "outputId": "a74fdc12-6826-490a-b59c-ddc112c95d92"
   },
   "outputs": [
    {
     "data": {
      "text/plain": [
       "array([[1., 2.],\n",
       "       [3., 4.],\n",
       "       [5., 6.]])"
      ]
     },
     "execution_count": 30,
     "metadata": {},
     "output_type": "execute_result"
    }
   ],
   "source": [
    "C = A.reshape(3, -1)  # Автоматический подбор размеров матрицы\n",
    "C"
   ]
  },
  {
   "cell_type": "markdown",
   "id": "30526976-1319-4373-995e-b2129f9a8f83",
   "metadata": {},
   "source": [
    "Или при помощи транспонирования"
   ]
  },
  {
   "cell_type": "code",
   "execution_count": 31,
   "id": "f160be5f-8600-4fb5-97fb-3d40108f3167",
   "metadata": {
    "id": "9GLSdfMHTXIR",
    "outputId": "ca178764-a0e5-44aa-de33-7337bae9ae67"
   },
   "outputs": [
    {
     "data": {
      "text/plain": [
       "array([[1., 3., 5.],\n",
       "       [2., 4., 6.]])"
      ]
     },
     "execution_count": 31,
     "metadata": {},
     "output_type": "execute_result"
    },
    {
     "data": {
      "text/plain": [
       "array([[1., 3., 5.],\n",
       "       [2., 4., 6.]])"
      ]
     },
     "execution_count": 31,
     "metadata": {},
     "output_type": "execute_result"
    }
   ],
   "source": [
    "C.T  \n",
    "C.transpose()"
   ]
  },
  {
   "cell_type": "markdown",
   "id": "4c3c093f-a8ff-4b38-a9bc-1e28fbc968b3",
   "metadata": {
    "id": "ijesPIkQTXIT"
   },
   "source": [
    "<a id=\"1.2\"></a>\n",
    "## 1.2. Базовые операции над массивами"
   ]
  },
  {
   "cell_type": "markdown",
   "id": "6922a5db-7365-4a1e-9086-1ed7120a30f4",
   "metadata": {},
   "source": [
    "### 1.2.0. Операции с массивами одинаковой размерности"
   ]
  },
  {
   "cell_type": "markdown",
   "id": "bebf3287-0b76-4684-af36-d1f0451af22a",
   "metadata": {},
   "source": [
    "Сложение, умножение и другие математические операции производятся поэлементно:\n",
    "$$c_i = a_i + b_i$$"
   ]
  },
  {
   "cell_type": "code",
   "execution_count": 32,
   "id": "a1362aed-4836-4778-937f-3e39371168b5",
   "metadata": {},
   "outputs": [
    {
     "data": {
      "text/plain": [
       "array([[0, 1, 2],\n",
       "       [3, 4, 5],\n",
       "       [6, 7, 8]])"
      ]
     },
     "execution_count": 32,
     "metadata": {},
     "output_type": "execute_result"
    },
    {
     "data": {
      "text/plain": [
       "array([[ 8,  9, 10],\n",
       "       [11, 12, 13],\n",
       "       [14, 15, 16]])"
      ]
     },
     "execution_count": 32,
     "metadata": {},
     "output_type": "execute_result"
    },
    {
     "data": {
      "text/plain": [
       "array([[ 8, 10, 12],\n",
       "       [14, 16, 18],\n",
       "       [20, 22, 24]])"
      ]
     },
     "execution_count": 32,
     "metadata": {},
     "output_type": "execute_result"
    }
   ],
   "source": [
    "A = np.arange(9).reshape(3, 3)\n",
    "B = np.arange(8, 17).reshape(3, 3)\n",
    "A\n",
    "B\n",
    "\n",
    "C = A + B\n",
    "C"
   ]
  },
  {
   "cell_type": "code",
   "execution_count": 33,
   "id": "7930651b-e810-4944-819f-92c725c8636b",
   "metadata": {
    "id": "_TCpG55XTXIY",
    "outputId": "b8f84597-0534-47b1-ca1d-d26f0576d4fd"
   },
   "outputs": [
    {
     "data": {
      "text/plain": [
       "array([[0, 1, 2],\n",
       "       [3, 4, 5],\n",
       "       [6, 7, 8]])"
      ]
     },
     "execution_count": 33,
     "metadata": {},
     "output_type": "execute_result"
    },
    {
     "data": {
      "text/plain": [
       "array([[ 8,  9, 10],\n",
       "       [11, 12, 13],\n",
       "       [14, 15, 16]])"
      ]
     },
     "execution_count": 33,
     "metadata": {},
     "output_type": "execute_result"
    },
    {
     "data": {
      "text/plain": [
       "array([[  0,   9,  20],\n",
       "       [ 33,  48,  65],\n",
       "       [ 84, 105, 128]])"
      ]
     },
     "execution_count": 33,
     "metadata": {},
     "output_type": "execute_result"
    }
   ],
   "source": [
    "A = np.arange(9).reshape(3, 3)\n",
    "B = np.arange(8, 17).reshape(3, 3)\n",
    "A\n",
    "B\n",
    "A * B"
   ]
  },
  {
   "cell_type": "markdown",
   "id": "6834bd30-5650-4d78-809b-f71d427ad1ba",
   "metadata": {},
   "source": [
    "### 1.2.1 Операции с разными размерностями"
   ]
  },
  {
   "cell_type": "markdown",
   "id": "3553fee8-3484-4a7a-bc65-a90008681be8",
   "metadata": {},
   "source": [
    "По возможности происходит так, как показано на картинке.\n",
    "<img src=data/numpy_adding.jpg> </img>"
   ]
  },
  {
   "cell_type": "code",
   "execution_count": 34,
   "id": "d124c381-28ce-4a24-9685-1fb7782b193b",
   "metadata": {},
   "outputs": [
    {
     "data": {
      "text/plain": [
       "array([[ 0],\n",
       "       [10],\n",
       "       [20],\n",
       "       [30]])"
      ]
     },
     "execution_count": 34,
     "metadata": {},
     "output_type": "execute_result"
    },
    {
     "data": {
      "text/plain": [
       "array([1, 2, 3])"
      ]
     },
     "execution_count": 34,
     "metadata": {},
     "output_type": "execute_result"
    },
    {
     "data": {
      "text/plain": [
       "array([[ 1,  2,  3],\n",
       "       [11, 12, 13],\n",
       "       [21, 22, 23],\n",
       "       [31, 32, 33]])"
      ]
     },
     "execution_count": 34,
     "metadata": {},
     "output_type": "execute_result"
    }
   ],
   "source": [
    "A = np.arange(0, 31, 10).reshape(-1, 1)\n",
    "B = np.arange(1, 4)\n",
    "A\n",
    "B\n",
    "A + B"
   ]
  },
  {
   "cell_type": "code",
   "execution_count": 35,
   "id": "104beecf-135c-43df-8d60-a1c31751d464",
   "metadata": {},
   "outputs": [
    {
     "data": {
      "text/plain": [
       "array([[0, 1, 2],\n",
       "       [3, 4, 5],\n",
       "       [6, 7, 8]])"
      ]
     },
     "execution_count": 35,
     "metadata": {},
     "output_type": "execute_result"
    },
    {
     "data": {
      "text/plain": [
       "array([[ 5,  6,  7],\n",
       "       [ 8,  9, 10],\n",
       "       [11, 12, 13]])"
      ]
     },
     "execution_count": 35,
     "metadata": {},
     "output_type": "execute_result"
    }
   ],
   "source": [
    "A = np.arange(9).reshape(3, 3)\n",
    "A\n",
    "A + 5"
   ]
  },
  {
   "cell_type": "code",
   "execution_count": 36,
   "id": "a8183f86-498c-426c-94f3-add10103d856",
   "metadata": {},
   "outputs": [
    {
     "data": {
      "text/plain": [
       "array([[0, 1, 2],\n",
       "       [3, 4, 5],\n",
       "       [6, 7, 8]], dtype=int8)"
      ]
     },
     "execution_count": 36,
     "metadata": {},
     "output_type": "execute_result"
    },
    {
     "data": {
      "text/plain": [
       "array([[ 0,  2,  4],\n",
       "       [ 6,  8, 10],\n",
       "       [12, 14, 16]], dtype=int8)"
      ]
     },
     "execution_count": 36,
     "metadata": {},
     "output_type": "execute_result"
    },
    {
     "data": {
      "text/plain": [
       "array([[   0,   20,   40],\n",
       "       [  60,   80,  100],\n",
       "       [ 120, -116,  -96]], dtype=int8)"
      ]
     },
     "execution_count": 36,
     "metadata": {},
     "output_type": "execute_result"
    }
   ],
   "source": [
    "D = np.arange(9, dtype=np.int8).reshape(3, 3)\n",
    "D\n",
    "D * 2\n",
    "D * 20"
   ]
  },
  {
   "cell_type": "code",
   "execution_count": 37,
   "id": "1cbd2ed7-2c77-44a3-8631-d8777a22169e",
   "metadata": {},
   "outputs": [
    {
     "data": {
      "text/plain": [
       "array([[0, 1, 2],\n",
       "       [3, 4, 5],\n",
       "       [6, 7, 8]])"
      ]
     },
     "execution_count": 37,
     "metadata": {},
     "output_type": "execute_result"
    },
    {
     "data": {
      "text/plain": [
       "array([1, 2, 3])"
      ]
     },
     "execution_count": 37,
     "metadata": {},
     "output_type": "execute_result"
    },
    {
     "data": {
      "text/plain": [
       "array([[ 1,  3,  5],\n",
       "       [ 4,  6,  8],\n",
       "       [ 7,  9, 11]])"
      ]
     },
     "execution_count": 37,
     "metadata": {},
     "output_type": "execute_result"
    }
   ],
   "source": [
    "A = np.arange(9).reshape(3, 3)\n",
    "B = np.arange(1, 4)\n",
    "A\n",
    "B\n",
    "A + B"
   ]
  },
  {
   "cell_type": "markdown",
   "id": "46434d65-bf2b-45f8-9d21-38f2b44aa091",
   "metadata": {},
   "source": [
    "### 1.2.2. Матричное умножение"
   ]
  },
  {
   "cell_type": "code",
   "execution_count": 38,
   "id": "3c3c08aa-fe3b-47cf-80ee-1ad4d586c7b7",
   "metadata": {
    "id": "OANzABKsTXIa",
    "outputId": "8c819cd6-b3dd-4e0a-d482-105c987028b9"
   },
   "outputs": [
    {
     "data": {
      "text/plain": [
       "array([[0, 1, 2],\n",
       "       [3, 4, 5],\n",
       "       [6, 7, 8]])"
      ]
     },
     "execution_count": 38,
     "metadata": {},
     "output_type": "execute_result"
    },
    {
     "data": {
      "text/plain": [
       "array([[ 8,  9, 10],\n",
       "       [11, 12, 13],\n",
       "       [14, 15, 16]])"
      ]
     },
     "execution_count": 38,
     "metadata": {},
     "output_type": "execute_result"
    }
   ],
   "source": [
    "A = np.arange(9).reshape(3, 3)\n",
    "B = np.arange(8, 17).reshape(3, 3)\n",
    "A\n",
    "B"
   ]
  },
  {
   "cell_type": "code",
   "execution_count": 39,
   "id": "f3bbab7c-2882-41ea-9ab5-9431e902a3ca",
   "metadata": {},
   "outputs": [
    {
     "data": {
      "text/plain": [
       "array([[ 39,  42,  45],\n",
       "       [138, 150, 162],\n",
       "       [237, 258, 279]])"
      ]
     },
     "execution_count": 39,
     "metadata": {},
     "output_type": "execute_result"
    },
    {
     "data": {
      "text/plain": [
       "array([[ 39,  42,  45],\n",
       "       [138, 150, 162],\n",
       "       [237, 258, 279]])"
      ]
     },
     "execution_count": 39,
     "metadata": {},
     "output_type": "execute_result"
    }
   ],
   "source": [
    "A.dot(B)\n",
    "A@B"
   ]
  },
  {
   "cell_type": "markdown",
   "id": "487382eb-6da5-4daf-9747-add723341588",
   "metadata": {
    "id": "1DEg0vYjTXIe"
   },
   "source": [
    "### 1.2.3 Индексация и срез"
   ]
  },
  {
   "cell_type": "code",
   "execution_count": 40,
   "id": "69e43a85-48c4-44d2-be38-9c2414981276",
   "metadata": {
    "id": "MBiMed6fTXIf",
    "outputId": "00f03be1-6906-4717-8213-d61dc2afadbf"
   },
   "outputs": [
    {
     "data": {
      "text/plain": [
       "array([[0, 1, 2],\n",
       "       [3, 4, 5],\n",
       "       [6, 7, 8]])"
      ]
     },
     "execution_count": 40,
     "metadata": {},
     "output_type": "execute_result"
    },
    {
     "data": {
      "text/plain": [
       "array([1, 4, 7])"
      ]
     },
     "execution_count": 40,
     "metadata": {},
     "output_type": "execute_result"
    },
    {
     "data": {
      "text/plain": [
       "array([[1, 2],\n",
       "       [4, 5],\n",
       "       [7, 8]])"
      ]
     },
     "execution_count": 40,
     "metadata": {},
     "output_type": "execute_result"
    }
   ],
   "source": [
    "A = np.arange(9).reshape(3, 3)\n",
    "A[:]\n",
    "A[:, 1]\n",
    "A[:, 1:3]"
   ]
  },
  {
   "cell_type": "code",
   "execution_count": 41,
   "id": "5f5c778a-ed4e-4128-a136-41ff5782ebb8",
   "metadata": {
    "id": "GJmDwm02TXIk",
    "outputId": "e6081cf8-5ecc-46f3-b0eb-1f648f5dbd89"
   },
   "outputs": [
    {
     "data": {
      "text/plain": [
       "array([[ 0,  1,  2,  3,  4,  5,  6,  7,  8],\n",
       "       [ 9, 10, 11, 12, 13, 14, 15, 16, 17],\n",
       "       [18, 19, 20, 21, 22, 23, 24, 25, 26],\n",
       "       [27, 28, 29, 30, 31, 32, 33, 34, 35],\n",
       "       [36, 37, 38, 39, 40, 41, 42, 43, 44],\n",
       "       [45, 46, 47, 48, 49, 50, 51, 52, 53],\n",
       "       [54, 55, 56, 57, 58, 59, 60, 61, 62],\n",
       "       [63, 64, 65, 66, 67, 68, 69, 70, 71],\n",
       "       [72, 73, 74, 75, 76, 77, 78, 79, 80]])"
      ]
     },
     "execution_count": 41,
     "metadata": {},
     "output_type": "execute_result"
    }
   ],
   "source": [
    "A = np.arange(81).reshape(9, -1)\n",
    "A"
   ]
  },
  {
   "cell_type": "code",
   "execution_count": 42,
   "id": "89e5d141-f1e7-4213-8198-7ae885d15e34",
   "metadata": {
    "id": "yUFvu6o_TXIm",
    "outputId": "ea9a9051-7e97-4151-d8ab-3e0a6f36674b"
   },
   "outputs": [
    {
     "data": {
      "text/plain": [
       "array([[ 2,  3,  4,  5],\n",
       "       [11, 12, 13, 14],\n",
       "       [20, 21, 22, 23],\n",
       "       [29, 30, 31, 32],\n",
       "       [38, 39, 40, 41],\n",
       "       [47, 48, 49, 50],\n",
       "       [56, 57, 58, 59],\n",
       "       [65, 66, 67, 68],\n",
       "       [74, 75, 76, 77]])"
      ]
     },
     "execution_count": 42,
     "metadata": {},
     "output_type": "execute_result"
    }
   ],
   "source": [
    "A[:, 2:6]"
   ]
  },
  {
   "cell_type": "code",
   "execution_count": 43,
   "id": "ad20e51c-d04f-40cb-84b5-a204bffa6860",
   "metadata": {
    "id": "Jq_5yQ3ATXIo",
    "outputId": "b00451e6-3aec-40d5-fdf2-26f7bdd5c46d"
   },
   "outputs": [
    {
     "data": {
      "text/plain": [
       "array([[ 2,  5],\n",
       "       [11, 14],\n",
       "       [20, 23],\n",
       "       [29, 32],\n",
       "       [38, 41],\n",
       "       [47, 50],\n",
       "       [56, 59],\n",
       "       [65, 68],\n",
       "       [74, 77]])"
      ]
     },
     "execution_count": 43,
     "metadata": {},
     "output_type": "execute_result"
    }
   ],
   "source": [
    "A[:, 2:6:3] "
   ]
  },
  {
   "cell_type": "code",
   "execution_count": 44,
   "id": "e3e81bc0-9f56-4ce4-91d6-6323960f27bb",
   "metadata": {
    "id": "sLqZg_bcTXIq",
    "outputId": "ecc6e8b8-d156-46e9-ea59-a09785e39f51"
   },
   "outputs": [
    {
     "data": {
      "text/plain": [
       "array([[0, 1, 2, 0, 1, 2, 0, 1, 2],\n",
       "       [0, 1, 2, 0, 1, 2, 0, 1, 2],\n",
       "       [0, 1, 2, 0, 1, 2, 0, 1, 2],\n",
       "       [0, 1, 2, 0, 1, 2, 0, 1, 2],\n",
       "       [0, 1, 2, 0, 1, 2, 0, 1, 2],\n",
       "       [0, 1, 2, 0, 1, 2, 0, 1, 2],\n",
       "       [0, 1, 2, 0, 1, 2, 0, 1, 2],\n",
       "       [0, 1, 2, 0, 1, 2, 0, 1, 2],\n",
       "       [0, 1, 2, 0, 1, 2, 0, 1, 2]], dtype=int32)"
      ]
     },
     "execution_count": 44,
     "metadata": {},
     "output_type": "execute_result"
    },
    {
     "data": {
      "text/plain": [
       "array([[ True, False, False,  True, False, False,  True, False, False],\n",
       "       [ True, False, False,  True, False, False,  True, False, False],\n",
       "       [ True, False, False,  True, False, False,  True, False, False],\n",
       "       [ True, False, False,  True, False, False,  True, False, False],\n",
       "       [ True, False, False,  True, False, False,  True, False, False],\n",
       "       [ True, False, False,  True, False, False,  True, False, False],\n",
       "       [ True, False, False,  True, False, False,  True, False, False],\n",
       "       [ True, False, False,  True, False, False,  True, False, False],\n",
       "       [ True, False, False,  True, False, False,  True, False, False]])"
      ]
     },
     "execution_count": 44,
     "metadata": {},
     "output_type": "execute_result"
    },
    {
     "data": {
      "text/plain": [
       "array([ 0,  3,  6,  9, 12, 15, 18, 21, 24, 27, 30, 33, 36, 39, 42, 45, 48,\n",
       "       51, 54, 57, 60, 63, 66, 69, 72, 75, 78])"
      ]
     },
     "execution_count": 44,
     "metadata": {},
     "output_type": "execute_result"
    }
   ],
   "source": [
    "# Маски\n",
    "A % 3\n",
    "A % 3 == 0\n",
    "A[A % 3 == 0]"
   ]
  },
  {
   "cell_type": "markdown",
   "id": "75f2c928-b063-4c8b-abbd-bd4c8f838374",
   "metadata": {},
   "source": [
    "### 1.2.4. Остальное"
   ]
  },
  {
   "cell_type": "markdown",
   "id": "98ed9a78-bdef-46f1-8784-9b42d77eb07c",
   "metadata": {},
   "source": [
    "Рассмотрим остальные приятные операции, такие как:\n",
    "- минимум\n",
    "- максимум\n",
    "- сумма\n",
    "- среднее\n",
    "- стд\n",
    "- поэлементые математические операции"
   ]
  },
  {
   "cell_type": "code",
   "execution_count": 45,
   "id": "03023c08-c754-428f-8018-ee8089d7cd16",
   "metadata": {},
   "outputs": [
    {
     "data": {
      "text/plain": [
       "array([[ 39,  42,  45],\n",
       "       [138, 150, 162],\n",
       "       [237, 258, 279]])"
      ]
     },
     "execution_count": 45,
     "metadata": {},
     "output_type": "execute_result"
    },
    {
     "data": {
      "text/plain": [
       "array([ 45, 162, 279])"
      ]
     },
     "execution_count": 45,
     "metadata": {},
     "output_type": "execute_result"
    },
    {
     "data": {
      "text/plain": [
       "array([39, 42, 45])"
      ]
     },
     "execution_count": 45,
     "metadata": {},
     "output_type": "execute_result"
    }
   ],
   "source": [
    "A = np.arange(9).reshape(3, 3)\n",
    "B = np.arange(8, 17).reshape(3, 3)\n",
    "D = A@B\n",
    "D\n",
    "D.max(axis=1)\n",
    "D.min(axis=0)"
   ]
  },
  {
   "cell_type": "code",
   "execution_count": 46,
   "id": "87bcbda1-1bdc-4ba6-a0d1-39bd73ec0f98",
   "metadata": {},
   "outputs": [
    {
     "data": {
      "text/plain": [
       "1350"
      ]
     },
     "execution_count": 46,
     "metadata": {},
     "output_type": "execute_result"
    },
    {
     "data": {
      "text/plain": [
       "array([414, 450, 486])"
      ]
     },
     "execution_count": 46,
     "metadata": {},
     "output_type": "execute_result"
    },
    {
     "data": {
      "text/plain": [
       "array([414, 450, 486])"
      ]
     },
     "execution_count": 46,
     "metadata": {},
     "output_type": "execute_result"
    }
   ],
   "source": [
    "D.sum()\n",
    "D.sum(axis=0)\n",
    "np.sum(D, axis=0)"
   ]
  },
  {
   "cell_type": "code",
   "execution_count": 47,
   "id": "6cb54cb4-12ee-416a-ab78-448cdbb68ba6",
   "metadata": {},
   "outputs": [
    {
     "data": {
      "text/plain": [
       "150.0"
      ]
     },
     "execution_count": 47,
     "metadata": {},
     "output_type": "execute_result"
    },
    {
     "data": {
      "text/plain": [
       "88.92693630166283"
      ]
     },
     "execution_count": 47,
     "metadata": {},
     "output_type": "execute_result"
    }
   ],
   "source": [
    "D.mean()\n",
    "D.std()"
   ]
  },
  {
   "cell_type": "code",
   "execution_count": 48,
   "id": "c3811b04-f557-4647-a74f-ca017b2bba9b",
   "metadata": {},
   "outputs": [
    {
     "data": {
      "text/plain": [
       "array([[0, 1, 2],\n",
       "       [3, 4, 5],\n",
       "       [6, 7, 8]])"
      ]
     },
     "execution_count": 48,
     "metadata": {},
     "output_type": "execute_result"
    },
    {
     "data": {
      "text/plain": [
       "array([[ 0.        ,  0.84147098,  0.90929743],\n",
       "       [ 0.14112001, -0.7568025 , -0.95892427],\n",
       "       [-0.2794155 ,  0.6569866 ,  0.98935825]])"
      ]
     },
     "execution_count": 48,
     "metadata": {},
     "output_type": "execute_result"
    },
    {
     "name": "stderr",
     "output_type": "stream",
     "text": [
      "C:\\Users\\kitro\\AppData\\Local\\Temp\\ipykernel_24744\\2077385271.py:4: RuntimeWarning: divide by zero encountered in log\n",
      "  np.log(A)\n"
     ]
    },
    {
     "data": {
      "text/plain": [
       "array([[      -inf, 0.        , 0.69314718],\n",
       "       [1.09861229, 1.38629436, 1.60943791],\n",
       "       [1.79175947, 1.94591015, 2.07944154]])"
      ]
     },
     "execution_count": 48,
     "metadata": {},
     "output_type": "execute_result"
    },
    {
     "data": {
      "text/plain": [
       "array([[  1.,   2.,   4.],\n",
       "       [  8.,  16.,  32.],\n",
       "       [ 64., 128., 256.]])"
      ]
     },
     "execution_count": 48,
     "metadata": {},
     "output_type": "execute_result"
    }
   ],
   "source": [
    "A = np.arange(9).reshape(3, 3)\n",
    "A\n",
    "np.sin(A)\n",
    "np.log(A)\n",
    "np.exp2(A)"
   ]
  },
  {
   "cell_type": "markdown",
   "id": "9b735378-844e-44aa-9c2a-1d68fcb33c15",
   "metadata": {},
   "source": [
    "<a id=\"1.3\"></a>\n",
    "## 1.3. Векторизация"
   ]
  },
  {
   "cell_type": "markdown",
   "id": "d065ef9a-b538-40ef-954a-7e78e267b1ef",
   "metadata": {},
   "source": [
    "### 1.3.0. Математические операции с массивами"
   ]
  },
  {
   "cell_type": "code",
   "execution_count": 14,
   "id": "a5cf3cf3-0369-4000-9cbd-3eee51c9df45",
   "metadata": {},
   "outputs": [
    {
     "name": "stdout",
     "output_type": "stream",
     "text": [
      "\n",
      "100000\n",
      "**list\n",
      "CPU times: total: 0 ns\n",
      "Wall time: 6.49 ms\n",
      "**create_ndarray\n",
      "CPU times: total: 0 ns\n",
      "Wall time: 14.3 ms\n",
      "**add to ndarray\n",
      "CPU times: total: 0 ns\n",
      "Wall time: 1 ms\n",
      "\n",
      "1000000\n",
      "**list\n",
      "CPU times: total: 15.6 ms\n",
      "Wall time: 73 ms\n",
      "**create_ndarray\n",
      "CPU times: total: 0 ns\n",
      "Wall time: 24.5 ms\n",
      "**add to ndarray\n",
      "CPU times: total: 0 ns\n",
      "Wall time: 0 ns\n",
      "\n",
      "10000000\n",
      "**list\n",
      "CPU times: total: 156 ms\n",
      "Wall time: 729 ms\n",
      "**create_ndarray\n",
      "CPU times: total: 46.9 ms\n",
      "Wall time: 259 ms\n",
      "**add to ndarray\n",
      "CPU times: total: 0 ns\n",
      "Wall time: 3 ms\n",
      "\n",
      "100000000\n",
      "**list\n",
      "CPU times: total: 2.09 s\n",
      "Wall time: 7.87 s\n",
      "**create_ndarray\n",
      "CPU times: total: 891 ms\n",
      "Wall time: 3.01 s\n",
      "**add to ndarray\n",
      "CPU times: total: 15.6 ms\n",
      "Wall time: 38.6 ms\n",
      "\n",
      "1000000000\n",
      "**list\n",
      "CPU times: total: 15 s\n",
      "Wall time: 1min 14s\n",
      "**create_ndarray\n",
      "CPU times: total: 4.45 s\n",
      "Wall time: 26.2 s\n",
      "**add to ndarray\n",
      "CPU times: total: 156 ms\n",
      "Wall time: 292 ms\n"
     ]
    }
   ],
   "source": [
    "for p in range(5,10):\n",
    "    n = int(10**p)\n",
    "    l = list(range(n))\n",
    "    print(f\"\\n{n}\\n**list\")\n",
    "    %time for i in range(n): l[i] += 17\n",
    "    print(\"**create_ndarray\")\n",
    "    %time arr = np.array(l)\n",
    "    print(\"**add to ndarray\")\n",
    "    %time arr += 17"
   ]
  },
  {
   "cell_type": "code",
   "execution_count": 30,
   "id": "aff0133f-c567-4d9f-ba34-ca4348354b4b",
   "metadata": {},
   "outputs": [
    {
     "data": {
      "application/vnd.plotly.v1+json": {
       "config": {
        "linkText": "Export to plot.ly",
        "plotlyServerURL": "https://plot.ly",
        "showLink": false
       },
       "data": [
        {
         "name": "list times",
         "type": "scatter",
         "x": [
          5,
          6,
          7,
          8,
          9
         ],
         "y": [
          0,
          0.0156,
          0.156,
          2.09,
          15
         ]
        },
        {
         "name": "ndarray times",
         "type": "scatter",
         "x": [
          5,
          6,
          7,
          8,
          9
         ],
         "y": [
          0,
          0,
          0.0469,
          0.9066,
          4.606
         ]
        }
       ],
       "layout": {
        "height": 600,
        "template": {
         "data": {
          "bar": [
           {
            "error_x": {
             "color": "#2a3f5f"
            },
            "error_y": {
             "color": "#2a3f5f"
            },
            "marker": {
             "line": {
              "color": "#E5ECF6",
              "width": 0.5
             },
             "pattern": {
              "fillmode": "overlay",
              "size": 10,
              "solidity": 0.2
             }
            },
            "type": "bar"
           }
          ],
          "barpolar": [
           {
            "marker": {
             "line": {
              "color": "#E5ECF6",
              "width": 0.5
             },
             "pattern": {
              "fillmode": "overlay",
              "size": 10,
              "solidity": 0.2
             }
            },
            "type": "barpolar"
           }
          ],
          "carpet": [
           {
            "aaxis": {
             "endlinecolor": "#2a3f5f",
             "gridcolor": "white",
             "linecolor": "white",
             "minorgridcolor": "white",
             "startlinecolor": "#2a3f5f"
            },
            "baxis": {
             "endlinecolor": "#2a3f5f",
             "gridcolor": "white",
             "linecolor": "white",
             "minorgridcolor": "white",
             "startlinecolor": "#2a3f5f"
            },
            "type": "carpet"
           }
          ],
          "choropleth": [
           {
            "colorbar": {
             "outlinewidth": 0,
             "ticks": ""
            },
            "type": "choropleth"
           }
          ],
          "contour": [
           {
            "colorbar": {
             "outlinewidth": 0,
             "ticks": ""
            },
            "colorscale": [
             [
              0,
              "#0d0887"
             ],
             [
              0.1111111111111111,
              "#46039f"
             ],
             [
              0.2222222222222222,
              "#7201a8"
             ],
             [
              0.3333333333333333,
              "#9c179e"
             ],
             [
              0.4444444444444444,
              "#bd3786"
             ],
             [
              0.5555555555555556,
              "#d8576b"
             ],
             [
              0.6666666666666666,
              "#ed7953"
             ],
             [
              0.7777777777777778,
              "#fb9f3a"
             ],
             [
              0.8888888888888888,
              "#fdca26"
             ],
             [
              1,
              "#f0f921"
             ]
            ],
            "type": "contour"
           }
          ],
          "contourcarpet": [
           {
            "colorbar": {
             "outlinewidth": 0,
             "ticks": ""
            },
            "type": "contourcarpet"
           }
          ],
          "heatmap": [
           {
            "colorbar": {
             "outlinewidth": 0,
             "ticks": ""
            },
            "colorscale": [
             [
              0,
              "#0d0887"
             ],
             [
              0.1111111111111111,
              "#46039f"
             ],
             [
              0.2222222222222222,
              "#7201a8"
             ],
             [
              0.3333333333333333,
              "#9c179e"
             ],
             [
              0.4444444444444444,
              "#bd3786"
             ],
             [
              0.5555555555555556,
              "#d8576b"
             ],
             [
              0.6666666666666666,
              "#ed7953"
             ],
             [
              0.7777777777777778,
              "#fb9f3a"
             ],
             [
              0.8888888888888888,
              "#fdca26"
             ],
             [
              1,
              "#f0f921"
             ]
            ],
            "type": "heatmap"
           }
          ],
          "heatmapgl": [
           {
            "colorbar": {
             "outlinewidth": 0,
             "ticks": ""
            },
            "colorscale": [
             [
              0,
              "#0d0887"
             ],
             [
              0.1111111111111111,
              "#46039f"
             ],
             [
              0.2222222222222222,
              "#7201a8"
             ],
             [
              0.3333333333333333,
              "#9c179e"
             ],
             [
              0.4444444444444444,
              "#bd3786"
             ],
             [
              0.5555555555555556,
              "#d8576b"
             ],
             [
              0.6666666666666666,
              "#ed7953"
             ],
             [
              0.7777777777777778,
              "#fb9f3a"
             ],
             [
              0.8888888888888888,
              "#fdca26"
             ],
             [
              1,
              "#f0f921"
             ]
            ],
            "type": "heatmapgl"
           }
          ],
          "histogram": [
           {
            "marker": {
             "pattern": {
              "fillmode": "overlay",
              "size": 10,
              "solidity": 0.2
             }
            },
            "type": "histogram"
           }
          ],
          "histogram2d": [
           {
            "colorbar": {
             "outlinewidth": 0,
             "ticks": ""
            },
            "colorscale": [
             [
              0,
              "#0d0887"
             ],
             [
              0.1111111111111111,
              "#46039f"
             ],
             [
              0.2222222222222222,
              "#7201a8"
             ],
             [
              0.3333333333333333,
              "#9c179e"
             ],
             [
              0.4444444444444444,
              "#bd3786"
             ],
             [
              0.5555555555555556,
              "#d8576b"
             ],
             [
              0.6666666666666666,
              "#ed7953"
             ],
             [
              0.7777777777777778,
              "#fb9f3a"
             ],
             [
              0.8888888888888888,
              "#fdca26"
             ],
             [
              1,
              "#f0f921"
             ]
            ],
            "type": "histogram2d"
           }
          ],
          "histogram2dcontour": [
           {
            "colorbar": {
             "outlinewidth": 0,
             "ticks": ""
            },
            "colorscale": [
             [
              0,
              "#0d0887"
             ],
             [
              0.1111111111111111,
              "#46039f"
             ],
             [
              0.2222222222222222,
              "#7201a8"
             ],
             [
              0.3333333333333333,
              "#9c179e"
             ],
             [
              0.4444444444444444,
              "#bd3786"
             ],
             [
              0.5555555555555556,
              "#d8576b"
             ],
             [
              0.6666666666666666,
              "#ed7953"
             ],
             [
              0.7777777777777778,
              "#fb9f3a"
             ],
             [
              0.8888888888888888,
              "#fdca26"
             ],
             [
              1,
              "#f0f921"
             ]
            ],
            "type": "histogram2dcontour"
           }
          ],
          "mesh3d": [
           {
            "colorbar": {
             "outlinewidth": 0,
             "ticks": ""
            },
            "type": "mesh3d"
           }
          ],
          "parcoords": [
           {
            "line": {
             "colorbar": {
              "outlinewidth": 0,
              "ticks": ""
             }
            },
            "type": "parcoords"
           }
          ],
          "pie": [
           {
            "automargin": true,
            "type": "pie"
           }
          ],
          "scatter": [
           {
            "fillpattern": {
             "fillmode": "overlay",
             "size": 10,
             "solidity": 0.2
            },
            "type": "scatter"
           }
          ],
          "scatter3d": [
           {
            "line": {
             "colorbar": {
              "outlinewidth": 0,
              "ticks": ""
             }
            },
            "marker": {
             "colorbar": {
              "outlinewidth": 0,
              "ticks": ""
             }
            },
            "type": "scatter3d"
           }
          ],
          "scattercarpet": [
           {
            "marker": {
             "colorbar": {
              "outlinewidth": 0,
              "ticks": ""
             }
            },
            "type": "scattercarpet"
           }
          ],
          "scattergeo": [
           {
            "marker": {
             "colorbar": {
              "outlinewidth": 0,
              "ticks": ""
             }
            },
            "type": "scattergeo"
           }
          ],
          "scattergl": [
           {
            "marker": {
             "colorbar": {
              "outlinewidth": 0,
              "ticks": ""
             }
            },
            "type": "scattergl"
           }
          ],
          "scattermapbox": [
           {
            "marker": {
             "colorbar": {
              "outlinewidth": 0,
              "ticks": ""
             }
            },
            "type": "scattermapbox"
           }
          ],
          "scatterpolar": [
           {
            "marker": {
             "colorbar": {
              "outlinewidth": 0,
              "ticks": ""
             }
            },
            "type": "scatterpolar"
           }
          ],
          "scatterpolargl": [
           {
            "marker": {
             "colorbar": {
              "outlinewidth": 0,
              "ticks": ""
             }
            },
            "type": "scatterpolargl"
           }
          ],
          "scatterternary": [
           {
            "marker": {
             "colorbar": {
              "outlinewidth": 0,
              "ticks": ""
             }
            },
            "type": "scatterternary"
           }
          ],
          "surface": [
           {
            "colorbar": {
             "outlinewidth": 0,
             "ticks": ""
            },
            "colorscale": [
             [
              0,
              "#0d0887"
             ],
             [
              0.1111111111111111,
              "#46039f"
             ],
             [
              0.2222222222222222,
              "#7201a8"
             ],
             [
              0.3333333333333333,
              "#9c179e"
             ],
             [
              0.4444444444444444,
              "#bd3786"
             ],
             [
              0.5555555555555556,
              "#d8576b"
             ],
             [
              0.6666666666666666,
              "#ed7953"
             ],
             [
              0.7777777777777778,
              "#fb9f3a"
             ],
             [
              0.8888888888888888,
              "#fdca26"
             ],
             [
              1,
              "#f0f921"
             ]
            ],
            "type": "surface"
           }
          ],
          "table": [
           {
            "cells": {
             "fill": {
              "color": "#EBF0F8"
             },
             "line": {
              "color": "white"
             }
            },
            "header": {
             "fill": {
              "color": "#C8D4E3"
             },
             "line": {
              "color": "white"
             }
            },
            "type": "table"
           }
          ]
         },
         "layout": {
          "annotationdefaults": {
           "arrowcolor": "#2a3f5f",
           "arrowhead": 0,
           "arrowwidth": 1
          },
          "autotypenumbers": "strict",
          "coloraxis": {
           "colorbar": {
            "outlinewidth": 0,
            "ticks": ""
           }
          },
          "colorscale": {
           "diverging": [
            [
             0,
             "#8e0152"
            ],
            [
             0.1,
             "#c51b7d"
            ],
            [
             0.2,
             "#de77ae"
            ],
            [
             0.3,
             "#f1b6da"
            ],
            [
             0.4,
             "#fde0ef"
            ],
            [
             0.5,
             "#f7f7f7"
            ],
            [
             0.6,
             "#e6f5d0"
            ],
            [
             0.7,
             "#b8e186"
            ],
            [
             0.8,
             "#7fbc41"
            ],
            [
             0.9,
             "#4d9221"
            ],
            [
             1,
             "#276419"
            ]
           ],
           "sequential": [
            [
             0,
             "#0d0887"
            ],
            [
             0.1111111111111111,
             "#46039f"
            ],
            [
             0.2222222222222222,
             "#7201a8"
            ],
            [
             0.3333333333333333,
             "#9c179e"
            ],
            [
             0.4444444444444444,
             "#bd3786"
            ],
            [
             0.5555555555555556,
             "#d8576b"
            ],
            [
             0.6666666666666666,
             "#ed7953"
            ],
            [
             0.7777777777777778,
             "#fb9f3a"
            ],
            [
             0.8888888888888888,
             "#fdca26"
            ],
            [
             1,
             "#f0f921"
            ]
           ],
           "sequentialminus": [
            [
             0,
             "#0d0887"
            ],
            [
             0.1111111111111111,
             "#46039f"
            ],
            [
             0.2222222222222222,
             "#7201a8"
            ],
            [
             0.3333333333333333,
             "#9c179e"
            ],
            [
             0.4444444444444444,
             "#bd3786"
            ],
            [
             0.5555555555555556,
             "#d8576b"
            ],
            [
             0.6666666666666666,
             "#ed7953"
            ],
            [
             0.7777777777777778,
             "#fb9f3a"
            ],
            [
             0.8888888888888888,
             "#fdca26"
            ],
            [
             1,
             "#f0f921"
            ]
           ]
          },
          "colorway": [
           "#636efa",
           "#EF553B",
           "#00cc96",
           "#ab63fa",
           "#FFA15A",
           "#19d3f3",
           "#FF6692",
           "#B6E880",
           "#FF97FF",
           "#FECB52"
          ],
          "font": {
           "color": "#2a3f5f"
          },
          "geo": {
           "bgcolor": "white",
           "lakecolor": "white",
           "landcolor": "#E5ECF6",
           "showlakes": true,
           "showland": true,
           "subunitcolor": "white"
          },
          "hoverlabel": {
           "align": "left"
          },
          "hovermode": "closest",
          "mapbox": {
           "style": "light"
          },
          "paper_bgcolor": "white",
          "plot_bgcolor": "#E5ECF6",
          "polar": {
           "angularaxis": {
            "gridcolor": "white",
            "linecolor": "white",
            "ticks": ""
           },
           "bgcolor": "#E5ECF6",
           "radialaxis": {
            "gridcolor": "white",
            "linecolor": "white",
            "ticks": ""
           }
          },
          "scene": {
           "xaxis": {
            "backgroundcolor": "#E5ECF6",
            "gridcolor": "white",
            "gridwidth": 2,
            "linecolor": "white",
            "showbackground": true,
            "ticks": "",
            "zerolinecolor": "white"
           },
           "yaxis": {
            "backgroundcolor": "#E5ECF6",
            "gridcolor": "white",
            "gridwidth": 2,
            "linecolor": "white",
            "showbackground": true,
            "ticks": "",
            "zerolinecolor": "white"
           },
           "zaxis": {
            "backgroundcolor": "#E5ECF6",
            "gridcolor": "white",
            "gridwidth": 2,
            "linecolor": "white",
            "showbackground": true,
            "ticks": "",
            "zerolinecolor": "white"
           }
          },
          "shapedefaults": {
           "line": {
            "color": "#2a3f5f"
           }
          },
          "ternary": {
           "aaxis": {
            "gridcolor": "white",
            "linecolor": "white",
            "ticks": ""
           },
           "baxis": {
            "gridcolor": "white",
            "linecolor": "white",
            "ticks": ""
           },
           "bgcolor": "#E5ECF6",
           "caxis": {
            "gridcolor": "white",
            "linecolor": "white",
            "ticks": ""
           }
          },
          "title": {
           "x": 0.05
          },
          "xaxis": {
           "automargin": true,
           "gridcolor": "white",
           "linecolor": "white",
           "ticks": "",
           "title": {
            "standoff": 15
           },
           "zerolinecolor": "white",
           "zerolinewidth": 2
          },
          "yaxis": {
           "automargin": true,
           "gridcolor": "white",
           "linecolor": "white",
           "ticks": "",
           "title": {
            "standoff": 15
           },
           "zerolinecolor": "white",
           "zerolinewidth": 2
          }
         }
        },
        "width": 800,
        "xaxis": {
         "anchor": "y",
         "autorange": true,
         "domain": [
          0,
          1
         ],
         "range": [
          4.744689299186024,
          9.255310700813977
         ],
         "type": "linear"
        },
        "yaxis": {
         "anchor": "x",
         "autorange": true,
         "domain": [
          0,
          1
         ],
         "range": [
          -1.0020242914979758,
          16.002024291497975
         ],
         "type": "linear"
        }
       }
      },
      "image/png": "[encoded data removed]",
      "text/html": [
       "<div>                            <div id=\"e99c6ae2-206a-427e-b44e-b3f5cca05d9b\" class=\"plotly-graph-div\" style=\"height:600px; width:800px;\"></div>            <script type=\"text/javascript\">                require([\"plotly\"], function(Plotly) {                    window.PLOTLYENV=window.PLOTLYENV || {};                                    if (document.getElementById(\"e99c6ae2-206a-427e-b44e-b3f5cca05d9b\")) {                    Plotly.newPlot(                        \"e99c6ae2-206a-427e-b44e-b3f5cca05d9b\",                        [{\"name\":\"list times\",\"x\":[5,6,7,8,9],\"y\":[0,0.0156,0.156,2.09,15],\"type\":\"scatter\"},{\"name\":\"ndarray times\",\"x\":[5,6,7,8,9],\"y\":[0,0,0.0469,0.9066,4.606],\"type\":\"scatter\"}],                        {\"height\":600,\"template\":{\"data\":{\"barpolar\":[{\"marker\":{\"line\":{\"color\":\"#E5ECF6\",\"width\":0.5},\"pattern\":{\"fillmode\":\"overlay\",\"size\":10,\"solidity\":0.2}},\"type\":\"barpolar\"}],\"bar\":[{\"error_x\":{\"color\":\"#2a3f5f\"},\"error_y\":{\"color\":\"#2a3f5f\"},\"marker\":{\"line\":{\"color\":\"#E5ECF6\",\"width\":0.5},\"pattern\":{\"fillmode\":\"overlay\",\"size\":10,\"solidity\":0.2}},\"type\":\"bar\"}],\"carpet\":[{\"aaxis\":{\"endlinecolor\":\"#2a3f5f\",\"gridcolor\":\"white\",\"linecolor\":\"white\",\"minorgridcolor\":\"white\",\"startlinecolor\":\"#2a3f5f\"},\"baxis\":{\"endlinecolor\":\"#2a3f5f\",\"gridcolor\":\"white\",\"linecolor\":\"white\",\"minorgridcolor\":\"white\",\"startlinecolor\":\"#2a3f5f\"},\"type\":\"carpet\"}],\"choropleth\":[{\"colorbar\":{\"outlinewidth\":0,\"ticks\":\"\"},\"type\":\"choropleth\"}],\"contourcarpet\":[{\"colorbar\":{\"outlinewidth\":0,\"ticks\":\"\"},\"type\":\"contourcarpet\"}],\"contour\":[{\"colorbar\":{\"outlinewidth\":0,\"ticks\":\"\"},\"colorscale\":[[0.0,\"#0d0887\"],[0.1111111111111111,\"#46039f\"],[0.2222222222222222,\"#7201a8\"],[0.3333333333333333,\"#9c179e\"],[0.4444444444444444,\"#bd3786\"],[0.5555555555555556,\"#d8576b\"],[0.6666666666666666,\"#ed7953\"],[0.7777777777777778,\"#fb9f3a\"],[0.8888888888888888,\"#fdca26\"],[1.0,\"#f0f921\"]],\"type\":\"contour\"}],\"heatmapgl\":[{\"colorbar\":{\"outlinewidth\":0,\"ticks\":\"\"},\"colorscale\":[[0.0,\"#0d0887\"],[0.1111111111111111,\"#46039f\"],[0.2222222222222222,\"#7201a8\"],[0.3333333333333333,\"#9c179e\"],[0.4444444444444444,\"#bd3786\"],[0.5555555555555556,\"#d8576b\"],[0.6666666666666666,\"#ed7953\"],[0.7777777777777778,\"#fb9f3a\"],[0.8888888888888888,\"#fdca26\"],[1.0,\"#f0f921\"]],\"type\":\"heatmapgl\"}],\"heatmap\":[{\"colorbar\":{\"outlinewidth\":0,\"ticks\":\"\"},\"colorscale\":[[0.0,\"#0d0887\"],[0.1111111111111111,\"#46039f\"],[0.2222222222222222,\"#7201a8\"],[0.3333333333333333,\"#9c179e\"],[0.4444444444444444,\"#bd3786\"],[0.5555555555555556,\"#d8576b\"],[0.6666666666666666,\"#ed7953\"],[0.7777777777777778,\"#fb9f3a\"],[0.8888888888888888,\"#fdca26\"],[1.0,\"#f0f921\"]],\"type\":\"heatmap\"}],\"histogram2dcontour\":[{\"colorbar\":{\"outlinewidth\":0,\"ticks\":\"\"},\"colorscale\":[[0.0,\"#0d0887\"],[0.1111111111111111,\"#46039f\"],[0.2222222222222222,\"#7201a8\"],[0.3333333333333333,\"#9c179e\"],[0.4444444444444444,\"#bd3786\"],[0.5555555555555556,\"#d8576b\"],[0.6666666666666666,\"#ed7953\"],[0.7777777777777778,\"#fb9f3a\"],[0.8888888888888888,\"#fdca26\"],[1.0,\"#f0f921\"]],\"type\":\"histogram2dcontour\"}],\"histogram2d\":[{\"colorbar\":{\"outlinewidth\":0,\"ticks\":\"\"},\"colorscale\":[[0.0,\"#0d0887\"],[0.1111111111111111,\"#46039f\"],[0.2222222222222222,\"#7201a8\"],[0.3333333333333333,\"#9c179e\"],[0.4444444444444444,\"#bd3786\"],[0.5555555555555556,\"#d8576b\"],[0.6666666666666666,\"#ed7953\"],[0.7777777777777778,\"#fb9f3a\"],[0.8888888888888888,\"#fdca26\"],[1.0,\"#f0f921\"]],\"type\":\"histogram2d\"}],\"histogram\":[{\"marker\":{\"pattern\":{\"fillmode\":\"overlay\",\"size\":10,\"solidity\":0.2}},\"type\":\"histogram\"}],\"mesh3d\":[{\"colorbar\":{\"outlinewidth\":0,\"ticks\":\"\"},\"type\":\"mesh3d\"}],\"parcoords\":[{\"line\":{\"colorbar\":{\"outlinewidth\":0,\"ticks\":\"\"}},\"type\":\"parcoords\"}],\"pie\":[{\"automargin\":true,\"type\":\"pie\"}],\"scatter3d\":[{\"line\":{\"colorbar\":{\"outlinewidth\":0,\"ticks\":\"\"}},\"marker\":{\"colorbar\":{\"outlinewidth\":0,\"ticks\":\"\"}},\"type\":\"scatter3d\"}],\"scattercarpet\":[{\"marker\":{\"colorbar\":{\"outlinewidth\":0,\"ticks\":\"\"}},\"type\":\"scattercarpet\"}],\"scattergeo\":[{\"marker\":{\"colorbar\":{\"outlinewidth\":0,\"ticks\":\"\"}},\"type\":\"scattergeo\"}],\"scattergl\":[{\"marker\":{\"colorbar\":{\"outlinewidth\":0,\"ticks\":\"\"}},\"type\":\"scattergl\"}],\"scattermapbox\":[{\"marker\":{\"colorbar\":{\"outlinewidth\":0,\"ticks\":\"\"}},\"type\":\"scattermapbox\"}],\"scatterpolargl\":[{\"marker\":{\"colorbar\":{\"outlinewidth\":0,\"ticks\":\"\"}},\"type\":\"scatterpolargl\"}],\"scatterpolar\":[{\"marker\":{\"colorbar\":{\"outlinewidth\":0,\"ticks\":\"\"}},\"type\":\"scatterpolar\"}],\"scatter\":[{\"fillpattern\":{\"fillmode\":\"overlay\",\"size\":10,\"solidity\":0.2},\"type\":\"scatter\"}],\"scatterternary\":[{\"marker\":{\"colorbar\":{\"outlinewidth\":0,\"ticks\":\"\"}},\"type\":\"scatterternary\"}],\"surface\":[{\"colorbar\":{\"outlinewidth\":0,\"ticks\":\"\"},\"colorscale\":[[0.0,\"#0d0887\"],[0.1111111111111111,\"#46039f\"],[0.2222222222222222,\"#7201a8\"],[0.3333333333333333,\"#9c179e\"],[0.4444444444444444,\"#bd3786\"],[0.5555555555555556,\"#d8576b\"],[0.6666666666666666,\"#ed7953\"],[0.7777777777777778,\"#fb9f3a\"],[0.8888888888888888,\"#fdca26\"],[1.0,\"#f0f921\"]],\"type\":\"surface\"}],\"table\":[{\"cells\":{\"fill\":{\"color\":\"#EBF0F8\"},\"line\":{\"color\":\"white\"}},\"header\":{\"fill\":{\"color\":\"#C8D4E3\"},\"line\":{\"color\":\"white\"}},\"type\":\"table\"}]},\"layout\":{\"annotationdefaults\":{\"arrowcolor\":\"#2a3f5f\",\"arrowhead\":0,\"arrowwidth\":1},\"autotypenumbers\":\"strict\",\"coloraxis\":{\"colorbar\":{\"outlinewidth\":0,\"ticks\":\"\"}},\"colorscale\":{\"diverging\":[[0,\"#8e0152\"],[0.1,\"#c51b7d\"],[0.2,\"#de77ae\"],[0.3,\"#f1b6da\"],[0.4,\"#fde0ef\"],[0.5,\"#f7f7f7\"],[0.6,\"#e6f5d0\"],[0.7,\"#b8e186\"],[0.8,\"#7fbc41\"],[0.9,\"#4d9221\"],[1,\"#276419\"]],\"sequential\":[[0.0,\"#0d0887\"],[0.1111111111111111,\"#46039f\"],[0.2222222222222222,\"#7201a8\"],[0.3333333333333333,\"#9c179e\"],[0.4444444444444444,\"#bd3786\"],[0.5555555555555556,\"#d8576b\"],[0.6666666666666666,\"#ed7953\"],[0.7777777777777778,\"#fb9f3a\"],[0.8888888888888888,\"#fdca26\"],[1.0,\"#f0f921\"]],\"sequentialminus\":[[0.0,\"#0d0887\"],[0.1111111111111111,\"#46039f\"],[0.2222222222222222,\"#7201a8\"],[0.3333333333333333,\"#9c179e\"],[0.4444444444444444,\"#bd3786\"],[0.5555555555555556,\"#d8576b\"],[0.6666666666666666,\"#ed7953\"],[0.7777777777777778,\"#fb9f3a\"],[0.8888888888888888,\"#fdca26\"],[1.0,\"#f0f921\"]]},\"colorway\":[\"#636efa\",\"#EF553B\",\"#00cc96\",\"#ab63fa\",\"#FFA15A\",\"#19d3f3\",\"#FF6692\",\"#B6E880\",\"#FF97FF\",\"#FECB52\"],\"font\":{\"color\":\"#2a3f5f\"},\"geo\":{\"bgcolor\":\"white\",\"lakecolor\":\"white\",\"landcolor\":\"#E5ECF6\",\"showlakes\":true,\"showland\":true,\"subunitcolor\":\"white\"},\"hoverlabel\":{\"align\":\"left\"},\"hovermode\":\"closest\",\"mapbox\":{\"style\":\"light\"},\"paper_bgcolor\":\"white\",\"plot_bgcolor\":\"#E5ECF6\",\"polar\":{\"angularaxis\":{\"gridcolor\":\"white\",\"linecolor\":\"white\",\"ticks\":\"\"},\"bgcolor\":\"#E5ECF6\",\"radialaxis\":{\"gridcolor\":\"white\",\"linecolor\":\"white\",\"ticks\":\"\"}},\"scene\":{\"xaxis\":{\"backgroundcolor\":\"#E5ECF6\",\"gridcolor\":\"white\",\"gridwidth\":2,\"linecolor\":\"white\",\"showbackground\":true,\"ticks\":\"\",\"zerolinecolor\":\"white\"},\"yaxis\":{\"backgroundcolor\":\"#E5ECF6\",\"gridcolor\":\"white\",\"gridwidth\":2,\"linecolor\":\"white\",\"showbackground\":true,\"ticks\":\"\",\"zerolinecolor\":\"white\"},\"zaxis\":{\"backgroundcolor\":\"#E5ECF6\",\"gridcolor\":\"white\",\"gridwidth\":2,\"linecolor\":\"white\",\"showbackground\":true,\"ticks\":\"\",\"zerolinecolor\":\"white\"}},\"shapedefaults\":{\"line\":{\"color\":\"#2a3f5f\"}},\"ternary\":{\"aaxis\":{\"gridcolor\":\"white\",\"linecolor\":\"white\",\"ticks\":\"\"},\"baxis\":{\"gridcolor\":\"white\",\"linecolor\":\"white\",\"ticks\":\"\"},\"bgcolor\":\"#E5ECF6\",\"caxis\":{\"gridcolor\":\"white\",\"linecolor\":\"white\",\"ticks\":\"\"}},\"title\":{\"x\":0.05},\"xaxis\":{\"automargin\":true,\"gridcolor\":\"white\",\"linecolor\":\"white\",\"ticks\":\"\",\"title\":{\"standoff\":15},\"zerolinecolor\":\"white\",\"zerolinewidth\":2},\"yaxis\":{\"automargin\":true,\"gridcolor\":\"white\",\"linecolor\":\"white\",\"ticks\":\"\",\"title\":{\"standoff\":15},\"zerolinecolor\":\"white\",\"zerolinewidth\":2}}},\"width\":800,\"xaxis\":{\"anchor\":\"y\",\"domain\":[0.0,1.0]},\"yaxis\":{\"anchor\":\"x\",\"domain\":[0.0,1.0]}},                        {\"responsive\": true}                    ).then(function(){\n",
       "                            \n",
       "var gd = document.getElementById('e99c6ae2-206a-427e-b44e-b3f5cca05d9b');\n",
       "var x = new MutationObserver(function (mutations, observer) {{\n",
       "        var display = window.getComputedStyle(gd).display;\n",
       "        if (!display || display === 'none') {{\n",
       "            console.log([gd, 'removed!']);\n",
       "            Plotly.purge(gd);\n",
       "            observer.disconnect();\n",
       "        }}\n",
       "}});\n",
       "\n",
       "// Listen for the removal of the full notebook cells\n",
       "var notebookContainer = gd.closest('#notebook-container');\n",
       "if (notebookContainer) {{\n",
       "    x.observe(notebookContainer, {childList: true});\n",
       "}}\n",
       "\n",
       "// Listen for the clearing of the current output cell\n",
       "var outputEl = gd.closest('.output');\n",
       "if (outputEl) {{\n",
       "    x.observe(outputEl, {childList: true});\n",
       "}}\n",
       "\n",
       "                        })                };                });            </script>        </div>"
      ]
     },
     "metadata": {},
     "output_type": "display_data"
    }
   ],
   "source": [
    "x = [p for p in range(5,10)]\n",
    "y_list = [0, 0.0156, 0.156, 2.09, 15]\n",
    "y_ndarray = [0, 0, 0.0469, 0.9066, 4.606]\n",
    "trace1 = go.Scatter(x=x, y=y_list, name = \"list times\")\n",
    "trace2 = go.Scatter(x=x, y=y_ndarray, name = \"ndarray times\")\n",
    "\n",
    "fig = make_subplots()\n",
    "_ = fig.add_trace(trace1)\n",
    "_ = fig.add_trace(trace2)\n",
    "\n",
    "_ = fig['layout'].update(height = 600, width = 800)\n",
    "iplot(fig)"
   ]
  },
  {
   "cell_type": "markdown",
   "id": "ef63876a-b9b8-41a1-b54d-ad595ae330ca",
   "metadata": {},
   "source": [
    "### 1.3.1. Векторизация своих функций"
   ]
  },
  {
   "cell_type": "markdown",
   "id": "bfcfabc6-53a7-473b-b742-23786269ab9e",
   "metadata": {},
   "source": [
    "Выдержка из официальной [документации](https://numpy.org/doc/stable/reference/generated/numpy.vectorize.html) по np.vectorize():\n",
    "> The vectorize function is provided primarily for convenience, not for performance. The implementation is essentially a \"for\" loop.\n",
    "\n",
    "Таким образом, всё что могло быть ускорено - уже ускорено если использовать встроенные функции и типы numpy. В остальном можно только лишь обеспечивать удобство и совместимость.  \n",
    "Мораль - **используйте встроенные функции и типы numpy**."
   ]
  },
  {
   "cell_type": "code",
   "execution_count": 19,
   "id": "2c4f5b9b-c00b-4996-8b30-08888810e607",
   "metadata": {},
   "outputs": [],
   "source": [
    "def find_root(x):\n",
    "    if x < 0:\n",
    "        return 0\n",
    "    else:\n",
    "        return x ** 0.5\n",
    "    \n",
    "# vectorize() чтобы векторизовать функцию find_root()\n",
    "vectorized_root = np.vectorize(find_root)\n"
   ]
  },
  {
   "cell_type": "code",
   "execution_count": 24,
   "id": "ff46a423-5244-47af-978a-047558fcf5cb",
   "metadata": {},
   "outputs": [
    {
     "data": {
      "text/plain": [
       "array([-1. ,  0. ,  1. ,  2. ,  3.5,  4.5])"
      ]
     },
     "execution_count": 24,
     "metadata": {},
     "output_type": "execute_result"
    },
    {
     "data": {
      "text/plain": [
       "dtype('float64')"
      ]
     },
     "execution_count": 24,
     "metadata": {},
     "output_type": "execute_result"
    },
    {
     "data": {
      "text/plain": [
       "array([0, 0, 1, 1, 1, 2])"
      ]
     },
     "execution_count": 24,
     "metadata": {},
     "output_type": "execute_result"
    },
    {
     "data": {
      "text/plain": [
       "array([0, 0, 1, 1, 1, 2])"
      ]
     },
     "execution_count": 24,
     "metadata": {},
     "output_type": "execute_result"
    }
   ],
   "source": [
    "l = [-1, 0, 1, 2, 3.5, 4.5] \n",
    "arr = np.array(l)\n",
    "arr\n",
    "arr.dtype\n",
    "\n",
    "# подаём массив векторизованной функции\n",
    "vectorized_root(l)\n",
    "vectorized_root(arr)"
   ]
  },
  {
   "cell_type": "code",
   "execution_count": 12,
   "id": "6ca876bc-c5e7-49b8-8898-a9ea3876d437",
   "metadata": {},
   "outputs": [
    {
     "name": "stdout",
     "output_type": "stream",
     "text": [
      "\n",
      "10000\n",
      "**list no vectorize\n",
      "CPU times: total: 0 ns\n",
      "Wall time: 3 ms\n",
      "**list with vectorize\n",
      "CPU times: total: 0 ns\n",
      "Wall time: 6 ms\n",
      "**create_ndarray\n",
      "CPU times: total: 0 ns\n",
      "Wall time: 2.26 ms\n",
      "**ndarray vectorized\n",
      "CPU times: total: 0 ns\n",
      "Wall time: 2.05 ms\n",
      "\n",
      "100000\n",
      "**list no vectorize\n",
      "CPU times: total: 15.6 ms\n",
      "Wall time: 22.2 ms\n",
      "**list with vectorize\n",
      "CPU times: total: 0 ns\n",
      "Wall time: 24.8 ms\n",
      "**create_ndarray\n",
      "CPU times: total: 0 ns\n",
      "Wall time: 3.96 ms\n",
      "**ndarray vectorized\n",
      "CPU times: total: 15.6 ms\n",
      "Wall time: 22.5 ms\n",
      "\n",
      "1000000\n",
      "**list no vectorize\n",
      "CPU times: total: 31.2 ms\n",
      "Wall time: 166 ms\n",
      "**list with vectorize\n",
      "CPU times: total: 0 ns\n",
      "Wall time: 167 ms\n",
      "**create_ndarray\n",
      "CPU times: total: 0 ns\n",
      "Wall time: 24.9 ms\n",
      "**ndarray vectorized\n",
      "CPU times: total: 31.2 ms\n",
      "Wall time: 160 ms\n",
      "\n",
      "10000000\n",
      "**list no vectorize\n",
      "CPU times: total: 156 ms\n",
      "Wall time: 1.49 s\n",
      "**list with vectorize\n",
      "CPU times: total: 203 ms\n",
      "Wall time: 1.8 s\n",
      "**create_ndarray\n",
      "CPU times: total: 31.2 ms\n",
      "Wall time: 248 ms\n",
      "**ndarray vectorized\n",
      "CPU times: total: 125 ms\n",
      "Wall time: 1.51 s\n",
      "\n",
      "100000000\n",
      "**list no vectorize\n",
      "CPU times: total: 1.84 s\n",
      "Wall time: 15.3 s\n",
      "**list with vectorize\n",
      "CPU times: total: 2.38 s\n",
      "Wall time: 17.6 s\n",
      "**create_ndarray\n",
      "CPU times: total: 266 ms\n",
      "Wall time: 2.68 s\n",
      "**ndarray vectorized\n",
      "CPU times: total: 1.91 s\n",
      "Wall time: 15.7 s\n"
     ]
    }
   ],
   "source": [
    "for p in range(4,9):\n",
    "    n = int(10**p)\n",
    "    l = list(range(n))\n",
    "    print(f\"\\n{n}\")\n",
    "\n",
    "    print(\"**list no vectorize\")\n",
    "    %time for i in range(n): find_root(l[i])\n",
    "    print(\"**list with vectorize\")\n",
    "    %time res = vectorized_root(l)\n",
    "        \n",
    "    print(\"**create_ndarray\")\n",
    "    %time arr = np.array(l)\n",
    "    print(\"**ndarray vectorized\")\n",
    "    %time res = vectorized_root(arr)\n",
    "\n",
    "del l\n",
    "del arr\n",
    "del res"
   ]
  },
  {
   "cell_type": "code",
   "execution_count": 13,
   "id": "1db68e20-50af-4409-8c54-3b34056f9b78",
   "metadata": {},
   "outputs": [],
   "source": [
    "# то же самое только через декоратор\n",
    "@np.vectorize(otypes=[float])\n",
    "def find_root_float(x):\n",
    "    if x < 0:\n",
    "        return 0\n",
    "    else:\n",
    "        return x ** 0.5"
   ]
  },
  {
   "cell_type": "code",
   "execution_count": 17,
   "id": "10829bb4-ad4c-4662-90bc-97b47f180b8a",
   "metadata": {},
   "outputs": [
    {
     "data": {
      "text/plain": [
       "array([0.        , 1.        , 1.41421356, 1.73205081, 2.        ,\n",
       "       2.23606798, 2.44948974, 2.64575131, 2.82842712, 3.        ])"
      ]
     },
     "execution_count": 17,
     "metadata": {},
     "output_type": "execute_result"
    }
   ],
   "source": [
    "arr = np.arange(10)\n",
    "find_root_float(arr)"
   ]
  },
  {
   "cell_type": "markdown",
   "id": "e7859488-147d-49e1-bbb9-9aa3f9189202",
   "metadata": {},
   "source": [
    "### 1.3.2. Задание 1\n",
    "\n",
    "Так выглядит формула l2 расстояния между двумя картинками.  \n",
    "<img src=\"data/l2_distance_images.png\"></img>  \n",
    " \n",
    "Ваша задача дописать функции подсчёта расстояние наивно (без *numpy*) и векторизованно (через *numpy*), сравнить результаты."
   ]
  },
  {
   "cell_type": "code",
   "execution_count": 10,
   "id": "7df7d39f-6973-40fb-ae39-6757442c69a0",
   "metadata": {},
   "outputs": [],
   "source": [
    "import matplotlib.pyplot as plt"
   ]
  },
  {
   "cell_type": "code",
   "execution_count": 26,
   "id": "3b6b442c-25d7-4a43-aae5-fecc1c9533ac",
   "metadata": {},
   "outputs": [],
   "source": [
    "# загружаем два изображения\n",
    "image1 = plt.imread(\"data/ml_image1.jpg\").astype(np.int32)\n",
    "image2 = plt.imread(\"data/ml_image2.jpg\").astype(np.int32)\n",
    "\n",
    "\n",
    "# Напишем функцию, считающую расстояние используя циклы\n",
    "def l2_loop(image1, image2):\n",
    "    height, width, channels = image1.shape\n",
    "    distance = 0\n",
    "    for i in range(height):\n",
    "        for j in range(width):\n",
    "            for k in range(channels):\n",
    "                distance += (image1[i, j, k] - image2[i, j, k]) ** 2\n",
    "    \n",
    "    return distance**0.5\n",
    "\n",
    "\n",
    "# Напишем векторизованную версию используя np\n",
    "def l2_vectorise(image1, image2):\n",
    "    distance = np.sqrt(np.sum((image1 - image2) ** 2))\n",
    "    \n",
    "    return distance\n"
   ]
  },
  {
   "cell_type": "code",
   "execution_count": 27,
   "id": "c5e4bf87-9e6a-49c3-8c89-03860393828a",
   "metadata": {},
   "outputs": [
    {
     "name": "stdout",
     "output_type": "stream",
     "text": [
      "5.97 s ± 87.9 ms per loop (mean ± std. dev. of 3 runs, 5 loops each)\n",
      "8.79 ms ± 974 µs per loop (mean ± std. dev. of 3 runs, 5 loops each)\n"
     ]
    }
   ],
   "source": [
    "%timeit -n 5 -r 3 l2_loop(image1, image2)\n",
    "%timeit -n 5 -r 3 l2_vectorise(image1, image2)"
   ]
  },
  {
   "cell_type": "code",
   "execution_count": 30,
   "id": "ea623fad",
   "metadata": {},
   "outputs": [
    {
     "data": {
      "text/plain": [
       "(1080, 1920, 3)"
      ]
     },
     "execution_count": 30,
     "metadata": {},
     "output_type": "execute_result"
    }
   ],
   "source": [
    "image1.shape"
   ]
  },
  {
   "cell_type": "markdown",
   "id": "2a82895a-7d31-43cc-992d-12be50d3a194",
   "metadata": {},
   "source": [
    "<a id=\"1.4\"></a>\n",
    "## 1.4. Случайные величины"
   ]
  },
  {
   "cell_type": "markdown",
   "id": "7fac7436-2750-4fde-aff4-dcecc61ff2b6",
   "metadata": {},
   "source": [
    "### 1.4.0. Задание seed"
   ]
  },
  {
   "cell_type": "code",
   "execution_count": 31,
   "id": "753d9a59-6e04-48cf-be90-fedbd65714bf",
   "metadata": {},
   "outputs": [],
   "source": [
    "import secrets"
   ]
  },
  {
   "cell_type": "code",
   "execution_count": 36,
   "id": "33acf255-64ca-4ad4-9dbb-6d443d21b2b6",
   "metadata": {},
   "outputs": [
    {
     "data": {
      "text/plain": [
       "246949426090170269551102672268588539691"
      ]
     },
     "execution_count": 36,
     "metadata": {},
     "output_type": "execute_result"
    }
   ],
   "source": [
    "val = secrets.randbits(128)  # Генерация сильного 128-битного псевдослучайного числа \n",
    "rng = np.random.default_rng(seed=val)  # Генератор псевдослучайных чисел\n",
    "val"
   ]
  },
  {
   "cell_type": "markdown",
   "id": "22eb1b95-7f2b-4d18-b0ff-0c14784c32bd",
   "metadata": {},
   "source": [
    "### 1.4.1. Величины из популярных распределений"
   ]
  },
  {
   "cell_type": "code",
   "execution_count": 37,
   "id": "d7ea349a-f506-458e-bbf9-0fb044507ae0",
   "metadata": {},
   "outputs": [
    {
     "data": {
      "text/plain": [
       "array([1.35530918, 2.19739718, 2.8217245 ])"
      ]
     },
     "execution_count": 37,
     "metadata": {},
     "output_type": "execute_result"
    }
   ],
   "source": [
    "arr = rng.uniform(low=1, high=3, size = 3)\n",
    "arr"
   ]
  },
  {
   "cell_type": "code",
   "execution_count": 38,
   "id": "916fcfbe-ab38-4231-b2e7-35cc0b282651",
   "metadata": {},
   "outputs": [
    {
     "data": {
      "text/plain": [
       "array([[-2.27538464,  0.31082556, -0.43616467],\n",
       "       [ 2.2648457 ,  3.87383596,  0.18511036]])"
      ]
     },
     "execution_count": 38,
     "metadata": {},
     "output_type": "execute_result"
    }
   ],
   "source": [
    "arr = rng.normal(loc=2, scale=3, size=(2,3))\n",
    "arr"
   ]
  },
  {
   "cell_type": "markdown",
   "id": "0c6e54d2-5c50-4ebc-bb18-3da08840970d",
   "metadata": {},
   "source": [
    "### 1.4.2. Задание 2  \n",
    "\n",
    "Получить 1000 значений из распределения Пуассона с $\\lambda=2$, и построить гистограмму по полученным значениям."
   ]
  },
  {
   "cell_type": "code",
   "execution_count": 61,
   "id": "2ac8c5ed-ad93-4463-ad91-a01dca2db16d",
   "metadata": {},
   "outputs": [
    {
     "data": {
      "application/vnd.plotly.v1+json": {
       "config": {
        "plotlyServerURL": "https://plot.ly"
       },
       "data": [
        {
         "alignmentgroup": "True",
         "bingroup": "x",
         "hovertemplate": "x=%{x}<br>count=%{y}<extra></extra>",
         "legendgroup": "",
         "marker": {
          "color": "#636efa",
          "pattern": {
           "shape": ""
          }
         },
         "name": "",
         "nbinsx": 20,
         "offsetgroup": "",
         "orientation": "v",
         "showlegend": false,
         "type": "histogram",
         "x": [
          1,
          2,
          1,
          4,
          1,
          0,
          1,
          4,
          3,
          2,
          0,
          2,
          0,
          4,
          3,
          1,
          0,
          2,
          5,
          4,
          1,
          3,
          1,
          1,
          1,
          1,
          0,
          0,
          1,
          1,
          1,
          1,
          1,
          2,
          1,
          3,
          1,
          3,
          2,
          0,
          3,
          2,
          5,
          3,
          3,
          4,
          3,
          1,
          1,
          2,
          2,
          4,
          3,
          1,
          4,
          5,
          1,
          1,
          3,
          2,
          0,
          1,
          0,
          4,
          1,
          1,
          4,
          2,
          2,
          2,
          4,
          1,
          1,
          5,
          2,
          2,
          1,
          2,
          2,
          1,
          3,
          1,
          2,
          3,
          1,
          1,
          2,
          4,
          2,
          2,
          2,
          1,
          2,
          3,
          3,
          3,
          1,
          1,
          5,
          4,
          0,
          4,
          1,
          1,
          2,
          0,
          1,
          3,
          0,
          2,
          2,
          2,
          0,
          3,
          2,
          6,
          4,
          4,
          3,
          0,
          1,
          3,
          2,
          0,
          1,
          3,
          1,
          3,
          0,
          5,
          1,
          2,
          2,
          2,
          3,
          2,
          0,
          2,
          4,
          2,
          3,
          1,
          2,
          1,
          1,
          1,
          1,
          0,
          4,
          2,
          2,
          1,
          1,
          2,
          2,
          2,
          1,
          1,
          1,
          2,
          0,
          3,
          3,
          3,
          4,
          4,
          1,
          0,
          3,
          0,
          0,
          1,
          4,
          3,
          0,
          4,
          3,
          2,
          3,
          4,
          2,
          0,
          6,
          1,
          1,
          1,
          5,
          0,
          0,
          1,
          1,
          1,
          0,
          2,
          1,
          0,
          2,
          2,
          3,
          4,
          1,
          1,
          4,
          1,
          1,
          0,
          3,
          2,
          3,
          0,
          2,
          1,
          3,
          2,
          5,
          1,
          2,
          2,
          3,
          3,
          2,
          2,
          2,
          3,
          2,
          2,
          0,
          1,
          2,
          2,
          2,
          2,
          3,
          1,
          0,
          6,
          5,
          1,
          6,
          1,
          3,
          2,
          4,
          2,
          1,
          2,
          3,
          0,
          2,
          2,
          1,
          2,
          1,
          2,
          4,
          1,
          3,
          3,
          3,
          1,
          3,
          0,
          0,
          2,
          2,
          1,
          2,
          1,
          2,
          0,
          0,
          1,
          3,
          2,
          2,
          1,
          1,
          2,
          1,
          2,
          0,
          2,
          4,
          0,
          1,
          1,
          5,
          1,
          4,
          4,
          2,
          2,
          3,
          3,
          4,
          3,
          4,
          0,
          2,
          0,
          1,
          9,
          2,
          0,
          3,
          5,
          3,
          2,
          5,
          2,
          3,
          0,
          1,
          4,
          3,
          4,
          1,
          8,
          1,
          0,
          1,
          0,
          3,
          0,
          3,
          3,
          1,
          3,
          2,
          4,
          3,
          1,
          2,
          2,
          4,
          4,
          0,
          2,
          2,
          3,
          0,
          0,
          3,
          0,
          2,
          3,
          2,
          3,
          1,
          1,
          1,
          1,
          3,
          0,
          0,
          2,
          5,
          3,
          3,
          2,
          2,
          4,
          3,
          1,
          2,
          2,
          1,
          3,
          2,
          2,
          1,
          2,
          1,
          0,
          1,
          2,
          1,
          1,
          4,
          0,
          3,
          2,
          0,
          1,
          3,
          1,
          1,
          5,
          1,
          3,
          0,
          2,
          0,
          1,
          1,
          0,
          1,
          1,
          4,
          4,
          1,
          2,
          1,
          3,
          0,
          2,
          2,
          2,
          1,
          4,
          4,
          2,
          0,
          2,
          4,
          6,
          1,
          3,
          5,
          1,
          4,
          1,
          0,
          1,
          1,
          1,
          2,
          1,
          2,
          0,
          4,
          1,
          1,
          4,
          5,
          2,
          1,
          3,
          2,
          4,
          3,
          2,
          3,
          1,
          2,
          2,
          0,
          4,
          3,
          1,
          4,
          4,
          2,
          0,
          0,
          1,
          0,
          0,
          1,
          1,
          2,
          1,
          0,
          3,
          1,
          3,
          4,
          1,
          0,
          2,
          1,
          0,
          3,
          5,
          1,
          2,
          1,
          3,
          1,
          1,
          0,
          3,
          2,
          2,
          2,
          2,
          2,
          3,
          2,
          0,
          3,
          0,
          6,
          1,
          0,
          3,
          1,
          2,
          1,
          5,
          2,
          1,
          0,
          2,
          1,
          3,
          1,
          3,
          0,
          1,
          5,
          3,
          2,
          2,
          1,
          2,
          0,
          2,
          1,
          1,
          2,
          4,
          2,
          0,
          3,
          1,
          1,
          3,
          3,
          1,
          4,
          1,
          1,
          2,
          1,
          4,
          3,
          2,
          2,
          1,
          1,
          5,
          1,
          3,
          1,
          2,
          2,
          2,
          2,
          2,
          2,
          0,
          2,
          4,
          3,
          1,
          2,
          4,
          0,
          3,
          2,
          2,
          5,
          0,
          1,
          0,
          2,
          1,
          4,
          1,
          0,
          0,
          2,
          2,
          5,
          2,
          1,
          3,
          2,
          2,
          1,
          2,
          2,
          0,
          1,
          2,
          1,
          3,
          3,
          2,
          1,
          2,
          2,
          4,
          3,
          3,
          1,
          3,
          2,
          2,
          1,
          3,
          1,
          1,
          1,
          1,
          5,
          1,
          1,
          3,
          2,
          3,
          1,
          1,
          4,
          0,
          4,
          2,
          0,
          2,
          1,
          1,
          2,
          5,
          4,
          3,
          1,
          1,
          5,
          1,
          1,
          1,
          2,
          1,
          2,
          4,
          2,
          1,
          0,
          1,
          1,
          3,
          1,
          2,
          2,
          5,
          1,
          2,
          1,
          4,
          2,
          3,
          1,
          5,
          3,
          3,
          1,
          1,
          1,
          4,
          2,
          3,
          2,
          4,
          2,
          3,
          2,
          1,
          1,
          2,
          4,
          2,
          3,
          0,
          0,
          2,
          1,
          2,
          3,
          0,
          4,
          1,
          2,
          1,
          3,
          1,
          2,
          4,
          0,
          1,
          2,
          3,
          2,
          1,
          0,
          4,
          1,
          1,
          0,
          1,
          0,
          3,
          5,
          1,
          4,
          0,
          1,
          3,
          2,
          0,
          3,
          3,
          0,
          3,
          2,
          1,
          5,
          3,
          2,
          2,
          3,
          3,
          4,
          1,
          2,
          1,
          2,
          0,
          4,
          1,
          0,
          4,
          0,
          0,
          1,
          2,
          5,
          2,
          2,
          2,
          2,
          1,
          0,
          2,
          0,
          1,
          1,
          2,
          3,
          0,
          1,
          2,
          3,
          2,
          2,
          1,
          0,
          3,
          2,
          3,
          1,
          0,
          1,
          2,
          1,
          3,
          1,
          6,
          5,
          2,
          1,
          5,
          3,
          3,
          2,
          0,
          3,
          2,
          0,
          3,
          2,
          2,
          4,
          5,
          1,
          2,
          3,
          1,
          2,
          2,
          1,
          2,
          2,
          2,
          2,
          2,
          0,
          3,
          1,
          5,
          2,
          1,
          2,
          4,
          2,
          2,
          1,
          1,
          2,
          2,
          3,
          3,
          2,
          2,
          2,
          1,
          0,
          0,
          2,
          2,
          1,
          1,
          2,
          3,
          1,
          4,
          3,
          3,
          2,
          3,
          5,
          1,
          2,
          0,
          6,
          1,
          6,
          4,
          3,
          1,
          4,
          0,
          1,
          1,
          2,
          5,
          3,
          3,
          1,
          2,
          2,
          3,
          3,
          2,
          2,
          2,
          1,
          1,
          0,
          4,
          1,
          2,
          0,
          3,
          1,
          2,
          2,
          0,
          3,
          3,
          5,
          3,
          2,
          2,
          2,
          1,
          0,
          0,
          1,
          2,
          1,
          5,
          2,
          0,
          4,
          3,
          4,
          2,
          1,
          2,
          1,
          5,
          0,
          3,
          3,
          4,
          0,
          2,
          2,
          5,
          3,
          5,
          2,
          3,
          0,
          1,
          1,
          2,
          5,
          2,
          3,
          2,
          3,
          5,
          0,
          0,
          3,
          2,
          2,
          2,
          2,
          1,
          1,
          4,
          6,
          1,
          1,
          2,
          0,
          3,
          2,
          0,
          1,
          1,
          1,
          1,
          1,
          1,
          3,
          3,
          2,
          2,
          2,
          7,
          1,
          1,
          1,
          1,
          4,
          3,
          3,
          5,
          4,
          3,
          4,
          3,
          6,
          3,
          9,
          1,
          3,
          3,
          1,
          3,
          1,
          2,
          1,
          2,
          0,
          3,
          2,
          3,
          2,
          0,
          1,
          8,
          1,
          2,
          4,
          1,
          2,
          2,
          0,
          3,
          2,
          1,
          3,
          0,
          2,
          3,
          0,
          1,
          2,
          3,
          3,
          0,
          3,
          1,
          5,
          1
         ],
         "xaxis": "x",
         "yaxis": "y"
        },
        {
         "alignmentgroup": "True",
         "hovertemplate": "x=%{x}<extra></extra>",
         "legendgroup": "",
         "marker": {
          "color": "#636efa"
         },
         "name": "",
         "notched": true,
         "offsetgroup": "",
         "showlegend": false,
         "type": "box",
         "x": [
          1,
          2,
          1,
          4,
          1,
          0,
          1,
          4,
          3,
          2,
          0,
          2,
          0,
          4,
          3,
          1,
          0,
          2,
          5,
          4,
          1,
          3,
          1,
          1,
          1,
          1,
          0,
          0,
          1,
          1,
          1,
          1,
          1,
          2,
          1,
          3,
          1,
          3,
          2,
          0,
          3,
          2,
          5,
          3,
          3,
          4,
          3,
          1,
          1,
          2,
          2,
          4,
          3,
          1,
          4,
          5,
          1,
          1,
          3,
          2,
          0,
          1,
          0,
          4,
          1,
          1,
          4,
          2,
          2,
          2,
          4,
          1,
          1,
          5,
          2,
          2,
          1,
          2,
          2,
          1,
          3,
          1,
          2,
          3,
          1,
          1,
          2,
          4,
          2,
          2,
          2,
          1,
          2,
          3,
          3,
          3,
          1,
          1,
          5,
          4,
          0,
          4,
          1,
          1,
          2,
          0,
          1,
          3,
          0,
          2,
          2,
          2,
          0,
          3,
          2,
          6,
          4,
          4,
          3,
          0,
          1,
          3,
          2,
          0,
          1,
          3,
          1,
          3,
          0,
          5,
          1,
          2,
          2,
          2,
          3,
          2,
          0,
          2,
          4,
          2,
          3,
          1,
          2,
          1,
          1,
          1,
          1,
          0,
          4,
          2,
          2,
          1,
          1,
          2,
          2,
          2,
          1,
          1,
          1,
          2,
          0,
          3,
          3,
          3,
          4,
          4,
          1,
          0,
          3,
          0,
          0,
          1,
          4,
          3,
          0,
          4,
          3,
          2,
          3,
          4,
          2,
          0,
          6,
          1,
          1,
          1,
          5,
          0,
          0,
          1,
          1,
          1,
          0,
          2,
          1,
          0,
          2,
          2,
          3,
          4,
          1,
          1,
          4,
          1,
          1,
          0,
          3,
          2,
          3,
          0,
          2,
          1,
          3,
          2,
          5,
          1,
          2,
          2,
          3,
          3,
          2,
          2,
          2,
          3,
          2,
          2,
          0,
          1,
          2,
          2,
          2,
          2,
          3,
          1,
          0,
          6,
          5,
          1,
          6,
          1,
          3,
          2,
          4,
          2,
          1,
          2,
          3,
          0,
          2,
          2,
          1,
          2,
          1,
          2,
          4,
          1,
          3,
          3,
          3,
          1,
          3,
          0,
          0,
          2,
          2,
          1,
          2,
          1,
          2,
          0,
          0,
          1,
          3,
          2,
          2,
          1,
          1,
          2,
          1,
          2,
          0,
          2,
          4,
          0,
          1,
          1,
          5,
          1,
          4,
          4,
          2,
          2,
          3,
          3,
          4,
          3,
          4,
          0,
          2,
          0,
          1,
          9,
          2,
          0,
          3,
          5,
          3,
          2,
          5,
          2,
          3,
          0,
          1,
          4,
          3,
          4,
          1,
          8,
          1,
          0,
          1,
          0,
          3,
          0,
          3,
          3,
          1,
          3,
          2,
          4,
          3,
          1,
          2,
          2,
          4,
          4,
          0,
          2,
          2,
          3,
          0,
          0,
          3,
          0,
          2,
          3,
          2,
          3,
          1,
          1,
          1,
          1,
          3,
          0,
          0,
          2,
          5,
          3,
          3,
          2,
          2,
          4,
          3,
          1,
          2,
          2,
          1,
          3,
          2,
          2,
          1,
          2,
          1,
          0,
          1,
          2,
          1,
          1,
          4,
          0,
          3,
          2,
          0,
          1,
          3,
          1,
          1,
          5,
          1,
          3,
          0,
          2,
          0,
          1,
          1,
          0,
          1,
          1,
          4,
          4,
          1,
          2,
          1,
          3,
          0,
          2,
          2,
          2,
          1,
          4,
          4,
          2,
          0,
          2,
          4,
          6,
          1,
          3,
          5,
          1,
          4,
          1,
          0,
          1,
          1,
          1,
          2,
          1,
          2,
          0,
          4,
          1,
          1,
          4,
          5,
          2,
          1,
          3,
          2,
          4,
          3,
          2,
          3,
          1,
          2,
          2,
          0,
          4,
          3,
          1,
          4,
          4,
          2,
          0,
          0,
          1,
          0,
          0,
          1,
          1,
          2,
          1,
          0,
          3,
          1,
          3,
          4,
          1,
          0,
          2,
          1,
          0,
          3,
          5,
          1,
          2,
          1,
          3,
          1,
          1,
          0,
          3,
          2,
          2,
          2,
          2,
          2,
          3,
          2,
          0,
          3,
          0,
          6,
          1,
          0,
          3,
          1,
          2,
          1,
          5,
          2,
          1,
          0,
          2,
          1,
          3,
          1,
          3,
          0,
          1,
          5,
          3,
          2,
          2,
          1,
          2,
          0,
          2,
          1,
          1,
          2,
          4,
          2,
          0,
          3,
          1,
          1,
          3,
          3,
          1,
          4,
          1,
          1,
          2,
          1,
          4,
          3,
          2,
          2,
          1,
          1,
          5,
          1,
          3,
          1,
          2,
          2,
          2,
          2,
          2,
          2,
          0,
          2,
          4,
          3,
          1,
          2,
          4,
          0,
          3,
          2,
          2,
          5,
          0,
          1,
          0,
          2,
          1,
          4,
          1,
          0,
          0,
          2,
          2,
          5,
          2,
          1,
          3,
          2,
          2,
          1,
          2,
          2,
          0,
          1,
          2,
          1,
          3,
          3,
          2,
          1,
          2,
          2,
          4,
          3,
          3,
          1,
          3,
          2,
          2,
          1,
          3,
          1,
          1,
          1,
          1,
          5,
          1,
          1,
          3,
          2,
          3,
          1,
          1,
          4,
          0,
          4,
          2,
          0,
          2,
          1,
          1,
          2,
          5,
          4,
          3,
          1,
          1,
          5,
          1,
          1,
          1,
          2,
          1,
          2,
          4,
          2,
          1,
          0,
          1,
          1,
          3,
          1,
          2,
          2,
          5,
          1,
          2,
          1,
          4,
          2,
          3,
          1,
          5,
          3,
          3,
          1,
          1,
          1,
          4,
          2,
          3,
          2,
          4,
          2,
          3,
          2,
          1,
          1,
          2,
          4,
          2,
          3,
          0,
          0,
          2,
          1,
          2,
          3,
          0,
          4,
          1,
          2,
          1,
          3,
          1,
          2,
          4,
          0,
          1,
          2,
          3,
          2,
          1,
          0,
          4,
          1,
          1,
          0,
          1,
          0,
          3,
          5,
          1,
          4,
          0,
          1,
          3,
          2,
          0,
          3,
          3,
          0,
          3,
          2,
          1,
          5,
          3,
          2,
          2,
          3,
          3,
          4,
          1,
          2,
          1,
          2,
          0,
          4,
          1,
          0,
          4,
          0,
          0,
          1,
          2,
          5,
          2,
          2,
          2,
          2,
          1,
          0,
          2,
          0,
          1,
          1,
          2,
          3,
          0,
          1,
          2,
          3,
          2,
          2,
          1,
          0,
          3,
          2,
          3,
          1,
          0,
          1,
          2,
          1,
          3,
          1,
          6,
          5,
          2,
          1,
          5,
          3,
          3,
          2,
          0,
          3,
          2,
          0,
          3,
          2,
          2,
          4,
          5,
          1,
          2,
          3,
          1,
          2,
          2,
          1,
          2,
          2,
          2,
          2,
          2,
          0,
          3,
          1,
          5,
          2,
          1,
          2,
          4,
          2,
          2,
          1,
          1,
          2,
          2,
          3,
          3,
          2,
          2,
          2,
          1,
          0,
          0,
          2,
          2,
          1,
          1,
          2,
          3,
          1,
          4,
          3,
          3,
          2,
          3,
          5,
          1,
          2,
          0,
          6,
          1,
          6,
          4,
          3,
          1,
          4,
          0,
          1,
          1,
          2,
          5,
          3,
          3,
          1,
          2,
          2,
          3,
          3,
          2,
          2,
          2,
          1,
          1,
          0,
          4,
          1,
          2,
          0,
          3,
          1,
          2,
          2,
          0,
          3,
          3,
          5,
          3,
          2,
          2,
          2,
          1,
          0,
          0,
          1,
          2,
          1,
          5,
          2,
          0,
          4,
          3,
          4,
          2,
          1,
          2,
          1,
          5,
          0,
          3,
          3,
          4,
          0,
          2,
          2,
          5,
          3,
          5,
          2,
          3,
          0,
          1,
          1,
          2,
          5,
          2,
          3,
          2,
          3,
          5,
          0,
          0,
          3,
          2,
          2,
          2,
          2,
          1,
          1,
          4,
          6,
          1,
          1,
          2,
          0,
          3,
          2,
          0,
          1,
          1,
          1,
          1,
          1,
          1,
          3,
          3,
          2,
          2,
          2,
          7,
          1,
          1,
          1,
          1,
          4,
          3,
          3,
          5,
          4,
          3,
          4,
          3,
          6,
          3,
          9,
          1,
          3,
          3,
          1,
          3,
          1,
          2,
          1,
          2,
          0,
          3,
          2,
          3,
          2,
          0,
          1,
          8,
          1,
          2,
          4,
          1,
          2,
          2,
          0,
          3,
          2,
          1,
          3,
          0,
          2,
          3,
          0,
          1,
          2,
          3,
          3,
          0,
          3,
          1,
          5,
          1
         ],
         "xaxis": "x2",
         "yaxis": "y2"
        }
       ],
       "layout": {
        "autosize": true,
        "barmode": "relative",
        "legend": {
         "tracegroupgap": 0
        },
        "margin": {
         "t": 60
        },
        "template": {
         "data": {
          "bar": [
           {
            "error_x": {
             "color": "#2a3f5f"
            },
            "error_y": {
             "color": "#2a3f5f"
            },
            "marker": {
             "line": {
              "color": "#E5ECF6",
              "width": 0.5
             },
             "pattern": {
              "fillmode": "overlay",
              "size": 10,
              "solidity": 0.2
             }
            },
            "type": "bar"
           }
          ],
          "barpolar": [
           {
            "marker": {
             "line": {
              "color": "#E5ECF6",
              "width": 0.5
             },
             "pattern": {
              "fillmode": "overlay",
              "size": 10,
              "solidity": 0.2
             }
            },
            "type": "barpolar"
           }
          ],
          "carpet": [
           {
            "aaxis": {
             "endlinecolor": "#2a3f5f",
             "gridcolor": "white",
             "linecolor": "white",
             "minorgridcolor": "white",
             "startlinecolor": "#2a3f5f"
            },
            "baxis": {
             "endlinecolor": "#2a3f5f",
             "gridcolor": "white",
             "linecolor": "white",
             "minorgridcolor": "white",
             "startlinecolor": "#2a3f5f"
            },
            "type": "carpet"
           }
          ],
          "choropleth": [
           {
            "colorbar": {
             "outlinewidth": 0,
             "ticks": ""
            },
            "type": "choropleth"
           }
          ],
          "contour": [
           {
            "colorbar": {
             "outlinewidth": 0,
             "ticks": ""
            },
            "colorscale": [
             [
              0,
              "#0d0887"
             ],
             [
              0.1111111111111111,
              "#46039f"
             ],
             [
              0.2222222222222222,
              "#7201a8"
             ],
             [
              0.3333333333333333,
              "#9c179e"
             ],
             [
              0.4444444444444444,
              "#bd3786"
             ],
             [
              0.5555555555555556,
              "#d8576b"
             ],
             [
              0.6666666666666666,
              "#ed7953"
             ],
             [
              0.7777777777777778,
              "#fb9f3a"
             ],
             [
              0.8888888888888888,
              "#fdca26"
             ],
             [
              1,
              "#f0f921"
             ]
            ],
            "type": "contour"
           }
          ],
          "contourcarpet": [
           {
            "colorbar": {
             "outlinewidth": 0,
             "ticks": ""
            },
            "type": "contourcarpet"
           }
          ],
          "heatmap": [
           {
            "colorbar": {
             "outlinewidth": 0,
             "ticks": ""
            },
            "colorscale": [
             [
              0,
              "#0d0887"
             ],
             [
              0.1111111111111111,
              "#46039f"
             ],
             [
              0.2222222222222222,
              "#7201a8"
             ],
             [
              0.3333333333333333,
              "#9c179e"
             ],
             [
              0.4444444444444444,
              "#bd3786"
             ],
             [
              0.5555555555555556,
              "#d8576b"
             ],
             [
              0.6666666666666666,
              "#ed7953"
             ],
             [
              0.7777777777777778,
              "#fb9f3a"
             ],
             [
              0.8888888888888888,
              "#fdca26"
             ],
             [
              1,
              "#f0f921"
             ]
            ],
            "type": "heatmap"
           }
          ],
          "heatmapgl": [
           {
            "colorbar": {
             "outlinewidth": 0,
             "ticks": ""
            },
            "colorscale": [
             [
              0,
              "#0d0887"
             ],
             [
              0.1111111111111111,
              "#46039f"
             ],
             [
              0.2222222222222222,
              "#7201a8"
             ],
             [
              0.3333333333333333,
              "#9c179e"
             ],
             [
              0.4444444444444444,
              "#bd3786"
             ],
             [
              0.5555555555555556,
              "#d8576b"
             ],
             [
              0.6666666666666666,
              "#ed7953"
             ],
             [
              0.7777777777777778,
              "#fb9f3a"
             ],
             [
              0.8888888888888888,
              "#fdca26"
             ],
             [
              1,
              "#f0f921"
             ]
            ],
            "type": "heatmapgl"
           }
          ],
          "histogram": [
           {
            "marker": {
             "pattern": {
              "fillmode": "overlay",
              "size": 10,
              "solidity": 0.2
             }
            },
            "type": "histogram"
           }
          ],
          "histogram2d": [
           {
            "colorbar": {
             "outlinewidth": 0,
             "ticks": ""
            },
            "colorscale": [
             [
              0,
              "#0d0887"
             ],
             [
              0.1111111111111111,
              "#46039f"
             ],
             [
              0.2222222222222222,
              "#7201a8"
             ],
             [
              0.3333333333333333,
              "#9c179e"
             ],
             [
              0.4444444444444444,
              "#bd3786"
             ],
             [
              0.5555555555555556,
              "#d8576b"
             ],
             [
              0.6666666666666666,
              "#ed7953"
             ],
             [
              0.7777777777777778,
              "#fb9f3a"
             ],
             [
              0.8888888888888888,
              "#fdca26"
             ],
             [
              1,
              "#f0f921"
             ]
            ],
            "type": "histogram2d"
           }
          ],
          "histogram2dcontour": [
           {
            "colorbar": {
             "outlinewidth": 0,
             "ticks": ""
            },
            "colorscale": [
             [
              0,
              "#0d0887"
             ],
             [
              0.1111111111111111,
              "#46039f"
             ],
             [
              0.2222222222222222,
              "#7201a8"
             ],
             [
              0.3333333333333333,
              "#9c179e"
             ],
             [
              0.4444444444444444,
              "#bd3786"
             ],
             [
              0.5555555555555556,
              "#d8576b"
             ],
             [
              0.6666666666666666,
              "#ed7953"
             ],
             [
              0.7777777777777778,
              "#fb9f3a"
             ],
             [
              0.8888888888888888,
              "#fdca26"
             ],
             [
              1,
              "#f0f921"
             ]
            ],
            "type": "histogram2dcontour"
           }
          ],
          "mesh3d": [
           {
            "colorbar": {
             "outlinewidth": 0,
             "ticks": ""
            },
            "type": "mesh3d"
           }
          ],
          "parcoords": [
           {
            "line": {
             "colorbar": {
              "outlinewidth": 0,
              "ticks": ""
             }
            },
            "type": "parcoords"
           }
          ],
          "pie": [
           {
            "automargin": true,
            "type": "pie"
           }
          ],
          "scatter": [
           {
            "fillpattern": {
             "fillmode": "overlay",
             "size": 10,
             "solidity": 0.2
            },
            "type": "scatter"
           }
          ],
          "scatter3d": [
           {
            "line": {
             "colorbar": {
              "outlinewidth": 0,
              "ticks": ""
             }
            },
            "marker": {
             "colorbar": {
              "outlinewidth": 0,
              "ticks": ""
             }
            },
            "type": "scatter3d"
           }
          ],
          "scattercarpet": [
           {
            "marker": {
             "colorbar": {
              "outlinewidth": 0,
              "ticks": ""
             }
            },
            "type": "scattercarpet"
           }
          ],
          "scattergeo": [
           {
            "marker": {
             "colorbar": {
              "outlinewidth": 0,
              "ticks": ""
             }
            },
            "type": "scattergeo"
           }
          ],
          "scattergl": [
           {
            "marker": {
             "colorbar": {
              "outlinewidth": 0,
              "ticks": ""
             }
            },
            "type": "scattergl"
           }
          ],
          "scattermapbox": [
           {
            "marker": {
             "colorbar": {
              "outlinewidth": 0,
              "ticks": ""
             }
            },
            "type": "scattermapbox"
           }
          ],
          "scatterpolar": [
           {
            "marker": {
             "colorbar": {
              "outlinewidth": 0,
              "ticks": ""
             }
            },
            "type": "scatterpolar"
           }
          ],
          "scatterpolargl": [
           {
            "marker": {
             "colorbar": {
              "outlinewidth": 0,
              "ticks": ""
             }
            },
            "type": "scatterpolargl"
           }
          ],
          "scatterternary": [
           {
            "marker": {
             "colorbar": {
              "outlinewidth": 0,
              "ticks": ""
             }
            },
            "type": "scatterternary"
           }
          ],
          "surface": [
           {
            "colorbar": {
             "outlinewidth": 0,
             "ticks": ""
            },
            "colorscale": [
             [
              0,
              "#0d0887"
             ],
             [
              0.1111111111111111,
              "#46039f"
             ],
             [
              0.2222222222222222,
              "#7201a8"
             ],
             [
              0.3333333333333333,
              "#9c179e"
             ],
             [
              0.4444444444444444,
              "#bd3786"
             ],
             [
              0.5555555555555556,
              "#d8576b"
             ],
             [
              0.6666666666666666,
              "#ed7953"
             ],
             [
              0.7777777777777778,
              "#fb9f3a"
             ],
             [
              0.8888888888888888,
              "#fdca26"
             ],
             [
              1,
              "#f0f921"
             ]
            ],
            "type": "surface"
           }
          ],
          "table": [
           {
            "cells": {
             "fill": {
              "color": "#EBF0F8"
             },
             "line": {
              "color": "white"
             }
            },
            "header": {
             "fill": {
              "color": "#C8D4E3"
             },
             "line": {
              "color": "white"
             }
            },
            "type": "table"
           }
          ]
         },
         "layout": {
          "annotationdefaults": {
           "arrowcolor": "#2a3f5f",
           "arrowhead": 0,
           "arrowwidth": 1
          },
          "autotypenumbers": "strict",
          "coloraxis": {
           "colorbar": {
            "outlinewidth": 0,
            "ticks": ""
           }
          },
          "colorscale": {
           "diverging": [
            [
             0,
             "#8e0152"
            ],
            [
             0.1,
             "#c51b7d"
            ],
            [
             0.2,
             "#de77ae"
            ],
            [
             0.3,
             "#f1b6da"
            ],
            [
             0.4,
             "#fde0ef"
            ],
            [
             0.5,
             "#f7f7f7"
            ],
            [
             0.6,
             "#e6f5d0"
            ],
            [
             0.7,
             "#b8e186"
            ],
            [
             0.8,
             "#7fbc41"
            ],
            [
             0.9,
             "#4d9221"
            ],
            [
             1,
             "#276419"
            ]
           ],
           "sequential": [
            [
             0,
             "#0d0887"
            ],
            [
             0.1111111111111111,
             "#46039f"
            ],
            [
             0.2222222222222222,
             "#7201a8"
            ],
            [
             0.3333333333333333,
             "#9c179e"
            ],
            [
             0.4444444444444444,
             "#bd3786"
            ],
            [
             0.5555555555555556,
             "#d8576b"
            ],
            [
             0.6666666666666666,
             "#ed7953"
            ],
            [
             0.7777777777777778,
             "#fb9f3a"
            ],
            [
             0.8888888888888888,
             "#fdca26"
            ],
            [
             1,
             "#f0f921"
            ]
           ],
           "sequentialminus": [
            [
             0,
             "#0d0887"
            ],
            [
             0.1111111111111111,
             "#46039f"
            ],
            [
             0.2222222222222222,
             "#7201a8"
            ],
            [
             0.3333333333333333,
             "#9c179e"
            ],
            [
             0.4444444444444444,
             "#bd3786"
            ],
            [
             0.5555555555555556,
             "#d8576b"
            ],
            [
             0.6666666666666666,
             "#ed7953"
            ],
            [
             0.7777777777777778,
             "#fb9f3a"
            ],
            [
             0.8888888888888888,
             "#fdca26"
            ],
            [
             1,
             "#f0f921"
            ]
           ]
          },
          "colorway": [
           "#636efa",
           "#EF553B",
           "#00cc96",
           "#ab63fa",
           "#FFA15A",
           "#19d3f3",
           "#FF6692",
           "#B6E880",
           "#FF97FF",
           "#FECB52"
          ],
          "font": {
           "color": "#2a3f5f"
          },
          "geo": {
           "bgcolor": "white",
           "lakecolor": "white",
           "landcolor": "#E5ECF6",
           "showlakes": true,
           "showland": true,
           "subunitcolor": "white"
          },
          "hoverlabel": {
           "align": "left"
          },
          "hovermode": "closest",
          "mapbox": {
           "style": "light"
          },
          "paper_bgcolor": "white",
          "plot_bgcolor": "#E5ECF6",
          "polar": {
           "angularaxis": {
            "gridcolor": "white",
            "linecolor": "white",
            "ticks": ""
           },
           "bgcolor": "#E5ECF6",
           "radialaxis": {
            "gridcolor": "white",
            "linecolor": "white",
            "ticks": ""
           }
          },
          "scene": {
           "xaxis": {
            "backgroundcolor": "#E5ECF6",
            "gridcolor": "white",
            "gridwidth": 2,
            "linecolor": "white",
            "showbackground": true,
            "ticks": "",
            "zerolinecolor": "white"
           },
           "yaxis": {
            "backgroundcolor": "#E5ECF6",
            "gridcolor": "white",
            "gridwidth": 2,
            "linecolor": "white",
            "showbackground": true,
            "ticks": "",
            "zerolinecolor": "white"
           },
           "zaxis": {
            "backgroundcolor": "#E5ECF6",
            "gridcolor": "white",
            "gridwidth": 2,
            "linecolor": "white",
            "showbackground": true,
            "ticks": "",
            "zerolinecolor": "white"
           }
          },
          "shapedefaults": {
           "line": {
            "color": "#2a3f5f"
           }
          },
          "ternary": {
           "aaxis": {
            "gridcolor": "white",
            "linecolor": "white",
            "ticks": ""
           },
           "baxis": {
            "gridcolor": "white",
            "linecolor": "white",
            "ticks": ""
           },
           "bgcolor": "#E5ECF6",
           "caxis": {
            "gridcolor": "white",
            "linecolor": "white",
            "ticks": ""
           }
          },
          "title": {
           "x": 0.05
          },
          "xaxis": {
           "automargin": true,
           "gridcolor": "white",
           "linecolor": "white",
           "ticks": "",
           "title": {
            "standoff": 15
           },
           "zerolinecolor": "white",
           "zerolinewidth": 2
          },
          "yaxis": {
           "automargin": true,
           "gridcolor": "white",
           "linecolor": "white",
           "ticks": "",
           "title": {
            "standoff": 15
           },
           "zerolinecolor": "white",
           "zerolinewidth": 2
          }
         }
        },
        "xaxis": {
         "anchor": "y",
         "autorange": true,
         "domain": [
          0,
          1
         ],
         "range": [
          -0.49999999999999994,
          9.5
         ],
         "title": {
          "text": "x"
         },
         "type": "linear"
        },
        "xaxis2": {
         "anchor": "y2",
         "autorange": true,
         "domain": [
          0,
          1
         ],
         "matches": "x",
         "range": [
          -0.49999999999999994,
          9.5
         ],
         "showgrid": true,
         "showticklabels": false,
         "type": "linear"
        },
        "yaxis": {
         "anchor": "x",
         "autorange": true,
         "domain": [
          0,
          0.8316
         ],
         "range": [
          0,
          289.4736842105263
         ],
         "title": {
          "text": "count"
         }
        },
        "yaxis2": {
         "anchor": "x2",
         "autorange": true,
         "domain": [
          0.8416,
          1
         ],
         "matches": "y2",
         "range": [
          -0.5,
          0.5
         ],
         "showgrid": false,
         "showline": false,
         "showticklabels": false,
         "ticks": "",
         "type": "category"
        }
       }
      },
      "image/png": "[encoded data removed]",
      "text/html": [
       "<div>                            <div id=\"1e5aa6cc-4697-477f-95d4-5eea6c807c46\" class=\"plotly-graph-div\" style=\"height:525px; width:100%;\"></div>            <script type=\"text/javascript\">                require([\"plotly\"], function(Plotly) {                    window.PLOTLYENV=window.PLOTLYENV || {};                                    if (document.getElementById(\"1e5aa6cc-4697-477f-95d4-5eea6c807c46\")) {                    Plotly.newPlot(                        \"1e5aa6cc-4697-477f-95d4-5eea6c807c46\",                        [{\"alignmentgroup\":\"True\",\"bingroup\":\"x\",\"hovertemplate\":\"x=%{x}\\u003cbr\\u003ecount=%{y}\\u003cextra\\u003e\\u003c\\u002fextra\\u003e\",\"legendgroup\":\"\",\"marker\":{\"color\":\"#636efa\",\"pattern\":{\"shape\":\"\"}},\"name\":\"\",\"nbinsx\":20,\"offsetgroup\":\"\",\"orientation\":\"v\",\"showlegend\":false,\"x\":[1,2,1,4,1,0,1,4,3,2,0,2,0,4,3,1,0,2,5,4,1,3,1,1,1,1,0,0,1,1,1,1,1,2,1,3,1,3,2,0,3,2,5,3,3,4,3,1,1,2,2,4,3,1,4,5,1,1,3,2,0,1,0,4,1,1,4,2,2,2,4,1,1,5,2,2,1,2,2,1,3,1,2,3,1,1,2,4,2,2,2,1,2,3,3,3,1,1,5,4,0,4,1,1,2,0,1,3,0,2,2,2,0,3,2,6,4,4,3,0,1,3,2,0,1,3,1,3,0,5,1,2,2,2,3,2,0,2,4,2,3,1,2,1,1,1,1,0,4,2,2,1,1,2,2,2,1,1,1,2,0,3,3,3,4,4,1,0,3,0,0,1,4,3,0,4,3,2,3,4,2,0,6,1,1,1,5,0,0,1,1,1,0,2,1,0,2,2,3,4,1,1,4,1,1,0,3,2,3,0,2,1,3,2,5,1,2,2,3,3,2,2,2,3,2,2,0,1,2,2,2,2,3,1,0,6,5,1,6,1,3,2,4,2,1,2,3,0,2,2,1,2,1,2,4,1,3,3,3,1,3,0,0,2,2,1,2,1,2,0,0,1,3,2,2,1,1,2,1,2,0,2,4,0,1,1,5,1,4,4,2,2,3,3,4,3,4,0,2,0,1,9,2,0,3,5,3,2,5,2,3,0,1,4,3,4,1,8,1,0,1,0,3,0,3,3,1,3,2,4,3,1,2,2,4,4,0,2,2,3,0,0,3,0,2,3,2,3,1,1,1,1,3,0,0,2,5,3,3,2,2,4,3,1,2,2,1,3,2,2,1,2,1,0,1,2,1,1,4,0,3,2,0,1,3,1,1,5,1,3,0,2,0,1,1,0,1,1,4,4,1,2,1,3,0,2,2,2,1,4,4,2,0,2,4,6,1,3,5,1,4,1,0,1,1,1,2,1,2,0,4,1,1,4,5,2,1,3,2,4,3,2,3,1,2,2,0,4,3,1,4,4,2,0,0,1,0,0,1,1,2,1,0,3,1,3,4,1,0,2,1,0,3,5,1,2,1,3,1,1,0,3,2,2,2,2,2,3,2,0,3,0,6,1,0,3,1,2,1,5,2,1,0,2,1,3,1,3,0,1,5,3,2,2,1,2,0,2,1,1,2,4,2,0,3,1,1,3,3,1,4,1,1,2,1,4,3,2,2,1,1,5,1,3,1,2,2,2,2,2,2,0,2,4,3,1,2,4,0,3,2,2,5,0,1,0,2,1,4,1,0,0,2,2,5,2,1,3,2,2,1,2,2,0,1,2,1,3,3,2,1,2,2,4,3,3,1,3,2,2,1,3,1,1,1,1,5,1,1,3,2,3,1,1,4,0,4,2,0,2,1,1,2,5,4,3,1,1,5,1,1,1,2,1,2,4,2,1,0,1,1,3,1,2,2,5,1,2,1,4,2,3,1,5,3,3,1,1,1,4,2,3,2,4,2,3,2,1,1,2,4,2,3,0,0,2,1,2,3,0,4,1,2,1,3,1,2,4,0,1,2,3,2,1,0,4,1,1,0,1,0,3,5,1,4,0,1,3,2,0,3,3,0,3,2,1,5,3,2,2,3,3,4,1,2,1,2,0,4,1,0,4,0,0,1,2,5,2,2,2,2,1,0,2,0,1,1,2,3,0,1,2,3,2,2,1,0,3,2,3,1,0,1,2,1,3,1,6,5,2,1,5,3,3,2,0,3,2,0,3,2,2,4,5,1,2,3,1,2,2,1,2,2,2,2,2,0,3,1,5,2,1,2,4,2,2,1,1,2,2,3,3,2,2,2,1,0,0,2,2,1,1,2,3,1,4,3,3,2,3,5,1,2,0,6,1,6,4,3,1,4,0,1,1,2,5,3,3,1,2,2,3,3,2,2,2,1,1,0,4,1,2,0,3,1,2,2,0,3,3,5,3,2,2,2,1,0,0,1,2,1,5,2,0,4,3,4,2,1,2,1,5,0,3,3,4,0,2,2,5,3,5,2,3,0,1,1,2,5,2,3,2,3,5,0,0,3,2,2,2,2,1,1,4,6,1,1,2,0,3,2,0,1,1,1,1,1,1,3,3,2,2,2,7,1,1,1,1,4,3,3,5,4,3,4,3,6,3,9,1,3,3,1,3,1,2,1,2,0,3,2,3,2,0,1,8,1,2,4,1,2,2,0,3,2,1,3,0,2,3,0,1,2,3,3,0,3,1,5,1],\"xaxis\":\"x\",\"yaxis\":\"y\",\"type\":\"histogram\"},{\"alignmentgroup\":\"True\",\"hovertemplate\":\"x=%{x}\\u003cextra\\u003e\\u003c\\u002fextra\\u003e\",\"legendgroup\":\"\",\"marker\":{\"color\":\"#636efa\"},\"name\":\"\",\"notched\":true,\"offsetgroup\":\"\",\"showlegend\":false,\"x\":[1,2,1,4,1,0,1,4,3,2,0,2,0,4,3,1,0,2,5,4,1,3,1,1,1,1,0,0,1,1,1,1,1,2,1,3,1,3,2,0,3,2,5,3,3,4,3,1,1,2,2,4,3,1,4,5,1,1,3,2,0,1,0,4,1,1,4,2,2,2,4,1,1,5,2,2,1,2,2,1,3,1,2,3,1,1,2,4,2,2,2,1,2,3,3,3,1,1,5,4,0,4,1,1,2,0,1,3,0,2,2,2,0,3,2,6,4,4,3,0,1,3,2,0,1,3,1,3,0,5,1,2,2,2,3,2,0,2,4,2,3,1,2,1,1,1,1,0,4,2,2,1,1,2,2,2,1,1,1,2,0,3,3,3,4,4,1,0,3,0,0,1,4,3,0,4,3,2,3,4,2,0,6,1,1,1,5,0,0,1,1,1,0,2,1,0,2,2,3,4,1,1,4,1,1,0,3,2,3,0,2,1,3,2,5,1,2,2,3,3,2,2,2,3,2,2,0,1,2,2,2,2,3,1,0,6,5,1,6,1,3,2,4,2,1,2,3,0,2,2,1,2,1,2,4,1,3,3,3,1,3,0,0,2,2,1,2,1,2,0,0,1,3,2,2,1,1,2,1,2,0,2,4,0,1,1,5,1,4,4,2,2,3,3,4,3,4,0,2,0,1,9,2,0,3,5,3,2,5,2,3,0,1,4,3,4,1,8,1,0,1,0,3,0,3,3,1,3,2,4,3,1,2,2,4,4,0,2,2,3,0,0,3,0,2,3,2,3,1,1,1,1,3,0,0,2,5,3,3,2,2,4,3,1,2,2,1,3,2,2,1,2,1,0,1,2,1,1,4,0,3,2,0,1,3,1,1,5,1,3,0,2,0,1,1,0,1,1,4,4,1,2,1,3,0,2,2,2,1,4,4,2,0,2,4,6,1,3,5,1,4,1,0,1,1,1,2,1,2,0,4,1,1,4,5,2,1,3,2,4,3,2,3,1,2,2,0,4,3,1,4,4,2,0,0,1,0,0,1,1,2,1,0,3,1,3,4,1,0,2,1,0,3,5,1,2,1,3,1,1,0,3,2,2,2,2,2,3,2,0,3,0,6,1,0,3,1,2,1,5,2,1,0,2,1,3,1,3,0,1,5,3,2,2,1,2,0,2,1,1,2,4,2,0,3,1,1,3,3,1,4,1,1,2,1,4,3,2,2,1,1,5,1,3,1,2,2,2,2,2,2,0,2,4,3,1,2,4,0,3,2,2,5,0,1,0,2,1,4,1,0,0,2,2,5,2,1,3,2,2,1,2,2,0,1,2,1,3,3,2,1,2,2,4,3,3,1,3,2,2,1,3,1,1,1,1,5,1,1,3,2,3,1,1,4,0,4,2,0,2,1,1,2,5,4,3,1,1,5,1,1,1,2,1,2,4,2,1,0,1,1,3,1,2,2,5,1,2,1,4,2,3,1,5,3,3,1,1,1,4,2,3,2,4,2,3,2,1,1,2,4,2,3,0,0,2,1,2,3,0,4,1,2,1,3,1,2,4,0,1,2,3,2,1,0,4,1,1,0,1,0,3,5,1,4,0,1,3,2,0,3,3,0,3,2,1,5,3,2,2,3,3,4,1,2,1,2,0,4,1,0,4,0,0,1,2,5,2,2,2,2,1,0,2,0,1,1,2,3,0,1,2,3,2,2,1,0,3,2,3,1,0,1,2,1,3,1,6,5,2,1,5,3,3,2,0,3,2,0,3,2,2,4,5,1,2,3,1,2,2,1,2,2,2,2,2,0,3,1,5,2,1,2,4,2,2,1,1,2,2,3,3,2,2,2,1,0,0,2,2,1,1,2,3,1,4,3,3,2,3,5,1,2,0,6,1,6,4,3,1,4,0,1,1,2,5,3,3,1,2,2,3,3,2,2,2,1,1,0,4,1,2,0,3,1,2,2,0,3,3,5,3,2,2,2,1,0,0,1,2,1,5,2,0,4,3,4,2,1,2,1,5,0,3,3,4,0,2,2,5,3,5,2,3,0,1,1,2,5,2,3,2,3,5,0,0,3,2,2,2,2,1,1,4,6,1,1,2,0,3,2,0,1,1,1,1,1,1,3,3,2,2,2,7,1,1,1,1,4,3,3,5,4,3,4,3,6,3,9,1,3,3,1,3,1,2,1,2,0,3,2,3,2,0,1,8,1,2,4,1,2,2,0,3,2,1,3,0,2,3,0,1,2,3,3,0,3,1,5,1],\"xaxis\":\"x2\",\"yaxis\":\"y2\",\"type\":\"box\"}],                        {\"template\":{\"data\":{\"histogram2dcontour\":[{\"type\":\"histogram2dcontour\",\"colorbar\":{\"outlinewidth\":0,\"ticks\":\"\"},\"colorscale\":[[0.0,\"#0d0887\"],[0.1111111111111111,\"#46039f\"],[0.2222222222222222,\"#7201a8\"],[0.3333333333333333,\"#9c179e\"],[0.4444444444444444,\"#bd3786\"],[0.5555555555555556,\"#d8576b\"],[0.6666666666666666,\"#ed7953\"],[0.7777777777777778,\"#fb9f3a\"],[0.8888888888888888,\"#fdca26\"],[1.0,\"#f0f921\"]]}],\"choropleth\":[{\"type\":\"choropleth\",\"colorbar\":{\"outlinewidth\":0,\"ticks\":\"\"}}],\"histogram2d\":[{\"type\":\"histogram2d\",\"colorbar\":{\"outlinewidth\":0,\"ticks\":\"\"},\"colorscale\":[[0.0,\"#0d0887\"],[0.1111111111111111,\"#46039f\"],[0.2222222222222222,\"#7201a8\"],[0.3333333333333333,\"#9c179e\"],[0.4444444444444444,\"#bd3786\"],[0.5555555555555556,\"#d8576b\"],[0.6666666666666666,\"#ed7953\"],[0.7777777777777778,\"#fb9f3a\"],[0.8888888888888888,\"#fdca26\"],[1.0,\"#f0f921\"]]}],\"heatmap\":[{\"type\":\"heatmap\",\"colorbar\":{\"outlinewidth\":0,\"ticks\":\"\"},\"colorscale\":[[0.0,\"#0d0887\"],[0.1111111111111111,\"#46039f\"],[0.2222222222222222,\"#7201a8\"],[0.3333333333333333,\"#9c179e\"],[0.4444444444444444,\"#bd3786\"],[0.5555555555555556,\"#d8576b\"],[0.6666666666666666,\"#ed7953\"],[0.7777777777777778,\"#fb9f3a\"],[0.8888888888888888,\"#fdca26\"],[1.0,\"#f0f921\"]]}],\"heatmapgl\":[{\"type\":\"heatmapgl\",\"colorbar\":{\"outlinewidth\":0,\"ticks\":\"\"},\"colorscale\":[[0.0,\"#0d0887\"],[0.1111111111111111,\"#46039f\"],[0.2222222222222222,\"#7201a8\"],[0.3333333333333333,\"#9c179e\"],[0.4444444444444444,\"#bd3786\"],[0.5555555555555556,\"#d8576b\"],[0.6666666666666666,\"#ed7953\"],[0.7777777777777778,\"#fb9f3a\"],[0.8888888888888888,\"#fdca26\"],[1.0,\"#f0f921\"]]}],\"contourcarpet\":[{\"type\":\"contourcarpet\",\"colorbar\":{\"outlinewidth\":0,\"ticks\":\"\"}}],\"contour\":[{\"type\":\"contour\",\"colorbar\":{\"outlinewidth\":0,\"ticks\":\"\"},\"colorscale\":[[0.0,\"#0d0887\"],[0.1111111111111111,\"#46039f\"],[0.2222222222222222,\"#7201a8\"],[0.3333333333333333,\"#9c179e\"],[0.4444444444444444,\"#bd3786\"],[0.5555555555555556,\"#d8576b\"],[0.6666666666666666,\"#ed7953\"],[0.7777777777777778,\"#fb9f3a\"],[0.8888888888888888,\"#fdca26\"],[1.0,\"#f0f921\"]]}],\"surface\":[{\"type\":\"surface\",\"colorbar\":{\"outlinewidth\":0,\"ticks\":\"\"},\"colorscale\":[[0.0,\"#0d0887\"],[0.1111111111111111,\"#46039f\"],[0.2222222222222222,\"#7201a8\"],[0.3333333333333333,\"#9c179e\"],[0.4444444444444444,\"#bd3786\"],[0.5555555555555556,\"#d8576b\"],[0.6666666666666666,\"#ed7953\"],[0.7777777777777778,\"#fb9f3a\"],[0.8888888888888888,\"#fdca26\"],[1.0,\"#f0f921\"]]}],\"mesh3d\":[{\"type\":\"mesh3d\",\"colorbar\":{\"outlinewidth\":0,\"ticks\":\"\"}}],\"scatter\":[{\"fillpattern\":{\"fillmode\":\"overlay\",\"size\":10,\"solidity\":0.2},\"type\":\"scatter\"}],\"parcoords\":[{\"type\":\"parcoords\",\"line\":{\"colorbar\":{\"outlinewidth\":0,\"ticks\":\"\"}}}],\"scatterpolargl\":[{\"type\":\"scatterpolargl\",\"marker\":{\"colorbar\":{\"outlinewidth\":0,\"ticks\":\"\"}}}],\"bar\":[{\"error_x\":{\"color\":\"#2a3f5f\"},\"error_y\":{\"color\":\"#2a3f5f\"},\"marker\":{\"line\":{\"color\":\"#E5ECF6\",\"width\":0.5},\"pattern\":{\"fillmode\":\"overlay\",\"size\":10,\"solidity\":0.2}},\"type\":\"bar\"}],\"scattergeo\":[{\"type\":\"scattergeo\",\"marker\":{\"colorbar\":{\"outlinewidth\":0,\"ticks\":\"\"}}}],\"scatterpolar\":[{\"type\":\"scatterpolar\",\"marker\":{\"colorbar\":{\"outlinewidth\":0,\"ticks\":\"\"}}}],\"histogram\":[{\"marker\":{\"pattern\":{\"fillmode\":\"overlay\",\"size\":10,\"solidity\":0.2}},\"type\":\"histogram\"}],\"scattergl\":[{\"type\":\"scattergl\",\"marker\":{\"colorbar\":{\"outlinewidth\":0,\"ticks\":\"\"}}}],\"scatter3d\":[{\"type\":\"scatter3d\",\"line\":{\"colorbar\":{\"outlinewidth\":0,\"ticks\":\"\"}},\"marker\":{\"colorbar\":{\"outlinewidth\":0,\"ticks\":\"\"}}}],\"scattermapbox\":[{\"type\":\"scattermapbox\",\"marker\":{\"colorbar\":{\"outlinewidth\":0,\"ticks\":\"\"}}}],\"scatterternary\":[{\"type\":\"scatterternary\",\"marker\":{\"colorbar\":{\"outlinewidth\":0,\"ticks\":\"\"}}}],\"scattercarpet\":[{\"type\":\"scattercarpet\",\"marker\":{\"colorbar\":{\"outlinewidth\":0,\"ticks\":\"\"}}}],\"carpet\":[{\"aaxis\":{\"endlinecolor\":\"#2a3f5f\",\"gridcolor\":\"white\",\"linecolor\":\"white\",\"minorgridcolor\":\"white\",\"startlinecolor\":\"#2a3f5f\"},\"baxis\":{\"endlinecolor\":\"#2a3f5f\",\"gridcolor\":\"white\",\"linecolor\":\"white\",\"minorgridcolor\":\"white\",\"startlinecolor\":\"#2a3f5f\"},\"type\":\"carpet\"}],\"table\":[{\"cells\":{\"fill\":{\"color\":\"#EBF0F8\"},\"line\":{\"color\":\"white\"}},\"header\":{\"fill\":{\"color\":\"#C8D4E3\"},\"line\":{\"color\":\"white\"}},\"type\":\"table\"}],\"barpolar\":[{\"marker\":{\"line\":{\"color\":\"#E5ECF6\",\"width\":0.5},\"pattern\":{\"fillmode\":\"overlay\",\"size\":10,\"solidity\":0.2}},\"type\":\"barpolar\"}],\"pie\":[{\"automargin\":true,\"type\":\"pie\"}]},\"layout\":{\"autotypenumbers\":\"strict\",\"colorway\":[\"#636efa\",\"#EF553B\",\"#00cc96\",\"#ab63fa\",\"#FFA15A\",\"#19d3f3\",\"#FF6692\",\"#B6E880\",\"#FF97FF\",\"#FECB52\"],\"font\":{\"color\":\"#2a3f5f\"},\"hovermode\":\"closest\",\"hoverlabel\":{\"align\":\"left\"},\"paper_bgcolor\":\"white\",\"plot_bgcolor\":\"#E5ECF6\",\"polar\":{\"bgcolor\":\"#E5ECF6\",\"angularaxis\":{\"gridcolor\":\"white\",\"linecolor\":\"white\",\"ticks\":\"\"},\"radialaxis\":{\"gridcolor\":\"white\",\"linecolor\":\"white\",\"ticks\":\"\"}},\"ternary\":{\"bgcolor\":\"#E5ECF6\",\"aaxis\":{\"gridcolor\":\"white\",\"linecolor\":\"white\",\"ticks\":\"\"},\"baxis\":{\"gridcolor\":\"white\",\"linecolor\":\"white\",\"ticks\":\"\"},\"caxis\":{\"gridcolor\":\"white\",\"linecolor\":\"white\",\"ticks\":\"\"}},\"coloraxis\":{\"colorbar\":{\"outlinewidth\":0,\"ticks\":\"\"}},\"colorscale\":{\"sequential\":[[0.0,\"#0d0887\"],[0.1111111111111111,\"#46039f\"],[0.2222222222222222,\"#7201a8\"],[0.3333333333333333,\"#9c179e\"],[0.4444444444444444,\"#bd3786\"],[0.5555555555555556,\"#d8576b\"],[0.6666666666666666,\"#ed7953\"],[0.7777777777777778,\"#fb9f3a\"],[0.8888888888888888,\"#fdca26\"],[1.0,\"#f0f921\"]],\"sequentialminus\":[[0.0,\"#0d0887\"],[0.1111111111111111,\"#46039f\"],[0.2222222222222222,\"#7201a8\"],[0.3333333333333333,\"#9c179e\"],[0.4444444444444444,\"#bd3786\"],[0.5555555555555556,\"#d8576b\"],[0.6666666666666666,\"#ed7953\"],[0.7777777777777778,\"#fb9f3a\"],[0.8888888888888888,\"#fdca26\"],[1.0,\"#f0f921\"]],\"diverging\":[[0,\"#8e0152\"],[0.1,\"#c51b7d\"],[0.2,\"#de77ae\"],[0.3,\"#f1b6da\"],[0.4,\"#fde0ef\"],[0.5,\"#f7f7f7\"],[0.6,\"#e6f5d0\"],[0.7,\"#b8e186\"],[0.8,\"#7fbc41\"],[0.9,\"#4d9221\"],[1,\"#276419\"]]},\"xaxis\":{\"gridcolor\":\"white\",\"linecolor\":\"white\",\"ticks\":\"\",\"title\":{\"standoff\":15},\"zerolinecolor\":\"white\",\"automargin\":true,\"zerolinewidth\":2},\"yaxis\":{\"gridcolor\":\"white\",\"linecolor\":\"white\",\"ticks\":\"\",\"title\":{\"standoff\":15},\"zerolinecolor\":\"white\",\"automargin\":true,\"zerolinewidth\":2},\"scene\":{\"xaxis\":{\"backgroundcolor\":\"#E5ECF6\",\"gridcolor\":\"white\",\"linecolor\":\"white\",\"showbackground\":true,\"ticks\":\"\",\"zerolinecolor\":\"white\",\"gridwidth\":2},\"yaxis\":{\"backgroundcolor\":\"#E5ECF6\",\"gridcolor\":\"white\",\"linecolor\":\"white\",\"showbackground\":true,\"ticks\":\"\",\"zerolinecolor\":\"white\",\"gridwidth\":2},\"zaxis\":{\"backgroundcolor\":\"#E5ECF6\",\"gridcolor\":\"white\",\"linecolor\":\"white\",\"showbackground\":true,\"ticks\":\"\",\"zerolinecolor\":\"white\",\"gridwidth\":2}},\"shapedefaults\":{\"line\":{\"color\":\"#2a3f5f\"}},\"annotationdefaults\":{\"arrowcolor\":\"#2a3f5f\",\"arrowhead\":0,\"arrowwidth\":1},\"geo\":{\"bgcolor\":\"white\",\"landcolor\":\"#E5ECF6\",\"subunitcolor\":\"white\",\"showland\":true,\"showlakes\":true,\"lakecolor\":\"white\"},\"title\":{\"x\":0.05},\"mapbox\":{\"style\":\"light\"}}},\"xaxis\":{\"anchor\":\"y\",\"domain\":[0.0,1.0],\"title\":{\"text\":\"x\"}},\"yaxis\":{\"anchor\":\"x\",\"domain\":[0.0,0.8316],\"title\":{\"text\":\"count\"}},\"xaxis2\":{\"anchor\":\"y2\",\"domain\":[0.0,1.0],\"matches\":\"x\",\"showticklabels\":false,\"showgrid\":true},\"yaxis2\":{\"anchor\":\"x2\",\"domain\":[0.8416,1.0],\"matches\":\"y2\",\"showticklabels\":false,\"showline\":false,\"ticks\":\"\",\"showgrid\":false},\"legend\":{\"tracegroupgap\":0},\"margin\":{\"t\":60},\"barmode\":\"relative\"},                        {\"responsive\": true}                    ).then(function(){\n",
       "                            \n",
       "var gd = document.getElementById('1e5aa6cc-4697-477f-95d4-5eea6c807c46');\n",
       "var x = new MutationObserver(function (mutations, observer) {{\n",
       "        var display = window.getComputedStyle(gd).display;\n",
       "        if (!display || display === 'none') {{\n",
       "            console.log([gd, 'removed!']);\n",
       "            Plotly.purge(gd);\n",
       "            observer.disconnect();\n",
       "        }}\n",
       "}});\n",
       "\n",
       "// Listen for the removal of the full notebook cells\n",
       "var notebookContainer = gd.closest('#notebook-container');\n",
       "if (notebookContainer) {{\n",
       "    x.observe(notebookContainer, {childList: true});\n",
       "}}\n",
       "\n",
       "// Listen for the clearing of the current output cell\n",
       "var outputEl = gd.closest('.output');\n",
       "if (outputEl) {{\n",
       "    x.observe(outputEl, {childList: true});\n",
       "}}\n",
       "\n",
       "                        })                };                });            </script>        </div>"
      ]
     },
     "metadata": {},
     "output_type": "display_data"
    }
   ],
   "source": [
    "# YOUR CODE HERE"
   ]
  },
  {
   "cell_type": "markdown",
   "id": "da48b4bc-36b6-4295-b8a9-08b76bcb50d2",
   "metadata": {},
   "source": [
    "### 1.4.3. Перемешивание и выборка"
   ]
  },
  {
   "cell_type": "code",
   "execution_count": 82,
   "id": "18f93653-14d6-4af2-9770-0dc3e3189fcd",
   "metadata": {},
   "outputs": [
    {
     "data": {
      "text/plain": [
       "array([[0, 1, 2, 3, 4],\n",
       "       [5, 6, 7, 8, 9]])"
      ]
     },
     "execution_count": 82,
     "metadata": {},
     "output_type": "execute_result"
    },
    {
     "data": {
      "text/plain": [
       "array([[2, 4, 0, 1, 3],\n",
       "       [7, 9, 5, 6, 8]])"
      ]
     },
     "execution_count": 82,
     "metadata": {},
     "output_type": "execute_result"
    }
   ],
   "source": [
    "arr = np.arange(10).reshape(-1, 5)\n",
    "arr\n",
    "res = rng.shuffle(arr, axis=1)\n",
    "arr"
   ]
  },
  {
   "cell_type": "code",
   "execution_count": 83,
   "id": "467a3bb8-4ddb-4219-b27b-792ad81a8929",
   "metadata": {},
   "outputs": [
    {
     "data": {
      "text/plain": [
       "array([[ 2,  4,  3,  0,  1],\n",
       "       [ 7,  9,  8,  5,  6],\n",
       "       [12, 14, 13, 10, 11],\n",
       "       [17, 19, 18, 15, 16]])"
      ]
     },
     "execution_count": 83,
     "metadata": {},
     "output_type": "execute_result"
    }
   ],
   "source": [
    "arr = np.arange(20).reshape(-1, 5)\n",
    "new_arr = rng.permutation(arr, axis=1)\n",
    "new_arr"
   ]
  },
  {
   "cell_type": "code",
   "execution_count": 77,
   "id": "33bf7768-7599-447b-ab27-e2fbdccd63bb",
   "metadata": {},
   "outputs": [
    {
     "data": {
      "text/plain": [
       "array([[ 0,  1,  2,  3,  4],\n",
       "       [ 5,  6,  7,  8,  9],\n",
       "       [10, 11, 12, 13, 14],\n",
       "       [15, 16, 17, 18, 19]])"
      ]
     },
     "execution_count": 77,
     "metadata": {},
     "output_type": "execute_result"
    },
    {
     "data": {
      "text/plain": [
       "array([[15, 16, 17, 18, 19],\n",
       "       [ 0,  1,  2,  3,  4],\n",
       "       [15, 16, 17, 18, 19]])"
      ]
     },
     "execution_count": 77,
     "metadata": {},
     "output_type": "execute_result"
    },
    {
     "data": {
      "text/plain": [
       "array([[15, 16, 17, 18, 19],\n",
       "       [ 5,  6,  7,  8,  9],\n",
       "       [10, 11, 12, 13, 14]])"
      ]
     },
     "execution_count": 77,
     "metadata": {},
     "output_type": "execute_result"
    }
   ],
   "source": [
    "arr = np.arange(20).reshape(-1, 5)\n",
    "arr\n",
    "rng.choice(arr, size=3)\n",
    "rng.choice(arr, size=3, replace=False)"
   ]
  },
  {
   "cell_type": "markdown",
   "id": "90fd65ea-610b-470e-8e20-01cd1299ba39",
   "metadata": {},
   "source": [
    "<a id = \"2\"></a>\n",
    "# 2. Pandas\n",
    "\n",
    "**Pandas** - библиотека Python для обработки и анализа данных. Она предоставляет специальные структуры данных и операции для манипулирования числовыми (и не только) таблицами и временными рядами.\n",
    "\n",
    "**Полезные ссылки:**\n",
    "\n",
    "- [pandas](https://pandas.pydata.org/)\n",
    "- [pandas starter's guide](https://pythonist.ru/pandas-tutorial/)\n",
    "- [pandas tutorial](https://www.geeksforgeeks.org/pandas-tutorial)\n",
    "- [pandas challenges](https://pandaspractice.com/)"
   ]
  },
  {
   "cell_type": "code",
   "execution_count": 39,
   "id": "8261b4d8-1861-485b-8db7-02e39dff670f",
   "metadata": {},
   "outputs": [],
   "source": [
    "import os\n",
    "import numpy as np\n",
    "import pandas as pd\n",
    "\n",
    "# Показывать несколько выводов в одной клетке. Улучшает читаемость и удобство понимания\n",
    "from IPython.core.interactiveshell import InteractiveShell\n",
    "InteractiveShell.ast_node_interactivity = \"all\""
   ]
  },
  {
   "cell_type": "markdown",
   "id": "1e44c09b-7294-4cd7-a414-bb21cee65aa2",
   "metadata": {},
   "source": [
    "<a id=\"2.0\"></a>\n",
    "## 2.0. Установка"
   ]
  },
  {
   "cell_type": "code",
   "execution_count": 3,
   "id": "580de6b7-0c03-4634-91a8-be5add129ccc",
   "metadata": {},
   "outputs": [
    {
     "name": "stdout",
     "output_type": "stream",
     "text": [
      "Requirement already satisfied: pandas==2.2.* in c:\\users\\kitro\\anaconda3\\envs\\jupyterlab\\lib\\site-packages (2.2.2)\n",
      "Requirement already satisfied: numpy>=1.26.0 in c:\\users\\kitro\\anaconda3\\envs\\jupyterlab\\lib\\site-packages (from pandas==2.2.*) (1.26.4)\n",
      "Requirement already satisfied: python-dateutil>=2.8.2 in c:\\users\\kitro\\anaconda3\\envs\\jupyterlab\\lib\\site-packages (from pandas==2.2.*) (2.8.2)\n",
      "Requirement already satisfied: pytz>=2020.1 in c:\\users\\kitro\\anaconda3\\envs\\jupyterlab\\lib\\site-packages (from pandas==2.2.*) (2023.4)\n",
      "Requirement already satisfied: tzdata>=2022.7 in c:\\users\\kitro\\anaconda3\\envs\\jupyterlab\\lib\\site-packages (from pandas==2.2.*) (2024.1)\n",
      "Requirement already satisfied: six>=1.5 in c:\\users\\kitro\\anaconda3\\envs\\jupyterlab\\lib\\site-packages (from python-dateutil>=2.8.2->pandas==2.2.*) (1.16.0)\n",
      "Note: you may need to restart the kernel to use updated packages.\n"
     ]
    }
   ],
   "source": [
    "pip install pandas==2.2.*"
   ]
  },
  {
   "cell_type": "markdown",
   "id": "85ef4eef-da5c-487c-bfea-1a9fa07e3458",
   "metadata": {},
   "source": [
    "<a id=\"2.1\"></a>\n",
    "## 2.1. Series"
   ]
  },
  {
   "cell_type": "markdown",
   "id": "75b93371-e514-4f26-8dd2-5d882e06a989",
   "metadata": {},
   "source": [
    "### 2.1.0. Создание и атрибуты"
   ]
  },
  {
   "cell_type": "code",
   "execution_count": 108,
   "id": "0859f209-159f-4203-a907-183fd751bda7",
   "metadata": {},
   "outputs": [
    {
     "data": {
      "text/plain": [
       "a   -1.759699\n",
       "b   -0.060606\n",
       "c    0.101317\n",
       "d    0.378296\n",
       "e    1.617290\n",
       "dtype: float64"
      ]
     },
     "execution_count": 108,
     "metadata": {},
     "output_type": "execute_result"
    },
    {
     "data": {
      "text/plain": [
       "array([-1.75969881, -0.06060586,  0.10131665,  0.37829567,  1.61729001])"
      ]
     },
     "execution_count": 108,
     "metadata": {},
     "output_type": "execute_result"
    },
    {
     "data": {
      "text/plain": [
       "Index(['a', 'b', 'c', 'd', 'e'], dtype='object')"
      ]
     },
     "execution_count": 108,
     "metadata": {},
     "output_type": "execute_result"
    }
   ],
   "source": [
    "rng = np.random.default_rng(seed=712)  # Задали сид\n",
    "s = pd.Series(rng.standard_normal(size=5), index=['a', 'b', 'c', 'd', 'e'])\n",
    "s  # Вся серия\n",
    "s.values  # Значения\n",
    "s.index  # Столбцы (индексы)"
   ]
  },
  {
   "cell_type": "code",
   "execution_count": 112,
   "id": "c052bfe0-cbbe-4f04-8abf-4fd4580e817a",
   "metadata": {},
   "outputs": [
    {
     "data": {
      "text/plain": [
       "False"
      ]
     },
     "execution_count": 112,
     "metadata": {},
     "output_type": "execute_result"
    },
    {
     "data": {
      "text/plain": [
       "True"
      ]
     },
     "execution_count": 112,
     "metadata": {},
     "output_type": "execute_result"
    },
    {
     "data": {
      "text/plain": [
       "True"
      ]
     },
     "execution_count": 112,
     "metadata": {},
     "output_type": "execute_result"
    },
    {
     "data": {
      "text/plain": [
       "(5,)"
      ]
     },
     "execution_count": 112,
     "metadata": {},
     "output_type": "execute_result"
    }
   ],
   "source": [
    "s.is_monotonic_decreasing  # Значения уменьшаются\n",
    "s.is_monotonic_increasing  # Значения увеличиваются\n",
    "s.is_unique  # Все значения уникальны\n",
    "s.shape  # Размерность Серии, всегда будет (n,)"
   ]
  },
  {
   "cell_type": "code",
   "execution_count": 113,
   "id": "35114f55-708c-4d87-831d-329fe8046f83",
   "metadata": {},
   "outputs": [
    {
     "data": {
      "text/plain": [
       "1.6172900091923579"
      ]
     },
     "execution_count": 113,
     "metadata": {},
     "output_type": "execute_result"
    },
    {
     "data": {
      "text/plain": [
       "1.6172900091923579"
      ]
     },
     "execution_count": 113,
     "metadata": {},
     "output_type": "execute_result"
    },
    {
     "data": {
      "text/plain": [
       "1.6172900091923579"
      ]
     },
     "execution_count": 113,
     "metadata": {},
     "output_type": "execute_result"
    }
   ],
   "source": [
    "s.iloc[4]\n",
    "s[\"e\"]\n",
    "s.loc[\"e\"]"
   ]
  },
  {
   "cell_type": "code",
   "execution_count": 114,
   "id": "799416cf-7982-4145-ba55-7f9585db82cb",
   "metadata": {},
   "outputs": [
    {
     "data": {
      "text/plain": [
       "b   -0.060606\n",
       "e    1.617290\n",
       "dtype: float64"
      ]
     },
     "execution_count": 114,
     "metadata": {},
     "output_type": "execute_result"
    }
   ],
   "source": [
    "s[['b','e']]"
   ]
  },
  {
   "cell_type": "markdown",
   "id": "24c9997d-e6f0-46d8-8f1a-6df81f9f9862",
   "metadata": {},
   "source": [
    "### 2.1.1. Преобразования"
   ]
  },
  {
   "cell_type": "code",
   "execution_count": 137,
   "id": "869d21f6-6364-42f1-9630-152d535d3ea4",
   "metadata": {},
   "outputs": [
    {
     "data": {
      "text/plain": [
       "a   -1.759699\n",
       "b   -0.060606\n",
       "c    0.101317\n",
       "d    0.378296\n",
       "e    1.617290\n",
       "dtype: float64"
      ]
     },
     "execution_count": 137,
     "metadata": {},
     "output_type": "execute_result"
    },
    {
     "data": {
      "text/plain": [
       "a    1.759699\n",
       "b    0.060606\n",
       "c    0.101317\n",
       "d    0.378296\n",
       "e    1.617290\n",
       "dtype: float64"
      ]
     },
     "execution_count": 137,
     "metadata": {},
     "output_type": "execute_result"
    }
   ],
   "source": [
    "rng = np.random.default_rng(seed=712)  # Задали сид\n",
    "s = pd.Series(rng.standard_normal(size=5), index=['a', 'b', 'c', 'd', 'e'])\n",
    "s  # Вся серия\n",
    "s.abs()  # Модуль"
   ]
  },
  {
   "cell_type": "code",
   "execution_count": 138,
   "id": "dd35493e-d9ac-4832-a9ab-2f8305b0bf57",
   "metadata": {},
   "outputs": [
    {
     "data": {
      "text/plain": [
       "a         NaN\n",
       "b         NaN\n",
       "c    0.202633\n",
       "d    0.756591\n",
       "e    3.234580\n",
       "dtype: float64"
      ]
     },
     "execution_count": 138,
     "metadata": {},
     "output_type": "execute_result"
    }
   ],
   "source": [
    "s + s.iloc[2:]  # Сложение происходит по индексу"
   ]
  },
  {
   "cell_type": "code",
   "execution_count": 140,
   "id": "e84d9bd2-01a8-49b3-b18a-6f465b8817ed",
   "metadata": {},
   "outputs": [
    {
     "data": {
      "text/plain": [
       "a    0.240301\n",
       "b    0.939394\n",
       "c    0.101317\n",
       "d    0.378296\n",
       "e    0.617290\n",
       "dtype: float64"
      ]
     },
     "execution_count": 140,
     "metadata": {},
     "output_type": "execute_result"
    },
    {
     "data": {
      "text/plain": [
       "0.05531953119705255"
      ]
     },
     "execution_count": 140,
     "metadata": {},
     "output_type": "execute_result"
    },
    {
     "data": {
      "text/plain": [
       "1.2097428819756284"
      ]
     },
     "execution_count": 140,
     "metadata": {},
     "output_type": "execute_result"
    },
    {
     "data": {
      "text/plain": [
       "a   -0.187781\n",
       "b    0.998164\n",
       "c    0.994872\n",
       "d    0.929295\n",
       "e   -0.046477\n",
       "dtype: float64"
      ]
     },
     "execution_count": 140,
     "metadata": {},
     "output_type": "execute_result"
    }
   ],
   "source": [
    "s.mod(1)  # Взятие чисел по модулю\n",
    "s.mean()\n",
    "s.std()\n",
    "np.cos(s)"
   ]
  },
  {
   "cell_type": "markdown",
   "id": "6c2cb763-0f4c-4d3d-aa5c-a44ac1142e25",
   "metadata": {},
   "source": [
    "### 2.1.2. Фильтрация"
   ]
  },
  {
   "cell_type": "code",
   "execution_count": 121,
   "id": "7a805c6e-3d32-4933-a513-7905e3907473",
   "metadata": {},
   "outputs": [
    {
     "data": {
      "text/plain": [
       "a   -1.759699\n",
       "b   -0.060606\n",
       "c    0.101317\n",
       "d    0.378296\n",
       "e    1.617290\n",
       "dtype: float64"
      ]
     },
     "execution_count": 121,
     "metadata": {},
     "output_type": "execute_result"
    },
    {
     "data": {
      "text/plain": [
       "a    False\n",
       "b    False\n",
       "c     True\n",
       "d     True\n",
       "e    False\n",
       "dtype: bool"
      ]
     },
     "execution_count": 121,
     "metadata": {},
     "output_type": "execute_result"
    },
    {
     "data": {
      "text/plain": [
       "c    0.101317\n",
       "d    0.378296\n",
       "dtype: float64"
      ]
     },
     "execution_count": 121,
     "metadata": {},
     "output_type": "execute_result"
    }
   ],
   "source": [
    "rng = np.random.default_rng(seed=712)  # Задали сид\n",
    "s = pd.Series(rng.standard_normal(size=5), index=['a', 'b', 'c', 'd', 'e'])\n",
    "s  # Вся серия\n",
    "s.between(0, 1)  # Маска по принадлежности значений промежутку\n",
    "s[s.between(0, 1)]  # Применение маски"
   ]
  },
  {
   "cell_type": "code",
   "execution_count": 124,
   "id": "312627c5-968b-4e55-a463-bb108c1e0266",
   "metadata": {},
   "outputs": [
    {
     "data": {
      "text/plain": [
       "a   -1.759699\n",
       "b   -0.060606\n",
       "c    0.101317\n",
       "d    0.378296\n",
       "dtype: float64"
      ]
     },
     "execution_count": 124,
     "metadata": {},
     "output_type": "execute_result"
    },
    {
     "data": {
      "text/plain": [
       "b   -0.060606\n",
       "c    0.101317\n",
       "d    0.378296\n",
       "dtype: float64"
      ]
     },
     "execution_count": 124,
     "metadata": {},
     "output_type": "execute_result"
    }
   ],
   "source": [
    "s[s<1]  # Маска по сравнению\n",
    "s[s.round() == 0]  # Маска по равенству"
   ]
  },
  {
   "cell_type": "code",
   "execution_count": 143,
   "id": "2642a212-9829-4f69-8f03-10ac2e9c43b1",
   "metadata": {},
   "outputs": [
    {
     "data": {
      "text/plain": [
       "a    0.0\n",
       "b    NaN\n",
       "c    NaN\n",
       "d    inf\n",
       "dtype: float64"
      ]
     },
     "execution_count": 143,
     "metadata": {},
     "output_type": "execute_result"
    },
    {
     "data": {
      "text/plain": [
       "b   NaN\n",
       "c   NaN\n",
       "dtype: float64"
      ]
     },
     "execution_count": 143,
     "metadata": {},
     "output_type": "execute_result"
    },
    {
     "data": {
      "text/plain": [
       "b   NaN\n",
       "c   NaN\n",
       "dtype: float64"
      ]
     },
     "execution_count": 143,
     "metadata": {},
     "output_type": "execute_result"
    },
    {
     "data": {
      "text/plain": [
       "a    0.0\n",
       "d    inf\n",
       "dtype: float64"
      ]
     },
     "execution_count": 143,
     "metadata": {},
     "output_type": "execute_result"
    },
    {
     "data": {
      "text/plain": [
       "a    0.0\n",
       "d    inf\n",
       "dtype: float64"
      ]
     },
     "execution_count": 143,
     "metadata": {},
     "output_type": "execute_result"
    }
   ],
   "source": [
    "s = pd.Series([0, None, np.NaN, np.inf], index=['a', 'b', 'c', 'd'])\n",
    "s\n",
    "s[s.isna()]  # Получение всех NaN значений\n",
    "s[s.isnull()]  # Аналог верхнего\n",
    "\n",
    "s[s.notna()]  # Получение всех не NaN значений\n",
    "s[s.notnull()]  # Аналог верхнего"
   ]
  },
  {
   "cell_type": "code",
   "execution_count": 144,
   "id": "244a7df4-ce65-41ff-854a-a7f20fc79388",
   "metadata": {},
   "outputs": [
    {
     "data": {
      "text/plain": [
       "a    0.0\n",
       "b    NaN\n",
       "c    NaN\n",
       "d    inf\n",
       "dtype: float64"
      ]
     },
     "execution_count": 144,
     "metadata": {},
     "output_type": "execute_result"
    },
    {
     "data": {
      "text/plain": [
       "a    0.0\n",
       "d    inf\n",
       "dtype: float64"
      ]
     },
     "execution_count": 144,
     "metadata": {},
     "output_type": "execute_result"
    }
   ],
   "source": [
    "s = pd.Series([0, None, np.NaN, np.inf], index=['a', 'b', 'c', 'd'])\n",
    "s\n",
    "s.dropna()  # Получение новой серии с выкидыванием всех NaN значений"
   ]
  },
  {
   "cell_type": "markdown",
   "id": "f859af5a-7d62-49bd-a9ee-f4e046280e21",
   "metadata": {},
   "source": [
    "<a id=\"2.2\"></a>\n",
    "## 2.2. DataFrame"
   ]
  },
  {
   "cell_type": "markdown",
   "id": "74e5d185-6cd8-4f7a-9fa5-235f9ea290d8",
   "metadata": {},
   "source": [
    "### 2.2.0. Создание и чтение"
   ]
  },
  {
   "cell_type": "markdown",
   "id": "2cdfeafe-08f6-4a3c-8d7a-0d77c5dde0f7",
   "metadata": {},
   "source": [
    "Вид DataFrame - колонки из серий, то есть таблица  \n",
    "\n",
    "<img src=data/pandas_df.png></img>  \n",
    "<img src=data/pandas_df2.png></img>"
   ]
  },
  {
   "cell_type": "code",
   "execution_count": 145,
   "id": "cb7d424d-5555-40a0-88a9-34ba0c1a6112",
   "metadata": {},
   "outputs": [
    {
     "data": {
      "text/html": [
       "<div>\n",
       "<style scoped>\n",
       "    .dataframe tbody tr th:only-of-type {\n",
       "        vertical-align: middle;\n",
       "    }\n",
       "\n",
       "    .dataframe tbody tr th {\n",
       "        vertical-align: top;\n",
       "    }\n",
       "\n",
       "    .dataframe thead th {\n",
       "        text-align: right;\n",
       "    }\n",
       "</style>\n",
       "<table border=\"1\" class=\"dataframe\">\n",
       "  <thead>\n",
       "    <tr style=\"text-align: right;\">\n",
       "      <th></th>\n",
       "      <th>color</th>\n",
       "      <th>object</th>\n",
       "      <th>price</th>\n",
       "    </tr>\n",
       "  </thead>\n",
       "  <tbody>\n",
       "    <tr>\n",
       "      <th>0</th>\n",
       "      <td>blue</td>\n",
       "      <td>ball</td>\n",
       "      <td>1.2</td>\n",
       "    </tr>\n",
       "    <tr>\n",
       "      <th>1</th>\n",
       "      <td>green</td>\n",
       "      <td>pen</td>\n",
       "      <td>1.0</td>\n",
       "    </tr>\n",
       "    <tr>\n",
       "      <th>2</th>\n",
       "      <td>yellow</td>\n",
       "      <td>pencil</td>\n",
       "      <td>0.6</td>\n",
       "    </tr>\n",
       "    <tr>\n",
       "      <th>3</th>\n",
       "      <td>red</td>\n",
       "      <td>paper</td>\n",
       "      <td>0.9</td>\n",
       "    </tr>\n",
       "    <tr>\n",
       "      <th>4</th>\n",
       "      <td>white</td>\n",
       "      <td>mug</td>\n",
       "      <td>1.7</td>\n",
       "    </tr>\n",
       "  </tbody>\n",
       "</table>\n",
       "</div>"
      ],
      "text/plain": [
       "    color  object  price\n",
       "0    blue    ball    1.2\n",
       "1   green     pen    1.0\n",
       "2  yellow  pencil    0.6\n",
       "3     red   paper    0.9\n",
       "4   white     mug    1.7"
      ]
     },
     "execution_count": 145,
     "metadata": {},
     "output_type": "execute_result"
    }
   ],
   "source": [
    "data = {'color' : ['blue', 'green', 'yellow', 'red', 'white'],\n",
    "        'object' : ['ball', 'pen', 'pencil', 'paper', 'mug'],\n",
    "        'price' : [1.2, 1.0, 0.6, 0.9, 1.7]}\n",
    "df = pd.DataFrame(data)\n",
    "df"
   ]
  },
  {
   "cell_type": "code",
   "execution_count": 152,
   "id": "35ab0ace-05e3-418b-a65c-d7b8da786c4a",
   "metadata": {},
   "outputs": [
    {
     "data": {
      "text/html": [
       "<div>\n",
       "<style scoped>\n",
       "    .dataframe tbody tr th:only-of-type {\n",
       "        vertical-align: middle;\n",
       "    }\n",
       "\n",
       "    .dataframe tbody tr th {\n",
       "        vertical-align: top;\n",
       "    }\n",
       "\n",
       "    .dataframe thead th {\n",
       "        text-align: right;\n",
       "    }\n",
       "</style>\n",
       "<table border=\"1\" class=\"dataframe\">\n",
       "  <thead>\n",
       "    <tr style=\"text-align: right;\">\n",
       "      <th></th>\n",
       "      <th>a</th>\n",
       "      <th>b</th>\n",
       "      <th>c</th>\n",
       "      <th>d</th>\n",
       "    </tr>\n",
       "  </thead>\n",
       "  <tbody>\n",
       "    <tr>\n",
       "      <th>Ϩ</th>\n",
       "      <td>0.560188</td>\n",
       "      <td>0.575567</td>\n",
       "      <td>-1.597875</td>\n",
       "      <td>0.947536</td>\n",
       "    </tr>\n",
       "    <tr>\n",
       "      <th>ϩ</th>\n",
       "      <td>-1.321181</td>\n",
       "      <td>-0.056002</td>\n",
       "      <td>0.757153</td>\n",
       "      <td>-0.939129</td>\n",
       "    </tr>\n",
       "    <tr>\n",
       "      <th>Ϫ</th>\n",
       "      <td>0.376315</td>\n",
       "      <td>-1.052112</td>\n",
       "      <td>0.231827</td>\n",
       "      <td>0.666287</td>\n",
       "    </tr>\n",
       "    <tr>\n",
       "      <th>ϫ</th>\n",
       "      <td>-2.269064</td>\n",
       "      <td>1.436269</td>\n",
       "      <td>-0.830523</td>\n",
       "      <td>-0.540042</td>\n",
       "    </tr>\n",
       "    <tr>\n",
       "      <th>Ϭ</th>\n",
       "      <td>1.261580</td>\n",
       "      <td>-0.805608</td>\n",
       "      <td>0.511625</td>\n",
       "      <td>0.651746</td>\n",
       "    </tr>\n",
       "    <tr>\n",
       "      <th>ϭ</th>\n",
       "      <td>1.619217</td>\n",
       "      <td>-0.380609</td>\n",
       "      <td>-1.178183</td>\n",
       "      <td>-0.384944</td>\n",
       "    </tr>\n",
       "    <tr>\n",
       "      <th>Ϯ</th>\n",
       "      <td>-0.916046</td>\n",
       "      <td>0.767819</td>\n",
       "      <td>-1.262606</td>\n",
       "      <td>-1.415617</td>\n",
       "    </tr>\n",
       "    <tr>\n",
       "      <th>ϯ</th>\n",
       "      <td>1.896788</td>\n",
       "      <td>0.266413</td>\n",
       "      <td>0.421664</td>\n",
       "      <td>0.283069</td>\n",
       "    </tr>\n",
       "    <tr>\n",
       "      <th>ϰ</th>\n",
       "      <td>0.930934</td>\n",
       "      <td>0.104206</td>\n",
       "      <td>0.466579</td>\n",
       "      <td>2.199784</td>\n",
       "    </tr>\n",
       "    <tr>\n",
       "      <th>ϱ</th>\n",
       "      <td>1.722571</td>\n",
       "      <td>0.279835</td>\n",
       "      <td>0.292723</td>\n",
       "      <td>0.742451</td>\n",
       "    </tr>\n",
       "  </tbody>\n",
       "</table>\n",
       "</div>"
      ],
      "text/plain": [
       "          a         b         c         d\n",
       "Ϩ  0.560188  0.575567 -1.597875  0.947536\n",
       "ϩ -1.321181 -0.056002  0.757153 -0.939129\n",
       "Ϫ  0.376315 -1.052112  0.231827  0.666287\n",
       "ϫ -2.269064  1.436269 -0.830523 -0.540042\n",
       "Ϭ  1.261580 -0.805608  0.511625  0.651746\n",
       "ϭ  1.619217 -0.380609 -1.178183 -0.384944\n",
       "Ϯ -0.916046  0.767819 -1.262606 -1.415617\n",
       "ϯ  1.896788  0.266413  0.421664  0.283069\n",
       "ϰ  0.930934  0.104206  0.466579  2.199784\n",
       "ϱ  1.722571  0.279835  0.292723  0.742451"
      ]
     },
     "execution_count": 152,
     "metadata": {},
     "output_type": "execute_result"
    }
   ],
   "source": [
    "rng = np.random.default_rng()\n",
    "data = rng.standard_normal(size=(10, 4))\n",
    "df = pd.DataFrame(data, columns = [\"a\", \"b\", \"c\", \"d\"], index=[chr(i) for i in range(1000, 1010)])\n",
    "df"
   ]
  },
  {
   "cell_type": "code",
   "execution_count": 158,
   "id": "a4ca408e-63b8-4e1e-81fd-9d1404c3e875",
   "metadata": {},
   "outputs": [
    {
     "data": {
      "text/html": [
       "<div>\n",
       "<style scoped>\n",
       "    .dataframe tbody tr th:only-of-type {\n",
       "        vertical-align: middle;\n",
       "    }\n",
       "\n",
       "    .dataframe tbody tr th {\n",
       "        vertical-align: top;\n",
       "    }\n",
       "\n",
       "    .dataframe thead th {\n",
       "        text-align: right;\n",
       "    }\n",
       "</style>\n",
       "<table border=\"1\" class=\"dataframe\">\n",
       "  <thead>\n",
       "    <tr style=\"text-align: right;\">\n",
       "      <th></th>\n",
       "      <th>a</th>\n",
       "      <th>b</th>\n",
       "    </tr>\n",
       "  </thead>\n",
       "  <tbody>\n",
       "    <tr>\n",
       "      <th>x</th>\n",
       "      <td>0.397838</td>\n",
       "      <td>-0.580578</td>\n",
       "    </tr>\n",
       "    <tr>\n",
       "      <th>y</th>\n",
       "      <td>1.007431</td>\n",
       "      <td>0.699808</td>\n",
       "    </tr>\n",
       "    <tr>\n",
       "      <th>x</th>\n",
       "      <td>-0.255131</td>\n",
       "      <td>1.050475</td>\n",
       "    </tr>\n",
       "    <tr>\n",
       "      <th>x</th>\n",
       "      <td>-0.738390</td>\n",
       "      <td>-0.166486</td>\n",
       "    </tr>\n",
       "    <tr>\n",
       "      <th>z</th>\n",
       "      <td>0.211323</td>\n",
       "      <td>-1.056480</td>\n",
       "    </tr>\n",
       "  </tbody>\n",
       "</table>\n",
       "</div>"
      ],
      "text/plain": [
       "          a         b\n",
       "x  0.397838 -0.580578\n",
       "y  1.007431  0.699808\n",
       "x -0.255131  1.050475\n",
       "x -0.738390 -0.166486\n",
       "z  0.211323 -1.056480"
      ]
     },
     "execution_count": 158,
     "metadata": {},
     "output_type": "execute_result"
    },
    {
     "data": {
      "text/html": [
       "<div>\n",
       "<style scoped>\n",
       "    .dataframe tbody tr th:only-of-type {\n",
       "        vertical-align: middle;\n",
       "    }\n",
       "\n",
       "    .dataframe tbody tr th {\n",
       "        vertical-align: top;\n",
       "    }\n",
       "\n",
       "    .dataframe thead th {\n",
       "        text-align: right;\n",
       "    }\n",
       "</style>\n",
       "<table border=\"1\" class=\"dataframe\">\n",
       "  <thead>\n",
       "    <tr style=\"text-align: right;\">\n",
       "      <th></th>\n",
       "      <th>a</th>\n",
       "      <th>b</th>\n",
       "    </tr>\n",
       "  </thead>\n",
       "  <tbody>\n",
       "    <tr>\n",
       "      <th>x</th>\n",
       "      <td>0.397838</td>\n",
       "      <td>-0.580578</td>\n",
       "    </tr>\n",
       "    <tr>\n",
       "      <th>x</th>\n",
       "      <td>-0.255131</td>\n",
       "      <td>1.050475</td>\n",
       "    </tr>\n",
       "    <tr>\n",
       "      <th>x</th>\n",
       "      <td>-0.738390</td>\n",
       "      <td>-0.166486</td>\n",
       "    </tr>\n",
       "  </tbody>\n",
       "</table>\n",
       "</div>"
      ],
      "text/plain": [
       "          a         b\n",
       "x  0.397838 -0.580578\n",
       "x -0.255131  1.050475\n",
       "x -0.738390 -0.166486"
      ]
     },
     "execution_count": 158,
     "metadata": {},
     "output_type": "execute_result"
    }
   ],
   "source": [
    "rng = np.random.default_rng()\n",
    "data = rng.standard_normal(size=(5, 2))\n",
    "df = pd.DataFrame(data, columns = [\"a\", \"b\"], index=[\"x\", \"y\", \"x\", \"x\", \"z\"])\n",
    "df\n",
    "df.loc[\"x\"]"
   ]
  },
  {
   "cell_type": "code",
   "execution_count": 159,
   "id": "6e22ddfb-4627-4efb-bca7-8147bbce7584",
   "metadata": {},
   "outputs": [
    {
     "data": {
      "text/html": [
       "<div>\n",
       "<style scoped>\n",
       "    .dataframe tbody tr th:only-of-type {\n",
       "        vertical-align: middle;\n",
       "    }\n",
       "\n",
       "    .dataframe tbody tr th {\n",
       "        vertical-align: top;\n",
       "    }\n",
       "\n",
       "    .dataframe thead th {\n",
       "        text-align: right;\n",
       "    }\n",
       "</style>\n",
       "<table border=\"1\" class=\"dataframe\">\n",
       "  <thead>\n",
       "    <tr style=\"text-align: right;\">\n",
       "      <th></th>\n",
       "      <th>pclass</th>\n",
       "      <th>survived</th>\n",
       "      <th>name</th>\n",
       "      <th>sex</th>\n",
       "      <th>age</th>\n",
       "      <th>sibsp</th>\n",
       "      <th>parch</th>\n",
       "      <th>ticket</th>\n",
       "      <th>fare</th>\n",
       "      <th>cabin</th>\n",
       "      <th>embarked</th>\n",
       "      <th>boat</th>\n",
       "      <th>body</th>\n",
       "      <th>home.dest</th>\n",
       "    </tr>\n",
       "  </thead>\n",
       "  <tbody>\n",
       "    <tr>\n",
       "      <th>0</th>\n",
       "      <td>1</td>\n",
       "      <td>1</td>\n",
       "      <td>Allen, Miss. Elisabeth Walton</td>\n",
       "      <td>female</td>\n",
       "      <td>29.00</td>\n",
       "      <td>0</td>\n",
       "      <td>0</td>\n",
       "      <td>24160</td>\n",
       "      <td>211.3375</td>\n",
       "      <td>B5</td>\n",
       "      <td>S</td>\n",
       "      <td>2</td>\n",
       "      <td>NaN</td>\n",
       "      <td>St Louis, MO</td>\n",
       "    </tr>\n",
       "    <tr>\n",
       "      <th>1</th>\n",
       "      <td>1</td>\n",
       "      <td>1</td>\n",
       "      <td>Allison, Master. Hudson Trevor</td>\n",
       "      <td>male</td>\n",
       "      <td>0.92</td>\n",
       "      <td>1</td>\n",
       "      <td>2</td>\n",
       "      <td>113781</td>\n",
       "      <td>151.5500</td>\n",
       "      <td>C22 C26</td>\n",
       "      <td>S</td>\n",
       "      <td>11</td>\n",
       "      <td>NaN</td>\n",
       "      <td>Montreal, PQ / Chesterville, ON</td>\n",
       "    </tr>\n",
       "    <tr>\n",
       "      <th>2</th>\n",
       "      <td>1</td>\n",
       "      <td>0</td>\n",
       "      <td>Allison, Miss. Helen Loraine</td>\n",
       "      <td>female</td>\n",
       "      <td>2.00</td>\n",
       "      <td>1</td>\n",
       "      <td>2</td>\n",
       "      <td>113781</td>\n",
       "      <td>151.5500</td>\n",
       "      <td>C22 C26</td>\n",
       "      <td>S</td>\n",
       "      <td>NaN</td>\n",
       "      <td>NaN</td>\n",
       "      <td>Montreal, PQ / Chesterville, ON</td>\n",
       "    </tr>\n",
       "    <tr>\n",
       "      <th>3</th>\n",
       "      <td>1</td>\n",
       "      <td>0</td>\n",
       "      <td>Allison, Mr. Hudson Joshua Creighton</td>\n",
       "      <td>male</td>\n",
       "      <td>30.00</td>\n",
       "      <td>1</td>\n",
       "      <td>2</td>\n",
       "      <td>113781</td>\n",
       "      <td>151.5500</td>\n",
       "      <td>C22 C26</td>\n",
       "      <td>S</td>\n",
       "      <td>NaN</td>\n",
       "      <td>135.0</td>\n",
       "      <td>Montreal, PQ / Chesterville, ON</td>\n",
       "    </tr>\n",
       "    <tr>\n",
       "      <th>4</th>\n",
       "      <td>1</td>\n",
       "      <td>0</td>\n",
       "      <td>Allison, Mrs. Hudson J C (Bessie Waldo Daniels)</td>\n",
       "      <td>female</td>\n",
       "      <td>25.00</td>\n",
       "      <td>1</td>\n",
       "      <td>2</td>\n",
       "      <td>113781</td>\n",
       "      <td>151.5500</td>\n",
       "      <td>C22 C26</td>\n",
       "      <td>S</td>\n",
       "      <td>NaN</td>\n",
       "      <td>NaN</td>\n",
       "      <td>Montreal, PQ / Chesterville, ON</td>\n",
       "    </tr>\n",
       "    <tr>\n",
       "      <th>...</th>\n",
       "      <td>...</td>\n",
       "      <td>...</td>\n",
       "      <td>...</td>\n",
       "      <td>...</td>\n",
       "      <td>...</td>\n",
       "      <td>...</td>\n",
       "      <td>...</td>\n",
       "      <td>...</td>\n",
       "      <td>...</td>\n",
       "      <td>...</td>\n",
       "      <td>...</td>\n",
       "      <td>...</td>\n",
       "      <td>...</td>\n",
       "      <td>...</td>\n",
       "    </tr>\n",
       "    <tr>\n",
       "      <th>1304</th>\n",
       "      <td>3</td>\n",
       "      <td>0</td>\n",
       "      <td>Zabour, Miss. Hileni</td>\n",
       "      <td>female</td>\n",
       "      <td>14.50</td>\n",
       "      <td>1</td>\n",
       "      <td>0</td>\n",
       "      <td>2665</td>\n",
       "      <td>14.4542</td>\n",
       "      <td>NaN</td>\n",
       "      <td>C</td>\n",
       "      <td>NaN</td>\n",
       "      <td>328.0</td>\n",
       "      <td>NaN</td>\n",
       "    </tr>\n",
       "    <tr>\n",
       "      <th>1305</th>\n",
       "      <td>3</td>\n",
       "      <td>0</td>\n",
       "      <td>Zabour, Miss. Thamine</td>\n",
       "      <td>female</td>\n",
       "      <td>NaN</td>\n",
       "      <td>1</td>\n",
       "      <td>0</td>\n",
       "      <td>2665</td>\n",
       "      <td>14.4542</td>\n",
       "      <td>NaN</td>\n",
       "      <td>C</td>\n",
       "      <td>NaN</td>\n",
       "      <td>NaN</td>\n",
       "      <td>NaN</td>\n",
       "    </tr>\n",
       "    <tr>\n",
       "      <th>1306</th>\n",
       "      <td>3</td>\n",
       "      <td>0</td>\n",
       "      <td>Zakarian, Mr. Mapriededer</td>\n",
       "      <td>male</td>\n",
       "      <td>26.50</td>\n",
       "      <td>0</td>\n",
       "      <td>0</td>\n",
       "      <td>2656</td>\n",
       "      <td>7.2250</td>\n",
       "      <td>NaN</td>\n",
       "      <td>C</td>\n",
       "      <td>NaN</td>\n",
       "      <td>304.0</td>\n",
       "      <td>NaN</td>\n",
       "    </tr>\n",
       "    <tr>\n",
       "      <th>1307</th>\n",
       "      <td>3</td>\n",
       "      <td>0</td>\n",
       "      <td>Zakarian, Mr. Ortin</td>\n",
       "      <td>male</td>\n",
       "      <td>27.00</td>\n",
       "      <td>0</td>\n",
       "      <td>0</td>\n",
       "      <td>2670</td>\n",
       "      <td>7.2250</td>\n",
       "      <td>NaN</td>\n",
       "      <td>C</td>\n",
       "      <td>NaN</td>\n",
       "      <td>NaN</td>\n",
       "      <td>NaN</td>\n",
       "    </tr>\n",
       "    <tr>\n",
       "      <th>1308</th>\n",
       "      <td>3</td>\n",
       "      <td>0</td>\n",
       "      <td>Zimmerman, Mr. Leo</td>\n",
       "      <td>male</td>\n",
       "      <td>29.00</td>\n",
       "      <td>0</td>\n",
       "      <td>0</td>\n",
       "      <td>315082</td>\n",
       "      <td>7.8750</td>\n",
       "      <td>NaN</td>\n",
       "      <td>S</td>\n",
       "      <td>NaN</td>\n",
       "      <td>NaN</td>\n",
       "      <td>NaN</td>\n",
       "    </tr>\n",
       "  </tbody>\n",
       "</table>\n",
       "<p>1309 rows × 14 columns</p>\n",
       "</div>"
      ],
      "text/plain": [
       "      pclass  survived                                             name  \\\n",
       "0          1         1                    Allen, Miss. Elisabeth Walton   \n",
       "1          1         1                   Allison, Master. Hudson Trevor   \n",
       "2          1         0                     Allison, Miss. Helen Loraine   \n",
       "3          1         0             Allison, Mr. Hudson Joshua Creighton   \n",
       "4          1         0  Allison, Mrs. Hudson J C (Bessie Waldo Daniels)   \n",
       "...      ...       ...                                              ...   \n",
       "1304       3         0                             Zabour, Miss. Hileni   \n",
       "1305       3         0                            Zabour, Miss. Thamine   \n",
       "1306       3         0                        Zakarian, Mr. Mapriededer   \n",
       "1307       3         0                              Zakarian, Mr. Ortin   \n",
       "1308       3         0                               Zimmerman, Mr. Leo   \n",
       "\n",
       "         sex    age  sibsp  parch  ticket      fare    cabin embarked boat  \\\n",
       "0     female  29.00      0      0   24160  211.3375       B5        S    2   \n",
       "1       male   0.92      1      2  113781  151.5500  C22 C26        S   11   \n",
       "2     female   2.00      1      2  113781  151.5500  C22 C26        S  NaN   \n",
       "3       male  30.00      1      2  113781  151.5500  C22 C26        S  NaN   \n",
       "4     female  25.00      1      2  113781  151.5500  C22 C26        S  NaN   \n",
       "...      ...    ...    ...    ...     ...       ...      ...      ...  ...   \n",
       "1304  female  14.50      1      0    2665   14.4542      NaN        C  NaN   \n",
       "1305  female    NaN      1      0    2665   14.4542      NaN        C  NaN   \n",
       "1306    male  26.50      0      0    2656    7.2250      NaN        C  NaN   \n",
       "1307    male  27.00      0      0    2670    7.2250      NaN        C  NaN   \n",
       "1308    male  29.00      0      0  315082    7.8750      NaN        S  NaN   \n",
       "\n",
       "       body                        home.dest  \n",
       "0       NaN                     St Louis, MO  \n",
       "1       NaN  Montreal, PQ / Chesterville, ON  \n",
       "2       NaN  Montreal, PQ / Chesterville, ON  \n",
       "3     135.0  Montreal, PQ / Chesterville, ON  \n",
       "4       NaN  Montreal, PQ / Chesterville, ON  \n",
       "...     ...                              ...  \n",
       "1304  328.0                              NaN  \n",
       "1305    NaN                              NaN  \n",
       "1306  304.0                              NaN  \n",
       "1307    NaN                              NaN  \n",
       "1308    NaN                              NaN  \n",
       "\n",
       "[1309 rows x 14 columns]"
      ]
     },
     "execution_count": 159,
     "metadata": {},
     "output_type": "execute_result"
    }
   ],
   "source": [
    "df = pd.read_csv(\"https://raw.githubusercontent.com/YBIFoundation/Dataset/main/Titanic.csv\")\n",
    "df"
   ]
  },
  {
   "cell_type": "code",
   "execution_count": 173,
   "id": "3d87ada0-c127-4e26-96c5-e3b76c9d1556",
   "metadata": {},
   "outputs": [
    {
     "data": {
      "text/html": [
       "<div>\n",
       "<style scoped>\n",
       "    .dataframe tbody tr th:only-of-type {\n",
       "        vertical-align: middle;\n",
       "    }\n",
       "\n",
       "    .dataframe tbody tr th {\n",
       "        vertical-align: top;\n",
       "    }\n",
       "\n",
       "    .dataframe thead th {\n",
       "        text-align: right;\n",
       "    }\n",
       "</style>\n",
       "<table border=\"1\" class=\"dataframe\">\n",
       "  <thead>\n",
       "    <tr style=\"text-align: right;\">\n",
       "      <th></th>\n",
       "      <th></th>\n",
       "      <th>sex</th>\n",
       "      <th>age</th>\n",
       "      <th>ticket</th>\n",
       "      <th>boat</th>\n",
       "    </tr>\n",
       "    <tr>\n",
       "      <th>survived</th>\n",
       "      <th>pclass</th>\n",
       "      <th></th>\n",
       "      <th></th>\n",
       "      <th></th>\n",
       "      <th></th>\n",
       "    </tr>\n",
       "  </thead>\n",
       "  <tbody>\n",
       "    <tr>\n",
       "      <th rowspan=\"2\" valign=\"top\">1</th>\n",
       "      <th>1</th>\n",
       "      <td>female</td>\n",
       "      <td>29.00</td>\n",
       "      <td>24160</td>\n",
       "      <td>2</td>\n",
       "    </tr>\n",
       "    <tr>\n",
       "      <th>1</th>\n",
       "      <td>male</td>\n",
       "      <td>0.92</td>\n",
       "      <td>113781</td>\n",
       "      <td>11</td>\n",
       "    </tr>\n",
       "    <tr>\n",
       "      <th rowspan=\"9\" valign=\"top\">0</th>\n",
       "      <th>1</th>\n",
       "      <td>female</td>\n",
       "      <td>2.00</td>\n",
       "      <td>113781</td>\n",
       "      <td>NaN</td>\n",
       "    </tr>\n",
       "    <tr>\n",
       "      <th>1</th>\n",
       "      <td>male</td>\n",
       "      <td>30.00</td>\n",
       "      <td>113781</td>\n",
       "      <td>NaN</td>\n",
       "    </tr>\n",
       "    <tr>\n",
       "      <th>1</th>\n",
       "      <td>female</td>\n",
       "      <td>25.00</td>\n",
       "      <td>113781</td>\n",
       "      <td>NaN</td>\n",
       "    </tr>\n",
       "    <tr>\n",
       "      <th>...</th>\n",
       "      <td>...</td>\n",
       "      <td>...</td>\n",
       "      <td>...</td>\n",
       "      <td>...</td>\n",
       "    </tr>\n",
       "    <tr>\n",
       "      <th>3</th>\n",
       "      <td>female</td>\n",
       "      <td>14.50</td>\n",
       "      <td>2665</td>\n",
       "      <td>NaN</td>\n",
       "    </tr>\n",
       "    <tr>\n",
       "      <th>3</th>\n",
       "      <td>female</td>\n",
       "      <td>NaN</td>\n",
       "      <td>2665</td>\n",
       "      <td>NaN</td>\n",
       "    </tr>\n",
       "    <tr>\n",
       "      <th>3</th>\n",
       "      <td>male</td>\n",
       "      <td>26.50</td>\n",
       "      <td>2656</td>\n",
       "      <td>NaN</td>\n",
       "    </tr>\n",
       "    <tr>\n",
       "      <th>3</th>\n",
       "      <td>male</td>\n",
       "      <td>27.00</td>\n",
       "      <td>2670</td>\n",
       "      <td>NaN</td>\n",
       "    </tr>\n",
       "    <tr>\n",
       "      <th>3</th>\n",
       "      <td>male</td>\n",
       "      <td>29.00</td>\n",
       "      <td>315082</td>\n",
       "      <td>NaN</td>\n",
       "    </tr>\n",
       "  </tbody>\n",
       "</table>\n",
       "<p>1309 rows × 4 columns</p>\n",
       "</div>"
      ],
      "text/plain": [
       "                    sex    age  ticket boat\n",
       "survived pclass                            \n",
       "1        1       female  29.00   24160    2\n",
       "         1         male   0.92  113781   11\n",
       "0        1       female   2.00  113781  NaN\n",
       "         1         male  30.00  113781  NaN\n",
       "         1       female  25.00  113781  NaN\n",
       "...                 ...    ...     ...  ...\n",
       "         3       female  14.50    2665  NaN\n",
       "         3       female    NaN    2665  NaN\n",
       "         3         male  26.50    2656  NaN\n",
       "         3         male  27.00    2670  NaN\n",
       "         3         male  29.00  315082  NaN\n",
       "\n",
       "[1309 rows x 4 columns]"
      ]
     },
     "execution_count": 173,
     "metadata": {},
     "output_type": "execute_result"
    }
   ],
   "source": [
    "df = pd.read_csv(\"data/Titanic.csv\", index_col=[1, 0], usecols=[\"survived\", \"ticket\", \"pclass\", \"sex\", \"age\", \"boat\"], sep=\",\")\n",
    "df"
   ]
  },
  {
   "cell_type": "markdown",
   "id": "1ad674e8-8771-4e81-b356-cb589e741a24",
   "metadata": {},
   "source": [
    "### 2.2.1. Основные методы для просмотра"
   ]
  },
  {
   "cell_type": "code",
   "execution_count": 51,
   "id": "b6aa531f-68b3-4541-bcc6-b350cff11ca1",
   "metadata": {},
   "outputs": [
    {
     "data": {
      "text/plain": [
       "(1309, 4)"
      ]
     },
     "execution_count": 51,
     "metadata": {},
     "output_type": "execute_result"
    },
    {
     "data": {
      "text/plain": [
       "Index(['sex', 'age', 'ticket', 'boat'], dtype='object')"
      ]
     },
     "execution_count": 51,
     "metadata": {},
     "output_type": "execute_result"
    },
    {
     "data": {
      "text/plain": [
       "MultiIndex([(1, 1),\n",
       "            (1, 1),\n",
       "            (0, 1),\n",
       "            (0, 1),\n",
       "            (0, 1),\n",
       "            (1, 1),\n",
       "            (1, 1),\n",
       "            (0, 1),\n",
       "            (1, 1),\n",
       "            (0, 1),\n",
       "            ...\n",
       "            (0, 3),\n",
       "            (1, 3),\n",
       "            (0, 3),\n",
       "            (0, 3),\n",
       "            (0, 3),\n",
       "            (0, 3),\n",
       "            (0, 3),\n",
       "            (0, 3),\n",
       "            (0, 3),\n",
       "            (0, 3)],\n",
       "           names=['survived', 'pclass'], length=1309)"
      ]
     },
     "execution_count": 51,
     "metadata": {},
     "output_type": "execute_result"
    }
   ],
   "source": [
    "df = pd.read_csv(\"data/Titanic.csv\", index_col=[1, 0], usecols=[\"survived\", \"ticket\", \"pclass\", \"sex\", \"age\", \"boat\"], sep=\",\")\n",
    "df.shape\n",
    "df.columns\n",
    "df.index"
   ]
  },
  {
   "cell_type": "code",
   "execution_count": 42,
   "id": "ba548454-410c-4c4f-a45b-8e4c174b88d8",
   "metadata": {},
   "outputs": [
    {
     "data": {
      "text/html": [
       "<div>\n",
       "<style scoped>\n",
       "    .dataframe tbody tr th:only-of-type {\n",
       "        vertical-align: middle;\n",
       "    }\n",
       "\n",
       "    .dataframe tbody tr th {\n",
       "        vertical-align: top;\n",
       "    }\n",
       "\n",
       "    .dataframe thead th {\n",
       "        text-align: right;\n",
       "    }\n",
       "</style>\n",
       "<table border=\"1\" class=\"dataframe\">\n",
       "  <thead>\n",
       "    <tr style=\"text-align: right;\">\n",
       "      <th></th>\n",
       "      <th></th>\n",
       "      <th>sex</th>\n",
       "      <th>age</th>\n",
       "      <th>ticket</th>\n",
       "      <th>boat</th>\n",
       "    </tr>\n",
       "    <tr>\n",
       "      <th>survived</th>\n",
       "      <th>pclass</th>\n",
       "      <th></th>\n",
       "      <th></th>\n",
       "      <th></th>\n",
       "      <th></th>\n",
       "    </tr>\n",
       "  </thead>\n",
       "  <tbody>\n",
       "    <tr>\n",
       "      <th rowspan=\"2\" valign=\"top\">1</th>\n",
       "      <th>1</th>\n",
       "      <td>female</td>\n",
       "      <td>29.00</td>\n",
       "      <td>24160</td>\n",
       "      <td>2</td>\n",
       "    </tr>\n",
       "    <tr>\n",
       "      <th>1</th>\n",
       "      <td>male</td>\n",
       "      <td>0.92</td>\n",
       "      <td>113781</td>\n",
       "      <td>11</td>\n",
       "    </tr>\n",
       "    <tr>\n",
       "      <th>0</th>\n",
       "      <th>1</th>\n",
       "      <td>female</td>\n",
       "      <td>2.00</td>\n",
       "      <td>113781</td>\n",
       "      <td>NaN</td>\n",
       "    </tr>\n",
       "  </tbody>\n",
       "</table>\n",
       "</div>"
      ],
      "text/plain": [
       "                    sex    age  ticket boat\n",
       "survived pclass                            \n",
       "1        1       female  29.00   24160    2\n",
       "         1         male   0.92  113781   11\n",
       "0        1       female   2.00  113781  NaN"
      ]
     },
     "execution_count": 42,
     "metadata": {},
     "output_type": "execute_result"
    },
    {
     "data": {
      "text/html": [
       "<div>\n",
       "<style scoped>\n",
       "    .dataframe tbody tr th:only-of-type {\n",
       "        vertical-align: middle;\n",
       "    }\n",
       "\n",
       "    .dataframe tbody tr th {\n",
       "        vertical-align: top;\n",
       "    }\n",
       "\n",
       "    .dataframe thead th {\n",
       "        text-align: right;\n",
       "    }\n",
       "</style>\n",
       "<table border=\"1\" class=\"dataframe\">\n",
       "  <thead>\n",
       "    <tr style=\"text-align: right;\">\n",
       "      <th></th>\n",
       "      <th></th>\n",
       "      <th>sex</th>\n",
       "      <th>age</th>\n",
       "      <th>ticket</th>\n",
       "      <th>boat</th>\n",
       "    </tr>\n",
       "    <tr>\n",
       "      <th>survived</th>\n",
       "      <th>pclass</th>\n",
       "      <th></th>\n",
       "      <th></th>\n",
       "      <th></th>\n",
       "      <th></th>\n",
       "    </tr>\n",
       "  </thead>\n",
       "  <tbody>\n",
       "    <tr>\n",
       "      <th rowspan=\"3\" valign=\"top\">0</th>\n",
       "      <th>3</th>\n",
       "      <td>male</td>\n",
       "      <td>26.5</td>\n",
       "      <td>2656</td>\n",
       "      <td>NaN</td>\n",
       "    </tr>\n",
       "    <tr>\n",
       "      <th>3</th>\n",
       "      <td>male</td>\n",
       "      <td>27.0</td>\n",
       "      <td>2670</td>\n",
       "      <td>NaN</td>\n",
       "    </tr>\n",
       "    <tr>\n",
       "      <th>3</th>\n",
       "      <td>male</td>\n",
       "      <td>29.0</td>\n",
       "      <td>315082</td>\n",
       "      <td>NaN</td>\n",
       "    </tr>\n",
       "  </tbody>\n",
       "</table>\n",
       "</div>"
      ],
      "text/plain": [
       "                  sex   age  ticket boat\n",
       "survived pclass                         \n",
       "0        3       male  26.5    2656  NaN\n",
       "         3       male  27.0    2670  NaN\n",
       "         3       male  29.0  315082  NaN"
      ]
     },
     "execution_count": 42,
     "metadata": {},
     "output_type": "execute_result"
    },
    {
     "data": {
      "text/html": [
       "<div>\n",
       "<style scoped>\n",
       "    .dataframe tbody tr th:only-of-type {\n",
       "        vertical-align: middle;\n",
       "    }\n",
       "\n",
       "    .dataframe tbody tr th {\n",
       "        vertical-align: top;\n",
       "    }\n",
       "\n",
       "    .dataframe thead th {\n",
       "        text-align: right;\n",
       "    }\n",
       "</style>\n",
       "<table border=\"1\" class=\"dataframe\">\n",
       "  <thead>\n",
       "    <tr style=\"text-align: right;\">\n",
       "      <th></th>\n",
       "      <th></th>\n",
       "      <th>sex</th>\n",
       "      <th>age</th>\n",
       "      <th>ticket</th>\n",
       "      <th>boat</th>\n",
       "    </tr>\n",
       "    <tr>\n",
       "      <th>survived</th>\n",
       "      <th>pclass</th>\n",
       "      <th></th>\n",
       "      <th></th>\n",
       "      <th></th>\n",
       "      <th></th>\n",
       "    </tr>\n",
       "  </thead>\n",
       "  <tbody>\n",
       "    <tr>\n",
       "      <th>0</th>\n",
       "      <th>2</th>\n",
       "      <td>male</td>\n",
       "      <td>42.0</td>\n",
       "      <td>211535</td>\n",
       "      <td>NaN</td>\n",
       "    </tr>\n",
       "    <tr>\n",
       "      <th rowspan=\"3\" valign=\"top\">1</th>\n",
       "      <th>3</th>\n",
       "      <td>female</td>\n",
       "      <td>63.0</td>\n",
       "      <td>4134</td>\n",
       "      <td>15</td>\n",
       "    </tr>\n",
       "    <tr>\n",
       "      <th>1</th>\n",
       "      <td>female</td>\n",
       "      <td>39.0</td>\n",
       "      <td>13507</td>\n",
       "      <td>11</td>\n",
       "    </tr>\n",
       "    <tr>\n",
       "      <th>1</th>\n",
       "      <td>female</td>\n",
       "      <td>19.0</td>\n",
       "      <td>11752</td>\n",
       "      <td>5</td>\n",
       "    </tr>\n",
       "    <tr>\n",
       "      <th>0</th>\n",
       "      <th>3</th>\n",
       "      <td>female</td>\n",
       "      <td>36.0</td>\n",
       "      <td>350405</td>\n",
       "      <td>NaN</td>\n",
       "    </tr>\n",
       "  </tbody>\n",
       "</table>\n",
       "</div>"
      ],
      "text/plain": [
       "                    sex   age  ticket boat\n",
       "survived pclass                           \n",
       "0        2         male  42.0  211535  NaN\n",
       "1        3       female  63.0    4134   15\n",
       "         1       female  39.0   13507   11\n",
       "         1       female  19.0   11752    5\n",
       "0        3       female  36.0  350405  NaN"
      ]
     },
     "execution_count": 42,
     "metadata": {},
     "output_type": "execute_result"
    }
   ],
   "source": [
    "df.head(3)\n",
    "df.tail(3)\n",
    "df.sample(5, weights='age')"
   ]
  },
  {
   "cell_type": "code",
   "execution_count": 43,
   "id": "e8ff2428-ac1f-47f7-aa07-23b708de9a02",
   "metadata": {},
   "outputs": [
    {
     "name": "stdout",
     "output_type": "stream",
     "text": [
      "<class 'pandas.core.frame.DataFrame'>\n",
      "MultiIndex: 1309 entries, (1, 1) to (0, 3)\n",
      "Data columns (total 4 columns):\n",
      " #   Column  Non-Null Count  Dtype  \n",
      "---  ------  --------------  -----  \n",
      " 0   sex     1309 non-null   object \n",
      " 1   age     1046 non-null   float64\n",
      " 2   ticket  1309 non-null   object \n",
      " 3   boat    486 non-null    object \n",
      "dtypes: float64(1), object(3)\n",
      "memory usage: 43.8+ KB\n"
     ]
    }
   ],
   "source": [
    "df.info()"
   ]
  },
  {
   "cell_type": "code",
   "execution_count": 44,
   "id": "bde2b260-2af6-415b-a4e2-e8a3049d3f07",
   "metadata": {},
   "outputs": [
    {
     "data": {
      "text/html": [
       "<div>\n",
       "<style scoped>\n",
       "    .dataframe tbody tr th:only-of-type {\n",
       "        vertical-align: middle;\n",
       "    }\n",
       "\n",
       "    .dataframe tbody tr th {\n",
       "        vertical-align: top;\n",
       "    }\n",
       "\n",
       "    .dataframe thead th {\n",
       "        text-align: right;\n",
       "    }\n",
       "</style>\n",
       "<table border=\"1\" class=\"dataframe\">\n",
       "  <thead>\n",
       "    <tr style=\"text-align: right;\">\n",
       "      <th></th>\n",
       "      <th>age</th>\n",
       "    </tr>\n",
       "  </thead>\n",
       "  <tbody>\n",
       "    <tr>\n",
       "      <th>count</th>\n",
       "      <td>1046.000000</td>\n",
       "    </tr>\n",
       "    <tr>\n",
       "      <th>mean</th>\n",
       "      <td>29.881138</td>\n",
       "    </tr>\n",
       "    <tr>\n",
       "      <th>std</th>\n",
       "      <td>14.413493</td>\n",
       "    </tr>\n",
       "    <tr>\n",
       "      <th>min</th>\n",
       "      <td>0.170000</td>\n",
       "    </tr>\n",
       "    <tr>\n",
       "      <th>25%</th>\n",
       "      <td>21.000000</td>\n",
       "    </tr>\n",
       "    <tr>\n",
       "      <th>50%</th>\n",
       "      <td>28.000000</td>\n",
       "    </tr>\n",
       "    <tr>\n",
       "      <th>75%</th>\n",
       "      <td>39.000000</td>\n",
       "    </tr>\n",
       "    <tr>\n",
       "      <th>max</th>\n",
       "      <td>80.000000</td>\n",
       "    </tr>\n",
       "  </tbody>\n",
       "</table>\n",
       "</div>"
      ],
      "text/plain": [
       "               age\n",
       "count  1046.000000\n",
       "mean     29.881138\n",
       "std      14.413493\n",
       "min       0.170000\n",
       "25%      21.000000\n",
       "50%      28.000000\n",
       "75%      39.000000\n",
       "max      80.000000"
      ]
     },
     "execution_count": 44,
     "metadata": {},
     "output_type": "execute_result"
    },
    {
     "data": {
      "text/html": [
       "<div>\n",
       "<style scoped>\n",
       "    .dataframe tbody tr th:only-of-type {\n",
       "        vertical-align: middle;\n",
       "    }\n",
       "\n",
       "    .dataframe tbody tr th {\n",
       "        vertical-align: top;\n",
       "    }\n",
       "\n",
       "    .dataframe thead th {\n",
       "        text-align: right;\n",
       "    }\n",
       "</style>\n",
       "<table border=\"1\" class=\"dataframe\">\n",
       "  <thead>\n",
       "    <tr style=\"text-align: right;\">\n",
       "      <th></th>\n",
       "      <th>count</th>\n",
       "      <th>unique</th>\n",
       "      <th>top</th>\n",
       "      <th>freq</th>\n",
       "      <th>mean</th>\n",
       "      <th>std</th>\n",
       "      <th>min</th>\n",
       "      <th>0%</th>\n",
       "      <th>30%</th>\n",
       "      <th>50%</th>\n",
       "      <th>85.1%</th>\n",
       "      <th>100%</th>\n",
       "      <th>max</th>\n",
       "    </tr>\n",
       "  </thead>\n",
       "  <tbody>\n",
       "    <tr>\n",
       "      <th>sex</th>\n",
       "      <td>1309</td>\n",
       "      <td>2</td>\n",
       "      <td>male</td>\n",
       "      <td>843</td>\n",
       "      <td>NaN</td>\n",
       "      <td>NaN</td>\n",
       "      <td>NaN</td>\n",
       "      <td>NaN</td>\n",
       "      <td>NaN</td>\n",
       "      <td>NaN</td>\n",
       "      <td>NaN</td>\n",
       "      <td>NaN</td>\n",
       "      <td>NaN</td>\n",
       "    </tr>\n",
       "    <tr>\n",
       "      <th>age</th>\n",
       "      <td>1046.0</td>\n",
       "      <td>NaN</td>\n",
       "      <td>NaN</td>\n",
       "      <td>NaN</td>\n",
       "      <td>29.881138</td>\n",
       "      <td>14.413493</td>\n",
       "      <td>0.17</td>\n",
       "      <td>0.17</td>\n",
       "      <td>22.0</td>\n",
       "      <td>28.0</td>\n",
       "      <td>45.0</td>\n",
       "      <td>80.0</td>\n",
       "      <td>80.0</td>\n",
       "    </tr>\n",
       "    <tr>\n",
       "      <th>ticket</th>\n",
       "      <td>1309</td>\n",
       "      <td>929</td>\n",
       "      <td>CA. 2343</td>\n",
       "      <td>11</td>\n",
       "      <td>NaN</td>\n",
       "      <td>NaN</td>\n",
       "      <td>NaN</td>\n",
       "      <td>NaN</td>\n",
       "      <td>NaN</td>\n",
       "      <td>NaN</td>\n",
       "      <td>NaN</td>\n",
       "      <td>NaN</td>\n",
       "      <td>NaN</td>\n",
       "    </tr>\n",
       "    <tr>\n",
       "      <th>boat</th>\n",
       "      <td>486</td>\n",
       "      <td>27</td>\n",
       "      <td>13</td>\n",
       "      <td>39</td>\n",
       "      <td>NaN</td>\n",
       "      <td>NaN</td>\n",
       "      <td>NaN</td>\n",
       "      <td>NaN</td>\n",
       "      <td>NaN</td>\n",
       "      <td>NaN</td>\n",
       "      <td>NaN</td>\n",
       "      <td>NaN</td>\n",
       "      <td>NaN</td>\n",
       "    </tr>\n",
       "  </tbody>\n",
       "</table>\n",
       "</div>"
      ],
      "text/plain": [
       "         count unique       top freq       mean        std   min    0%   30%  \\\n",
       "sex       1309      2      male  843        NaN        NaN   NaN   NaN   NaN   \n",
       "age     1046.0    NaN       NaN  NaN  29.881138  14.413493  0.17  0.17  22.0   \n",
       "ticket    1309    929  CA. 2343   11        NaN        NaN   NaN   NaN   NaN   \n",
       "boat       486     27        13   39        NaN        NaN   NaN   NaN   NaN   \n",
       "\n",
       "         50% 85.1%  100%   max  \n",
       "sex      NaN   NaN   NaN   NaN  \n",
       "age     28.0  45.0  80.0  80.0  \n",
       "ticket   NaN   NaN   NaN   NaN  \n",
       "boat     NaN   NaN   NaN   NaN  "
      ]
     },
     "execution_count": 44,
     "metadata": {},
     "output_type": "execute_result"
    }
   ],
   "source": [
    "df.describe()\n",
    "df.describe(percentiles=[0, 0.3, 0.5, 0.851, 1], include=\"all\").T"
   ]
  },
  {
   "cell_type": "code",
   "execution_count": 66,
   "id": "60e635a3-2e44-4e27-9f66-35443e84b381",
   "metadata": {},
   "outputs": [
    {
     "data": {
      "text/html": [
       "<div>\n",
       "<style scoped>\n",
       "    .dataframe tbody tr th:only-of-type {\n",
       "        vertical-align: middle;\n",
       "    }\n",
       "\n",
       "    .dataframe tbody tr th {\n",
       "        vertical-align: top;\n",
       "    }\n",
       "\n",
       "    .dataframe thead th {\n",
       "        text-align: right;\n",
       "    }\n",
       "</style>\n",
       "<table border=\"1\" class=\"dataframe\">\n",
       "  <thead>\n",
       "    <tr style=\"text-align: right;\">\n",
       "      <th>sex</th>\n",
       "      <th>female</th>\n",
       "      <th>male</th>\n",
       "    </tr>\n",
       "    <tr>\n",
       "      <th>age</th>\n",
       "      <th></th>\n",
       "      <th></th>\n",
       "    </tr>\n",
       "  </thead>\n",
       "  <tbody>\n",
       "    <tr>\n",
       "      <th>0.17</th>\n",
       "      <td>1</td>\n",
       "      <td>0</td>\n",
       "    </tr>\n",
       "    <tr>\n",
       "      <th>0.33</th>\n",
       "      <td>0</td>\n",
       "      <td>1</td>\n",
       "    </tr>\n",
       "    <tr>\n",
       "      <th>0.42</th>\n",
       "      <td>0</td>\n",
       "      <td>1</td>\n",
       "    </tr>\n",
       "    <tr>\n",
       "      <th>0.67</th>\n",
       "      <td>0</td>\n",
       "      <td>1</td>\n",
       "    </tr>\n",
       "    <tr>\n",
       "      <th>0.75</th>\n",
       "      <td>2</td>\n",
       "      <td>1</td>\n",
       "    </tr>\n",
       "    <tr>\n",
       "      <th>...</th>\n",
       "      <td>...</td>\n",
       "      <td>...</td>\n",
       "    </tr>\n",
       "    <tr>\n",
       "      <th>70.50</th>\n",
       "      <td>0</td>\n",
       "      <td>1</td>\n",
       "    </tr>\n",
       "    <tr>\n",
       "      <th>71.00</th>\n",
       "      <td>0</td>\n",
       "      <td>2</td>\n",
       "    </tr>\n",
       "    <tr>\n",
       "      <th>74.00</th>\n",
       "      <td>0</td>\n",
       "      <td>1</td>\n",
       "    </tr>\n",
       "    <tr>\n",
       "      <th>76.00</th>\n",
       "      <td>1</td>\n",
       "      <td>0</td>\n",
       "    </tr>\n",
       "    <tr>\n",
       "      <th>80.00</th>\n",
       "      <td>0</td>\n",
       "      <td>1</td>\n",
       "    </tr>\n",
       "  </tbody>\n",
       "</table>\n",
       "<p>98 rows × 2 columns</p>\n",
       "</div>"
      ],
      "text/plain": [
       "sex    female  male\n",
       "age                \n",
       "0.17        1     0\n",
       "0.33        0     1\n",
       "0.42        0     1\n",
       "0.67        0     1\n",
       "0.75        2     1\n",
       "...       ...   ...\n",
       "70.50       0     1\n",
       "71.00       0     2\n",
       "74.00       0     1\n",
       "76.00       1     0\n",
       "80.00       0     1\n",
       "\n",
       "[98 rows x 2 columns]"
      ]
     },
     "execution_count": 66,
     "metadata": {},
     "output_type": "execute_result"
    },
    {
     "data": {
      "text/html": [
       "<div>\n",
       "<style scoped>\n",
       "    .dataframe tbody tr th:only-of-type {\n",
       "        vertical-align: middle;\n",
       "    }\n",
       "\n",
       "    .dataframe tbody tr th {\n",
       "        vertical-align: top;\n",
       "    }\n",
       "\n",
       "    .dataframe thead th {\n",
       "        text-align: right;\n",
       "    }\n",
       "</style>\n",
       "<table border=\"1\" class=\"dataframe\">\n",
       "  <thead>\n",
       "    <tr style=\"text-align: right;\">\n",
       "      <th>sex</th>\n",
       "      <th>female</th>\n",
       "      <th>male</th>\n",
       "    </tr>\n",
       "    <tr>\n",
       "      <th>age</th>\n",
       "      <th></th>\n",
       "      <th></th>\n",
       "    </tr>\n",
       "  </thead>\n",
       "  <tbody>\n",
       "    <tr>\n",
       "      <th>0.75</th>\n",
       "      <td>2</td>\n",
       "      <td>1</td>\n",
       "    </tr>\n",
       "    <tr>\n",
       "      <th>0.92</th>\n",
       "      <td>1</td>\n",
       "      <td>1</td>\n",
       "    </tr>\n",
       "    <tr>\n",
       "      <th>1.00</th>\n",
       "      <td>5</td>\n",
       "      <td>5</td>\n",
       "    </tr>\n",
       "    <tr>\n",
       "      <th>2.00</th>\n",
       "      <td>7</td>\n",
       "      <td>5</td>\n",
       "    </tr>\n",
       "    <tr>\n",
       "      <th>3.00</th>\n",
       "      <td>3</td>\n",
       "      <td>4</td>\n",
       "    </tr>\n",
       "    <tr>\n",
       "      <th>...</th>\n",
       "      <td>...</td>\n",
       "      <td>...</td>\n",
       "    </tr>\n",
       "    <tr>\n",
       "      <th>59.00</th>\n",
       "      <td>1</td>\n",
       "      <td>2</td>\n",
       "    </tr>\n",
       "    <tr>\n",
       "      <th>60.00</th>\n",
       "      <td>4</td>\n",
       "      <td>3</td>\n",
       "    </tr>\n",
       "    <tr>\n",
       "      <th>62.00</th>\n",
       "      <td>1</td>\n",
       "      <td>4</td>\n",
       "    </tr>\n",
       "    <tr>\n",
       "      <th>63.00</th>\n",
       "      <td>3</td>\n",
       "      <td>1</td>\n",
       "    </tr>\n",
       "    <tr>\n",
       "      <th>64.00</th>\n",
       "      <td>2</td>\n",
       "      <td>3</td>\n",
       "    </tr>\n",
       "  </tbody>\n",
       "</table>\n",
       "<p>68 rows × 2 columns</p>\n",
       "</div>"
      ],
      "text/plain": [
       "sex    female  male\n",
       "age                \n",
       "0.75        2     1\n",
       "0.92        1     1\n",
       "1.00        5     5\n",
       "2.00        7     5\n",
       "3.00        3     4\n",
       "...       ...   ...\n",
       "59.00       1     2\n",
       "60.00       4     3\n",
       "62.00       1     4\n",
       "63.00       3     1\n",
       "64.00       2     3\n",
       "\n",
       "[68 rows x 2 columns]"
      ]
     },
     "execution_count": 66,
     "metadata": {},
     "output_type": "execute_result"
    },
    {
     "data": {
      "text/html": [
       "<div>\n",
       "<style scoped>\n",
       "    .dataframe tbody tr th:only-of-type {\n",
       "        vertical-align: middle;\n",
       "    }\n",
       "\n",
       "    .dataframe tbody tr th {\n",
       "        vertical-align: top;\n",
       "    }\n",
       "\n",
       "    .dataframe thead th {\n",
       "        text-align: right;\n",
       "    }\n",
       "</style>\n",
       "<table border=\"1\" class=\"dataframe\">\n",
       "  <thead>\n",
       "    <tr style=\"text-align: right;\">\n",
       "      <th>sex</th>\n",
       "      <th>female</th>\n",
       "      <th>male</th>\n",
       "    </tr>\n",
       "    <tr>\n",
       "      <th>age</th>\n",
       "      <th></th>\n",
       "      <th></th>\n",
       "    </tr>\n",
       "  </thead>\n",
       "  <tbody>\n",
       "    <tr>\n",
       "      <th>0.75</th>\n",
       "      <td>2</td>\n",
       "      <td>1</td>\n",
       "    </tr>\n",
       "    <tr>\n",
       "      <th>0.92</th>\n",
       "      <td>1</td>\n",
       "      <td>1</td>\n",
       "    </tr>\n",
       "    <tr>\n",
       "      <th>1.00</th>\n",
       "      <td>5</td>\n",
       "      <td>5</td>\n",
       "    </tr>\n",
       "    <tr>\n",
       "      <th>2.00</th>\n",
       "      <td>7</td>\n",
       "      <td>5</td>\n",
       "    </tr>\n",
       "    <tr>\n",
       "      <th>3.00</th>\n",
       "      <td>3</td>\n",
       "      <td>4</td>\n",
       "    </tr>\n",
       "    <tr>\n",
       "      <th>...</th>\n",
       "      <td>...</td>\n",
       "      <td>...</td>\n",
       "    </tr>\n",
       "    <tr>\n",
       "      <th>59.00</th>\n",
       "      <td>1</td>\n",
       "      <td>2</td>\n",
       "    </tr>\n",
       "    <tr>\n",
       "      <th>60.00</th>\n",
       "      <td>4</td>\n",
       "      <td>3</td>\n",
       "    </tr>\n",
       "    <tr>\n",
       "      <th>62.00</th>\n",
       "      <td>1</td>\n",
       "      <td>4</td>\n",
       "    </tr>\n",
       "    <tr>\n",
       "      <th>63.00</th>\n",
       "      <td>3</td>\n",
       "      <td>1</td>\n",
       "    </tr>\n",
       "    <tr>\n",
       "      <th>64.00</th>\n",
       "      <td>2</td>\n",
       "      <td>3</td>\n",
       "    </tr>\n",
       "  </tbody>\n",
       "</table>\n",
       "<p>68 rows × 2 columns</p>\n",
       "</div>"
      ],
      "text/plain": [
       "sex    female  male\n",
       "age                \n",
       "0.75        2     1\n",
       "0.92        1     1\n",
       "1.00        5     5\n",
       "2.00        7     5\n",
       "3.00        3     4\n",
       "...       ...   ...\n",
       "59.00       1     2\n",
       "60.00       4     3\n",
       "62.00       1     4\n",
       "63.00       3     1\n",
       "64.00       2     3\n",
       "\n",
       "[68 rows x 2 columns]"
      ]
     },
     "execution_count": 66,
     "metadata": {},
     "output_type": "execute_result"
    }
   ],
   "source": [
    "res = pd.crosstab(df['sex'], df['age']).T  # Получение количества совпадений пар значений\n",
    "res  \n",
    "res[(res['female'] > 0) & (res['male'] > 0)]  # Отсев по ненулевому  количеству в каждом из значений строки\n",
    "res[res.apply(lambda x: all(x), axis=1)]  # То же самое, но через применение функции к df"
   ]
  },
  {
   "cell_type": "markdown",
   "id": "cde3aed4-04fe-46da-accb-fa34d8b5b893",
   "metadata": {},
   "source": [
    "### 2.2.2. Сортировка"
   ]
  },
  {
   "cell_type": "code",
   "execution_count": 45,
   "id": "4b4e24cb-bc74-47d7-a100-d7d8c8bfbecf",
   "metadata": {},
   "outputs": [
    {
     "data": {
      "text/html": [
       "<div>\n",
       "<style scoped>\n",
       "    .dataframe tbody tr th:only-of-type {\n",
       "        vertical-align: middle;\n",
       "    }\n",
       "\n",
       "    .dataframe tbody tr th {\n",
       "        vertical-align: top;\n",
       "    }\n",
       "\n",
       "    .dataframe thead th {\n",
       "        text-align: right;\n",
       "    }\n",
       "</style>\n",
       "<table border=\"1\" class=\"dataframe\">\n",
       "  <thead>\n",
       "    <tr style=\"text-align: right;\">\n",
       "      <th></th>\n",
       "      <th></th>\n",
       "      <th>name</th>\n",
       "      <th>sex</th>\n",
       "      <th>ticket</th>\n",
       "    </tr>\n",
       "    <tr>\n",
       "      <th>survived</th>\n",
       "      <th>pclass</th>\n",
       "      <th></th>\n",
       "      <th></th>\n",
       "      <th></th>\n",
       "    </tr>\n",
       "  </thead>\n",
       "  <tbody>\n",
       "    <tr>\n",
       "      <th rowspan=\"2\" valign=\"top\">1</th>\n",
       "      <th>1</th>\n",
       "      <td>Allen, Miss. Elisabeth Walton</td>\n",
       "      <td>female</td>\n",
       "      <td>24160</td>\n",
       "    </tr>\n",
       "    <tr>\n",
       "      <th>1</th>\n",
       "      <td>Allison, Master. Hudson Trevor</td>\n",
       "      <td>male</td>\n",
       "      <td>113781</td>\n",
       "    </tr>\n",
       "    <tr>\n",
       "      <th rowspan=\"9\" valign=\"top\">0</th>\n",
       "      <th>1</th>\n",
       "      <td>Allison, Miss. Helen Loraine</td>\n",
       "      <td>female</td>\n",
       "      <td>113781</td>\n",
       "    </tr>\n",
       "    <tr>\n",
       "      <th>1</th>\n",
       "      <td>Allison, Mr. Hudson Joshua Creighton</td>\n",
       "      <td>male</td>\n",
       "      <td>113781</td>\n",
       "    </tr>\n",
       "    <tr>\n",
       "      <th>1</th>\n",
       "      <td>Allison, Mrs. Hudson J C (Bessie Waldo Daniels)</td>\n",
       "      <td>female</td>\n",
       "      <td>113781</td>\n",
       "    </tr>\n",
       "    <tr>\n",
       "      <th>...</th>\n",
       "      <td>...</td>\n",
       "      <td>...</td>\n",
       "      <td>...</td>\n",
       "    </tr>\n",
       "    <tr>\n",
       "      <th>3</th>\n",
       "      <td>Zabour, Miss. Hileni</td>\n",
       "      <td>female</td>\n",
       "      <td>2665</td>\n",
       "    </tr>\n",
       "    <tr>\n",
       "      <th>3</th>\n",
       "      <td>Zabour, Miss. Thamine</td>\n",
       "      <td>female</td>\n",
       "      <td>2665</td>\n",
       "    </tr>\n",
       "    <tr>\n",
       "      <th>3</th>\n",
       "      <td>Zakarian, Mr. Mapriededer</td>\n",
       "      <td>male</td>\n",
       "      <td>2656</td>\n",
       "    </tr>\n",
       "    <tr>\n",
       "      <th>3</th>\n",
       "      <td>Zakarian, Mr. Ortin</td>\n",
       "      <td>male</td>\n",
       "      <td>2670</td>\n",
       "    </tr>\n",
       "    <tr>\n",
       "      <th>3</th>\n",
       "      <td>Zimmerman, Mr. Leo</td>\n",
       "      <td>male</td>\n",
       "      <td>315082</td>\n",
       "    </tr>\n",
       "  </tbody>\n",
       "</table>\n",
       "<p>1309 rows × 3 columns</p>\n",
       "</div>"
      ],
      "text/plain": [
       "                                                            name     sex  \\\n",
       "survived pclass                                                            \n",
       "1        1                         Allen, Miss. Elisabeth Walton  female   \n",
       "         1                        Allison, Master. Hudson Trevor    male   \n",
       "0        1                          Allison, Miss. Helen Loraine  female   \n",
       "         1                  Allison, Mr. Hudson Joshua Creighton    male   \n",
       "         1       Allison, Mrs. Hudson J C (Bessie Waldo Daniels)  female   \n",
       "...                                                          ...     ...   \n",
       "         3                                  Zabour, Miss. Hileni  female   \n",
       "         3                                 Zabour, Miss. Thamine  female   \n",
       "         3                             Zakarian, Mr. Mapriededer    male   \n",
       "         3                                   Zakarian, Mr. Ortin    male   \n",
       "         3                                    Zimmerman, Mr. Leo    male   \n",
       "\n",
       "                 ticket  \n",
       "survived pclass          \n",
       "1        1        24160  \n",
       "         1       113781  \n",
       "0        1       113781  \n",
       "         1       113781  \n",
       "         1       113781  \n",
       "...                 ...  \n",
       "         3         2665  \n",
       "         3         2665  \n",
       "         3         2656  \n",
       "         3         2670  \n",
       "         3       315082  \n",
       "\n",
       "[1309 rows x 3 columns]"
      ]
     },
     "execution_count": 45,
     "metadata": {},
     "output_type": "execute_result"
    },
    {
     "data": {
      "text/html": [
       "<div>\n",
       "<style scoped>\n",
       "    .dataframe tbody tr th:only-of-type {\n",
       "        vertical-align: middle;\n",
       "    }\n",
       "\n",
       "    .dataframe tbody tr th {\n",
       "        vertical-align: top;\n",
       "    }\n",
       "\n",
       "    .dataframe thead th {\n",
       "        text-align: right;\n",
       "    }\n",
       "</style>\n",
       "<table border=\"1\" class=\"dataframe\">\n",
       "  <thead>\n",
       "    <tr style=\"text-align: right;\">\n",
       "      <th></th>\n",
       "      <th></th>\n",
       "      <th>name</th>\n",
       "      <th>sex</th>\n",
       "      <th>ticket</th>\n",
       "    </tr>\n",
       "    <tr>\n",
       "      <th>survived</th>\n",
       "      <th>pclass</th>\n",
       "      <th></th>\n",
       "      <th></th>\n",
       "      <th></th>\n",
       "    </tr>\n",
       "  </thead>\n",
       "  <tbody>\n",
       "    <tr>\n",
       "      <th rowspan=\"5\" valign=\"top\">0</th>\n",
       "      <th>1</th>\n",
       "      <td>Allison, Miss. Helen Loraine</td>\n",
       "      <td>female</td>\n",
       "      <td>113781</td>\n",
       "    </tr>\n",
       "    <tr>\n",
       "      <th>1</th>\n",
       "      <td>Allison, Mr. Hudson Joshua Creighton</td>\n",
       "      <td>male</td>\n",
       "      <td>113781</td>\n",
       "    </tr>\n",
       "    <tr>\n",
       "      <th>1</th>\n",
       "      <td>Allison, Mrs. Hudson J C (Bessie Waldo Daniels)</td>\n",
       "      <td>female</td>\n",
       "      <td>113781</td>\n",
       "    </tr>\n",
       "    <tr>\n",
       "      <th>1</th>\n",
       "      <td>Andrews, Mr. Thomas Jr</td>\n",
       "      <td>male</td>\n",
       "      <td>112050</td>\n",
       "    </tr>\n",
       "    <tr>\n",
       "      <th>1</th>\n",
       "      <td>Artagaveytia, Mr. Ramon</td>\n",
       "      <td>male</td>\n",
       "      <td>PC 17609</td>\n",
       "    </tr>\n",
       "    <tr>\n",
       "      <th>...</th>\n",
       "      <th>...</th>\n",
       "      <td>...</td>\n",
       "      <td>...</td>\n",
       "      <td>...</td>\n",
       "    </tr>\n",
       "    <tr>\n",
       "      <th rowspan=\"5\" valign=\"top\">1</th>\n",
       "      <th>3</th>\n",
       "      <td>Turkula, Mrs. (Hedwig)</td>\n",
       "      <td>female</td>\n",
       "      <td>4134</td>\n",
       "    </tr>\n",
       "    <tr>\n",
       "      <th>3</th>\n",
       "      <td>Vartanian, Mr. David</td>\n",
       "      <td>male</td>\n",
       "      <td>2658</td>\n",
       "    </tr>\n",
       "    <tr>\n",
       "      <th>3</th>\n",
       "      <td>Whabee, Mrs. George Joseph (Shawneene Abi-Saab)</td>\n",
       "      <td>female</td>\n",
       "      <td>2688</td>\n",
       "    </tr>\n",
       "    <tr>\n",
       "      <th>3</th>\n",
       "      <td>Wilkes, Mrs. James (Ellen Needs)</td>\n",
       "      <td>female</td>\n",
       "      <td>363272</td>\n",
       "    </tr>\n",
       "    <tr>\n",
       "      <th>3</th>\n",
       "      <td>Yasbeck, Mrs. Antoni (Selini Alexander)</td>\n",
       "      <td>female</td>\n",
       "      <td>2659</td>\n",
       "    </tr>\n",
       "  </tbody>\n",
       "</table>\n",
       "<p>1309 rows × 3 columns</p>\n",
       "</div>"
      ],
      "text/plain": [
       "                                                            name     sex  \\\n",
       "survived pclass                                                            \n",
       "0        1                          Allison, Miss. Helen Loraine  female   \n",
       "         1                  Allison, Mr. Hudson Joshua Creighton    male   \n",
       "         1       Allison, Mrs. Hudson J C (Bessie Waldo Daniels)  female   \n",
       "         1                                Andrews, Mr. Thomas Jr    male   \n",
       "         1                               Artagaveytia, Mr. Ramon    male   \n",
       "...                                                          ...     ...   \n",
       "1        3                                Turkula, Mrs. (Hedwig)  female   \n",
       "         3                                  Vartanian, Mr. David    male   \n",
       "         3       Whabee, Mrs. George Joseph (Shawneene Abi-Saab)  female   \n",
       "         3                      Wilkes, Mrs. James (Ellen Needs)  female   \n",
       "         3               Yasbeck, Mrs. Antoni (Selini Alexander)  female   \n",
       "\n",
       "                   ticket  \n",
       "survived pclass            \n",
       "0        1         113781  \n",
       "         1         113781  \n",
       "         1         113781  \n",
       "         1         112050  \n",
       "         1       PC 17609  \n",
       "...                   ...  \n",
       "1        3           4134  \n",
       "         3           2658  \n",
       "         3           2688  \n",
       "         3         363272  \n",
       "         3           2659  \n",
       "\n",
       "[1309 rows x 3 columns]"
      ]
     },
     "execution_count": 45,
     "metadata": {},
     "output_type": "execute_result"
    }
   ],
   "source": [
    "df = pd.read_csv(\"data/Titanic.csv\", index_col=[1, 0], usecols=[\"survived\", \"ticket\", \"pclass\", \"sex\", \"name\"], sep=\",\")\n",
    "df\n",
    "df.sort_index(kind='mergesort')"
   ]
  },
  {
   "cell_type": "code",
   "execution_count": 12,
   "id": "0efe9b89-cf43-4da9-85e9-017a245c7095",
   "metadata": {},
   "outputs": [
    {
     "data": {
      "text/html": [
       "<div>\n",
       "<style scoped>\n",
       "    .dataframe tbody tr th:only-of-type {\n",
       "        vertical-align: middle;\n",
       "    }\n",
       "\n",
       "    .dataframe tbody tr th {\n",
       "        vertical-align: top;\n",
       "    }\n",
       "\n",
       "    .dataframe thead th {\n",
       "        text-align: right;\n",
       "    }\n",
       "</style>\n",
       "<table border=\"1\" class=\"dataframe\">\n",
       "  <thead>\n",
       "    <tr style=\"text-align: right;\">\n",
       "      <th></th>\n",
       "      <th></th>\n",
       "      <th>name</th>\n",
       "      <th>sex</th>\n",
       "      <th>ticket</th>\n",
       "    </tr>\n",
       "    <tr>\n",
       "      <th>survived</th>\n",
       "      <th>pclass</th>\n",
       "      <th></th>\n",
       "      <th></th>\n",
       "      <th></th>\n",
       "    </tr>\n",
       "  </thead>\n",
       "  <tbody>\n",
       "    <tr>\n",
       "      <th>0</th>\n",
       "      <th>1</th>\n",
       "      <td>Crosby, Capt. Edward Gifford</td>\n",
       "      <td>male</td>\n",
       "      <td>WE/P 5735</td>\n",
       "    </tr>\n",
       "    <tr>\n",
       "      <th>1</th>\n",
       "      <th>1</th>\n",
       "      <td>Crosby, Miss. Harriet R</td>\n",
       "      <td>female</td>\n",
       "      <td>WE/P 5735</td>\n",
       "    </tr>\n",
       "    <tr>\n",
       "      <th rowspan=\"2\" valign=\"top\">0</th>\n",
       "      <th>2</th>\n",
       "      <td>Harris, Mr. Walter</td>\n",
       "      <td>male</td>\n",
       "      <td>W/C 14208</td>\n",
       "    </tr>\n",
       "    <tr>\n",
       "      <th>1</th>\n",
       "      <td>Chaffee, Mr. Herbert Fuller</td>\n",
       "      <td>male</td>\n",
       "      <td>W.E.P. 5734</td>\n",
       "    </tr>\n",
       "    <tr>\n",
       "      <th rowspan=\"3\" valign=\"top\">1</th>\n",
       "      <th>1</th>\n",
       "      <td>Chaffee, Mrs. Herbert Fuller (Carrie Constance...</td>\n",
       "      <td>female</td>\n",
       "      <td>W.E.P. 5734</td>\n",
       "    </tr>\n",
       "    <tr>\n",
       "      <th>...</th>\n",
       "      <td>...</td>\n",
       "      <td>...</td>\n",
       "      <td>...</td>\n",
       "    </tr>\n",
       "    <tr>\n",
       "      <th>1</th>\n",
       "      <td>Taussig, Mrs. Emil (Tillie Mandelbaum)</td>\n",
       "      <td>female</td>\n",
       "      <td>110413</td>\n",
       "    </tr>\n",
       "    <tr>\n",
       "      <th>0</th>\n",
       "      <th>1</th>\n",
       "      <td>Taussig, Mr. Emil</td>\n",
       "      <td>male</td>\n",
       "      <td>110413</td>\n",
       "    </tr>\n",
       "    <tr>\n",
       "      <th rowspan=\"3\" valign=\"top\">1</th>\n",
       "      <th>1</th>\n",
       "      <td>Maioni, Miss. Roberta</td>\n",
       "      <td>female</td>\n",
       "      <td>110152</td>\n",
       "    </tr>\n",
       "    <tr>\n",
       "      <th>1</th>\n",
       "      <td>Cherry, Miss. Gladys</td>\n",
       "      <td>female</td>\n",
       "      <td>110152</td>\n",
       "    </tr>\n",
       "    <tr>\n",
       "      <th>1</th>\n",
       "      <td>Rothes, the Countess. of (Lucy Noel Martha Dye...</td>\n",
       "      <td>female</td>\n",
       "      <td>110152</td>\n",
       "    </tr>\n",
       "  </tbody>\n",
       "</table>\n",
       "<p>1309 rows × 3 columns</p>\n",
       "</div>"
      ],
      "text/plain": [
       "                                                              name     sex  \\\n",
       "survived pclass                                                              \n",
       "0        1                            Crosby, Capt. Edward Gifford    male   \n",
       "1        1                                 Crosby, Miss. Harriet R  female   \n",
       "0        2                                      Harris, Mr. Walter    male   \n",
       "         1                             Chaffee, Mr. Herbert Fuller    male   \n",
       "1        1       Chaffee, Mrs. Herbert Fuller (Carrie Constance...  female   \n",
       "...                                                            ...     ...   \n",
       "         1                  Taussig, Mrs. Emil (Tillie Mandelbaum)  female   \n",
       "0        1                                       Taussig, Mr. Emil    male   \n",
       "1        1                                   Maioni, Miss. Roberta  female   \n",
       "         1                                    Cherry, Miss. Gladys  female   \n",
       "         1       Rothes, the Countess. of (Lucy Noel Martha Dye...  female   \n",
       "\n",
       "                      ticket  \n",
       "survived pclass               \n",
       "0        1         WE/P 5735  \n",
       "1        1         WE/P 5735  \n",
       "0        2         W/C 14208  \n",
       "         1       W.E.P. 5734  \n",
       "1        1       W.E.P. 5734  \n",
       "...                      ...  \n",
       "         1            110413  \n",
       "0        1            110413  \n",
       "1        1            110152  \n",
       "         1            110152  \n",
       "         1            110152  \n",
       "\n",
       "[1309 rows x 3 columns]"
      ]
     },
     "execution_count": 12,
     "metadata": {},
     "output_type": "execute_result"
    }
   ],
   "source": [
    "df.sort_values(\"ticket\", ascending=False)"
   ]
  },
  {
   "cell_type": "markdown",
   "id": "19cd7338-597a-46be-99d5-5258116b8586",
   "metadata": {},
   "source": [
    "### 2.2.3. Индексация, срезы и маски"
   ]
  },
  {
   "cell_type": "code",
   "execution_count": 17,
   "id": "ee35ab08-84ea-421b-a5b1-32a81ab55c09",
   "metadata": {
    "collapsed": true,
    "jupyter": {
     "outputs_hidden": true
    }
   },
   "outputs": [
    {
     "data": {
      "text/plain": [
       "survived  pclass\n",
       "1         1         female\n",
       "          1           male\n",
       "0         1         female\n",
       "          1           male\n",
       "          1         female\n",
       "                     ...  \n",
       "          3         female\n",
       "          3         female\n",
       "          3           male\n",
       "          3           male\n",
       "          3           male\n",
       "Name: sex, Length: 1309, dtype: object"
      ]
     },
     "execution_count": 17,
     "metadata": {},
     "output_type": "execute_result"
    },
    {
     "data": {
      "text/html": [
       "<div>\n",
       "<style scoped>\n",
       "    .dataframe tbody tr th:only-of-type {\n",
       "        vertical-align: middle;\n",
       "    }\n",
       "\n",
       "    .dataframe tbody tr th {\n",
       "        vertical-align: top;\n",
       "    }\n",
       "\n",
       "    .dataframe thead th {\n",
       "        text-align: right;\n",
       "    }\n",
       "</style>\n",
       "<table border=\"1\" class=\"dataframe\">\n",
       "  <thead>\n",
       "    <tr style=\"text-align: right;\">\n",
       "      <th></th>\n",
       "      <th></th>\n",
       "      <th>sex</th>\n",
       "      <th>age</th>\n",
       "    </tr>\n",
       "    <tr>\n",
       "      <th>survived</th>\n",
       "      <th>pclass</th>\n",
       "      <th></th>\n",
       "      <th></th>\n",
       "    </tr>\n",
       "  </thead>\n",
       "  <tbody>\n",
       "    <tr>\n",
       "      <th rowspan=\"2\" valign=\"top\">1</th>\n",
       "      <th>1</th>\n",
       "      <td>female</td>\n",
       "      <td>29.00</td>\n",
       "    </tr>\n",
       "    <tr>\n",
       "      <th>1</th>\n",
       "      <td>male</td>\n",
       "      <td>0.92</td>\n",
       "    </tr>\n",
       "    <tr>\n",
       "      <th rowspan=\"9\" valign=\"top\">0</th>\n",
       "      <th>1</th>\n",
       "      <td>female</td>\n",
       "      <td>2.00</td>\n",
       "    </tr>\n",
       "    <tr>\n",
       "      <th>1</th>\n",
       "      <td>male</td>\n",
       "      <td>30.00</td>\n",
       "    </tr>\n",
       "    <tr>\n",
       "      <th>1</th>\n",
       "      <td>female</td>\n",
       "      <td>25.00</td>\n",
       "    </tr>\n",
       "    <tr>\n",
       "      <th>...</th>\n",
       "      <td>...</td>\n",
       "      <td>...</td>\n",
       "    </tr>\n",
       "    <tr>\n",
       "      <th>3</th>\n",
       "      <td>female</td>\n",
       "      <td>14.50</td>\n",
       "    </tr>\n",
       "    <tr>\n",
       "      <th>3</th>\n",
       "      <td>female</td>\n",
       "      <td>NaN</td>\n",
       "    </tr>\n",
       "    <tr>\n",
       "      <th>3</th>\n",
       "      <td>male</td>\n",
       "      <td>26.50</td>\n",
       "    </tr>\n",
       "    <tr>\n",
       "      <th>3</th>\n",
       "      <td>male</td>\n",
       "      <td>27.00</td>\n",
       "    </tr>\n",
       "    <tr>\n",
       "      <th>3</th>\n",
       "      <td>male</td>\n",
       "      <td>29.00</td>\n",
       "    </tr>\n",
       "  </tbody>\n",
       "</table>\n",
       "<p>1309 rows × 2 columns</p>\n",
       "</div>"
      ],
      "text/plain": [
       "                    sex    age\n",
       "survived pclass               \n",
       "1        1       female  29.00\n",
       "         1         male   0.92\n",
       "0        1       female   2.00\n",
       "         1         male  30.00\n",
       "         1       female  25.00\n",
       "...                 ...    ...\n",
       "         3       female  14.50\n",
       "         3       female    NaN\n",
       "         3         male  26.50\n",
       "         3         male  27.00\n",
       "         3         male  29.00\n",
       "\n",
       "[1309 rows x 2 columns]"
      ]
     },
     "execution_count": 17,
     "metadata": {},
     "output_type": "execute_result"
    }
   ],
   "source": [
    "df = pd.read_csv(\"data/Titanic.csv\", index_col=[1, 0], usecols=[\"survived\", \"ticket\", \"pclass\", \"sex\", \"age\", \"boat\"], sep=\",\")\n",
    "df[\"sex\"]\n",
    "df[[\"sex\", \"age\"]]"
   ]
  },
  {
   "cell_type": "code",
   "execution_count": 18,
   "id": "2806d443-0bce-46c7-9e6e-e84c22bf00b4",
   "metadata": {},
   "outputs": [
    {
     "data": {
      "text/html": [
       "<div>\n",
       "<style scoped>\n",
       "    .dataframe tbody tr th:only-of-type {\n",
       "        vertical-align: middle;\n",
       "    }\n",
       "\n",
       "    .dataframe tbody tr th {\n",
       "        vertical-align: top;\n",
       "    }\n",
       "\n",
       "    .dataframe thead th {\n",
       "        text-align: right;\n",
       "    }\n",
       "</style>\n",
       "<table border=\"1\" class=\"dataframe\">\n",
       "  <thead>\n",
       "    <tr style=\"text-align: right;\">\n",
       "      <th></th>\n",
       "      <th>sex</th>\n",
       "      <th>age</th>\n",
       "      <th>ticket</th>\n",
       "      <th>boat</th>\n",
       "    </tr>\n",
       "    <tr>\n",
       "      <th>pclass</th>\n",
       "      <th></th>\n",
       "      <th></th>\n",
       "      <th></th>\n",
       "      <th></th>\n",
       "    </tr>\n",
       "  </thead>\n",
       "  <tbody>\n",
       "    <tr>\n",
       "      <th>1</th>\n",
       "      <td>female</td>\n",
       "      <td>2.0</td>\n",
       "      <td>113781</td>\n",
       "      <td>NaN</td>\n",
       "    </tr>\n",
       "    <tr>\n",
       "      <th>1</th>\n",
       "      <td>male</td>\n",
       "      <td>30.0</td>\n",
       "      <td>113781</td>\n",
       "      <td>NaN</td>\n",
       "    </tr>\n",
       "    <tr>\n",
       "      <th>1</th>\n",
       "      <td>female</td>\n",
       "      <td>25.0</td>\n",
       "      <td>113781</td>\n",
       "      <td>NaN</td>\n",
       "    </tr>\n",
       "    <tr>\n",
       "      <th>1</th>\n",
       "      <td>male</td>\n",
       "      <td>39.0</td>\n",
       "      <td>112050</td>\n",
       "      <td>NaN</td>\n",
       "    </tr>\n",
       "    <tr>\n",
       "      <th>1</th>\n",
       "      <td>male</td>\n",
       "      <td>71.0</td>\n",
       "      <td>PC 17609</td>\n",
       "      <td>NaN</td>\n",
       "    </tr>\n",
       "    <tr>\n",
       "      <th>...</th>\n",
       "      <td>...</td>\n",
       "      <td>...</td>\n",
       "      <td>...</td>\n",
       "      <td>...</td>\n",
       "    </tr>\n",
       "    <tr>\n",
       "      <th>3</th>\n",
       "      <td>female</td>\n",
       "      <td>14.5</td>\n",
       "      <td>2665</td>\n",
       "      <td>NaN</td>\n",
       "    </tr>\n",
       "    <tr>\n",
       "      <th>3</th>\n",
       "      <td>female</td>\n",
       "      <td>NaN</td>\n",
       "      <td>2665</td>\n",
       "      <td>NaN</td>\n",
       "    </tr>\n",
       "    <tr>\n",
       "      <th>3</th>\n",
       "      <td>male</td>\n",
       "      <td>26.5</td>\n",
       "      <td>2656</td>\n",
       "      <td>NaN</td>\n",
       "    </tr>\n",
       "    <tr>\n",
       "      <th>3</th>\n",
       "      <td>male</td>\n",
       "      <td>27.0</td>\n",
       "      <td>2670</td>\n",
       "      <td>NaN</td>\n",
       "    </tr>\n",
       "    <tr>\n",
       "      <th>3</th>\n",
       "      <td>male</td>\n",
       "      <td>29.0</td>\n",
       "      <td>315082</td>\n",
       "      <td>NaN</td>\n",
       "    </tr>\n",
       "  </tbody>\n",
       "</table>\n",
       "<p>809 rows × 4 columns</p>\n",
       "</div>"
      ],
      "text/plain": [
       "           sex   age    ticket boat\n",
       "pclass                             \n",
       "1       female   2.0    113781  NaN\n",
       "1         male  30.0    113781  NaN\n",
       "1       female  25.0    113781  NaN\n",
       "1         male  39.0    112050  NaN\n",
       "1         male  71.0  PC 17609  NaN\n",
       "...        ...   ...       ...  ...\n",
       "3       female  14.5      2665  NaN\n",
       "3       female   NaN      2665  NaN\n",
       "3         male  26.5      2656  NaN\n",
       "3         male  27.0      2670  NaN\n",
       "3         male  29.0    315082  NaN\n",
       "\n",
       "[809 rows x 4 columns]"
      ]
     },
     "execution_count": 18,
     "metadata": {},
     "output_type": "execute_result"
    },
    {
     "data": {
      "text/html": [
       "<div>\n",
       "<style scoped>\n",
       "    .dataframe tbody tr th:only-of-type {\n",
       "        vertical-align: middle;\n",
       "    }\n",
       "\n",
       "    .dataframe tbody tr th {\n",
       "        vertical-align: top;\n",
       "    }\n",
       "\n",
       "    .dataframe thead th {\n",
       "        text-align: right;\n",
       "    }\n",
       "</style>\n",
       "<table border=\"1\" class=\"dataframe\">\n",
       "  <thead>\n",
       "    <tr style=\"text-align: right;\">\n",
       "      <th></th>\n",
       "      <th></th>\n",
       "      <th>sex</th>\n",
       "      <th>age</th>\n",
       "      <th>ticket</th>\n",
       "      <th>boat</th>\n",
       "    </tr>\n",
       "    <tr>\n",
       "      <th>survived</th>\n",
       "      <th>pclass</th>\n",
       "      <th></th>\n",
       "      <th></th>\n",
       "      <th></th>\n",
       "      <th></th>\n",
       "    </tr>\n",
       "  </thead>\n",
       "  <tbody>\n",
       "    <tr>\n",
       "      <th rowspan=\"5\" valign=\"top\">0</th>\n",
       "      <th>1</th>\n",
       "      <td>female</td>\n",
       "      <td>2.0</td>\n",
       "      <td>113781</td>\n",
       "      <td>NaN</td>\n",
       "    </tr>\n",
       "    <tr>\n",
       "      <th>1</th>\n",
       "      <td>male</td>\n",
       "      <td>30.0</td>\n",
       "      <td>113781</td>\n",
       "      <td>NaN</td>\n",
       "    </tr>\n",
       "    <tr>\n",
       "      <th>1</th>\n",
       "      <td>female</td>\n",
       "      <td>25.0</td>\n",
       "      <td>113781</td>\n",
       "      <td>NaN</td>\n",
       "    </tr>\n",
       "    <tr>\n",
       "      <th>1</th>\n",
       "      <td>male</td>\n",
       "      <td>39.0</td>\n",
       "      <td>112050</td>\n",
       "      <td>NaN</td>\n",
       "    </tr>\n",
       "    <tr>\n",
       "      <th>1</th>\n",
       "      <td>male</td>\n",
       "      <td>71.0</td>\n",
       "      <td>PC 17609</td>\n",
       "      <td>NaN</td>\n",
       "    </tr>\n",
       "    <tr>\n",
       "      <th>...</th>\n",
       "      <th>...</th>\n",
       "      <td>...</td>\n",
       "      <td>...</td>\n",
       "      <td>...</td>\n",
       "      <td>...</td>\n",
       "    </tr>\n",
       "    <tr>\n",
       "      <th rowspan=\"5\" valign=\"top\">1</th>\n",
       "      <th>3</th>\n",
       "      <td>female</td>\n",
       "      <td>63.0</td>\n",
       "      <td>4134</td>\n",
       "      <td>15</td>\n",
       "    </tr>\n",
       "    <tr>\n",
       "      <th>3</th>\n",
       "      <td>male</td>\n",
       "      <td>22.0</td>\n",
       "      <td>2658</td>\n",
       "      <td>13 15</td>\n",
       "    </tr>\n",
       "    <tr>\n",
       "      <th>3</th>\n",
       "      <td>female</td>\n",
       "      <td>38.0</td>\n",
       "      <td>2688</td>\n",
       "      <td>C</td>\n",
       "    </tr>\n",
       "    <tr>\n",
       "      <th>3</th>\n",
       "      <td>female</td>\n",
       "      <td>47.0</td>\n",
       "      <td>363272</td>\n",
       "      <td>NaN</td>\n",
       "    </tr>\n",
       "    <tr>\n",
       "      <th>3</th>\n",
       "      <td>female</td>\n",
       "      <td>15.0</td>\n",
       "      <td>2659</td>\n",
       "      <td>NaN</td>\n",
       "    </tr>\n",
       "  </tbody>\n",
       "</table>\n",
       "<p>1309 rows × 4 columns</p>\n",
       "</div>"
      ],
      "text/plain": [
       "                    sex   age    ticket   boat\n",
       "survived pclass                               \n",
       "0        1       female   2.0    113781    NaN\n",
       "         1         male  30.0    113781    NaN\n",
       "         1       female  25.0    113781    NaN\n",
       "         1         male  39.0    112050    NaN\n",
       "         1         male  71.0  PC 17609    NaN\n",
       "...                 ...   ...       ...    ...\n",
       "1        3       female  63.0      4134     15\n",
       "         3         male  22.0      2658  13 15\n",
       "         3       female  38.0      2688      C\n",
       "         3       female  47.0    363272    NaN\n",
       "         3       female  15.0      2659    NaN\n",
       "\n",
       "[1309 rows x 4 columns]"
      ]
     },
     "execution_count": 18,
     "metadata": {},
     "output_type": "execute_result"
    },
    {
     "name": "stderr",
     "output_type": "stream",
     "text": [
      "C:\\Users\\kitro\\AppData\\Local\\Temp\\ipykernel_12124\\237073859.py:3: PerformanceWarning: indexing past lexsort depth may impact performance.\n",
      "  df.loc[(0, 1)]  # Выбираем все строки когда survived == 0, pclass == 1\n"
     ]
    },
    {
     "data": {
      "text/html": [
       "<div>\n",
       "<style scoped>\n",
       "    .dataframe tbody tr th:only-of-type {\n",
       "        vertical-align: middle;\n",
       "    }\n",
       "\n",
       "    .dataframe tbody tr th {\n",
       "        vertical-align: top;\n",
       "    }\n",
       "\n",
       "    .dataframe thead th {\n",
       "        text-align: right;\n",
       "    }\n",
       "</style>\n",
       "<table border=\"1\" class=\"dataframe\">\n",
       "  <thead>\n",
       "    <tr style=\"text-align: right;\">\n",
       "      <th></th>\n",
       "      <th></th>\n",
       "      <th>sex</th>\n",
       "      <th>age</th>\n",
       "      <th>ticket</th>\n",
       "      <th>boat</th>\n",
       "    </tr>\n",
       "    <tr>\n",
       "      <th>survived</th>\n",
       "      <th>pclass</th>\n",
       "      <th></th>\n",
       "      <th></th>\n",
       "      <th></th>\n",
       "      <th></th>\n",
       "    </tr>\n",
       "  </thead>\n",
       "  <tbody>\n",
       "    <tr>\n",
       "      <th rowspan=\"11\" valign=\"top\">0</th>\n",
       "      <th>1</th>\n",
       "      <td>female</td>\n",
       "      <td>2.0</td>\n",
       "      <td>113781</td>\n",
       "      <td>NaN</td>\n",
       "    </tr>\n",
       "    <tr>\n",
       "      <th>1</th>\n",
       "      <td>male</td>\n",
       "      <td>30.0</td>\n",
       "      <td>113781</td>\n",
       "      <td>NaN</td>\n",
       "    </tr>\n",
       "    <tr>\n",
       "      <th>1</th>\n",
       "      <td>female</td>\n",
       "      <td>25.0</td>\n",
       "      <td>113781</td>\n",
       "      <td>NaN</td>\n",
       "    </tr>\n",
       "    <tr>\n",
       "      <th>1</th>\n",
       "      <td>male</td>\n",
       "      <td>39.0</td>\n",
       "      <td>112050</td>\n",
       "      <td>NaN</td>\n",
       "    </tr>\n",
       "    <tr>\n",
       "      <th>1</th>\n",
       "      <td>male</td>\n",
       "      <td>71.0</td>\n",
       "      <td>PC 17609</td>\n",
       "      <td>NaN</td>\n",
       "    </tr>\n",
       "    <tr>\n",
       "      <th>...</th>\n",
       "      <td>...</td>\n",
       "      <td>...</td>\n",
       "      <td>...</td>\n",
       "      <td>...</td>\n",
       "    </tr>\n",
       "    <tr>\n",
       "      <th>1</th>\n",
       "      <td>male</td>\n",
       "      <td>50.0</td>\n",
       "      <td>113503</td>\n",
       "      <td>NaN</td>\n",
       "    </tr>\n",
       "    <tr>\n",
       "      <th>1</th>\n",
       "      <td>male</td>\n",
       "      <td>27.0</td>\n",
       "      <td>113503</td>\n",
       "      <td>NaN</td>\n",
       "    </tr>\n",
       "    <tr>\n",
       "      <th>1</th>\n",
       "      <td>male</td>\n",
       "      <td>51.0</td>\n",
       "      <td>PC 17597</td>\n",
       "      <td>NaN</td>\n",
       "    </tr>\n",
       "    <tr>\n",
       "      <th>1</th>\n",
       "      <td>male</td>\n",
       "      <td>NaN</td>\n",
       "      <td>113510</td>\n",
       "      <td>NaN</td>\n",
       "    </tr>\n",
       "    <tr>\n",
       "      <th>1</th>\n",
       "      <td>male</td>\n",
       "      <td>62.0</td>\n",
       "      <td>113807</td>\n",
       "      <td>NaN</td>\n",
       "    </tr>\n",
       "  </tbody>\n",
       "</table>\n",
       "<p>123 rows × 4 columns</p>\n",
       "</div>"
      ],
      "text/plain": [
       "                    sex   age    ticket boat\n",
       "survived pclass                             \n",
       "0        1       female   2.0    113781  NaN\n",
       "         1         male  30.0    113781  NaN\n",
       "         1       female  25.0    113781  NaN\n",
       "         1         male  39.0    112050  NaN\n",
       "         1         male  71.0  PC 17609  NaN\n",
       "...                 ...   ...       ...  ...\n",
       "         1         male  50.0    113503  NaN\n",
       "         1         male  27.0    113503  NaN\n",
       "         1         male  51.0  PC 17597  NaN\n",
       "         1         male   NaN    113510  NaN\n",
       "         1         male  62.0    113807  NaN\n",
       "\n",
       "[123 rows x 4 columns]"
      ]
     },
     "execution_count": 18,
     "metadata": {},
     "output_type": "execute_result"
    }
   ],
   "source": [
    "df.loc[0]  # Выбираем все строки когда survived == 0\n",
    "df.loc[[0, 1]]  # Выбираем все строки когда survived in [0, 1]\n",
    "df.loc[(0, 1)]  # Выбираем все строки когда survived == 0, pclass == 1"
   ]
  },
  {
   "cell_type": "code",
   "execution_count": 20,
   "id": "64bc77cf-ca54-4386-964c-ef2ebd263f29",
   "metadata": {},
   "outputs": [
    {
     "data": {
      "text/html": [
       "<div>\n",
       "<style scoped>\n",
       "    .dataframe tbody tr th:only-of-type {\n",
       "        vertical-align: middle;\n",
       "    }\n",
       "\n",
       "    .dataframe tbody tr th {\n",
       "        vertical-align: top;\n",
       "    }\n",
       "\n",
       "    .dataframe thead th {\n",
       "        text-align: right;\n",
       "    }\n",
       "</style>\n",
       "<table border=\"1\" class=\"dataframe\">\n",
       "  <thead>\n",
       "    <tr style=\"text-align: right;\">\n",
       "      <th></th>\n",
       "      <th></th>\n",
       "      <th>age</th>\n",
       "    </tr>\n",
       "    <tr>\n",
       "      <th>survived</th>\n",
       "      <th>pclass</th>\n",
       "      <th></th>\n",
       "    </tr>\n",
       "  </thead>\n",
       "  <tbody>\n",
       "    <tr>\n",
       "      <th rowspan=\"11\" valign=\"top\">0</th>\n",
       "      <th>1</th>\n",
       "      <td>2.0</td>\n",
       "    </tr>\n",
       "    <tr>\n",
       "      <th>1</th>\n",
       "      <td>30.0</td>\n",
       "    </tr>\n",
       "    <tr>\n",
       "      <th>1</th>\n",
       "      <td>25.0</td>\n",
       "    </tr>\n",
       "    <tr>\n",
       "      <th>1</th>\n",
       "      <td>39.0</td>\n",
       "    </tr>\n",
       "    <tr>\n",
       "      <th>1</th>\n",
       "      <td>71.0</td>\n",
       "    </tr>\n",
       "    <tr>\n",
       "      <th>...</th>\n",
       "      <td>...</td>\n",
       "    </tr>\n",
       "    <tr>\n",
       "      <th>3</th>\n",
       "      <td>14.5</td>\n",
       "    </tr>\n",
       "    <tr>\n",
       "      <th>3</th>\n",
       "      <td>NaN</td>\n",
       "    </tr>\n",
       "    <tr>\n",
       "      <th>3</th>\n",
       "      <td>26.5</td>\n",
       "    </tr>\n",
       "    <tr>\n",
       "      <th>3</th>\n",
       "      <td>27.0</td>\n",
       "    </tr>\n",
       "    <tr>\n",
       "      <th>3</th>\n",
       "      <td>29.0</td>\n",
       "    </tr>\n",
       "  </tbody>\n",
       "</table>\n",
       "<p>809 rows × 1 columns</p>\n",
       "</div>"
      ],
      "text/plain": [
       "                  age\n",
       "survived pclass      \n",
       "0        1        2.0\n",
       "         1       30.0\n",
       "         1       25.0\n",
       "         1       39.0\n",
       "         1       71.0\n",
       "...               ...\n",
       "         3       14.5\n",
       "         3        NaN\n",
       "         3       26.5\n",
       "         3       27.0\n",
       "         3       29.0\n",
       "\n",
       "[809 rows x 1 columns]"
      ]
     },
     "execution_count": 20,
     "metadata": {},
     "output_type": "execute_result"
    },
    {
     "data": {
      "text/html": [
       "<div>\n",
       "<style scoped>\n",
       "    .dataframe tbody tr th:only-of-type {\n",
       "        vertical-align: middle;\n",
       "    }\n",
       "\n",
       "    .dataframe tbody tr th {\n",
       "        vertical-align: top;\n",
       "    }\n",
       "\n",
       "    .dataframe thead th {\n",
       "        text-align: right;\n",
       "    }\n",
       "</style>\n",
       "<table border=\"1\" class=\"dataframe\">\n",
       "  <thead>\n",
       "    <tr style=\"text-align: right;\">\n",
       "      <th></th>\n",
       "      <th></th>\n",
       "      <th>ticket</th>\n",
       "      <th>age</th>\n",
       "    </tr>\n",
       "    <tr>\n",
       "      <th>survived</th>\n",
       "      <th>pclass</th>\n",
       "      <th></th>\n",
       "      <th></th>\n",
       "    </tr>\n",
       "  </thead>\n",
       "  <tbody>\n",
       "    <tr>\n",
       "      <th rowspan=\"11\" valign=\"top\">0</th>\n",
       "      <th>1</th>\n",
       "      <td>113781</td>\n",
       "      <td>2.0</td>\n",
       "    </tr>\n",
       "    <tr>\n",
       "      <th>1</th>\n",
       "      <td>113781</td>\n",
       "      <td>30.0</td>\n",
       "    </tr>\n",
       "    <tr>\n",
       "      <th>1</th>\n",
       "      <td>113781</td>\n",
       "      <td>25.0</td>\n",
       "    </tr>\n",
       "    <tr>\n",
       "      <th>1</th>\n",
       "      <td>112050</td>\n",
       "      <td>39.0</td>\n",
       "    </tr>\n",
       "    <tr>\n",
       "      <th>1</th>\n",
       "      <td>PC 17609</td>\n",
       "      <td>71.0</td>\n",
       "    </tr>\n",
       "    <tr>\n",
       "      <th>...</th>\n",
       "      <td>...</td>\n",
       "      <td>...</td>\n",
       "    </tr>\n",
       "    <tr>\n",
       "      <th>3</th>\n",
       "      <td>2665</td>\n",
       "      <td>14.5</td>\n",
       "    </tr>\n",
       "    <tr>\n",
       "      <th>3</th>\n",
       "      <td>2665</td>\n",
       "      <td>NaN</td>\n",
       "    </tr>\n",
       "    <tr>\n",
       "      <th>3</th>\n",
       "      <td>2656</td>\n",
       "      <td>26.5</td>\n",
       "    </tr>\n",
       "    <tr>\n",
       "      <th>3</th>\n",
       "      <td>2670</td>\n",
       "      <td>27.0</td>\n",
       "    </tr>\n",
       "    <tr>\n",
       "      <th>3</th>\n",
       "      <td>315082</td>\n",
       "      <td>29.0</td>\n",
       "    </tr>\n",
       "  </tbody>\n",
       "</table>\n",
       "<p>809 rows × 2 columns</p>\n",
       "</div>"
      ],
      "text/plain": [
       "                   ticket   age\n",
       "survived pclass                \n",
       "0        1         113781   2.0\n",
       "         1         113781  30.0\n",
       "         1         113781  25.0\n",
       "         1         112050  39.0\n",
       "         1       PC 17609  71.0\n",
       "...                   ...   ...\n",
       "         3           2665  14.5\n",
       "         3           2665   NaN\n",
       "         3           2656  26.5\n",
       "         3           2670  27.0\n",
       "         3         315082  29.0\n",
       "\n",
       "[809 rows x 2 columns]"
      ]
     },
     "execution_count": 20,
     "metadata": {},
     "output_type": "execute_result"
    },
    {
     "data": {
      "text/html": [
       "<div>\n",
       "<style scoped>\n",
       "    .dataframe tbody tr th:only-of-type {\n",
       "        vertical-align: middle;\n",
       "    }\n",
       "\n",
       "    .dataframe tbody tr th {\n",
       "        vertical-align: top;\n",
       "    }\n",
       "\n",
       "    .dataframe thead th {\n",
       "        text-align: right;\n",
       "    }\n",
       "</style>\n",
       "<table border=\"1\" class=\"dataframe\">\n",
       "  <thead>\n",
       "    <tr style=\"text-align: right;\">\n",
       "      <th></th>\n",
       "      <th></th>\n",
       "      <th>age</th>\n",
       "      <th>ticket</th>\n",
       "      <th>boat</th>\n",
       "    </tr>\n",
       "    <tr>\n",
       "      <th>survived</th>\n",
       "      <th>pclass</th>\n",
       "      <th></th>\n",
       "      <th></th>\n",
       "      <th></th>\n",
       "    </tr>\n",
       "  </thead>\n",
       "  <tbody>\n",
       "    <tr>\n",
       "      <th rowspan=\"11\" valign=\"top\">0</th>\n",
       "      <th>1</th>\n",
       "      <td>2.0</td>\n",
       "      <td>113781</td>\n",
       "      <td>NaN</td>\n",
       "    </tr>\n",
       "    <tr>\n",
       "      <th>1</th>\n",
       "      <td>30.0</td>\n",
       "      <td>113781</td>\n",
       "      <td>NaN</td>\n",
       "    </tr>\n",
       "    <tr>\n",
       "      <th>1</th>\n",
       "      <td>25.0</td>\n",
       "      <td>113781</td>\n",
       "      <td>NaN</td>\n",
       "    </tr>\n",
       "    <tr>\n",
       "      <th>1</th>\n",
       "      <td>39.0</td>\n",
       "      <td>112050</td>\n",
       "      <td>NaN</td>\n",
       "    </tr>\n",
       "    <tr>\n",
       "      <th>1</th>\n",
       "      <td>71.0</td>\n",
       "      <td>PC 17609</td>\n",
       "      <td>NaN</td>\n",
       "    </tr>\n",
       "    <tr>\n",
       "      <th>...</th>\n",
       "      <td>...</td>\n",
       "      <td>...</td>\n",
       "      <td>...</td>\n",
       "    </tr>\n",
       "    <tr>\n",
       "      <th>3</th>\n",
       "      <td>14.5</td>\n",
       "      <td>2665</td>\n",
       "      <td>NaN</td>\n",
       "    </tr>\n",
       "    <tr>\n",
       "      <th>3</th>\n",
       "      <td>NaN</td>\n",
       "      <td>2665</td>\n",
       "      <td>NaN</td>\n",
       "    </tr>\n",
       "    <tr>\n",
       "      <th>3</th>\n",
       "      <td>26.5</td>\n",
       "      <td>2656</td>\n",
       "      <td>NaN</td>\n",
       "    </tr>\n",
       "    <tr>\n",
       "      <th>3</th>\n",
       "      <td>27.0</td>\n",
       "      <td>2670</td>\n",
       "      <td>NaN</td>\n",
       "    </tr>\n",
       "    <tr>\n",
       "      <th>3</th>\n",
       "      <td>29.0</td>\n",
       "      <td>315082</td>\n",
       "      <td>NaN</td>\n",
       "    </tr>\n",
       "  </tbody>\n",
       "</table>\n",
       "<p>809 rows × 3 columns</p>\n",
       "</div>"
      ],
      "text/plain": [
       "                  age    ticket boat\n",
       "survived pclass                     \n",
       "0        1        2.0    113781  NaN\n",
       "         1       30.0    113781  NaN\n",
       "         1       25.0    113781  NaN\n",
       "         1       39.0    112050  NaN\n",
       "         1       71.0  PC 17609  NaN\n",
       "...               ...       ...  ...\n",
       "         3       14.5      2665  NaN\n",
       "         3        NaN      2665  NaN\n",
       "         3       26.5      2656  NaN\n",
       "         3       27.0      2670  NaN\n",
       "         3       29.0    315082  NaN\n",
       "\n",
       "[809 rows x 3 columns]"
      ]
     },
     "execution_count": 20,
     "metadata": {},
     "output_type": "execute_result"
    }
   ],
   "source": [
    "df.loc[[0], [\"age\"]]\n",
    "df.loc[[0], [\"ticket\", \"age\"]]\n",
    "df.loc[[0], \"age\":\"boat\"]"
   ]
  },
  {
   "cell_type": "code",
   "execution_count": 23,
   "id": "e9bb4fd4-ba27-4837-832f-443346b42ac0",
   "metadata": {},
   "outputs": [
    {
     "name": "stderr",
     "output_type": "stream",
     "text": [
      "C:\\Users\\kitro\\AppData\\Local\\Temp\\ipykernel_12124\\672734431.py:1: PerformanceWarning: indexing past lexsort depth may impact performance.\n",
      "  df.loc[(0,2), (\"age\", \"ticket\")]  # Комбинация мультииндекса и выбора столбцов\n"
     ]
    },
    {
     "data": {
      "text/html": [
       "<div>\n",
       "<style scoped>\n",
       "    .dataframe tbody tr th:only-of-type {\n",
       "        vertical-align: middle;\n",
       "    }\n",
       "\n",
       "    .dataframe tbody tr th {\n",
       "        vertical-align: top;\n",
       "    }\n",
       "\n",
       "    .dataframe thead th {\n",
       "        text-align: right;\n",
       "    }\n",
       "</style>\n",
       "<table border=\"1\" class=\"dataframe\">\n",
       "  <thead>\n",
       "    <tr style=\"text-align: right;\">\n",
       "      <th></th>\n",
       "      <th></th>\n",
       "      <th>age</th>\n",
       "      <th>ticket</th>\n",
       "    </tr>\n",
       "    <tr>\n",
       "      <th>survived</th>\n",
       "      <th>pclass</th>\n",
       "      <th></th>\n",
       "      <th></th>\n",
       "    </tr>\n",
       "  </thead>\n",
       "  <tbody>\n",
       "    <tr>\n",
       "      <th rowspan=\"11\" valign=\"top\">0</th>\n",
       "      <th>2</th>\n",
       "      <td>30.0</td>\n",
       "      <td>P/PP 3381</td>\n",
       "    </tr>\n",
       "    <tr>\n",
       "      <th>2</th>\n",
       "      <td>30.0</td>\n",
       "      <td>248744</td>\n",
       "    </tr>\n",
       "    <tr>\n",
       "      <th>2</th>\n",
       "      <td>18.0</td>\n",
       "      <td>231945</td>\n",
       "    </tr>\n",
       "    <tr>\n",
       "      <th>2</th>\n",
       "      <td>25.0</td>\n",
       "      <td>C.A. 34050</td>\n",
       "    </tr>\n",
       "    <tr>\n",
       "      <th>2</th>\n",
       "      <td>34.0</td>\n",
       "      <td>226875</td>\n",
       "    </tr>\n",
       "    <tr>\n",
       "      <th>...</th>\n",
       "      <td>...</td>\n",
       "      <td>...</td>\n",
       "    </tr>\n",
       "    <tr>\n",
       "      <th>2</th>\n",
       "      <td>27.0</td>\n",
       "      <td>228414</td>\n",
       "    </tr>\n",
       "    <tr>\n",
       "      <th>2</th>\n",
       "      <td>36.0</td>\n",
       "      <td>C.A. 34651</td>\n",
       "    </tr>\n",
       "    <tr>\n",
       "      <th>2</th>\n",
       "      <td>66.0</td>\n",
       "      <td>C.A. 24579</td>\n",
       "    </tr>\n",
       "    <tr>\n",
       "      <th>2</th>\n",
       "      <td>NaN</td>\n",
       "      <td>SC/PARIS 2159</td>\n",
       "    </tr>\n",
       "    <tr>\n",
       "      <th>2</th>\n",
       "      <td>24.0</td>\n",
       "      <td>248747</td>\n",
       "    </tr>\n",
       "  </tbody>\n",
       "</table>\n",
       "<p>158 rows × 2 columns</p>\n",
       "</div>"
      ],
      "text/plain": [
       "                  age         ticket\n",
       "survived pclass                     \n",
       "0        2       30.0      P/PP 3381\n",
       "         2       30.0         248744\n",
       "         2       18.0         231945\n",
       "         2       25.0     C.A. 34050\n",
       "         2       34.0         226875\n",
       "...               ...            ...\n",
       "         2       27.0         228414\n",
       "         2       36.0     C.A. 34651\n",
       "         2       66.0     C.A. 24579\n",
       "         2        NaN  SC/PARIS 2159\n",
       "         2       24.0         248747\n",
       "\n",
       "[158 rows x 2 columns]"
      ]
     },
     "execution_count": 23,
     "metadata": {},
     "output_type": "execute_result"
    }
   ],
   "source": [
    "df.loc[(0,2), (\"age\", \"ticket\")]  # Комбинация мультииндекса и выбора столбцов"
   ]
  },
  {
   "cell_type": "code",
   "execution_count": 275,
   "id": "4e50045b-a129-494e-9f09-e90a1a950cea",
   "metadata": {},
   "outputs": [
    {
     "data": {
      "text/plain": [
       "sex       female\n",
       "age         29.0\n",
       "ticket     24160\n",
       "boat           2\n",
       "Name: (1, 1), dtype: object"
      ]
     },
     "execution_count": 275,
     "metadata": {},
     "output_type": "execute_result"
    },
    {
     "data": {
      "text/html": [
       "<div>\n",
       "<style scoped>\n",
       "    .dataframe tbody tr th:only-of-type {\n",
       "        vertical-align: middle;\n",
       "    }\n",
       "\n",
       "    .dataframe tbody tr th {\n",
       "        vertical-align: top;\n",
       "    }\n",
       "\n",
       "    .dataframe thead th {\n",
       "        text-align: right;\n",
       "    }\n",
       "</style>\n",
       "<table border=\"1\" class=\"dataframe\">\n",
       "  <thead>\n",
       "    <tr style=\"text-align: right;\">\n",
       "      <th></th>\n",
       "      <th></th>\n",
       "      <th>sex</th>\n",
       "      <th>age</th>\n",
       "      <th>ticket</th>\n",
       "      <th>boat</th>\n",
       "    </tr>\n",
       "    <tr>\n",
       "      <th>survived</th>\n",
       "      <th>pclass</th>\n",
       "      <th></th>\n",
       "      <th></th>\n",
       "      <th></th>\n",
       "      <th></th>\n",
       "    </tr>\n",
       "  </thead>\n",
       "  <tbody>\n",
       "    <tr>\n",
       "      <th rowspan=\"2\" valign=\"top\">1</th>\n",
       "      <th>1</th>\n",
       "      <td>female</td>\n",
       "      <td>29.00</td>\n",
       "      <td>24160</td>\n",
       "      <td>2</td>\n",
       "    </tr>\n",
       "    <tr>\n",
       "      <th>1</th>\n",
       "      <td>male</td>\n",
       "      <td>0.92</td>\n",
       "      <td>113781</td>\n",
       "      <td>11</td>\n",
       "    </tr>\n",
       "    <tr>\n",
       "      <th>0</th>\n",
       "      <th>1</th>\n",
       "      <td>female</td>\n",
       "      <td>2.00</td>\n",
       "      <td>113781</td>\n",
       "      <td>NaN</td>\n",
       "    </tr>\n",
       "  </tbody>\n",
       "</table>\n",
       "</div>"
      ],
      "text/plain": [
       "                    sex    age  ticket boat\n",
       "survived pclass                            \n",
       "1        1       female  29.00   24160    2\n",
       "         1         male   0.92  113781   11\n",
       "0        1       female   2.00  113781  NaN"
      ]
     },
     "execution_count": 275,
     "metadata": {},
     "output_type": "execute_result"
    }
   ],
   "source": [
    "df.iloc[0]\n",
    "df.iloc[:3]"
   ]
  },
  {
   "cell_type": "code",
   "execution_count": 28,
   "id": "ddf2c0d6-bc7e-40fd-98df-e751ee8008da",
   "metadata": {},
   "outputs": [
    {
     "data": {
      "text/html": [
       "<div>\n",
       "<style scoped>\n",
       "    .dataframe tbody tr th:only-of-type {\n",
       "        vertical-align: middle;\n",
       "    }\n",
       "\n",
       "    .dataframe tbody tr th {\n",
       "        vertical-align: top;\n",
       "    }\n",
       "\n",
       "    .dataframe thead th {\n",
       "        text-align: right;\n",
       "    }\n",
       "</style>\n",
       "<table border=\"1\" class=\"dataframe\">\n",
       "  <thead>\n",
       "    <tr style=\"text-align: right;\">\n",
       "      <th></th>\n",
       "      <th></th>\n",
       "      <th>sex</th>\n",
       "      <th>age</th>\n",
       "      <th>ticket</th>\n",
       "      <th>boat</th>\n",
       "    </tr>\n",
       "    <tr>\n",
       "      <th>survived</th>\n",
       "      <th>pclass</th>\n",
       "      <th></th>\n",
       "      <th></th>\n",
       "      <th></th>\n",
       "      <th></th>\n",
       "    </tr>\n",
       "  </thead>\n",
       "  <tbody>\n",
       "    <tr>\n",
       "      <th rowspan=\"2\" valign=\"top\">1</th>\n",
       "      <th>1</th>\n",
       "      <td>female</td>\n",
       "      <td>29.00</td>\n",
       "      <td>24160</td>\n",
       "      <td>2</td>\n",
       "    </tr>\n",
       "    <tr>\n",
       "      <th>1</th>\n",
       "      <td>male</td>\n",
       "      <td>0.92</td>\n",
       "      <td>113781</td>\n",
       "      <td>11</td>\n",
       "    </tr>\n",
       "    <tr>\n",
       "      <th rowspan=\"3\" valign=\"top\">0</th>\n",
       "      <th>1</th>\n",
       "      <td>female</td>\n",
       "      <td>2.00</td>\n",
       "      <td>113781</td>\n",
       "      <td>NaN</td>\n",
       "    </tr>\n",
       "    <tr>\n",
       "      <th>1</th>\n",
       "      <td>male</td>\n",
       "      <td>30.00</td>\n",
       "      <td>113781</td>\n",
       "      <td>NaN</td>\n",
       "    </tr>\n",
       "    <tr>\n",
       "      <th>1</th>\n",
       "      <td>female</td>\n",
       "      <td>25.00</td>\n",
       "      <td>113781</td>\n",
       "      <td>NaN</td>\n",
       "    </tr>\n",
       "  </tbody>\n",
       "</table>\n",
       "</div>"
      ],
      "text/plain": [
       "                    sex    age  ticket boat\n",
       "survived pclass                            \n",
       "1        1       female  29.00   24160    2\n",
       "         1         male   0.92  113781   11\n",
       "0        1       female   2.00  113781  NaN\n",
       "         1         male  30.00  113781  NaN\n",
       "         1       female  25.00  113781  NaN"
      ]
     },
     "execution_count": 28,
     "metadata": {},
     "output_type": "execute_result"
    },
    {
     "data": {
      "text/html": [
       "<div>\n",
       "<style scoped>\n",
       "    .dataframe tbody tr th:only-of-type {\n",
       "        vertical-align: middle;\n",
       "    }\n",
       "\n",
       "    .dataframe tbody tr th {\n",
       "        vertical-align: top;\n",
       "    }\n",
       "\n",
       "    .dataframe thead th {\n",
       "        text-align: right;\n",
       "    }\n",
       "</style>\n",
       "<table border=\"1\" class=\"dataframe\">\n",
       "  <thead>\n",
       "    <tr style=\"text-align: right;\">\n",
       "      <th></th>\n",
       "      <th></th>\n",
       "      <th>sex</th>\n",
       "      <th>age</th>\n",
       "      <th>ticket</th>\n",
       "      <th>boat</th>\n",
       "    </tr>\n",
       "    <tr>\n",
       "      <th>survived</th>\n",
       "      <th>pclass</th>\n",
       "      <th></th>\n",
       "      <th></th>\n",
       "      <th></th>\n",
       "      <th></th>\n",
       "    </tr>\n",
       "  </thead>\n",
       "  <tbody>\n",
       "    <tr>\n",
       "      <th rowspan=\"2\" valign=\"top\">1</th>\n",
       "      <th>1</th>\n",
       "      <td>female</td>\n",
       "      <td>29.00</td>\n",
       "      <td>24160</td>\n",
       "      <td>2</td>\n",
       "    </tr>\n",
       "    <tr>\n",
       "      <th>1</th>\n",
       "      <td>male</td>\n",
       "      <td>0.92</td>\n",
       "      <td>113781</td>\n",
       "      <td>11</td>\n",
       "    </tr>\n",
       "    <tr>\n",
       "      <th rowspan=\"3\" valign=\"top\">0</th>\n",
       "      <th>1</th>\n",
       "      <td>1</td>\n",
       "      <td>1.00</td>\n",
       "      <td>2</td>\n",
       "      <td>3</td>\n",
       "    </tr>\n",
       "    <tr>\n",
       "      <th>1</th>\n",
       "      <td>1</td>\n",
       "      <td>1.00</td>\n",
       "      <td>2</td>\n",
       "      <td>3</td>\n",
       "    </tr>\n",
       "    <tr>\n",
       "      <th>1</th>\n",
       "      <td>1</td>\n",
       "      <td>1.00</td>\n",
       "      <td>2</td>\n",
       "      <td>3</td>\n",
       "    </tr>\n",
       "  </tbody>\n",
       "</table>\n",
       "</div>"
      ],
      "text/plain": [
       "                    sex    age  ticket boat\n",
       "survived pclass                            \n",
       "1        1       female  29.00   24160    2\n",
       "         1         male   0.92  113781   11\n",
       "0        1            1   1.00       2    3\n",
       "         1            1   1.00       2    3\n",
       "         1            1   1.00       2    3"
      ]
     },
     "execution_count": 28,
     "metadata": {},
     "output_type": "execute_result"
    }
   ],
   "source": [
    "new_df = df.head().copy()\n",
    "new_df\n",
    "new_df.loc[0] = [[1, 1, 2, 3] for _ in range(3)]\n",
    "new_df"
   ]
  },
  {
   "cell_type": "code",
   "execution_count": 29,
   "id": "267a4763-d826-416d-aa75-7a5ed259d756",
   "metadata": {},
   "outputs": [
    {
     "data": {
      "text/plain": [
       "survived  pclass\n",
       "1         1         False\n",
       "          1          True\n",
       "0         1         False\n",
       "          1          True\n",
       "          1         False\n",
       "                    ...  \n",
       "          3         False\n",
       "          3         False\n",
       "          3          True\n",
       "          3          True\n",
       "          3          True\n",
       "Name: sex, Length: 1309, dtype: bool"
      ]
     },
     "execution_count": 29,
     "metadata": {},
     "output_type": "execute_result"
    },
    {
     "data": {
      "text/html": [
       "<div>\n",
       "<style scoped>\n",
       "    .dataframe tbody tr th:only-of-type {\n",
       "        vertical-align: middle;\n",
       "    }\n",
       "\n",
       "    .dataframe tbody tr th {\n",
       "        vertical-align: top;\n",
       "    }\n",
       "\n",
       "    .dataframe thead th {\n",
       "        text-align: right;\n",
       "    }\n",
       "</style>\n",
       "<table border=\"1\" class=\"dataframe\">\n",
       "  <thead>\n",
       "    <tr style=\"text-align: right;\">\n",
       "      <th></th>\n",
       "      <th></th>\n",
       "      <th>sex</th>\n",
       "      <th>age</th>\n",
       "      <th>ticket</th>\n",
       "      <th>boat</th>\n",
       "    </tr>\n",
       "    <tr>\n",
       "      <th>survived</th>\n",
       "      <th>pclass</th>\n",
       "      <th></th>\n",
       "      <th></th>\n",
       "      <th></th>\n",
       "      <th></th>\n",
       "    </tr>\n",
       "  </thead>\n",
       "  <tbody>\n",
       "    <tr>\n",
       "      <th>1</th>\n",
       "      <th>1</th>\n",
       "      <td>male</td>\n",
       "      <td>0.92</td>\n",
       "      <td>113781</td>\n",
       "      <td>11</td>\n",
       "    </tr>\n",
       "    <tr>\n",
       "      <th>0</th>\n",
       "      <th>1</th>\n",
       "      <td>male</td>\n",
       "      <td>30.00</td>\n",
       "      <td>113781</td>\n",
       "      <td>NaN</td>\n",
       "    </tr>\n",
       "    <tr>\n",
       "      <th>1</th>\n",
       "      <th>1</th>\n",
       "      <td>male</td>\n",
       "      <td>48.00</td>\n",
       "      <td>19952</td>\n",
       "      <td>3</td>\n",
       "    </tr>\n",
       "    <tr>\n",
       "      <th rowspan=\"8\" valign=\"top\">0</th>\n",
       "      <th>1</th>\n",
       "      <td>male</td>\n",
       "      <td>39.00</td>\n",
       "      <td>112050</td>\n",
       "      <td>NaN</td>\n",
       "    </tr>\n",
       "    <tr>\n",
       "      <th>1</th>\n",
       "      <td>male</td>\n",
       "      <td>71.00</td>\n",
       "      <td>PC 17609</td>\n",
       "      <td>NaN</td>\n",
       "    </tr>\n",
       "    <tr>\n",
       "      <th>...</th>\n",
       "      <td>...</td>\n",
       "      <td>...</td>\n",
       "      <td>...</td>\n",
       "      <td>...</td>\n",
       "    </tr>\n",
       "    <tr>\n",
       "      <th>3</th>\n",
       "      <td>male</td>\n",
       "      <td>NaN</td>\n",
       "      <td>2647</td>\n",
       "      <td>NaN</td>\n",
       "    </tr>\n",
       "    <tr>\n",
       "      <th>3</th>\n",
       "      <td>male</td>\n",
       "      <td>NaN</td>\n",
       "      <td>2627</td>\n",
       "      <td>NaN</td>\n",
       "    </tr>\n",
       "    <tr>\n",
       "      <th>3</th>\n",
       "      <td>male</td>\n",
       "      <td>26.50</td>\n",
       "      <td>2656</td>\n",
       "      <td>NaN</td>\n",
       "    </tr>\n",
       "    <tr>\n",
       "      <th>3</th>\n",
       "      <td>male</td>\n",
       "      <td>27.00</td>\n",
       "      <td>2670</td>\n",
       "      <td>NaN</td>\n",
       "    </tr>\n",
       "    <tr>\n",
       "      <th>3</th>\n",
       "      <td>male</td>\n",
       "      <td>29.00</td>\n",
       "      <td>315082</td>\n",
       "      <td>NaN</td>\n",
       "    </tr>\n",
       "  </tbody>\n",
       "</table>\n",
       "<p>843 rows × 4 columns</p>\n",
       "</div>"
      ],
      "text/plain": [
       "                  sex    age    ticket boat\n",
       "survived pclass                            \n",
       "1        1       male   0.92    113781   11\n",
       "0        1       male  30.00    113781  NaN\n",
       "1        1       male  48.00     19952    3\n",
       "0        1       male  39.00    112050  NaN\n",
       "         1       male  71.00  PC 17609  NaN\n",
       "...               ...    ...       ...  ...\n",
       "         3       male    NaN      2647  NaN\n",
       "         3       male    NaN      2627  NaN\n",
       "         3       male  26.50      2656  NaN\n",
       "         3       male  27.00      2670  NaN\n",
       "         3       male  29.00    315082  NaN\n",
       "\n",
       "[843 rows x 4 columns]"
      ]
     },
     "execution_count": 29,
     "metadata": {},
     "output_type": "execute_result"
    }
   ],
   "source": [
    "df[\"sex\"]=='male'  # Маска\n",
    "df[df[\"sex\"]=='male']  # Её применения для нахождения только нужных строк"
   ]
  },
  {
   "cell_type": "markdown",
   "id": "9be61f88-b735-43c5-b25d-72b90daf3a06",
   "metadata": {},
   "source": [
    "### 2.2.4. Работа с пропущенными данными"
   ]
  },
  {
   "cell_type": "code",
   "execution_count": 295,
   "id": "9caa1d19-e55e-424f-a0e4-da7993c28aa7",
   "metadata": {},
   "outputs": [
    {
     "data": {
      "text/html": [
       "<div>\n",
       "<style scoped>\n",
       "    .dataframe tbody tr th:only-of-type {\n",
       "        vertical-align: middle;\n",
       "    }\n",
       "\n",
       "    .dataframe tbody tr th {\n",
       "        vertical-align: top;\n",
       "    }\n",
       "\n",
       "    .dataframe thead th {\n",
       "        text-align: right;\n",
       "    }\n",
       "</style>\n",
       "<table border=\"1\" class=\"dataframe\">\n",
       "  <thead>\n",
       "    <tr style=\"text-align: right;\">\n",
       "      <th></th>\n",
       "      <th>sex</th>\n",
       "      <th>age</th>\n",
       "      <th>boat</th>\n",
       "    </tr>\n",
       "  </thead>\n",
       "  <tbody>\n",
       "    <tr>\n",
       "      <th>128</th>\n",
       "      <td>male</td>\n",
       "      <td>47.0</td>\n",
       "      <td>NaN</td>\n",
       "    </tr>\n",
       "    <tr>\n",
       "      <th>914</th>\n",
       "      <td>male</td>\n",
       "      <td>33.0</td>\n",
       "      <td>NaN</td>\n",
       "    </tr>\n",
       "    <tr>\n",
       "      <th>347</th>\n",
       "      <td>male</td>\n",
       "      <td>42.0</td>\n",
       "      <td>NaN</td>\n",
       "    </tr>\n",
       "    <tr>\n",
       "      <th>190</th>\n",
       "      <td>female</td>\n",
       "      <td>21.0</td>\n",
       "      <td>10</td>\n",
       "    </tr>\n",
       "    <tr>\n",
       "      <th>1308</th>\n",
       "      <td>male</td>\n",
       "      <td>29.0</td>\n",
       "      <td>NaN</td>\n",
       "    </tr>\n",
       "    <tr>\n",
       "      <th>144</th>\n",
       "      <td>female</td>\n",
       "      <td>25.0</td>\n",
       "      <td>5</td>\n",
       "    </tr>\n",
       "    <tr>\n",
       "      <th>978</th>\n",
       "      <td>male</td>\n",
       "      <td>27.0</td>\n",
       "      <td>15</td>\n",
       "    </tr>\n",
       "  </tbody>\n",
       "</table>\n",
       "</div>"
      ],
      "text/plain": [
       "         sex   age boat\n",
       "128     male  47.0  NaN\n",
       "914     male  33.0  NaN\n",
       "347     male  42.0  NaN\n",
       "190   female  21.0   10\n",
       "1308    male  29.0  NaN\n",
       "144   female  25.0    5\n",
       "978     male  27.0   15"
      ]
     },
     "execution_count": 295,
     "metadata": {},
     "output_type": "execute_result"
    }
   ],
   "source": [
    "df = pd.read_csv(\"data/Titanic.csv\", usecols=[\"sex\", \"age\", \"boat\"])\n",
    "df.sample(7)"
   ]
  },
  {
   "cell_type": "code",
   "execution_count": 298,
   "id": "59c9e7dc-3a0f-4ea7-941b-2d7a67c26777",
   "metadata": {},
   "outputs": [
    {
     "data": {
      "text/html": [
       "<div>\n",
       "<style scoped>\n",
       "    .dataframe tbody tr th:only-of-type {\n",
       "        vertical-align: middle;\n",
       "    }\n",
       "\n",
       "    .dataframe tbody tr th {\n",
       "        vertical-align: top;\n",
       "    }\n",
       "\n",
       "    .dataframe thead th {\n",
       "        text-align: right;\n",
       "    }\n",
       "</style>\n",
       "<table border=\"1\" class=\"dataframe\">\n",
       "  <thead>\n",
       "    <tr style=\"text-align: right;\">\n",
       "      <th></th>\n",
       "      <th>sex</th>\n",
       "      <th>age</th>\n",
       "      <th>boat</th>\n",
       "    </tr>\n",
       "  </thead>\n",
       "  <tbody>\n",
       "    <tr>\n",
       "      <th>1087</th>\n",
       "      <td>male</td>\n",
       "      <td>28</td>\n",
       "      <td></td>\n",
       "    </tr>\n",
       "    <tr>\n",
       "      <th>739</th>\n",
       "      <td>male</td>\n",
       "      <td>44</td>\n",
       "      <td></td>\n",
       "    </tr>\n",
       "    <tr>\n",
       "      <th>733</th>\n",
       "      <td>male</td>\n",
       "      <td>9</td>\n",
       "      <td>2</td>\n",
       "    </tr>\n",
       "    <tr>\n",
       "      <th>882</th>\n",
       "      <td>male</td>\n",
       "      <td></td>\n",
       "      <td></td>\n",
       "    </tr>\n",
       "    <tr>\n",
       "      <th>441</th>\n",
       "      <td>female</td>\n",
       "      <td>55</td>\n",
       "      <td>13</td>\n",
       "    </tr>\n",
       "    <tr>\n",
       "      <th>559</th>\n",
       "      <td>female</td>\n",
       "      <td>20</td>\n",
       "      <td>11</td>\n",
       "    </tr>\n",
       "    <tr>\n",
       "      <th>14</th>\n",
       "      <td>male</td>\n",
       "      <td>80</td>\n",
       "      <td>B</td>\n",
       "    </tr>\n",
       "  </tbody>\n",
       "</table>\n",
       "</div>"
      ],
      "text/plain": [
       "         sex age boat\n",
       "1087    male  28     \n",
       "739     male  44     \n",
       "733     male   9    2\n",
       "882     male         \n",
       "441   female  55   13\n",
       "559   female  20   11\n",
       "14      male  80    B"
      ]
     },
     "execution_count": 298,
     "metadata": {},
     "output_type": "execute_result"
    }
   ],
   "source": [
    "blank_na_df = pd.read_csv(\"data/Titanic.csv\", usecols=[\"sex\", \"age\", \"boat\"], keep_default_na=False)\n",
    "blank_na_df.sample(7)"
   ]
  },
  {
   "cell_type": "code",
   "execution_count": 299,
   "id": "b982ec8a-924c-46f0-9b77-bb39ad97681e",
   "metadata": {},
   "outputs": [
    {
     "data": {
      "text/plain": [
       "sex      True\n",
       "age     False\n",
       "boat    False\n",
       "Name: 882, dtype: bool"
      ]
     },
     "execution_count": 299,
     "metadata": {},
     "output_type": "execute_result"
    },
    {
     "data": {
      "text/plain": [
       "sex     True\n",
       "age     True\n",
       "boat    True\n",
       "Name: 882, dtype: bool"
      ]
     },
     "execution_count": 299,
     "metadata": {},
     "output_type": "execute_result"
    }
   ],
   "source": [
    "pd.notna(df.iloc[882])\n",
    "pd.notna(blank_na_df.iloc[882])"
   ]
  },
  {
   "cell_type": "code",
   "execution_count": 30,
   "id": "e256399a-150e-4ac4-8fa5-a2f43530628f",
   "metadata": {},
   "outputs": [
    {
     "data": {
      "text/html": [
       "<div>\n",
       "<style scoped>\n",
       "    .dataframe tbody tr th:only-of-type {\n",
       "        vertical-align: middle;\n",
       "    }\n",
       "\n",
       "    .dataframe tbody tr th {\n",
       "        vertical-align: top;\n",
       "    }\n",
       "\n",
       "    .dataframe thead th {\n",
       "        text-align: right;\n",
       "    }\n",
       "</style>\n",
       "<table border=\"1\" class=\"dataframe\">\n",
       "  <thead>\n",
       "    <tr style=\"text-align: right;\">\n",
       "      <th></th>\n",
       "      <th>sex</th>\n",
       "      <th>cabin</th>\n",
       "      <th>boat</th>\n",
       "    </tr>\n",
       "  </thead>\n",
       "  <tbody>\n",
       "    <tr>\n",
       "      <th>0</th>\n",
       "      <td>female</td>\n",
       "      <td>B5</td>\n",
       "      <td>2</td>\n",
       "    </tr>\n",
       "    <tr>\n",
       "      <th>1</th>\n",
       "      <td>male</td>\n",
       "      <td>C22 C26</td>\n",
       "      <td>11</td>\n",
       "    </tr>\n",
       "    <tr>\n",
       "      <th>5</th>\n",
       "      <td>male</td>\n",
       "      <td>E12</td>\n",
       "      <td>3</td>\n",
       "    </tr>\n",
       "    <tr>\n",
       "      <th>6</th>\n",
       "      <td>female</td>\n",
       "      <td>D7</td>\n",
       "      <td>10</td>\n",
       "    </tr>\n",
       "    <tr>\n",
       "      <th>8</th>\n",
       "      <td>female</td>\n",
       "      <td>C101</td>\n",
       "      <td>D</td>\n",
       "    </tr>\n",
       "  </tbody>\n",
       "</table>\n",
       "</div>"
      ],
      "text/plain": [
       "      sex    cabin boat\n",
       "0  female       B5    2\n",
       "1    male  C22 C26   11\n",
       "5    male      E12    3\n",
       "6  female       D7   10\n",
       "8  female     C101    D"
      ]
     },
     "execution_count": 30,
     "metadata": {},
     "output_type": "execute_result"
    },
    {
     "data": {
      "text/plain": [
       "True"
      ]
     },
     "execution_count": 30,
     "metadata": {},
     "output_type": "execute_result"
    }
   ],
   "source": [
    "df = pd.read_csv(\"data/Titanic.csv\", usecols=[\"sex\", \"cabin\", \"boat\"])\n",
    "no_na_df = df.dropna()\n",
    "no_na_df.head()\n",
    "all(no_na_df.notna())"
   ]
  },
  {
   "cell_type": "code",
   "execution_count": 303,
   "id": "a2d57f26-4dcb-4421-a052-7cc4fd91291e",
   "metadata": {},
   "outputs": [
    {
     "data": {
      "text/html": [
       "<div>\n",
       "<style scoped>\n",
       "    .dataframe tbody tr th:only-of-type {\n",
       "        vertical-align: middle;\n",
       "    }\n",
       "\n",
       "    .dataframe tbody tr th {\n",
       "        vertical-align: top;\n",
       "    }\n",
       "\n",
       "    .dataframe thead th {\n",
       "        text-align: right;\n",
       "    }\n",
       "</style>\n",
       "<table border=\"1\" class=\"dataframe\">\n",
       "  <thead>\n",
       "    <tr style=\"text-align: right;\">\n",
       "      <th></th>\n",
       "      <th>sex</th>\n",
       "      <th>cabin</th>\n",
       "      <th>boat</th>\n",
       "    </tr>\n",
       "  </thead>\n",
       "  <tbody>\n",
       "    <tr>\n",
       "      <th>0</th>\n",
       "      <td>female</td>\n",
       "      <td>B5</td>\n",
       "      <td>2</td>\n",
       "    </tr>\n",
       "    <tr>\n",
       "      <th>1</th>\n",
       "      <td>male</td>\n",
       "      <td>C22 C26</td>\n",
       "      <td>11</td>\n",
       "    </tr>\n",
       "    <tr>\n",
       "      <th>2</th>\n",
       "      <td>female</td>\n",
       "      <td>C22 C26</td>\n",
       "      <td>NaN</td>\n",
       "    </tr>\n",
       "    <tr>\n",
       "      <th>3</th>\n",
       "      <td>male</td>\n",
       "      <td>C22 C26</td>\n",
       "      <td>NaN</td>\n",
       "    </tr>\n",
       "    <tr>\n",
       "      <th>4</th>\n",
       "      <td>female</td>\n",
       "      <td>C22 C26</td>\n",
       "      <td>NaN</td>\n",
       "    </tr>\n",
       "    <tr>\n",
       "      <th>5</th>\n",
       "      <td>male</td>\n",
       "      <td>E12</td>\n",
       "      <td>3</td>\n",
       "    </tr>\n",
       "    <tr>\n",
       "      <th>6</th>\n",
       "      <td>female</td>\n",
       "      <td>D7</td>\n",
       "      <td>10</td>\n",
       "    </tr>\n",
       "    <tr>\n",
       "      <th>7</th>\n",
       "      <td>male</td>\n",
       "      <td>A36</td>\n",
       "      <td>NaN</td>\n",
       "    </tr>\n",
       "    <tr>\n",
       "      <th>8</th>\n",
       "      <td>female</td>\n",
       "      <td>C101</td>\n",
       "      <td>D</td>\n",
       "    </tr>\n",
       "    <tr>\n",
       "      <th>9</th>\n",
       "      <td>male</td>\n",
       "      <td>NaN</td>\n",
       "      <td>NaN</td>\n",
       "    </tr>\n",
       "  </tbody>\n",
       "</table>\n",
       "</div>"
      ],
      "text/plain": [
       "      sex    cabin boat\n",
       "0  female       B5    2\n",
       "1    male  C22 C26   11\n",
       "2  female  C22 C26  NaN\n",
       "3    male  C22 C26  NaN\n",
       "4  female  C22 C26  NaN\n",
       "5    male      E12    3\n",
       "6  female       D7   10\n",
       "7    male      A36  NaN\n",
       "8  female     C101    D\n",
       "9    male      NaN  NaN"
      ]
     },
     "execution_count": 303,
     "metadata": {},
     "output_type": "execute_result"
    },
    {
     "data": {
      "text/html": [
       "<div>\n",
       "<style scoped>\n",
       "    .dataframe tbody tr th:only-of-type {\n",
       "        vertical-align: middle;\n",
       "    }\n",
       "\n",
       "    .dataframe tbody tr th {\n",
       "        vertical-align: top;\n",
       "    }\n",
       "\n",
       "    .dataframe thead th {\n",
       "        text-align: right;\n",
       "    }\n",
       "</style>\n",
       "<table border=\"1\" class=\"dataframe\">\n",
       "  <thead>\n",
       "    <tr style=\"text-align: right;\">\n",
       "      <th></th>\n",
       "      <th>sex</th>\n",
       "      <th>cabin</th>\n",
       "      <th>boat</th>\n",
       "    </tr>\n",
       "  </thead>\n",
       "  <tbody>\n",
       "    <tr>\n",
       "      <th>0</th>\n",
       "      <td>female</td>\n",
       "      <td>B5</td>\n",
       "      <td>2</td>\n",
       "    </tr>\n",
       "    <tr>\n",
       "      <th>1</th>\n",
       "      <td>male</td>\n",
       "      <td>C22 C26</td>\n",
       "      <td>11</td>\n",
       "    </tr>\n",
       "    <tr>\n",
       "      <th>2</th>\n",
       "      <td>female</td>\n",
       "      <td>C22 C26</td>\n",
       "      <td>11</td>\n",
       "    </tr>\n",
       "    <tr>\n",
       "      <th>3</th>\n",
       "      <td>male</td>\n",
       "      <td>C22 C26</td>\n",
       "      <td>11</td>\n",
       "    </tr>\n",
       "    <tr>\n",
       "      <th>4</th>\n",
       "      <td>female</td>\n",
       "      <td>C22 C26</td>\n",
       "      <td>11</td>\n",
       "    </tr>\n",
       "    <tr>\n",
       "      <th>5</th>\n",
       "      <td>male</td>\n",
       "      <td>E12</td>\n",
       "      <td>3</td>\n",
       "    </tr>\n",
       "    <tr>\n",
       "      <th>6</th>\n",
       "      <td>female</td>\n",
       "      <td>D7</td>\n",
       "      <td>10</td>\n",
       "    </tr>\n",
       "    <tr>\n",
       "      <th>7</th>\n",
       "      <td>male</td>\n",
       "      <td>A36</td>\n",
       "      <td>10</td>\n",
       "    </tr>\n",
       "    <tr>\n",
       "      <th>8</th>\n",
       "      <td>female</td>\n",
       "      <td>C101</td>\n",
       "      <td>D</td>\n",
       "    </tr>\n",
       "    <tr>\n",
       "      <th>9</th>\n",
       "      <td>male</td>\n",
       "      <td>C101</td>\n",
       "      <td>D</td>\n",
       "    </tr>\n",
       "  </tbody>\n",
       "</table>\n",
       "</div>"
      ],
      "text/plain": [
       "      sex    cabin boat\n",
       "0  female       B5    2\n",
       "1    male  C22 C26   11\n",
       "2  female  C22 C26   11\n",
       "3    male  C22 C26   11\n",
       "4  female  C22 C26   11\n",
       "5    male      E12    3\n",
       "6  female       D7   10\n",
       "7    male      A36   10\n",
       "8  female     C101    D\n",
       "9    male     C101    D"
      ]
     },
     "execution_count": 303,
     "metadata": {},
     "output_type": "execute_result"
    }
   ],
   "source": [
    "df = pd.read_csv(\"data/Titanic.csv\", usecols=[\"sex\", \"cabin\", \"boat\"])\n",
    "ff_df = df.ffill()\n",
    "df.head(10)\n",
    "ff_df.head(10)"
   ]
  },
  {
   "cell_type": "code",
   "execution_count": 304,
   "id": "40fcbe8a-a906-41cb-994d-e7a0edcd236e",
   "metadata": {},
   "outputs": [
    {
     "data": {
      "text/html": [
       "<div>\n",
       "<style scoped>\n",
       "    .dataframe tbody tr th:only-of-type {\n",
       "        vertical-align: middle;\n",
       "    }\n",
       "\n",
       "    .dataframe tbody tr th {\n",
       "        vertical-align: top;\n",
       "    }\n",
       "\n",
       "    .dataframe thead th {\n",
       "        text-align: right;\n",
       "    }\n",
       "</style>\n",
       "<table border=\"1\" class=\"dataframe\">\n",
       "  <thead>\n",
       "    <tr style=\"text-align: right;\">\n",
       "      <th></th>\n",
       "      <th>sex</th>\n",
       "      <th>cabin</th>\n",
       "      <th>boat</th>\n",
       "    </tr>\n",
       "  </thead>\n",
       "  <tbody>\n",
       "    <tr>\n",
       "      <th>0</th>\n",
       "      <td>female</td>\n",
       "      <td>B5</td>\n",
       "      <td>2</td>\n",
       "    </tr>\n",
       "    <tr>\n",
       "      <th>1</th>\n",
       "      <td>male</td>\n",
       "      <td>C22 C26</td>\n",
       "      <td>11</td>\n",
       "    </tr>\n",
       "    <tr>\n",
       "      <th>2</th>\n",
       "      <td>female</td>\n",
       "      <td>C22 C26</td>\n",
       "      <td>NaN</td>\n",
       "    </tr>\n",
       "    <tr>\n",
       "      <th>3</th>\n",
       "      <td>male</td>\n",
       "      <td>C22 C26</td>\n",
       "      <td>NaN</td>\n",
       "    </tr>\n",
       "    <tr>\n",
       "      <th>4</th>\n",
       "      <td>female</td>\n",
       "      <td>C22 C26</td>\n",
       "      <td>NaN</td>\n",
       "    </tr>\n",
       "    <tr>\n",
       "      <th>5</th>\n",
       "      <td>male</td>\n",
       "      <td>E12</td>\n",
       "      <td>3</td>\n",
       "    </tr>\n",
       "    <tr>\n",
       "      <th>6</th>\n",
       "      <td>female</td>\n",
       "      <td>D7</td>\n",
       "      <td>10</td>\n",
       "    </tr>\n",
       "    <tr>\n",
       "      <th>7</th>\n",
       "      <td>male</td>\n",
       "      <td>A36</td>\n",
       "      <td>NaN</td>\n",
       "    </tr>\n",
       "    <tr>\n",
       "      <th>8</th>\n",
       "      <td>female</td>\n",
       "      <td>C101</td>\n",
       "      <td>D</td>\n",
       "    </tr>\n",
       "    <tr>\n",
       "      <th>9</th>\n",
       "      <td>male</td>\n",
       "      <td>NaN</td>\n",
       "      <td>NaN</td>\n",
       "    </tr>\n",
       "  </tbody>\n",
       "</table>\n",
       "</div>"
      ],
      "text/plain": [
       "      sex    cabin boat\n",
       "0  female       B5    2\n",
       "1    male  C22 C26   11\n",
       "2  female  C22 C26  NaN\n",
       "3    male  C22 C26  NaN\n",
       "4  female  C22 C26  NaN\n",
       "5    male      E12    3\n",
       "6  female       D7   10\n",
       "7    male      A36  NaN\n",
       "8  female     C101    D\n",
       "9    male      NaN  NaN"
      ]
     },
     "execution_count": 304,
     "metadata": {},
     "output_type": "execute_result"
    },
    {
     "data": {
      "text/html": [
       "<div>\n",
       "<style scoped>\n",
       "    .dataframe tbody tr th:only-of-type {\n",
       "        vertical-align: middle;\n",
       "    }\n",
       "\n",
       "    .dataframe tbody tr th {\n",
       "        vertical-align: top;\n",
       "    }\n",
       "\n",
       "    .dataframe thead th {\n",
       "        text-align: right;\n",
       "    }\n",
       "</style>\n",
       "<table border=\"1\" class=\"dataframe\">\n",
       "  <thead>\n",
       "    <tr style=\"text-align: right;\">\n",
       "      <th></th>\n",
       "      <th>sex</th>\n",
       "      <th>cabin</th>\n",
       "      <th>boat</th>\n",
       "    </tr>\n",
       "  </thead>\n",
       "  <tbody>\n",
       "    <tr>\n",
       "      <th>0</th>\n",
       "      <td>female</td>\n",
       "      <td>B5</td>\n",
       "      <td>2</td>\n",
       "    </tr>\n",
       "    <tr>\n",
       "      <th>1</th>\n",
       "      <td>male</td>\n",
       "      <td>C22 C26</td>\n",
       "      <td>11</td>\n",
       "    </tr>\n",
       "    <tr>\n",
       "      <th>2</th>\n",
       "      <td>female</td>\n",
       "      <td>C22 C26</td>\n",
       "      <td>3</td>\n",
       "    </tr>\n",
       "    <tr>\n",
       "      <th>3</th>\n",
       "      <td>male</td>\n",
       "      <td>C22 C26</td>\n",
       "      <td>3</td>\n",
       "    </tr>\n",
       "    <tr>\n",
       "      <th>4</th>\n",
       "      <td>female</td>\n",
       "      <td>C22 C26</td>\n",
       "      <td>3</td>\n",
       "    </tr>\n",
       "    <tr>\n",
       "      <th>5</th>\n",
       "      <td>male</td>\n",
       "      <td>E12</td>\n",
       "      <td>3</td>\n",
       "    </tr>\n",
       "    <tr>\n",
       "      <th>6</th>\n",
       "      <td>female</td>\n",
       "      <td>D7</td>\n",
       "      <td>10</td>\n",
       "    </tr>\n",
       "    <tr>\n",
       "      <th>7</th>\n",
       "      <td>male</td>\n",
       "      <td>A36</td>\n",
       "      <td>D</td>\n",
       "    </tr>\n",
       "    <tr>\n",
       "      <th>8</th>\n",
       "      <td>female</td>\n",
       "      <td>C101</td>\n",
       "      <td>D</td>\n",
       "    </tr>\n",
       "    <tr>\n",
       "      <th>9</th>\n",
       "      <td>male</td>\n",
       "      <td>C62 C64</td>\n",
       "      <td>4</td>\n",
       "    </tr>\n",
       "  </tbody>\n",
       "</table>\n",
       "</div>"
      ],
      "text/plain": [
       "      sex    cabin boat\n",
       "0  female       B5    2\n",
       "1    male  C22 C26   11\n",
       "2  female  C22 C26    3\n",
       "3    male  C22 C26    3\n",
       "4  female  C22 C26    3\n",
       "5    male      E12    3\n",
       "6  female       D7   10\n",
       "7    male      A36    D\n",
       "8  female     C101    D\n",
       "9    male  C62 C64    4"
      ]
     },
     "execution_count": 304,
     "metadata": {},
     "output_type": "execute_result"
    }
   ],
   "source": [
    "df = pd.read_csv(\"data/Titanic.csv\", usecols=[\"sex\", \"cabin\", \"boat\"])\n",
    "ff_df = df.bfill()\n",
    "df.head(10)\n",
    "ff_df.head(10)"
   ]
  },
  {
   "cell_type": "code",
   "execution_count": 39,
   "id": "83d12113-c2bc-43eb-9d36-1df8325531d6",
   "metadata": {},
   "outputs": [
    {
     "data": {
      "text/html": [
       "<div>\n",
       "<style scoped>\n",
       "    .dataframe tbody tr th:only-of-type {\n",
       "        vertical-align: middle;\n",
       "    }\n",
       "\n",
       "    .dataframe tbody tr th {\n",
       "        vertical-align: top;\n",
       "    }\n",
       "\n",
       "    .dataframe thead th {\n",
       "        text-align: right;\n",
       "    }\n",
       "</style>\n",
       "<table border=\"1\" class=\"dataframe\">\n",
       "  <thead>\n",
       "    <tr style=\"text-align: right;\">\n",
       "      <th></th>\n",
       "      <th>fare</th>\n",
       "    </tr>\n",
       "  </thead>\n",
       "  <tbody>\n",
       "    <tr>\n",
       "      <th>1225</th>\n",
       "      <td>NaN</td>\n",
       "    </tr>\n",
       "  </tbody>\n",
       "</table>\n",
       "</div>"
      ],
      "text/plain": [
       "      fare\n",
       "1225   NaN"
      ]
     },
     "execution_count": 39,
     "metadata": {},
     "output_type": "execute_result"
    },
    {
     "data": {
      "text/html": [
       "<div>\n",
       "<style scoped>\n",
       "    .dataframe tbody tr th:only-of-type {\n",
       "        vertical-align: middle;\n",
       "    }\n",
       "\n",
       "    .dataframe tbody tr th {\n",
       "        vertical-align: top;\n",
       "    }\n",
       "\n",
       "    .dataframe thead th {\n",
       "        text-align: right;\n",
       "    }\n",
       "</style>\n",
       "<table border=\"1\" class=\"dataframe\">\n",
       "  <thead>\n",
       "    <tr style=\"text-align: right;\">\n",
       "      <th></th>\n",
       "      <th>fare</th>\n",
       "    </tr>\n",
       "  </thead>\n",
       "  <tbody>\n",
       "    <tr>\n",
       "      <th>1224</th>\n",
       "      <td>8.0500</td>\n",
       "    </tr>\n",
       "    <tr>\n",
       "      <th>1225</th>\n",
       "      <td>NaN</td>\n",
       "    </tr>\n",
       "    <tr>\n",
       "      <th>1226</th>\n",
       "      <td>7.8958</td>\n",
       "    </tr>\n",
       "  </tbody>\n",
       "</table>\n",
       "</div>"
      ],
      "text/plain": [
       "        fare\n",
       "1224  8.0500\n",
       "1225     NaN\n",
       "1226  7.8958"
      ]
     },
     "execution_count": 39,
     "metadata": {},
     "output_type": "execute_result"
    },
    {
     "data": {
      "text/html": [
       "<div>\n",
       "<style scoped>\n",
       "    .dataframe tbody tr th:only-of-type {\n",
       "        vertical-align: middle;\n",
       "    }\n",
       "\n",
       "    .dataframe tbody tr th {\n",
       "        vertical-align: top;\n",
       "    }\n",
       "\n",
       "    .dataframe thead th {\n",
       "        text-align: right;\n",
       "    }\n",
       "</style>\n",
       "<table border=\"1\" class=\"dataframe\">\n",
       "  <thead>\n",
       "    <tr style=\"text-align: right;\">\n",
       "      <th></th>\n",
       "      <th>fare</th>\n",
       "    </tr>\n",
       "  </thead>\n",
       "  <tbody>\n",
       "    <tr>\n",
       "      <th>1224</th>\n",
       "      <td>8.0500</td>\n",
       "    </tr>\n",
       "    <tr>\n",
       "      <th>1225</th>\n",
       "      <td>7.9729</td>\n",
       "    </tr>\n",
       "    <tr>\n",
       "      <th>1226</th>\n",
       "      <td>7.8958</td>\n",
       "    </tr>\n",
       "  </tbody>\n",
       "</table>\n",
       "</div>"
      ],
      "text/plain": [
       "        fare\n",
       "1224  8.0500\n",
       "1225  7.9729\n",
       "1226  7.8958"
      ]
     },
     "execution_count": 39,
     "metadata": {},
     "output_type": "execute_result"
    }
   ],
   "source": [
    "df = pd.read_csv(\"data/Titanic.csv\", usecols=[\"fare\"])\n",
    "interpolated_df = df.interpolate(method=\"linear\")\n",
    "df[df[\"fare\"].isna()]\n",
    "df.iloc[1224:1227]\n",
    "interpolated_df.iloc[1224:1227]"
   ]
  },
  {
   "cell_type": "code",
   "execution_count": 305,
   "id": "3f895c99-8a45-42f9-82a9-0f64531cf9b0",
   "metadata": {},
   "outputs": [
    {
     "data": {
      "text/html": [
       "<div>\n",
       "<style scoped>\n",
       "    .dataframe tbody tr th:only-of-type {\n",
       "        vertical-align: middle;\n",
       "    }\n",
       "\n",
       "    .dataframe tbody tr th {\n",
       "        vertical-align: top;\n",
       "    }\n",
       "\n",
       "    .dataframe thead th {\n",
       "        text-align: right;\n",
       "    }\n",
       "</style>\n",
       "<table border=\"1\" class=\"dataframe\">\n",
       "  <thead>\n",
       "    <tr style=\"text-align: right;\">\n",
       "      <th></th>\n",
       "      <th>sex</th>\n",
       "      <th>cabin</th>\n",
       "      <th>boat</th>\n",
       "    </tr>\n",
       "  </thead>\n",
       "  <tbody>\n",
       "    <tr>\n",
       "      <th>0</th>\n",
       "      <td>female</td>\n",
       "      <td>B5</td>\n",
       "      <td>2</td>\n",
       "    </tr>\n",
       "    <tr>\n",
       "      <th>1</th>\n",
       "      <td>male</td>\n",
       "      <td>C22 C26</td>\n",
       "      <td>11</td>\n",
       "    </tr>\n",
       "    <tr>\n",
       "      <th>2</th>\n",
       "      <td>female</td>\n",
       "      <td>C22 C26</td>\n",
       "      <td>NaN</td>\n",
       "    </tr>\n",
       "    <tr>\n",
       "      <th>3</th>\n",
       "      <td>male</td>\n",
       "      <td>C22 C26</td>\n",
       "      <td>NaN</td>\n",
       "    </tr>\n",
       "    <tr>\n",
       "      <th>4</th>\n",
       "      <td>female</td>\n",
       "      <td>C22 C26</td>\n",
       "      <td>NaN</td>\n",
       "    </tr>\n",
       "    <tr>\n",
       "      <th>5</th>\n",
       "      <td>male</td>\n",
       "      <td>E12</td>\n",
       "      <td>3</td>\n",
       "    </tr>\n",
       "    <tr>\n",
       "      <th>6</th>\n",
       "      <td>female</td>\n",
       "      <td>D7</td>\n",
       "      <td>10</td>\n",
       "    </tr>\n",
       "    <tr>\n",
       "      <th>7</th>\n",
       "      <td>male</td>\n",
       "      <td>A36</td>\n",
       "      <td>NaN</td>\n",
       "    </tr>\n",
       "    <tr>\n",
       "      <th>8</th>\n",
       "      <td>female</td>\n",
       "      <td>C101</td>\n",
       "      <td>D</td>\n",
       "    </tr>\n",
       "    <tr>\n",
       "      <th>9</th>\n",
       "      <td>male</td>\n",
       "      <td>NaN</td>\n",
       "      <td>NaN</td>\n",
       "    </tr>\n",
       "  </tbody>\n",
       "</table>\n",
       "</div>"
      ],
      "text/plain": [
       "      sex    cabin boat\n",
       "0  female       B5    2\n",
       "1    male  C22 C26   11\n",
       "2  female  C22 C26  NaN\n",
       "3    male  C22 C26  NaN\n",
       "4  female  C22 C26  NaN\n",
       "5    male      E12    3\n",
       "6  female       D7   10\n",
       "7    male      A36  NaN\n",
       "8  female     C101    D\n",
       "9    male      NaN  NaN"
      ]
     },
     "execution_count": 305,
     "metadata": {},
     "output_type": "execute_result"
    },
    {
     "data": {
      "text/html": [
       "<div>\n",
       "<style scoped>\n",
       "    .dataframe tbody tr th:only-of-type {\n",
       "        vertical-align: middle;\n",
       "    }\n",
       "\n",
       "    .dataframe tbody tr th {\n",
       "        vertical-align: top;\n",
       "    }\n",
       "\n",
       "    .dataframe thead th {\n",
       "        text-align: right;\n",
       "    }\n",
       "</style>\n",
       "<table border=\"1\" class=\"dataframe\">\n",
       "  <thead>\n",
       "    <tr style=\"text-align: right;\">\n",
       "      <th></th>\n",
       "      <th>sex</th>\n",
       "      <th>cabin</th>\n",
       "      <th>boat</th>\n",
       "    </tr>\n",
       "  </thead>\n",
       "  <tbody>\n",
       "    <tr>\n",
       "      <th>0</th>\n",
       "      <td>female</td>\n",
       "      <td>B5</td>\n",
       "      <td>2</td>\n",
       "    </tr>\n",
       "    <tr>\n",
       "      <th>1</th>\n",
       "      <td>male</td>\n",
       "      <td>C22 C26</td>\n",
       "      <td>11</td>\n",
       "    </tr>\n",
       "    <tr>\n",
       "      <th>2</th>\n",
       "      <td>female</td>\n",
       "      <td>C22 C26</td>\n",
       "      <td>Filled</td>\n",
       "    </tr>\n",
       "    <tr>\n",
       "      <th>3</th>\n",
       "      <td>male</td>\n",
       "      <td>C22 C26</td>\n",
       "      <td>Filled</td>\n",
       "    </tr>\n",
       "    <tr>\n",
       "      <th>4</th>\n",
       "      <td>female</td>\n",
       "      <td>C22 C26</td>\n",
       "      <td>Filled</td>\n",
       "    </tr>\n",
       "    <tr>\n",
       "      <th>5</th>\n",
       "      <td>male</td>\n",
       "      <td>E12</td>\n",
       "      <td>3</td>\n",
       "    </tr>\n",
       "    <tr>\n",
       "      <th>6</th>\n",
       "      <td>female</td>\n",
       "      <td>D7</td>\n",
       "      <td>10</td>\n",
       "    </tr>\n",
       "    <tr>\n",
       "      <th>7</th>\n",
       "      <td>male</td>\n",
       "      <td>A36</td>\n",
       "      <td>Filled</td>\n",
       "    </tr>\n",
       "    <tr>\n",
       "      <th>8</th>\n",
       "      <td>female</td>\n",
       "      <td>C101</td>\n",
       "      <td>D</td>\n",
       "    </tr>\n",
       "    <tr>\n",
       "      <th>9</th>\n",
       "      <td>male</td>\n",
       "      <td>Filled</td>\n",
       "      <td>Filled</td>\n",
       "    </tr>\n",
       "  </tbody>\n",
       "</table>\n",
       "</div>"
      ],
      "text/plain": [
       "      sex    cabin    boat\n",
       "0  female       B5       2\n",
       "1    male  C22 C26      11\n",
       "2  female  C22 C26  Filled\n",
       "3    male  C22 C26  Filled\n",
       "4  female  C22 C26  Filled\n",
       "5    male      E12       3\n",
       "6  female       D7      10\n",
       "7    male      A36  Filled\n",
       "8  female     C101       D\n",
       "9    male   Filled  Filled"
      ]
     },
     "execution_count": 305,
     "metadata": {},
     "output_type": "execute_result"
    }
   ],
   "source": [
    "value_df = df.fillna(\"Filled\")\n",
    "df.head(10)\n",
    "value_df.head(10)"
   ]
  },
  {
   "cell_type": "markdown",
   "id": "e8577ab1-bcd1-4eee-82f3-bd4b99af73d8",
   "metadata": {},
   "source": [
    "<a id=\"2.3\"></a>\n",
    "## 2.3. Визуализация"
   ]
  },
  {
   "cell_type": "code",
   "execution_count": 91,
   "id": "070e9cc0-09c6-4563-81a7-7596843db77d",
   "metadata": {},
   "outputs": [],
   "source": [
    "import matplotlib.pyplot as plt\n",
    "import plotly.graph_objects as go\n",
    "import plotly.express as px"
   ]
  },
  {
   "cell_type": "code",
   "execution_count": 94,
   "id": "48f896af-4a81-4409-83a9-1f5fa68ddb60",
   "metadata": {},
   "outputs": [
    {
     "data": {
      "text/html": [
       "<div>\n",
       "<style scoped>\n",
       "    .dataframe tbody tr th:only-of-type {\n",
       "        vertical-align: middle;\n",
       "    }\n",
       "\n",
       "    .dataframe tbody tr th {\n",
       "        vertical-align: top;\n",
       "    }\n",
       "\n",
       "    .dataframe thead th {\n",
       "        text-align: right;\n",
       "    }\n",
       "</style>\n",
       "<table border=\"1\" class=\"dataframe\">\n",
       "  <thead>\n",
       "    <tr style=\"text-align: right;\">\n",
       "      <th></th>\n",
       "      <th>pclass</th>\n",
       "      <th>survived</th>\n",
       "      <th>name</th>\n",
       "      <th>sex</th>\n",
       "      <th>age</th>\n",
       "      <th>sibsp</th>\n",
       "      <th>parch</th>\n",
       "      <th>ticket</th>\n",
       "      <th>fare</th>\n",
       "      <th>cabin</th>\n",
       "      <th>embarked</th>\n",
       "      <th>boat</th>\n",
       "      <th>body</th>\n",
       "      <th>home.dest</th>\n",
       "    </tr>\n",
       "  </thead>\n",
       "  <tbody>\n",
       "    <tr>\n",
       "      <th>108</th>\n",
       "      <td>1</td>\n",
       "      <td>1</td>\n",
       "      <td>Fleming, Miss. Margaret</td>\n",
       "      <td>female</td>\n",
       "      <td>NaN</td>\n",
       "      <td>0</td>\n",
       "      <td>0</td>\n",
       "      <td>17421</td>\n",
       "      <td>110.8833</td>\n",
       "      <td>NaN</td>\n",
       "      <td>C</td>\n",
       "      <td>4</td>\n",
       "      <td>NaN</td>\n",
       "      <td>NaN</td>\n",
       "    </tr>\n",
       "    <tr>\n",
       "      <th>677</th>\n",
       "      <td>3</td>\n",
       "      <td>0</td>\n",
       "      <td>Bostandyeff, Mr. Guentcho</td>\n",
       "      <td>male</td>\n",
       "      <td>26.0</td>\n",
       "      <td>0</td>\n",
       "      <td>0</td>\n",
       "      <td>349224</td>\n",
       "      <td>7.8958</td>\n",
       "      <td>NaN</td>\n",
       "      <td>S</td>\n",
       "      <td>NaN</td>\n",
       "      <td>NaN</td>\n",
       "      <td>Bulgaria Chicago, IL</td>\n",
       "    </tr>\n",
       "    <tr>\n",
       "      <th>914</th>\n",
       "      <td>3</td>\n",
       "      <td>0</td>\n",
       "      <td>Karlsson, Mr. Julius Konrad Eugen</td>\n",
       "      <td>male</td>\n",
       "      <td>33.0</td>\n",
       "      <td>0</td>\n",
       "      <td>0</td>\n",
       "      <td>347465</td>\n",
       "      <td>7.8542</td>\n",
       "      <td>NaN</td>\n",
       "      <td>S</td>\n",
       "      <td>NaN</td>\n",
       "      <td>NaN</td>\n",
       "      <td>NaN</td>\n",
       "    </tr>\n",
       "    <tr>\n",
       "      <th>963</th>\n",
       "      <td>3</td>\n",
       "      <td>0</td>\n",
       "      <td>Leonard, Mr. Lionel</td>\n",
       "      <td>male</td>\n",
       "      <td>36.0</td>\n",
       "      <td>0</td>\n",
       "      <td>0</td>\n",
       "      <td>LINE</td>\n",
       "      <td>0.0000</td>\n",
       "      <td>NaN</td>\n",
       "      <td>S</td>\n",
       "      <td>NaN</td>\n",
       "      <td>NaN</td>\n",
       "      <td>NaN</td>\n",
       "    </tr>\n",
       "    <tr>\n",
       "      <th>1208</th>\n",
       "      <td>3</td>\n",
       "      <td>0</td>\n",
       "      <td>Skoog, Miss. Mabel</td>\n",
       "      <td>female</td>\n",
       "      <td>9.0</td>\n",
       "      <td>3</td>\n",
       "      <td>2</td>\n",
       "      <td>347088</td>\n",
       "      <td>27.9000</td>\n",
       "      <td>NaN</td>\n",
       "      <td>S</td>\n",
       "      <td>NaN</td>\n",
       "      <td>NaN</td>\n",
       "      <td>NaN</td>\n",
       "    </tr>\n",
       "  </tbody>\n",
       "</table>\n",
       "</div>"
      ],
      "text/plain": [
       "      pclass  survived                               name     sex   age  \\\n",
       "108        1         1            Fleming, Miss. Margaret  female   NaN   \n",
       "677        3         0          Bostandyeff, Mr. Guentcho    male  26.0   \n",
       "914        3         0  Karlsson, Mr. Julius Konrad Eugen    male  33.0   \n",
       "963        3         0                Leonard, Mr. Lionel    male  36.0   \n",
       "1208       3         0                 Skoog, Miss. Mabel  female   9.0   \n",
       "\n",
       "      sibsp  parch  ticket      fare cabin embarked boat  body  \\\n",
       "108       0      0   17421  110.8833   NaN        C    4   NaN   \n",
       "677       0      0  349224    7.8958   NaN        S  NaN   NaN   \n",
       "914       0      0  347465    7.8542   NaN        S  NaN   NaN   \n",
       "963       0      0    LINE    0.0000   NaN        S  NaN   NaN   \n",
       "1208      3      2  347088   27.9000   NaN        S  NaN   NaN   \n",
       "\n",
       "                 home.dest  \n",
       "108                    NaN  \n",
       "677   Bulgaria Chicago, IL  \n",
       "914                    NaN  \n",
       "963                    NaN  \n",
       "1208                   NaN  "
      ]
     },
     "execution_count": 94,
     "metadata": {},
     "output_type": "execute_result"
    },
    {
     "data": {
      "text/html": [
       "<div>\n",
       "<style scoped>\n",
       "    .dataframe tbody tr th:only-of-type {\n",
       "        vertical-align: middle;\n",
       "    }\n",
       "\n",
       "    .dataframe tbody tr th {\n",
       "        vertical-align: top;\n",
       "    }\n",
       "\n",
       "    .dataframe thead th {\n",
       "        text-align: right;\n",
       "    }\n",
       "</style>\n",
       "<table border=\"1\" class=\"dataframe\">\n",
       "  <thead>\n",
       "    <tr style=\"text-align: right;\">\n",
       "      <th></th>\n",
       "      <th>pclass</th>\n",
       "      <th>survived</th>\n",
       "      <th>age</th>\n",
       "      <th>sibsp</th>\n",
       "      <th>parch</th>\n",
       "      <th>fare</th>\n",
       "      <th>body</th>\n",
       "    </tr>\n",
       "  </thead>\n",
       "  <tbody>\n",
       "    <tr>\n",
       "      <th>1047</th>\n",
       "      <td>3</td>\n",
       "      <td>1</td>\n",
       "      <td>15.0</td>\n",
       "      <td>0</td>\n",
       "      <td>0</td>\n",
       "      <td>7.2250</td>\n",
       "      <td>NaN</td>\n",
       "    </tr>\n",
       "    <tr>\n",
       "      <th>1128</th>\n",
       "      <td>3</td>\n",
       "      <td>0</td>\n",
       "      <td>NaN</td>\n",
       "      <td>0</td>\n",
       "      <td>0</td>\n",
       "      <td>7.8958</td>\n",
       "      <td>NaN</td>\n",
       "    </tr>\n",
       "    <tr>\n",
       "      <th>470</th>\n",
       "      <td>2</td>\n",
       "      <td>0</td>\n",
       "      <td>35.0</td>\n",
       "      <td>0</td>\n",
       "      <td>0</td>\n",
       "      <td>12.3500</td>\n",
       "      <td>NaN</td>\n",
       "    </tr>\n",
       "    <tr>\n",
       "      <th>717</th>\n",
       "      <td>3</td>\n",
       "      <td>0</td>\n",
       "      <td>18.0</td>\n",
       "      <td>1</td>\n",
       "      <td>0</td>\n",
       "      <td>14.4542</td>\n",
       "      <td>NaN</td>\n",
       "    </tr>\n",
       "    <tr>\n",
       "      <th>1245</th>\n",
       "      <td>3</td>\n",
       "      <td>0</td>\n",
       "      <td>NaN</td>\n",
       "      <td>0</td>\n",
       "      <td>0</td>\n",
       "      <td>8.0500</td>\n",
       "      <td>NaN</td>\n",
       "    </tr>\n",
       "  </tbody>\n",
       "</table>\n",
       "</div>"
      ],
      "text/plain": [
       "      pclass  survived   age  sibsp  parch     fare  body\n",
       "1047       3         1  15.0      0      0   7.2250   NaN\n",
       "1128       3         0   NaN      0      0   7.8958   NaN\n",
       "470        2         0  35.0      0      0  12.3500   NaN\n",
       "717        3         0  18.0      1      0  14.4542   NaN\n",
       "1245       3         0   NaN      0      0   8.0500   NaN"
      ]
     },
     "execution_count": 94,
     "metadata": {},
     "output_type": "execute_result"
    }
   ],
   "source": [
    "all_df = pd.read_csv(\"data/Titanic.csv\")\n",
    "all_df.sample(5)\n",
    "numurical_columns = all_df.select_dtypes(include=['float64', 'int64']).columns  # Вытаскиваем только колонки типа float и int\n",
    "numerical_df = pd.read_csv(\"data/Titanic.csv\", usecols=numurical_columns)\n",
    "numerical_df.sample(5)"
   ]
  },
  {
   "cell_type": "markdown",
   "id": "08485294-1bfc-4d37-be1a-2caf0210ca32",
   "metadata": {},
   "source": [
    "### 2.3.0. Корреляционная матрица "
   ]
  },
  {
   "cell_type": "code",
   "execution_count": 93,
   "id": "3dc0d228-ab8e-4b3f-8ec9-dbf00dacd9ec",
   "metadata": {},
   "outputs": [
    {
     "data": {
      "text/html": [
       "<div>\n",
       "<style scoped>\n",
       "    .dataframe tbody tr th:only-of-type {\n",
       "        vertical-align: middle;\n",
       "    }\n",
       "\n",
       "    .dataframe tbody tr th {\n",
       "        vertical-align: top;\n",
       "    }\n",
       "\n",
       "    .dataframe thead th {\n",
       "        text-align: right;\n",
       "    }\n",
       "</style>\n",
       "<table border=\"1\" class=\"dataframe\">\n",
       "  <thead>\n",
       "    <tr style=\"text-align: right;\">\n",
       "      <th></th>\n",
       "      <th>pclass</th>\n",
       "      <th>survived</th>\n",
       "      <th>age</th>\n",
       "      <th>sibsp</th>\n",
       "      <th>parch</th>\n",
       "      <th>fare</th>\n",
       "      <th>body</th>\n",
       "    </tr>\n",
       "  </thead>\n",
       "  <tbody>\n",
       "    <tr>\n",
       "      <th>pclass</th>\n",
       "      <td>1.000000</td>\n",
       "      <td>-0.312469</td>\n",
       "      <td>-0.408106</td>\n",
       "      <td>0.060832</td>\n",
       "      <td>0.018322</td>\n",
       "      <td>-0.558629</td>\n",
       "      <td>-0.034642</td>\n",
       "    </tr>\n",
       "    <tr>\n",
       "      <th>survived</th>\n",
       "      <td>-0.312469</td>\n",
       "      <td>1.000000</td>\n",
       "      <td>-0.055512</td>\n",
       "      <td>-0.027825</td>\n",
       "      <td>0.082660</td>\n",
       "      <td>0.244265</td>\n",
       "      <td>NaN</td>\n",
       "    </tr>\n",
       "    <tr>\n",
       "      <th>age</th>\n",
       "      <td>-0.408106</td>\n",
       "      <td>-0.055512</td>\n",
       "      <td>1.000000</td>\n",
       "      <td>-0.243699</td>\n",
       "      <td>-0.150917</td>\n",
       "      <td>0.178740</td>\n",
       "      <td>0.058809</td>\n",
       "    </tr>\n",
       "    <tr>\n",
       "      <th>sibsp</th>\n",
       "      <td>0.060832</td>\n",
       "      <td>-0.027825</td>\n",
       "      <td>-0.243699</td>\n",
       "      <td>1.000000</td>\n",
       "      <td>0.373587</td>\n",
       "      <td>0.160238</td>\n",
       "      <td>-0.099961</td>\n",
       "    </tr>\n",
       "    <tr>\n",
       "      <th>parch</th>\n",
       "      <td>0.018322</td>\n",
       "      <td>0.082660</td>\n",
       "      <td>-0.150917</td>\n",
       "      <td>0.373587</td>\n",
       "      <td>1.000000</td>\n",
       "      <td>0.221539</td>\n",
       "      <td>0.051099</td>\n",
       "    </tr>\n",
       "    <tr>\n",
       "      <th>fare</th>\n",
       "      <td>-0.558629</td>\n",
       "      <td>0.244265</td>\n",
       "      <td>0.178740</td>\n",
       "      <td>0.160238</td>\n",
       "      <td>0.221539</td>\n",
       "      <td>1.000000</td>\n",
       "      <td>-0.043110</td>\n",
       "    </tr>\n",
       "    <tr>\n",
       "      <th>body</th>\n",
       "      <td>-0.034642</td>\n",
       "      <td>NaN</td>\n",
       "      <td>0.058809</td>\n",
       "      <td>-0.099961</td>\n",
       "      <td>0.051099</td>\n",
       "      <td>-0.043110</td>\n",
       "      <td>1.000000</td>\n",
       "    </tr>\n",
       "  </tbody>\n",
       "</table>\n",
       "</div>"
      ],
      "text/plain": [
       "            pclass  survived       age     sibsp     parch      fare      body\n",
       "pclass    1.000000 -0.312469 -0.408106  0.060832  0.018322 -0.558629 -0.034642\n",
       "survived -0.312469  1.000000 -0.055512 -0.027825  0.082660  0.244265       NaN\n",
       "age      -0.408106 -0.055512  1.000000 -0.243699 -0.150917  0.178740  0.058809\n",
       "sibsp     0.060832 -0.027825 -0.243699  1.000000  0.373587  0.160238 -0.099961\n",
       "parch     0.018322  0.082660 -0.150917  0.373587  1.000000  0.221539  0.051099\n",
       "fare     -0.558629  0.244265  0.178740  0.160238  0.221539  1.000000 -0.043110\n",
       "body     -0.034642       NaN  0.058809 -0.099961  0.051099 -0.043110  1.000000"
      ]
     },
     "execution_count": 93,
     "metadata": {},
     "output_type": "execute_result"
    },
    {
     "data": {
      "application/vnd.plotly.v1+json": {
       "config": {
        "plotlyServerURL": "https://plot.ly"
       },
       "data": [
        {
         "coloraxis": "coloraxis",
         "hovertemplate": "x: %{x}<br>y: %{y}<br>color: %{z}<extra></extra>",
         "name": "0",
         "type": "heatmap",
         "x": [
          "pclass",
          "survived",
          "age",
          "sibsp",
          "parch",
          "fare",
          "body"
         ],
         "xaxis": "x",
         "y": [
          "pclass",
          "survived",
          "age",
          "sibsp",
          "parch",
          "fare",
          "body"
         ],
         "yaxis": "y",
         "z": [
          [
           1,
           -0.31246936264967645,
           -0.4081062342364444,
           0.06083200757490756,
           0.01832220200978667,
           -0.5586287323271729,
           -0.03464193515097365
          ],
          [
           -0.31246936264967645,
           1,
           -0.055511835971363076,
           -0.02782511923058187,
           0.08265957038609871,
           0.24426546891481193,
           null
          ],
          [
           -0.4081062342364444,
           -0.055511835971363076,
           1,
           -0.2436989976647735,
           -0.15091709036354456,
           0.1787398559996416,
           0.05880873198334799
          ],
          [
           0.06083200757490756,
           -0.02782511923058187,
           -0.2436989976647735,
           1,
           0.3735871906264931,
           0.16023825591495053,
           -0.09996053320147771
          ],
          [
           0.01832220200978667,
           0.08265957038609871,
           -0.15091709036354456,
           0.3735871906264931,
           1,
           0.2215386585481907,
           0.05109925069756341
          ],
          [
           -0.5586287323271729,
           0.24426546891481193,
           0.1787398559996416,
           0.16023825591495053,
           0.2215386585481907,
           1,
           -0.043110175960549606
          ],
          [
           -0.03464193515097365,
           null,
           0.05880873198334799,
           -0.09996053320147771,
           0.05109925069756341,
           -0.043110175960549606,
           1
          ]
         ]
        }
       ],
       "layout": {
        "autosize": true,
        "coloraxis": {
         "cmax": 1,
         "cmin": -1,
         "colorscale": [
          [
           0,
           "#0d0887"
          ],
          [
           0.1111111111111111,
           "#46039f"
          ],
          [
           0.2222222222222222,
           "#7201a8"
          ],
          [
           0.3333333333333333,
           "#9c179e"
          ],
          [
           0.4444444444444444,
           "#bd3786"
          ],
          [
           0.5555555555555556,
           "#d8576b"
          ],
          [
           0.6666666666666666,
           "#ed7953"
          ],
          [
           0.7777777777777778,
           "#fb9f3a"
          ],
          [
           0.8888888888888888,
           "#fdca26"
          ],
          [
           1,
           "#f0f921"
          ]
         ]
        },
        "margin": {
         "t": 60
        },
        "template": {
         "data": {
          "bar": [
           {
            "error_x": {
             "color": "#2a3f5f"
            },
            "error_y": {
             "color": "#2a3f5f"
            },
            "marker": {
             "line": {
              "color": "#E5ECF6",
              "width": 0.5
             },
             "pattern": {
              "fillmode": "overlay",
              "size": 10,
              "solidity": 0.2
             }
            },
            "type": "bar"
           }
          ],
          "barpolar": [
           {
            "marker": {
             "line": {
              "color": "#E5ECF6",
              "width": 0.5
             },
             "pattern": {
              "fillmode": "overlay",
              "size": 10,
              "solidity": 0.2
             }
            },
            "type": "barpolar"
           }
          ],
          "carpet": [
           {
            "aaxis": {
             "endlinecolor": "#2a3f5f",
             "gridcolor": "white",
             "linecolor": "white",
             "minorgridcolor": "white",
             "startlinecolor": "#2a3f5f"
            },
            "baxis": {
             "endlinecolor": "#2a3f5f",
             "gridcolor": "white",
             "linecolor": "white",
             "minorgridcolor": "white",
             "startlinecolor": "#2a3f5f"
            },
            "type": "carpet"
           }
          ],
          "choropleth": [
           {
            "colorbar": {
             "outlinewidth": 0,
             "ticks": ""
            },
            "type": "choropleth"
           }
          ],
          "contour": [
           {
            "colorbar": {
             "outlinewidth": 0,
             "ticks": ""
            },
            "colorscale": [
             [
              0,
              "#0d0887"
             ],
             [
              0.1111111111111111,
              "#46039f"
             ],
             [
              0.2222222222222222,
              "#7201a8"
             ],
             [
              0.3333333333333333,
              "#9c179e"
             ],
             [
              0.4444444444444444,
              "#bd3786"
             ],
             [
              0.5555555555555556,
              "#d8576b"
             ],
             [
              0.6666666666666666,
              "#ed7953"
             ],
             [
              0.7777777777777778,
              "#fb9f3a"
             ],
             [
              0.8888888888888888,
              "#fdca26"
             ],
             [
              1,
              "#f0f921"
             ]
            ],
            "type": "contour"
           }
          ],
          "contourcarpet": [
           {
            "colorbar": {
             "outlinewidth": 0,
             "ticks": ""
            },
            "type": "contourcarpet"
           }
          ],
          "heatmap": [
           {
            "colorbar": {
             "outlinewidth": 0,
             "ticks": ""
            },
            "colorscale": [
             [
              0,
              "#0d0887"
             ],
             [
              0.1111111111111111,
              "#46039f"
             ],
             [
              0.2222222222222222,
              "#7201a8"
             ],
             [
              0.3333333333333333,
              "#9c179e"
             ],
             [
              0.4444444444444444,
              "#bd3786"
             ],
             [
              0.5555555555555556,
              "#d8576b"
             ],
             [
              0.6666666666666666,
              "#ed7953"
             ],
             [
              0.7777777777777778,
              "#fb9f3a"
             ],
             [
              0.8888888888888888,
              "#fdca26"
             ],
             [
              1,
              "#f0f921"
             ]
            ],
            "type": "heatmap"
           }
          ],
          "heatmapgl": [
           {
            "colorbar": {
             "outlinewidth": 0,
             "ticks": ""
            },
            "colorscale": [
             [
              0,
              "#0d0887"
             ],
             [
              0.1111111111111111,
              "#46039f"
             ],
             [
              0.2222222222222222,
              "#7201a8"
             ],
             [
              0.3333333333333333,
              "#9c179e"
             ],
             [
              0.4444444444444444,
              "#bd3786"
             ],
             [
              0.5555555555555556,
              "#d8576b"
             ],
             [
              0.6666666666666666,
              "#ed7953"
             ],
             [
              0.7777777777777778,
              "#fb9f3a"
             ],
             [
              0.8888888888888888,
              "#fdca26"
             ],
             [
              1,
              "#f0f921"
             ]
            ],
            "type": "heatmapgl"
           }
          ],
          "histogram": [
           {
            "marker": {
             "pattern": {
              "fillmode": "overlay",
              "size": 10,
              "solidity": 0.2
             }
            },
            "type": "histogram"
           }
          ],
          "histogram2d": [
           {
            "colorbar": {
             "outlinewidth": 0,
             "ticks": ""
            },
            "colorscale": [
             [
              0,
              "#0d0887"
             ],
             [
              0.1111111111111111,
              "#46039f"
             ],
             [
              0.2222222222222222,
              "#7201a8"
             ],
             [
              0.3333333333333333,
              "#9c179e"
             ],
             [
              0.4444444444444444,
              "#bd3786"
             ],
             [
              0.5555555555555556,
              "#d8576b"
             ],
             [
              0.6666666666666666,
              "#ed7953"
             ],
             [
              0.7777777777777778,
              "#fb9f3a"
             ],
             [
              0.8888888888888888,
              "#fdca26"
             ],
             [
              1,
              "#f0f921"
             ]
            ],
            "type": "histogram2d"
           }
          ],
          "histogram2dcontour": [
           {
            "colorbar": {
             "outlinewidth": 0,
             "ticks": ""
            },
            "colorscale": [
             [
              0,
              "#0d0887"
             ],
             [
              0.1111111111111111,
              "#46039f"
             ],
             [
              0.2222222222222222,
              "#7201a8"
             ],
             [
              0.3333333333333333,
              "#9c179e"
             ],
             [
              0.4444444444444444,
              "#bd3786"
             ],
             [
              0.5555555555555556,
              "#d8576b"
             ],
             [
              0.6666666666666666,
              "#ed7953"
             ],
             [
              0.7777777777777778,
              "#fb9f3a"
             ],
             [
              0.8888888888888888,
              "#fdca26"
             ],
             [
              1,
              "#f0f921"
             ]
            ],
            "type": "histogram2dcontour"
           }
          ],
          "mesh3d": [
           {
            "colorbar": {
             "outlinewidth": 0,
             "ticks": ""
            },
            "type": "mesh3d"
           }
          ],
          "parcoords": [
           {
            "line": {
             "colorbar": {
              "outlinewidth": 0,
              "ticks": ""
             }
            },
            "type": "parcoords"
           }
          ],
          "pie": [
           {
            "automargin": true,
            "type": "pie"
           }
          ],
          "scatter": [
           {
            "fillpattern": {
             "fillmode": "overlay",
             "size": 10,
             "solidity": 0.2
            },
            "type": "scatter"
           }
          ],
          "scatter3d": [
           {
            "line": {
             "colorbar": {
              "outlinewidth": 0,
              "ticks": ""
             }
            },
            "marker": {
             "colorbar": {
              "outlinewidth": 0,
              "ticks": ""
             }
            },
            "type": "scatter3d"
           }
          ],
          "scattercarpet": [
           {
            "marker": {
             "colorbar": {
              "outlinewidth": 0,
              "ticks": ""
             }
            },
            "type": "scattercarpet"
           }
          ],
          "scattergeo": [
           {
            "marker": {
             "colorbar": {
              "outlinewidth": 0,
              "ticks": ""
             }
            },
            "type": "scattergeo"
           }
          ],
          "scattergl": [
           {
            "marker": {
             "colorbar": {
              "outlinewidth": 0,
              "ticks": ""
             }
            },
            "type": "scattergl"
           }
          ],
          "scattermapbox": [
           {
            "marker": {
             "colorbar": {
              "outlinewidth": 0,
              "ticks": ""
             }
            },
            "type": "scattermapbox"
           }
          ],
          "scatterpolar": [
           {
            "marker": {
             "colorbar": {
              "outlinewidth": 0,
              "ticks": ""
             }
            },
            "type": "scatterpolar"
           }
          ],
          "scatterpolargl": [
           {
            "marker": {
             "colorbar": {
              "outlinewidth": 0,
              "ticks": ""
             }
            },
            "type": "scatterpolargl"
           }
          ],
          "scatterternary": [
           {
            "marker": {
             "colorbar": {
              "outlinewidth": 0,
              "ticks": ""
             }
            },
            "type": "scatterternary"
           }
          ],
          "surface": [
           {
            "colorbar": {
             "outlinewidth": 0,
             "ticks": ""
            },
            "colorscale": [
             [
              0,
              "#0d0887"
             ],
             [
              0.1111111111111111,
              "#46039f"
             ],
             [
              0.2222222222222222,
              "#7201a8"
             ],
             [
              0.3333333333333333,
              "#9c179e"
             ],
             [
              0.4444444444444444,
              "#bd3786"
             ],
             [
              0.5555555555555556,
              "#d8576b"
             ],
             [
              0.6666666666666666,
              "#ed7953"
             ],
             [
              0.7777777777777778,
              "#fb9f3a"
             ],
             [
              0.8888888888888888,
              "#fdca26"
             ],
             [
              1,
              "#f0f921"
             ]
            ],
            "type": "surface"
           }
          ],
          "table": [
           {
            "cells": {
             "fill": {
              "color": "#EBF0F8"
             },
             "line": {
              "color": "white"
             }
            },
            "header": {
             "fill": {
              "color": "#C8D4E3"
             },
             "line": {
              "color": "white"
             }
            },
            "type": "table"
           }
          ]
         },
         "layout": {
          "annotationdefaults": {
           "arrowcolor": "#2a3f5f",
           "arrowhead": 0,
           "arrowwidth": 1
          },
          "autotypenumbers": "strict",
          "coloraxis": {
           "colorbar": {
            "outlinewidth": 0,
            "ticks": ""
           }
          },
          "colorscale": {
           "diverging": [
            [
             0,
             "#8e0152"
            ],
            [
             0.1,
             "#c51b7d"
            ],
            [
             0.2,
             "#de77ae"
            ],
            [
             0.3,
             "#f1b6da"
            ],
            [
             0.4,
             "#fde0ef"
            ],
            [
             0.5,
             "#f7f7f7"
            ],
            [
             0.6,
             "#e6f5d0"
            ],
            [
             0.7,
             "#b8e186"
            ],
            [
             0.8,
             "#7fbc41"
            ],
            [
             0.9,
             "#4d9221"
            ],
            [
             1,
             "#276419"
            ]
           ],
           "sequential": [
            [
             0,
             "#0d0887"
            ],
            [
             0.1111111111111111,
             "#46039f"
            ],
            [
             0.2222222222222222,
             "#7201a8"
            ],
            [
             0.3333333333333333,
             "#9c179e"
            ],
            [
             0.4444444444444444,
             "#bd3786"
            ],
            [
             0.5555555555555556,
             "#d8576b"
            ],
            [
             0.6666666666666666,
             "#ed7953"
            ],
            [
             0.7777777777777778,
             "#fb9f3a"
            ],
            [
             0.8888888888888888,
             "#fdca26"
            ],
            [
             1,
             "#f0f921"
            ]
           ],
           "sequentialminus": [
            [
             0,
             "#0d0887"
            ],
            [
             0.1111111111111111,
             "#46039f"
            ],
            [
             0.2222222222222222,
             "#7201a8"
            ],
            [
             0.3333333333333333,
             "#9c179e"
            ],
            [
             0.4444444444444444,
             "#bd3786"
            ],
            [
             0.5555555555555556,
             "#d8576b"
            ],
            [
             0.6666666666666666,
             "#ed7953"
            ],
            [
             0.7777777777777778,
             "#fb9f3a"
            ],
            [
             0.8888888888888888,
             "#fdca26"
            ],
            [
             1,
             "#f0f921"
            ]
           ]
          },
          "colorway": [
           "#636efa",
           "#EF553B",
           "#00cc96",
           "#ab63fa",
           "#FFA15A",
           "#19d3f3",
           "#FF6692",
           "#B6E880",
           "#FF97FF",
           "#FECB52"
          ],
          "font": {
           "color": "#2a3f5f"
          },
          "geo": {
           "bgcolor": "white",
           "lakecolor": "white",
           "landcolor": "#E5ECF6",
           "showlakes": true,
           "showland": true,
           "subunitcolor": "white"
          },
          "hoverlabel": {
           "align": "left"
          },
          "hovermode": "closest",
          "mapbox": {
           "style": "light"
          },
          "paper_bgcolor": "white",
          "plot_bgcolor": "#E5ECF6",
          "polar": {
           "angularaxis": {
            "gridcolor": "white",
            "linecolor": "white",
            "ticks": ""
           },
           "bgcolor": "#E5ECF6",
           "radialaxis": {
            "gridcolor": "white",
            "linecolor": "white",
            "ticks": ""
           }
          },
          "scene": {
           "xaxis": {
            "backgroundcolor": "#E5ECF6",
            "gridcolor": "white",
            "gridwidth": 2,
            "linecolor": "white",
            "showbackground": true,
            "ticks": "",
            "zerolinecolor": "white"
           },
           "yaxis": {
            "backgroundcolor": "#E5ECF6",
            "gridcolor": "white",
            "gridwidth": 2,
            "linecolor": "white",
            "showbackground": true,
            "ticks": "",
            "zerolinecolor": "white"
           },
           "zaxis": {
            "backgroundcolor": "#E5ECF6",
            "gridcolor": "white",
            "gridwidth": 2,
            "linecolor": "white",
            "showbackground": true,
            "ticks": "",
            "zerolinecolor": "white"
           }
          },
          "shapedefaults": {
           "line": {
            "color": "#2a3f5f"
           }
          },
          "ternary": {
           "aaxis": {
            "gridcolor": "white",
            "linecolor": "white",
            "ticks": ""
           },
           "baxis": {
            "gridcolor": "white",
            "linecolor": "white",
            "ticks": ""
           },
           "bgcolor": "#E5ECF6",
           "caxis": {
            "gridcolor": "white",
            "linecolor": "white",
            "ticks": ""
           }
          },
          "title": {
           "x": 0.05
          },
          "xaxis": {
           "automargin": true,
           "gridcolor": "white",
           "linecolor": "white",
           "ticks": "",
           "title": {
            "standoff": 15
           },
           "zerolinecolor": "white",
           "zerolinewidth": 2
          },
          "yaxis": {
           "automargin": true,
           "gridcolor": "white",
           "linecolor": "white",
           "ticks": "",
           "title": {
            "standoff": 15
           },
           "zerolinecolor": "white",
           "zerolinewidth": 2
          }
         }
        },
        "xaxis": {
         "anchor": "y",
         "autorange": true,
         "constrain": "domain",
         "domain": [
          0.3942307692307692,
          0.6057692307692307
         ],
         "range": [
          -0.5,
          6.5
         ],
         "scaleanchor": "y",
         "type": "category"
        },
        "yaxis": {
         "anchor": "x",
         "autorange": true,
         "constrain": "domain",
         "domain": [
          0,
          1
         ],
         "range": [
          6.5,
          -0.5
         ],
         "type": "category"
        }
       }
      },
      "image/png": "[encoded data removed]",
      "text/html": [
       "<div>                            <div id=\"0574471a-725b-4c7c-8093-ccb43da13eab\" class=\"plotly-graph-div\" style=\"height:525px; width:100%;\"></div>            <script type=\"text/javascript\">                require([\"plotly\"], function(Plotly) {                    window.PLOTLYENV=window.PLOTLYENV || {};                                    if (document.getElementById(\"0574471a-725b-4c7c-8093-ccb43da13eab\")) {                    Plotly.newPlot(                        \"0574471a-725b-4c7c-8093-ccb43da13eab\",                        [{\"coloraxis\":\"coloraxis\",\"name\":\"0\",\"x\":[\"pclass\",\"survived\",\"age\",\"sibsp\",\"parch\",\"fare\",\"body\"],\"y\":[\"pclass\",\"survived\",\"age\",\"sibsp\",\"parch\",\"fare\",\"body\"],\"z\":[[1.0,-0.31246936264967645,-0.4081062342364444,0.06083200757490756,0.01832220200978667,-0.5586287323271729,-0.03464193515097365],[-0.31246936264967645,1.0,-0.055511835971363076,-0.02782511923058187,0.08265957038609871,0.24426546891481193,null],[-0.4081062342364444,-0.055511835971363076,1.0,-0.2436989976647735,-0.15091709036354456,0.1787398559996416,0.05880873198334799],[0.06083200757490756,-0.02782511923058187,-0.2436989976647735,1.0,0.3735871906264931,0.16023825591495053,-0.09996053320147771],[0.01832220200978667,0.08265957038609871,-0.15091709036354456,0.3735871906264931,1.0,0.2215386585481907,0.05109925069756341],[-0.5586287323271729,0.24426546891481193,0.1787398559996416,0.16023825591495053,0.2215386585481907,1.0,-0.043110175960549606],[-0.03464193515097365,null,0.05880873198334799,-0.09996053320147771,0.05109925069756341,-0.043110175960549606,1.0]],\"type\":\"heatmap\",\"xaxis\":\"x\",\"yaxis\":\"y\",\"hovertemplate\":\"x: %{x}\\u003cbr\\u003ey: %{y}\\u003cbr\\u003ecolor: %{z}\\u003cextra\\u003e\\u003c\\u002fextra\\u003e\"}],                        {\"template\":{\"data\":{\"histogram2dcontour\":[{\"type\":\"histogram2dcontour\",\"colorbar\":{\"outlinewidth\":0,\"ticks\":\"\"},\"colorscale\":[[0.0,\"#0d0887\"],[0.1111111111111111,\"#46039f\"],[0.2222222222222222,\"#7201a8\"],[0.3333333333333333,\"#9c179e\"],[0.4444444444444444,\"#bd3786\"],[0.5555555555555556,\"#d8576b\"],[0.6666666666666666,\"#ed7953\"],[0.7777777777777778,\"#fb9f3a\"],[0.8888888888888888,\"#fdca26\"],[1.0,\"#f0f921\"]]}],\"choropleth\":[{\"type\":\"choropleth\",\"colorbar\":{\"outlinewidth\":0,\"ticks\":\"\"}}],\"histogram2d\":[{\"type\":\"histogram2d\",\"colorbar\":{\"outlinewidth\":0,\"ticks\":\"\"},\"colorscale\":[[0.0,\"#0d0887\"],[0.1111111111111111,\"#46039f\"],[0.2222222222222222,\"#7201a8\"],[0.3333333333333333,\"#9c179e\"],[0.4444444444444444,\"#bd3786\"],[0.5555555555555556,\"#d8576b\"],[0.6666666666666666,\"#ed7953\"],[0.7777777777777778,\"#fb9f3a\"],[0.8888888888888888,\"#fdca26\"],[1.0,\"#f0f921\"]]}],\"heatmap\":[{\"type\":\"heatmap\",\"colorbar\":{\"outlinewidth\":0,\"ticks\":\"\"},\"colorscale\":[[0.0,\"#0d0887\"],[0.1111111111111111,\"#46039f\"],[0.2222222222222222,\"#7201a8\"],[0.3333333333333333,\"#9c179e\"],[0.4444444444444444,\"#bd3786\"],[0.5555555555555556,\"#d8576b\"],[0.6666666666666666,\"#ed7953\"],[0.7777777777777778,\"#fb9f3a\"],[0.8888888888888888,\"#fdca26\"],[1.0,\"#f0f921\"]]}],\"heatmapgl\":[{\"type\":\"heatmapgl\",\"colorbar\":{\"outlinewidth\":0,\"ticks\":\"\"},\"colorscale\":[[0.0,\"#0d0887\"],[0.1111111111111111,\"#46039f\"],[0.2222222222222222,\"#7201a8\"],[0.3333333333333333,\"#9c179e\"],[0.4444444444444444,\"#bd3786\"],[0.5555555555555556,\"#d8576b\"],[0.6666666666666666,\"#ed7953\"],[0.7777777777777778,\"#fb9f3a\"],[0.8888888888888888,\"#fdca26\"],[1.0,\"#f0f921\"]]}],\"contourcarpet\":[{\"type\":\"contourcarpet\",\"colorbar\":{\"outlinewidth\":0,\"ticks\":\"\"}}],\"contour\":[{\"type\":\"contour\",\"colorbar\":{\"outlinewidth\":0,\"ticks\":\"\"},\"colorscale\":[[0.0,\"#0d0887\"],[0.1111111111111111,\"#46039f\"],[0.2222222222222222,\"#7201a8\"],[0.3333333333333333,\"#9c179e\"],[0.4444444444444444,\"#bd3786\"],[0.5555555555555556,\"#d8576b\"],[0.6666666666666666,\"#ed7953\"],[0.7777777777777778,\"#fb9f3a\"],[0.8888888888888888,\"#fdca26\"],[1.0,\"#f0f921\"]]}],\"surface\":[{\"type\":\"surface\",\"colorbar\":{\"outlinewidth\":0,\"ticks\":\"\"},\"colorscale\":[[0.0,\"#0d0887\"],[0.1111111111111111,\"#46039f\"],[0.2222222222222222,\"#7201a8\"],[0.3333333333333333,\"#9c179e\"],[0.4444444444444444,\"#bd3786\"],[0.5555555555555556,\"#d8576b\"],[0.6666666666666666,\"#ed7953\"],[0.7777777777777778,\"#fb9f3a\"],[0.8888888888888888,\"#fdca26\"],[1.0,\"#f0f921\"]]}],\"mesh3d\":[{\"type\":\"mesh3d\",\"colorbar\":{\"outlinewidth\":0,\"ticks\":\"\"}}],\"scatter\":[{\"fillpattern\":{\"fillmode\":\"overlay\",\"size\":10,\"solidity\":0.2},\"type\":\"scatter\"}],\"parcoords\":[{\"type\":\"parcoords\",\"line\":{\"colorbar\":{\"outlinewidth\":0,\"ticks\":\"\"}}}],\"scatterpolargl\":[{\"type\":\"scatterpolargl\",\"marker\":{\"colorbar\":{\"outlinewidth\":0,\"ticks\":\"\"}}}],\"bar\":[{\"error_x\":{\"color\":\"#2a3f5f\"},\"error_y\":{\"color\":\"#2a3f5f\"},\"marker\":{\"line\":{\"color\":\"#E5ECF6\",\"width\":0.5},\"pattern\":{\"fillmode\":\"overlay\",\"size\":10,\"solidity\":0.2}},\"type\":\"bar\"}],\"scattergeo\":[{\"type\":\"scattergeo\",\"marker\":{\"colorbar\":{\"outlinewidth\":0,\"ticks\":\"\"}}}],\"scatterpolar\":[{\"type\":\"scatterpolar\",\"marker\":{\"colorbar\":{\"outlinewidth\":0,\"ticks\":\"\"}}}],\"histogram\":[{\"marker\":{\"pattern\":{\"fillmode\":\"overlay\",\"size\":10,\"solidity\":0.2}},\"type\":\"histogram\"}],\"scattergl\":[{\"type\":\"scattergl\",\"marker\":{\"colorbar\":{\"outlinewidth\":0,\"ticks\":\"\"}}}],\"scatter3d\":[{\"type\":\"scatter3d\",\"line\":{\"colorbar\":{\"outlinewidth\":0,\"ticks\":\"\"}},\"marker\":{\"colorbar\":{\"outlinewidth\":0,\"ticks\":\"\"}}}],\"scattermapbox\":[{\"type\":\"scattermapbox\",\"marker\":{\"colorbar\":{\"outlinewidth\":0,\"ticks\":\"\"}}}],\"scatterternary\":[{\"type\":\"scatterternary\",\"marker\":{\"colorbar\":{\"outlinewidth\":0,\"ticks\":\"\"}}}],\"scattercarpet\":[{\"type\":\"scattercarpet\",\"marker\":{\"colorbar\":{\"outlinewidth\":0,\"ticks\":\"\"}}}],\"carpet\":[{\"aaxis\":{\"endlinecolor\":\"#2a3f5f\",\"gridcolor\":\"white\",\"linecolor\":\"white\",\"minorgridcolor\":\"white\",\"startlinecolor\":\"#2a3f5f\"},\"baxis\":{\"endlinecolor\":\"#2a3f5f\",\"gridcolor\":\"white\",\"linecolor\":\"white\",\"minorgridcolor\":\"white\",\"startlinecolor\":\"#2a3f5f\"},\"type\":\"carpet\"}],\"table\":[{\"cells\":{\"fill\":{\"color\":\"#EBF0F8\"},\"line\":{\"color\":\"white\"}},\"header\":{\"fill\":{\"color\":\"#C8D4E3\"},\"line\":{\"color\":\"white\"}},\"type\":\"table\"}],\"barpolar\":[{\"marker\":{\"line\":{\"color\":\"#E5ECF6\",\"width\":0.5},\"pattern\":{\"fillmode\":\"overlay\",\"size\":10,\"solidity\":0.2}},\"type\":\"barpolar\"}],\"pie\":[{\"automargin\":true,\"type\":\"pie\"}]},\"layout\":{\"autotypenumbers\":\"strict\",\"colorway\":[\"#636efa\",\"#EF553B\",\"#00cc96\",\"#ab63fa\",\"#FFA15A\",\"#19d3f3\",\"#FF6692\",\"#B6E880\",\"#FF97FF\",\"#FECB52\"],\"font\":{\"color\":\"#2a3f5f\"},\"hovermode\":\"closest\",\"hoverlabel\":{\"align\":\"left\"},\"paper_bgcolor\":\"white\",\"plot_bgcolor\":\"#E5ECF6\",\"polar\":{\"bgcolor\":\"#E5ECF6\",\"angularaxis\":{\"gridcolor\":\"white\",\"linecolor\":\"white\",\"ticks\":\"\"},\"radialaxis\":{\"gridcolor\":\"white\",\"linecolor\":\"white\",\"ticks\":\"\"}},\"ternary\":{\"bgcolor\":\"#E5ECF6\",\"aaxis\":{\"gridcolor\":\"white\",\"linecolor\":\"white\",\"ticks\":\"\"},\"baxis\":{\"gridcolor\":\"white\",\"linecolor\":\"white\",\"ticks\":\"\"},\"caxis\":{\"gridcolor\":\"white\",\"linecolor\":\"white\",\"ticks\":\"\"}},\"coloraxis\":{\"colorbar\":{\"outlinewidth\":0,\"ticks\":\"\"}},\"colorscale\":{\"sequential\":[[0.0,\"#0d0887\"],[0.1111111111111111,\"#46039f\"],[0.2222222222222222,\"#7201a8\"],[0.3333333333333333,\"#9c179e\"],[0.4444444444444444,\"#bd3786\"],[0.5555555555555556,\"#d8576b\"],[0.6666666666666666,\"#ed7953\"],[0.7777777777777778,\"#fb9f3a\"],[0.8888888888888888,\"#fdca26\"],[1.0,\"#f0f921\"]],\"sequentialminus\":[[0.0,\"#0d0887\"],[0.1111111111111111,\"#46039f\"],[0.2222222222222222,\"#7201a8\"],[0.3333333333333333,\"#9c179e\"],[0.4444444444444444,\"#bd3786\"],[0.5555555555555556,\"#d8576b\"],[0.6666666666666666,\"#ed7953\"],[0.7777777777777778,\"#fb9f3a\"],[0.8888888888888888,\"#fdca26\"],[1.0,\"#f0f921\"]],\"diverging\":[[0,\"#8e0152\"],[0.1,\"#c51b7d\"],[0.2,\"#de77ae\"],[0.3,\"#f1b6da\"],[0.4,\"#fde0ef\"],[0.5,\"#f7f7f7\"],[0.6,\"#e6f5d0\"],[0.7,\"#b8e186\"],[0.8,\"#7fbc41\"],[0.9,\"#4d9221\"],[1,\"#276419\"]]},\"xaxis\":{\"gridcolor\":\"white\",\"linecolor\":\"white\",\"ticks\":\"\",\"title\":{\"standoff\":15},\"zerolinecolor\":\"white\",\"automargin\":true,\"zerolinewidth\":2},\"yaxis\":{\"gridcolor\":\"white\",\"linecolor\":\"white\",\"ticks\":\"\",\"title\":{\"standoff\":15},\"zerolinecolor\":\"white\",\"automargin\":true,\"zerolinewidth\":2},\"scene\":{\"xaxis\":{\"backgroundcolor\":\"#E5ECF6\",\"gridcolor\":\"white\",\"linecolor\":\"white\",\"showbackground\":true,\"ticks\":\"\",\"zerolinecolor\":\"white\",\"gridwidth\":2},\"yaxis\":{\"backgroundcolor\":\"#E5ECF6\",\"gridcolor\":\"white\",\"linecolor\":\"white\",\"showbackground\":true,\"ticks\":\"\",\"zerolinecolor\":\"white\",\"gridwidth\":2},\"zaxis\":{\"backgroundcolor\":\"#E5ECF6\",\"gridcolor\":\"white\",\"linecolor\":\"white\",\"showbackground\":true,\"ticks\":\"\",\"zerolinecolor\":\"white\",\"gridwidth\":2}},\"shapedefaults\":{\"line\":{\"color\":\"#2a3f5f\"}},\"annotationdefaults\":{\"arrowcolor\":\"#2a3f5f\",\"arrowhead\":0,\"arrowwidth\":1},\"geo\":{\"bgcolor\":\"white\",\"landcolor\":\"#E5ECF6\",\"subunitcolor\":\"white\",\"showland\":true,\"showlakes\":true,\"lakecolor\":\"white\"},\"title\":{\"x\":0.05},\"mapbox\":{\"style\":\"light\"}}},\"xaxis\":{\"anchor\":\"y\",\"domain\":[0.0,1.0],\"scaleanchor\":\"y\",\"constrain\":\"domain\"},\"yaxis\":{\"anchor\":\"x\",\"domain\":[0.0,1.0],\"autorange\":\"reversed\",\"constrain\":\"domain\"},\"coloraxis\":{\"colorscale\":[[0.0,\"#0d0887\"],[0.1111111111111111,\"#46039f\"],[0.2222222222222222,\"#7201a8\"],[0.3333333333333333,\"#9c179e\"],[0.4444444444444444,\"#bd3786\"],[0.5555555555555556,\"#d8576b\"],[0.6666666666666666,\"#ed7953\"],[0.7777777777777778,\"#fb9f3a\"],[0.8888888888888888,\"#fdca26\"],[1.0,\"#f0f921\"]],\"cmin\":-1,\"cmax\":1},\"margin\":{\"t\":60}},                        {\"responsive\": true}                    ).then(function(){\n",
       "                            \n",
       "var gd = document.getElementById('0574471a-725b-4c7c-8093-ccb43da13eab');\n",
       "var x = new MutationObserver(function (mutations, observer) {{\n",
       "        var display = window.getComputedStyle(gd).display;\n",
       "        if (!display || display === 'none') {{\n",
       "            console.log([gd, 'removed!']);\n",
       "            Plotly.purge(gd);\n",
       "            observer.disconnect();\n",
       "        }}\n",
       "}});\n",
       "\n",
       "// Listen for the removal of the full notebook cells\n",
       "var notebookContainer = gd.closest('#notebook-container');\n",
       "if (notebookContainer) {{\n",
       "    x.observe(notebookContainer, {childList: true});\n",
       "}}\n",
       "\n",
       "// Listen for the clearing of the current output cell\n",
       "var outputEl = gd.closest('.output');\n",
       "if (outputEl) {{\n",
       "    x.observe(outputEl, {childList: true});\n",
       "}}\n",
       "\n",
       "                        })                };                });            </script>        </div>"
      ]
     },
     "metadata": {},
     "output_type": "display_data"
    }
   ],
   "source": [
    "corr_matrix = df.corr()  # Строим корелляционную матрицу\n",
    "corr_matrix\n",
    "px.imshow(corr_matrix, range_color=[-1,1])"
   ]
  },
  {
   "cell_type": "markdown",
   "id": "bad84ee4-9526-4260-837f-aaded3319073",
   "metadata": {
    "jp-MarkdownHeadingCollapsed": true
   },
   "source": [
    "### 2.3.1. Зависимость между величинами"
   ]
  },
  {
   "cell_type": "code",
   "execution_count": 166,
   "id": "fa576ed0-05ae-4303-9c10-b50425d410c8",
   "metadata": {},
   "outputs": [
    {
     "data": {
      "image/png": "[encoded data removed]",
      "text/plain": [
       "<Figure size 640x480 with 2 Axes>"
      ]
     },
     "metadata": {},
     "output_type": "display_data"
    },
    {
     "data": {
      "image/png": "[encoded data removed]",
      "text/plain": [
       "<Figure size 640x480 with 2 Axes>"
      ]
     },
     "metadata": {},
     "output_type": "display_data"
    }
   ],
   "source": [
    "all_df.plot('age', 'survived', kind='hexbin', gridsize=20);\n",
    "all_df.plot('age', 'body', kind='hexbin', gridsize=15);"
   ]
  },
  {
   "cell_type": "code",
   "execution_count": 128,
   "id": "0389a458-f6c9-47ba-b9d8-4b35a8831c16",
   "metadata": {},
   "outputs": [
    {
     "data": {
      "image/png": "[encoded data removed]",
      "text/plain": [
       "<Figure size 1000x500 with 2 Axes>"
      ]
     },
     "metadata": {},
     "output_type": "display_data"
    }
   ],
   "source": [
    "numerical_df.boxplot(column=[\"fare\", 'age'], by='survived', layout=(1,2), figsize=(10,5), sharey=False);"
   ]
  },
  {
   "cell_type": "code",
   "execution_count": 140,
   "id": "be20ef0d-bd84-4da0-ac0e-3ce68017adfa",
   "metadata": {},
   "outputs": [
    {
     "data": {
      "image/png": "[encoded data removed]",
      "text/plain": [
       "<Figure size 640x480 with 1 Axes>"
      ]
     },
     "metadata": {},
     "output_type": "display_data"
    }
   ],
   "source": [
    "all_df.boxplot(column=['sibsp']);"
   ]
  },
  {
   "cell_type": "markdown",
   "id": "50a170ca-6118-47b2-a9d7-d24077841cef",
   "metadata": {
    "jp-MarkdownHeadingCollapsed": true
   },
   "source": [
    "### 2.3.2. Гистограмма значений"
   ]
  },
  {
   "cell_type": "code",
   "execution_count": 123,
   "id": "e17f808c-93a4-4d35-aba6-a5fab86468da",
   "metadata": {},
   "outputs": [
    {
     "data": {
      "image/png": "[encoded data removed]",
      "text/plain": [
       "<Figure size 1200x800 with 9 Axes>"
      ]
     },
     "metadata": {},
     "output_type": "display_data"
    }
   ],
   "source": [
    "all_df.hist(figsize=(12,8));"
   ]
  },
  {
   "cell_type": "markdown",
   "id": "03e4bce1-20f7-4c8c-ab6a-0e799a9f7302",
   "metadata": {
    "jp-MarkdownHeadingCollapsed": true
   },
   "source": [
    "### 2.3.3. Круговая диаграмма"
   ]
  },
  {
   "cell_type": "code",
   "execution_count": 219,
   "id": "29f7544f-2419-4d7d-b00c-5f7ed9f07b7f",
   "metadata": {},
   "outputs": [
    {
     "data": {
      "image/png": "[encoded data removed]",
      "text/plain": [
       "<Figure size 640x480 with 1 Axes>"
      ]
     },
     "metadata": {},
     "output_type": "display_data"
    }
   ],
   "source": [
    "# Лучше строить через Plotly\n",
    "all_df.groupby(\"sex\")[\"age\"].mean().plot(y='age', kind='pie');"
   ]
  },
  {
   "cell_type": "markdown",
   "id": "ce1b2e19-0606-4f05-bc91-6004fa59b199",
   "metadata": {},
   "source": [
    "### 2.3.4. Задание 3\n",
    "\n",
    "По датасету *Titanic* сделать следующие пункты:\n",
    "1. Найти столбец с самым большим количеством различных значений\n",
    "2. Найти столбец с самым большим количеством пропущенных значений и предложить методику его заполнения\n",
    "3. Построить круговую диаграмму соотношения выживших и нет, отдельно для мужчин и женщин"
   ]
  },
  {
   "cell_type": "code",
   "execution_count": null,
   "id": "6b78666e-bc03-4255-a959-8f5add549c5f",
   "metadata": {},
   "outputs": [],
   "source": [
    "df = pd.read_csv(\"data/Titanic.csv\")\n",
    "# YOUR CODE HERE\n"
   ]
  },
  {
   "cell_type": "code",
   "execution_count": null,
   "id": "2b01e9ba-03e4-4ffb-9246-20f120f7e7d2",
   "metadata": {},
   "outputs": [],
   "source": []
  }
 ],
 "metadata": {
  "kernelspec": {
   "display_name": "Python 3 (ipykernel)",
   "language": "python",
   "name": "python3"
  },
  "language_info": {
   "codemirror_mode": {
    "name": "ipython",
    "version": 3
   },
   "file_extension": ".py",
   "mimetype": "text/x-python",
   "name": "python",
   "nbconvert_exporter": "python",
   "pygments_lexer": "ipython3",
   "version": "3.11.5"
  }
 },
 "nbformat": 4,
 "nbformat_minor": 5
}
