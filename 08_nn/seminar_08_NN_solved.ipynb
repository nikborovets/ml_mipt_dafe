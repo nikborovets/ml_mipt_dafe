{
 "cells": [
  {
   "cell_type": "markdown",
   "metadata": {
    "id": "RUF68Fc70QVm"
   },
   "source": [
    "# Семинар 08 - Нейросети"
   ]
  },
  {
   "cell_type": "code",
   "execution_count": null,
   "metadata": {
    "id": "c2k0b73c-H6W"
   },
   "outputs": [],
   "source": [
    "!pip install torchvision"
   ]
  },
  {
   "cell_type": "code",
   "execution_count": 1,
   "metadata": {
    "ExecuteTime": {
     "end_time": "2020-02-28T00:59:42.103233Z",
     "start_time": "2020-02-28T00:59:42.099338Z"
    },
    "id": "bX7WKpm20QVp"
   },
   "outputs": [
    {
     "name": "stderr",
     "output_type": "stream",
     "text": [
      "D:\\Anaconda3\\Lib\\site-packages\\pandas\\core\\arrays\\masked.py:60: UserWarning: Pandas requires version '1.3.6' or newer of 'bottleneck' (version '1.3.5' currently installed).\n",
      "  from pandas.core import (\n"
     ]
    },
    {
     "name": "stdout",
     "output_type": "stream",
     "text": [
      "2.1.0+cu121\n"
     ]
    }
   ],
   "source": [
    "import pandas as pd\n",
    "import numpy as np\n",
    "from sklearn.metrics import accuracy_score\n",
    "import numpy as np\n",
    "import pandas as pd\n",
    "import matplotlib.pyplot as plt\n",
    "import matplotlib.pyplot as plt\n",
    "from tqdm import tqdm\n",
    "import warnings\n",
    "# warnings.simplefilter('ignore')\n",
    "import torch\n",
    "from torch.utils.data import DataLoader, Dataset, Subset\n",
    "import torchvision\n",
    "from torchvision import transforms\n",
    "from matplotlib import pyplot as plt\n",
    "import numpy as np\n",
    "from sklearn import datasets\n",
    "from sklearn.model_selection import train_test_split\n",
    "import torch\n",
    "print(torch.__version__)"
   ]
  },
  {
   "cell_type": "markdown",
   "metadata": {},
   "source": [
    "<a id=\"Content\"></a>\n",
    "# Содержание\n",
    "0. [Вспомним PyTorch](#0)\n",
    "1. [Подготовка данных](#1)\n",
    "2. [Определим архитектуру нейросети в PyTorch](#2)\n",
    "3. [Что мы можем улучшить?](#3)\n",
    "   - [Нормировка](#3.1)\n",
    "   - [Функции активации](#3.2)\n",
    "   - [Инициализация весов](#3.3)\n",
    "   - [Влияние метода оптимизации градиентного спуска](#3.4)\n",
    "   - [Влияние скорости обучения](#3.5)\n",
    "4. [Полезные ссылки](#4)"
   ]
  },
  {
   "cell_type": "markdown",
   "metadata": {
    "id": "kb0b0s_tw0ft"
   },
   "source": [
    "<a id=\"0\"></a>\n",
    "# 0. Вспомним PyTorch"
   ]
  },
  {
   "cell_type": "markdown",
   "metadata": {
    "id": "3F-2IcFB0QVu"
   },
   "source": [
    "Нахождение сложной производной\n",
    "\n",
    "Найдите производную по x от функции\n",
    "$$\\sin\\left(\\tan(x)\\frac{x^2}{y} + \\ln(e^{-x^2 + 3}+x^3y)\\right)\\tan(x^2e^{x^9})$$\n",
    "\n",
    "При этом надо пользоваться встроенным в PyTorch autograd. Численное вычисление производной может не дать нужный результат."
   ]
  },
  {
   "cell_type": "code",
   "execution_count": 12,
   "metadata": {
    "ExecuteTime": {
     "end_time": "2020-02-28T00:13:20.890514Z",
     "start_time": "2020-02-28T00:13:20.639022Z"
    },
    "id": "dicy-gHI0QVu"
   },
   "outputs": [],
   "source": [
    "def find_x_derivative(x, y):\n",
    "    x_with_grad = torch.tensor([float(x)], requires_grad=True)\n",
    "    y_with_grad = torch.tensor([float(y)], requires_grad=True)\n",
    "\n",
    "    z = torch.sin(torch.tan(x_with_grad)*(x_with_grad**2/y_with_grad) + torch.log(torch.exp(-x_with_grad**2+3) + y_with_grad*x_with_grad**3))*torch.tan(torch.exp(x_with_grad**9)*x_with_grad**2)\n",
    "    z.backward()\n",
    "\n",
    "    dz_dx = x_with_grad.grad\n",
    "    return dz_dx.item(), z"
   ]
  },
  {
   "cell_type": "code",
   "execution_count": 13,
   "metadata": {
    "id": "bDUuuezl4Ant"
   },
   "outputs": [
    {
     "data": {
      "text/plain": [
       "(-9.020709991455078, tensor([0.1239], grad_fn=<MulBackward0>))"
      ]
     },
     "execution_count": 13,
     "metadata": {},
     "output_type": "execute_result"
    }
   ],
   "source": [
    "find_x_derivative(1,21)"
   ]
  },
  {
   "cell_type": "markdown",
   "metadata": {
    "id": "E4WixrwoouOI"
   },
   "source": [
    "<a id=\"1\"></a>\n",
    "# 1. Подготовка данных"
   ]
  },
  {
   "cell_type": "markdown",
   "metadata": {
    "id": "zFXUhoLdsB8B"
   },
   "source": [
    "### В семинаре, будем использовать набор данных `fashion_mnist`, загрузим их"
   ]
  },
  {
   "cell_type": "code",
   "execution_count": 14,
   "metadata": {
    "id": "817LGj2touOJ"
   },
   "outputs": [],
   "source": [
    "from torchvision import datasets, transforms"
   ]
  },
  {
   "cell_type": "code",
   "execution_count": 16,
   "metadata": {
    "id": "_1yTnOKlouON"
   },
   "outputs": [
    {
     "name": "stdout",
     "output_type": "stream",
     "text": [
      "Downloading http://fashion-mnist.s3-website.eu-central-1.amazonaws.com/train-images-idx3-ubyte.gz\n",
      "Downloading http://fashion-mnist.s3-website.eu-central-1.amazonaws.com/train-images-idx3-ubyte.gz to C:\\Users\\Arina/.pytorch/F_MNIST_data/FashionMNIST\\raw\\train-images-idx3-ubyte.gz\n"
     ]
    },
    {
     "name": "stderr",
     "output_type": "stream",
     "text": [
      "100%|██████████████████████████████████████████████████████████████████| 26421880/26421880 [02:06<00:00, 209185.97it/s]\n"
     ]
    },
    {
     "name": "stdout",
     "output_type": "stream",
     "text": [
      "Extracting C:\\Users\\Arina/.pytorch/F_MNIST_data/FashionMNIST\\raw\\train-images-idx3-ubyte.gz to C:\\Users\\Arina/.pytorch/F_MNIST_data/FashionMNIST\\raw\n",
      "\n",
      "Downloading http://fashion-mnist.s3-website.eu-central-1.amazonaws.com/train-labels-idx1-ubyte.gz\n",
      "Downloading http://fashion-mnist.s3-website.eu-central-1.amazonaws.com/train-labels-idx1-ubyte.gz to C:\\Users\\Arina/.pytorch/F_MNIST_data/FashionMNIST\\raw\\train-labels-idx1-ubyte.gz\n"
     ]
    },
    {
     "name": "stderr",
     "output_type": "stream",
     "text": [
      "100%|████████████████████████████████████████████████████████████████████████| 29515/29515 [00:00<00:00, 348378.43it/s]\n"
     ]
    },
    {
     "name": "stdout",
     "output_type": "stream",
     "text": [
      "Extracting C:\\Users\\Arina/.pytorch/F_MNIST_data/FashionMNIST\\raw\\train-labels-idx1-ubyte.gz to C:\\Users\\Arina/.pytorch/F_MNIST_data/FashionMNIST\\raw\n",
      "\n",
      "Downloading http://fashion-mnist.s3-website.eu-central-1.amazonaws.com/t10k-images-idx3-ubyte.gz\n",
      "Downloading http://fashion-mnist.s3-website.eu-central-1.amazonaws.com/t10k-images-idx3-ubyte.gz to C:\\Users\\Arina/.pytorch/F_MNIST_data/FashionMNIST\\raw\\t10k-images-idx3-ubyte.gz\n"
     ]
    },
    {
     "name": "stderr",
     "output_type": "stream",
     "text": [
      "100%|████████████████████████████████████████████████████████████████████| 4422102/4422102 [00:19<00:00, 222112.75it/s]\n"
     ]
    },
    {
     "name": "stdout",
     "output_type": "stream",
     "text": [
      "Extracting C:\\Users\\Arina/.pytorch/F_MNIST_data/FashionMNIST\\raw\\t10k-images-idx3-ubyte.gz to C:\\Users\\Arina/.pytorch/F_MNIST_data/FashionMNIST\\raw\n",
      "\n",
      "Downloading http://fashion-mnist.s3-website.eu-central-1.amazonaws.com/t10k-labels-idx1-ubyte.gz\n",
      "Downloading http://fashion-mnist.s3-website.eu-central-1.amazonaws.com/t10k-labels-idx1-ubyte.gz to C:\\Users\\Arina/.pytorch/F_MNIST_data/FashionMNIST\\raw\\t10k-labels-idx1-ubyte.gz\n"
     ]
    },
    {
     "name": "stderr",
     "output_type": "stream",
     "text": [
      "100%|██████████████████████████████████████████████████████████████████████████████████████| 5148/5148 [00:00<?, ?it/s]\n"
     ]
    },
    {
     "name": "stdout",
     "output_type": "stream",
     "text": [
      "Extracting C:\\Users\\Arina/.pytorch/F_MNIST_data/FashionMNIST\\raw\\t10k-labels-idx1-ubyte.gz to C:\\Users\\Arina/.pytorch/F_MNIST_data/FashionMNIST\\raw\n",
      "\n"
     ]
    }
   ],
   "source": [
    "trainset = datasets.FashionMNIST('~/.pytorch/F_MNIST_data/', train = True, download=True)"
   ]
  },
  {
   "cell_type": "code",
   "execution_count": 17,
   "metadata": {
    "id": "5Y_gHUUaouOQ"
   },
   "outputs": [],
   "source": [
    "testset = datasets.FashionMNIST('~/.pytorch/F_MNIST_data/', train = False, download = True)"
   ]
  },
  {
   "cell_type": "code",
   "execution_count": 18,
   "metadata": {
    "id": "M-yhD9MIouOT"
   },
   "outputs": [],
   "source": [
    "num_classes = len(trainset.classes)"
   ]
  },
  {
   "cell_type": "code",
   "execution_count": 19,
   "metadata": {
    "id": "IwATUm42gW3I"
   },
   "outputs": [
    {
     "data": {
      "text/plain": [
       "['T-shirt/top',\n",
       " 'Trouser',\n",
       " 'Pullover',\n",
       " 'Dress',\n",
       " 'Coat',\n",
       " 'Sandal',\n",
       " 'Shirt',\n",
       " 'Sneaker',\n",
       " 'Bag',\n",
       " 'Ankle boot']"
      ]
     },
     "execution_count": 19,
     "metadata": {},
     "output_type": "execute_result"
    }
   ],
   "source": [
    "trainset.classes"
   ]
  },
  {
   "cell_type": "code",
   "execution_count": 21,
   "metadata": {
    "id": "tw3moMZ4ouOW"
   },
   "outputs": [],
   "source": [
    "x_train = trainset.data\n",
    "y_train = trainset.targets\n",
    "\n",
    "x_test = testset.data\n",
    "y_test = testset.targets"
   ]
  },
  {
   "cell_type": "code",
   "execution_count": 22,
   "metadata": {
    "id": "9BOoVSZBouOZ"
   },
   "outputs": [
    {
     "data": {
      "image/png": "[encoded data removed]",
      "text/plain": [
       "<Figure size 1500x500 with 10 Axes>"
      ]
     },
     "metadata": {},
     "output_type": "display_data"
    }
   ],
   "source": [
    "fig = plt.figure(figsize=(15,5))\n",
    "for i in range(num_classes):\n",
    "    ax = fig.add_subplot(2, 5, 1 + i, xticks=[], yticks=[])\n",
    "    idx = np.where(y_train[:]==i)[0]\n",
    "    features_idx = x_train[idx,::]\n",
    "    img_num = np.random.randint(features_idx.shape[0])\n",
    "    im = features_idx[img_num]\n",
    "    ax.set_title(trainset.classes[i])\n",
    "    plt.imshow(im, cmap='gray_r')\n",
    "plt.show()"
   ]
  },
  {
   "cell_type": "markdown",
   "metadata": {
    "id": "XEwx6Wp4ouOc"
   },
   "source": [
    "### Проведем небольшие предобработки"
   ]
  },
  {
   "cell_type": "code",
   "execution_count": 23,
   "metadata": {
    "id": "d1swzXaqouOc"
   },
   "outputs": [
    {
     "name": "stdout",
     "output_type": "stream",
     "text": [
      "Была размерность: torch.Size([60000, 28, 28]), стала: torch.Size([60000, 784])\n",
      "Была размерность: torch.Size([10000, 28, 28]), стала: torch.Size([10000, 784])\n"
     ]
    }
   ],
   "source": [
    "x_train_flat = x_train.flatten(start_dim=1).float()\n",
    "x_test_flat = x_test.flatten(start_dim=1).float()\n",
    "print(f'Была размерность: {x_train.shape}, стала: {x_train_flat.shape}')\n",
    "print(f'Была размерность: {x_test.shape}, стала: {x_test_flat.shape}')"
   ]
  },
  {
   "cell_type": "code",
   "execution_count": 24,
   "metadata": {
    "id": "2eXoS2gMouOf"
   },
   "outputs": [],
   "source": [
    "D_out = num_classes\n",
    "D_in = x_train_flat.shape[1]"
   ]
  },
  {
   "cell_type": "markdown",
   "metadata": {
    "id": "5ZYEiMQ3DpVB"
   },
   "source": [
    "<a id=\"2\"></a>\n",
    "# 2. Определим архитектуру нейросети в PyTorch\n",
    "\n",
    "Вариантов определения архитектуры много, рассмотрим 2 наиболее популярных варианта"
   ]
  },
  {
   "cell_type": "code",
   "execution_count": 25,
   "metadata": {
    "id": "9C-YR6PGouOh"
   },
   "outputs": [],
   "source": [
    "model = torch.nn.Sequential(\n",
    "    torch.nn.Linear(D_in, 128),\n",
    "    torch.nn.Sigmoid(),\n",
    "    torch.nn.Linear(128, 10),\n",
    "    torch.nn.Sigmoid(),\n",
    "    torch.nn.Linear(10, D_out),\n",
    "    torch.nn.Softmax(dim=1)\n",
    ")"
   ]
  },
  {
   "cell_type": "code",
   "execution_count": 26,
   "metadata": {
    "id": "3Uv5d7YFouOp"
   },
   "outputs": [],
   "source": [
    "import torch.nn.functional as F\n",
    "\n",
    "class Model(torch.nn.Module):\n",
    "    def __init__(self):\n",
    "        super(Model, self).__init__()\n",
    "        self.fc1 = torch.nn.Linear(D_in, 128)\n",
    "        self.act1 = torch.nn.Sigmoid()\n",
    "        self.fc2 = torch.nn.Linear(128, 10)\n",
    "        self.act2 = torch.nn.Sigmoid()\n",
    "        self.fc3 = torch.nn.Linear(10, D_out)\n",
    "        self.act3 = torch.nn.Softmax(dim=1)\n",
    "\n",
    "    def forward(self, x):\n",
    "        x = self.fc1(x)\n",
    "        x = self.act1(x)\n",
    "        x = self.fc2(x)\n",
    "        x = self.act2(x)\n",
    "        x = self.fc3(x)\n",
    "        x = self.act3(x)\n",
    "        return x\n",
    "\n",
    "model = Model()"
   ]
  },
  {
   "cell_type": "code",
   "execution_count": 27,
   "metadata": {
    "id": "IL0biu-EouOr"
   },
   "outputs": [
    {
     "data": {
      "text/plain": [
       "Model(\n",
       "  (fc1): Linear(in_features=784, out_features=128, bias=True)\n",
       "  (act1): Sigmoid()\n",
       "  (fc2): Linear(in_features=128, out_features=10, bias=True)\n",
       "  (act2): Sigmoid()\n",
       "  (fc3): Linear(in_features=10, out_features=10, bias=True)\n",
       "  (act3): Softmax(dim=1)\n",
       ")"
      ]
     },
     "execution_count": 27,
     "metadata": {},
     "output_type": "execute_result"
    }
   ],
   "source": [
    "model"
   ]
  },
  {
   "cell_type": "code",
   "execution_count": 28,
   "metadata": {
    "id": "X1JmI-2fouOu"
   },
   "outputs": [],
   "source": [
    "# Forward pass: compute predicted y by passing x to the model. Module objects\n",
    "# override the __call__ operator so you can call them like functions. When\n",
    "# doing so you pass a Tensor of input data to the Module and it produces\n",
    "# a Tensor of output data.\n",
    "y_pred = model(x_train_flat)"
   ]
  },
  {
   "cell_type": "code",
   "execution_count": 29,
   "metadata": {
    "id": "aJtuDQ6sjvea"
   },
   "outputs": [
    {
     "data": {
      "text/plain": [
       "torch.Size([60000, 10])"
      ]
     },
     "execution_count": 29,
     "metadata": {},
     "output_type": "execute_result"
    }
   ],
   "source": [
    "y_pred.shape"
   ]
  },
  {
   "cell_type": "code",
   "execution_count": 30,
   "metadata": {
    "id": "c5JD6xWqouOw"
   },
   "outputs": [],
   "source": [
    "loss_fn = torch.nn.CrossEntropyLoss()"
   ]
  },
  {
   "cell_type": "code",
   "execution_count": 31,
   "metadata": {
    "id": "KWHhi6hTiVOB"
   },
   "outputs": [
    {
     "data": {
      "text/plain": [
       "tensor(2.3027, grad_fn=<NllLossBackward0>)"
      ]
     },
     "execution_count": 31,
     "metadata": {},
     "output_type": "execute_result"
    }
   ],
   "source": [
    "# Compute and print loss. We pass Tensors containing the predicted and true\n",
    "# values of y, and the loss function returns a Tensor containing the\n",
    "# loss.\n",
    "loss_old = loss_fn(y_pred, y_train)\n",
    "loss_old"
   ]
  },
  {
   "cell_type": "code",
   "execution_count": 32,
   "metadata": {
    "id": "bK5o-0gNihzV"
   },
   "outputs": [
    {
     "data": {
      "text/plain": [
       "0.1412"
      ]
     },
     "execution_count": 32,
     "metadata": {},
     "output_type": "execute_result"
    }
   ],
   "source": [
    "acc_old = accuracy_score(y_train.numpy(), y_pred.argmax(dim=1))\n",
    "acc_old"
   ]
  },
  {
   "cell_type": "code",
   "execution_count": 33,
   "metadata": {
    "id": "KM8oRGwlih2f"
   },
   "outputs": [],
   "source": [
    "# Zero the gradients before running the backward pass.\n",
    "model.zero_grad()"
   ]
  },
  {
   "cell_type": "code",
   "execution_count": 34,
   "metadata": {
    "id": "4DqxPMqRih5L"
   },
   "outputs": [],
   "source": [
    "# Backward pass: compute gradient of the loss with respect to all the learnable\n",
    "# parameters of the model. Internally, the parameters of each Module are stored\n",
    "# in Tensors with requires_grad=True, so this call will compute gradients for\n",
    "# all learnable parameters in the model.\n",
    "loss_old.backward()"
   ]
  },
  {
   "cell_type": "code",
   "execution_count": 35,
   "metadata": {
    "id": "loqaoy8Zi1PH"
   },
   "outputs": [],
   "source": [
    "learning_rate = 1e-2"
   ]
  },
  {
   "cell_type": "markdown",
   "metadata": {},
   "source": [
    "**Задание 0:** Обновите веса, используя градиентный спуск. \n",
    "\n",
    "*Hint:* Каждый параметр - это тензор из PyTorch, так что градиенты можно получить так же, как мы это делали в начале семинара. Параметры для обновления хранятся в model.parameters()"
   ]
  },
  {
   "cell_type": "code",
   "execution_count": 40,
   "metadata": {
    "id": "C1fPGyDKiw-U"
   },
   "outputs": [],
   "source": [
    "# Update the weights using gradient descent. Each parameter is a Tensor, so\n",
    "# we can access its gradients like we did before.\n",
    "with torch.no_grad():\n",
    "    # YOUR CODE HERE\n",
    "    for param in model.parameters():\n",
    "        param -= learning_rate*param.grad"
   ]
  },
  {
   "cell_type": "code",
   "execution_count": 41,
   "metadata": {
    "id": "JSIGz0wnixBE"
   },
   "outputs": [
    {
     "name": "stdout",
     "output_type": "stream",
     "text": [
      "Лосс: 2.302731990814209 -> 2.3027126789093018. Step -1.9311904907226562e-05 \n",
      "Accuracy: 0.1412 -> 0.14226666666666668\n"
     ]
    }
   ],
   "source": [
    "y_pred = model(x_train_flat.float())\n",
    "loss_new = loss_fn(y_pred, y_train)\n",
    "step = loss_new.item()-loss_old.item()\n",
    "\n",
    "acc_new = accuracy_score(y_train, y_pred.argmax(dim=1))\n",
    "\n",
    "print(f'Лосс: {loss_old.item()} -> {loss_new.item()}. Step {step} ')\n",
    "print(f'Accuracy: {acc_old} -> {acc_new}')"
   ]
  },
  {
   "cell_type": "markdown",
   "metadata": {},
   "source": [
    "**Задание 1:** Реализуйте обучение модели на одном батче."
   ]
  },
  {
   "cell_type": "code",
   "execution_count": 42,
   "metadata": {
    "id": "tFGhystlouO1"
   },
   "outputs": [],
   "source": [
    "def batch_train(model, loss_fn, learning_rate, x, y):\n",
    "    # YOUR CODE HERE\n",
    "    \n",
    "    y_pred = model(x)\n",
    "    loss = loss_fn(y_pred, y)\n",
    "\n",
    "    model.zero_grad()\n",
    "    loss.backward()\n",
    "\n",
    "    with torch.no_grad():\n",
    "        for param in model.parameters():\n",
    "            param -= learning_rate*param.grad\n",
    "\n",
    "    return(loss.item())"
   ]
  },
  {
   "cell_type": "code",
   "execution_count": 43,
   "metadata": {
    "id": "nG1SImTaouO3"
   },
   "outputs": [],
   "source": [
    "def train(model, n_epochs, batch_size, learning_rate,  X, y, X_test, y_test):\n",
    "    acc_train_all = []\n",
    "    loss_train_all = []\n",
    "    acc_test_all = []\n",
    "    loss_test_all = []\n",
    "\n",
    "    for epoch in range(n_epochs):\n",
    "\n",
    "        permutation = torch.randperm(X.size()[0])\n",
    "\n",
    "        for i in tqdm(range(0,X.float().size()[0], batch_size)):\n",
    "            indices = permutation[i:i+batch_size]\n",
    "            batch_x, batch_y = X[indices], y[indices]\n",
    "            batch_train(model, loss_fn, learning_rate, batch_x, batch_y)\n",
    "\n",
    "        y_test_pred = model(X_test)\n",
    "        y_train_pred = model(X)\n",
    "\n",
    "\n",
    "        acc_train = accuracy_score(y, y_train_pred.argmax(dim=1))\n",
    "        loss_train = loss_fn(y_train_pred, y).detach()\n",
    "        acc_test = accuracy_score(y_test, y_test_pred.argmax(dim=1))\n",
    "        loss_test = loss_fn(y_test_pred, y_test).detach()\n",
    "\n",
    "        acc_train_all = np.append(acc_train_all, acc_train)\n",
    "        loss_train_all = np.append(loss_train_all, loss_train)\n",
    "        acc_test_all = np.append(acc_test_all, acc_test)\n",
    "        loss_test_all = np.append(loss_test_all, loss_test)\n",
    "\n",
    "\n",
    "        print(f'Epoch {epoch}: \\n Accuracy - train: {acc_train} | test: {acc_test} \\n Loss - train: {loss_train} | test: {loss_test}')\n",
    "\n",
    "    return(acc_train_all, loss_train_all, acc_test_all, loss_test_all)"
   ]
  },
  {
   "cell_type": "code",
   "execution_count": 44,
   "metadata": {
    "id": "tvQm6qs8ouO6",
    "scrolled": true
   },
   "outputs": [
    {
     "name": "stderr",
     "output_type": "stream",
     "text": [
      "100%|██████████████████████████████████████████████████████████████████████████████████| 60/60 [00:00<00:00, 69.06it/s]\n"
     ]
    },
    {
     "name": "stdout",
     "output_type": "stream",
     "text": [
      "Epoch 0: \n",
      " Accuracy - train: 0.25965 | test: 0.2589 \n",
      " Loss - train: 2.227034330368042 | test: 2.2273666858673096\n"
     ]
    },
    {
     "name": "stderr",
     "output_type": "stream",
     "text": [
      "100%|██████████████████████████████████████████████████████████████████████████████████| 60/60 [00:00<00:00, 71.56it/s]\n"
     ]
    },
    {
     "name": "stdout",
     "output_type": "stream",
     "text": [
      "Epoch 1: \n",
      " Accuracy - train: 0.3740833333333333 | test: 0.3733 \n",
      " Loss - train: 2.134512424468994 | test: 2.13554310798645\n"
     ]
    },
    {
     "name": "stderr",
     "output_type": "stream",
     "text": [
      "100%|██████████████████████████████████████████████████████████████████████████████████| 60/60 [00:00<00:00, 84.77it/s]\n"
     ]
    },
    {
     "name": "stdout",
     "output_type": "stream",
     "text": [
      "Epoch 2: \n",
      " Accuracy - train: 0.3789666666666667 | test: 0.3783 \n",
      " Loss - train: 2.065671682357788 | test: 2.066765546798706\n"
     ]
    },
    {
     "name": "stderr",
     "output_type": "stream",
     "text": [
      "100%|██████████████████████████████████████████████████████████████████████████████████| 60/60 [00:00<00:00, 89.02it/s]\n"
     ]
    },
    {
     "name": "stdout",
     "output_type": "stream",
     "text": [
      "Epoch 3: \n",
      " Accuracy - train: 0.5327333333333333 | test: 0.5297 \n",
      " Loss - train: 1.9956474304199219 | test: 1.99802827835083\n"
     ]
    },
    {
     "name": "stderr",
     "output_type": "stream",
     "text": [
      "100%|██████████████████████████████████████████████████████████████████████████████████| 60/60 [00:00<00:00, 90.96it/s]\n"
     ]
    },
    {
     "name": "stdout",
     "output_type": "stream",
     "text": [
      "Epoch 4: \n",
      " Accuracy - train: 0.62615 | test: 0.6239 \n",
      " Loss - train: 1.9300154447555542 | test: 1.932651400566101\n"
     ]
    },
    {
     "name": "stderr",
     "output_type": "stream",
     "text": [
      "100%|██████████████████████████████████████████████████████████████████████████████████| 60/60 [00:00<00:00, 89.29it/s]\n"
     ]
    },
    {
     "name": "stdout",
     "output_type": "stream",
     "text": [
      "Epoch 5: \n",
      " Accuracy - train: 0.6395666666666666 | test: 0.6376 \n",
      " Loss - train: 1.8834114074707031 | test: 1.8862154483795166\n"
     ]
    },
    {
     "name": "stderr",
     "output_type": "stream",
     "text": [
      "100%|██████████████████████████████████████████████████████████████████████████████████| 60/60 [00:00<00:00, 84.96it/s]\n"
     ]
    },
    {
     "name": "stdout",
     "output_type": "stream",
     "text": [
      "Epoch 6: \n",
      " Accuracy - train: 0.6358666666666667 | test: 0.6316 \n",
      " Loss - train: 1.871086597442627 | test: 1.8748213052749634\n"
     ]
    },
    {
     "name": "stderr",
     "output_type": "stream",
     "text": [
      "100%|██████████████████████████████████████████████████████████████████████████████████| 60/60 [00:00<00:00, 84.87it/s]\n"
     ]
    },
    {
     "name": "stdout",
     "output_type": "stream",
     "text": [
      "Epoch 7: \n",
      " Accuracy - train: 0.6415666666666666 | test: 0.638 \n",
      " Loss - train: 1.8543145656585693 | test: 1.858101725578308\n"
     ]
    },
    {
     "name": "stderr",
     "output_type": "stream",
     "text": [
      "100%|██████████████████████████████████████████████████████████████████████████████████| 60/60 [00:00<00:00, 92.14it/s]\n"
     ]
    },
    {
     "name": "stdout",
     "output_type": "stream",
     "text": [
      "Epoch 8: \n",
      " Accuracy - train: 0.6378166666666667 | test: 0.6323 \n",
      " Loss - train: 1.854641318321228 | test: 1.8586902618408203\n"
     ]
    },
    {
     "name": "stderr",
     "output_type": "stream",
     "text": [
      "100%|██████████████████████████████████████████████████████████████████████████████████| 60/60 [00:00<00:00, 86.10it/s]\n"
     ]
    },
    {
     "name": "stdout",
     "output_type": "stream",
     "text": [
      "Epoch 9: \n",
      " Accuracy - train: 0.6429666666666667 | test: 0.6379 \n",
      " Loss - train: 1.8463393449783325 | test: 1.8506661653518677\n"
     ]
    }
   ],
   "source": [
    "n_epochs = 10\n",
    "batch_size = 1000\n",
    "learning_rate = 1\n",
    "model = Model()\n",
    "acc_train_all, loss_train_all, acc_test_all, loss_test_all = \\\n",
    "          train(model, n_epochs, batch_size, learning_rate, x_train_flat, y_train, x_test_flat, y_test)\n"
   ]
  },
  {
   "cell_type": "code",
   "execution_count": 45,
   "metadata": {
    "id": "xUytpKIuouO9"
   },
   "outputs": [],
   "source": [
    "def vis_history(acc_train_all, loss_train_all, acc_test_all, loss_test_all):\n",
    "    fig = plt.figure(figsize=(16, 4))\n",
    "\n",
    "    plt.subplot(1, 2, 1)\n",
    "\n",
    "    plt.plot(loss_train_all, label='loss')\n",
    "    plt.plot(loss_test_all, label='val_loss')\n",
    "\n",
    "    plt.legend()\n",
    "\n",
    "    plt.subplot(1, 2, 2)\n",
    "    plt.plot(acc_train_all, label='acc')\n",
    "    plt.plot(acc_test_all, label='val_acc')\n",
    "\n",
    "    plt.legend()\n",
    "    plt.show()"
   ]
  },
  {
   "cell_type": "code",
   "execution_count": 46,
   "metadata": {
    "id": "rchVUmigouO_"
   },
   "outputs": [
    {
     "data": {
      "image/png": "[encoded data removed]",
      "text/plain": [
       "<Figure size 1600x400 with 2 Axes>"
      ]
     },
     "metadata": {},
     "output_type": "display_data"
    }
   ],
   "source": [
    "vis_history(acc_train_all, loss_train_all, acc_test_all, loss_test_all)"
   ]
  },
  {
   "cell_type": "markdown",
   "metadata": {
    "id": "sdDt8drzouPE"
   },
   "source": [
    "<a id=\"3\"></a>\n",
    "# 3. Что мы можем улучшить?\n",
    "- Отнормировать признаки\n",
    "- Задать правила инициации весов\n",
    "- Выбрать функцию активации\n",
    "- Настроить скорость обучения"
   ]
  },
  {
   "cell_type": "markdown",
   "metadata": {
    "id": "EZWTYU3xouPE"
   },
   "source": [
    "<a id=\"3.1\"></a>\n",
    "## 3.1. Нормировка\n",
    "![picture](img/normalize.png)\n",
    "\n",
    "![img](img/batch_norm.png)"
   ]
  },
  {
   "cell_type": "code",
   "execution_count": 47,
   "metadata": {
    "id": "-D5UHislr4HQ"
   },
   "outputs": [],
   "source": [
    "import torch.nn.functional as F\n",
    "\n",
    "class ModelNorm(torch.nn.Module):\n",
    "    def __init__(self):\n",
    "        super(ModelNorm, self).__init__()\n",
    "        self.act1 = torch.nn.Sigmoid()\n",
    "        self.fc1 = torch.nn.Linear(D_in, 128)\n",
    "        self.bn1 = torch.nn.BatchNorm1d(128)\n",
    "        self.fc2 = torch.nn.Linear(128, 10)\n",
    "        self.bn2 = torch.nn.BatchNorm1d(10)\n",
    "        self.fc3 = torch.nn.Linear(10, D_out)\n",
    "        self.act2 = torch.nn.Softmax(dim=1)\n",
    "\n",
    "    def forward(self, x):\n",
    "        x = self.fc1(x)\n",
    "        x = self.bn1(x)\n",
    "        x = self.act1(x)\n",
    "        x = self.fc2(x)\n",
    "        x = self.bn2(x)\n",
    "        x = self.act1(x)\n",
    "        x = self.fc3(x)\n",
    "        x = self.act2(x)\n",
    "        return x\n",
    "\n",
    "model_norm = ModelNorm()"
   ]
  },
  {
   "cell_type": "code",
   "execution_count": 48,
   "metadata": {
    "id": "DDCj3aJBouPF"
   },
   "outputs": [],
   "source": [
    "mean = x_train_flat.mean()\n",
    "std = x_train_flat.std()\n",
    "\n",
    "x_train_norm = (x_train_flat - mean) / std\n",
    "x_test_norm = (x_test_flat - mean) / std"
   ]
  },
  {
   "cell_type": "code",
   "execution_count": 49,
   "metadata": {
    "id": "EkqCvSZzouPJ"
   },
   "outputs": [
    {
     "data": {
      "text/plain": [
       "(tensor(2.0224), tensor(-0.8103))"
      ]
     },
     "execution_count": 49,
     "metadata": {},
     "output_type": "execute_result"
    }
   ],
   "source": [
    "x_train_norm.max(), x_train_norm.min()"
   ]
  },
  {
   "cell_type": "code",
   "execution_count": 50,
   "metadata": {
    "id": "j8efS67TuNmA"
   },
   "outputs": [
    {
     "name": "stderr",
     "output_type": "stream",
     "text": [
      "100%|██████████████████████████████████████████████████████████████████████████████████| 60/60 [00:00<00:00, 99.81it/s]\n"
     ]
    },
    {
     "name": "stdout",
     "output_type": "stream",
     "text": [
      "Epoch 0: \n",
      " Accuracy - train: 0.3878 | test: 0.3872 \n",
      " Loss - train: 2.2111189365386963 | test: 2.21232271194458\n"
     ]
    },
    {
     "name": "stderr",
     "output_type": "stream",
     "text": [
      "100%|█████████████████████████████████████████████████████████████████████████████████| 60/60 [00:00<00:00, 147.38it/s]\n"
     ]
    },
    {
     "name": "stdout",
     "output_type": "stream",
     "text": [
      "Epoch 1: \n",
      " Accuracy - train: 0.45753333333333335 | test: 0.4537 \n",
      " Loss - train: 2.067929267883301 | test: 2.070427417755127\n"
     ]
    },
    {
     "name": "stderr",
     "output_type": "stream",
     "text": [
      "100%|█████████████████████████████████████████████████████████████████████████████████| 60/60 [00:00<00:00, 128.37it/s]\n"
     ]
    },
    {
     "name": "stdout",
     "output_type": "stream",
     "text": [
      "Epoch 2: \n",
      " Accuracy - train: 0.4684833333333333 | test: 0.4679 \n",
      " Loss - train: 2.000011444091797 | test: 2.0030593872070312\n"
     ]
    },
    {
     "name": "stderr",
     "output_type": "stream",
     "text": [
      "100%|█████████████████████████████████████████████████████████████████████████████████| 60/60 [00:00<00:00, 147.03it/s]\n"
     ]
    },
    {
     "name": "stdout",
     "output_type": "stream",
     "text": [
      "Epoch 3: \n",
      " Accuracy - train: 0.5506333333333333 | test: 0.5484 \n",
      " Loss - train: 1.9582312107086182 | test: 1.9610683917999268\n"
     ]
    },
    {
     "name": "stderr",
     "output_type": "stream",
     "text": [
      "100%|█████████████████████████████████████████████████████████████████████████████████| 60/60 [00:00<00:00, 135.47it/s]\n"
     ]
    },
    {
     "name": "stdout",
     "output_type": "stream",
     "text": [
      "Epoch 4: \n",
      " Accuracy - train: 0.60455 | test: 0.6023 \n",
      " Loss - train: 1.9093281030654907 | test: 1.9127696752548218\n"
     ]
    },
    {
     "name": "stderr",
     "output_type": "stream",
     "text": [
      "100%|█████████████████████████████████████████████████████████████████████████████████| 60/60 [00:00<00:00, 152.64it/s]\n"
     ]
    },
    {
     "name": "stdout",
     "output_type": "stream",
     "text": [
      "Epoch 5: \n",
      " Accuracy - train: 0.65345 | test: 0.6483 \n",
      " Loss - train: 1.8521257638931274 | test: 1.8569265604019165\n"
     ]
    },
    {
     "name": "stderr",
     "output_type": "stream",
     "text": [
      "100%|█████████████████████████████████████████████████████████████████████████████████| 60/60 [00:00<00:00, 151.07it/s]\n"
     ]
    },
    {
     "name": "stdout",
     "output_type": "stream",
     "text": [
      "Epoch 6: \n",
      " Accuracy - train: 0.73195 | test: 0.7293 \n",
      " Loss - train: 1.7944165468215942 | test: 1.7992589473724365\n"
     ]
    },
    {
     "name": "stderr",
     "output_type": "stream",
     "text": [
      "100%|█████████████████████████████████████████████████████████████████████████████████| 60/60 [00:00<00:00, 145.08it/s]\n"
     ]
    },
    {
     "name": "stdout",
     "output_type": "stream",
     "text": [
      "Epoch 7: \n",
      " Accuracy - train: 0.73695 | test: 0.7306 \n",
      " Loss - train: 1.764586329460144 | test: 1.7707300186157227\n"
     ]
    },
    {
     "name": "stderr",
     "output_type": "stream",
     "text": [
      "100%|█████████████████████████████████████████████████████████████████████████████████| 60/60 [00:00<00:00, 133.94it/s]\n"
     ]
    },
    {
     "name": "stdout",
     "output_type": "stream",
     "text": [
      "Epoch 8: \n",
      " Accuracy - train: 0.7403333333333333 | test: 0.7334 \n",
      " Loss - train: 1.749241828918457 | test: 1.7559974193572998\n"
     ]
    },
    {
     "name": "stderr",
     "output_type": "stream",
     "text": [
      "100%|█████████████████████████████████████████████████████████████████████████████████| 60/60 [00:00<00:00, 121.38it/s]\n"
     ]
    },
    {
     "name": "stdout",
     "output_type": "stream",
     "text": [
      "Epoch 9: \n",
      " Accuracy - train: 0.74935 | test: 0.7413 \n",
      " Loss - train: 1.7389168739318848 | test: 1.7470479011535645\n"
     ]
    }
   ],
   "source": [
    "n_epochs = 10\n",
    "batch_size = 1000\n",
    "learning_rate = 1\n",
    "acc_train_all, loss_train_all, acc_test_all, loss_test_all = train(model_norm, n_epochs, batch_size, learning_rate,\n",
    "                                                                   x_train_norm, y_train, x_test_norm, y_test)\n"
   ]
  },
  {
   "cell_type": "code",
   "execution_count": 51,
   "metadata": {
    "id": "gm1OG8zyuNmC"
   },
   "outputs": [
    {
     "data": {
      "image/png": "[encoded data removed]",
      "text/plain": [
       "<Figure size 1600x400 with 2 Axes>"
      ]
     },
     "metadata": {},
     "output_type": "display_data"
    }
   ],
   "source": [
    "vis_history(acc_train_all, loss_train_all, acc_test_all, loss_test_all)"
   ]
  },
  {
   "cell_type": "markdown",
   "metadata": {
    "id": "eo3z_0ojqYaN"
   },
   "source": [
    "<a id=\"3.2\"></a>\n",
    "## 3.2. Функции активации\n",
    "![picture](img/activations.png)"
   ]
  },
  {
   "cell_type": "code",
   "execution_count": 52,
   "metadata": {
    "id": "yL5kSrl7wGT-"
   },
   "outputs": [],
   "source": [
    "class ModelReLU(torch.nn.Module):\n",
    "    def __init__(self):\n",
    "        super(ModelReLU, self).__init__()\n",
    "        self.act1 = torch.nn.ReLU()\n",
    "        self.fc1 = torch.nn.Linear(D_in, 128)\n",
    "        self.bn1 = torch.nn.BatchNorm1d(128)\n",
    "        self.fc2 = torch.nn.Linear(128, 10)\n",
    "        self.bn2 = torch.nn.BatchNorm1d(10)\n",
    "        self.fc3 = torch.nn.Linear(10, D_out)\n",
    "        self.act2 = torch.nn.Softmax(dim=1)\n",
    "\n",
    "    def forward(self, x):\n",
    "        x = self.fc1(x)\n",
    "        x = self.bn1(x)\n",
    "        x = self.act1(x)\n",
    "        x = self.fc2(x)\n",
    "        x = self.bn2(x)\n",
    "        x = self.act1(x)\n",
    "        x = self.fc3(x)\n",
    "        x = self.act2(x)\n",
    "        return x\n",
    "\n",
    "model_relu = ModelReLU()"
   ]
  },
  {
   "cell_type": "code",
   "execution_count": 53,
   "metadata": {
    "id": "IVgMmIa0wGUD"
   },
   "outputs": [
    {
     "name": "stderr",
     "output_type": "stream",
     "text": [
      "100%|█████████████████████████████████████████████████████████████████████████████████| 60/60 [00:00<00:00, 111.17it/s]\n"
     ]
    },
    {
     "name": "stdout",
     "output_type": "stream",
     "text": [
      "Epoch 0: \n",
      " Accuracy - train: 0.5498 | test: 0.5446 \n",
      " Loss - train: 1.8816039562225342 | test: 1.888225793838501\n"
     ]
    },
    {
     "name": "stderr",
     "output_type": "stream",
     "text": [
      "100%|█████████████████████████████████████████████████████████████████████████████████| 60/60 [00:00<00:00, 146.33it/s]\n"
     ]
    },
    {
     "name": "stdout",
     "output_type": "stream",
     "text": [
      "Epoch 1: \n",
      " Accuracy - train: 0.7756166666666666 | test: 0.7636 \n",
      " Loss - train: 1.7249199151992798 | test: 1.7356572151184082\n"
     ]
    },
    {
     "name": "stderr",
     "output_type": "stream",
     "text": [
      "100%|█████████████████████████████████████████████████████████████████████████████████| 60/60 [00:00<00:00, 146.16it/s]\n"
     ]
    },
    {
     "name": "stdout",
     "output_type": "stream",
     "text": [
      "Epoch 2: \n",
      " Accuracy - train: 0.8434 | test: 0.8266 \n",
      " Loss - train: 1.6679275035858154 | test: 1.6822938919067383\n"
     ]
    },
    {
     "name": "stderr",
     "output_type": "stream",
     "text": [
      "100%|█████████████████████████████████████████████████████████████████████████████████| 60/60 [00:00<00:00, 161.23it/s]\n"
     ]
    },
    {
     "name": "stdout",
     "output_type": "stream",
     "text": [
      "Epoch 3: \n",
      " Accuracy - train: 0.8669166666666667 | test: 0.8466 \n",
      " Loss - train: 1.6358152627944946 | test: 1.6531137228012085\n"
     ]
    },
    {
     "name": "stderr",
     "output_type": "stream",
     "text": [
      "100%|█████████████████████████████████████████████████████████████████████████████████| 60/60 [00:00<00:00, 144.75it/s]\n"
     ]
    },
    {
     "name": "stdout",
     "output_type": "stream",
     "text": [
      "Epoch 4: \n",
      " Accuracy - train: 0.8850666666666667 | test: 0.8653 \n",
      " Loss - train: 1.598507285118103 | test: 1.6188935041427612\n"
     ]
    },
    {
     "name": "stderr",
     "output_type": "stream",
     "text": [
      "100%|█████████████████████████████████████████████████████████████████████████████████| 60/60 [00:00<00:00, 153.04it/s]\n"
     ]
    },
    {
     "name": "stdout",
     "output_type": "stream",
     "text": [
      "Epoch 5: \n",
      " Accuracy - train: 0.8887 | test: 0.8638 \n",
      " Loss - train: 1.5830999612808228 | test: 1.6053199768066406\n"
     ]
    },
    {
     "name": "stderr",
     "output_type": "stream",
     "text": [
      "100%|█████████████████████████████████████████████████████████████████████████████████| 60/60 [00:00<00:00, 151.50it/s]\n"
     ]
    },
    {
     "name": "stdout",
     "output_type": "stream",
     "text": [
      "Epoch 6: \n",
      " Accuracy - train: 0.8966333333333333 | test: 0.8724 \n",
      " Loss - train: 1.5728274583816528 | test: 1.5967917442321777\n"
     ]
    },
    {
     "name": "stderr",
     "output_type": "stream",
     "text": [
      "100%|█████████████████████████████████████████████████████████████████████████████████| 60/60 [00:00<00:00, 148.14it/s]\n"
     ]
    },
    {
     "name": "stdout",
     "output_type": "stream",
     "text": [
      "Epoch 7: \n",
      " Accuracy - train: 0.89755 | test: 0.8671 \n",
      " Loss - train: 1.5713796615600586 | test: 1.5995653867721558\n"
     ]
    },
    {
     "name": "stderr",
     "output_type": "stream",
     "text": [
      "100%|█████████████████████████████████████████████████████████████████████████████████| 60/60 [00:00<00:00, 142.90it/s]\n"
     ]
    },
    {
     "name": "stdout",
     "output_type": "stream",
     "text": [
      "Epoch 8: \n",
      " Accuracy - train: 0.8983166666666667 | test: 0.8714 \n",
      " Loss - train: 1.5695182085037231 | test: 1.5962496995925903\n"
     ]
    },
    {
     "name": "stderr",
     "output_type": "stream",
     "text": [
      "100%|█████████████████████████████████████████████████████████████████████████████████| 60/60 [00:00<00:00, 147.42it/s]\n"
     ]
    },
    {
     "name": "stdout",
     "output_type": "stream",
     "text": [
      "Epoch 9: \n",
      " Accuracy - train: 0.9078 | test: 0.877 \n",
      " Loss - train: 1.5586646795272827 | test: 1.5884166955947876\n"
     ]
    }
   ],
   "source": [
    "n_epochs = 10\n",
    "batch_size = 1000\n",
    "learning_rate = 1\n",
    "\n",
    "acc_train_all, loss_train_all, acc_test_all, loss_test_all = train(model_relu, n_epochs, batch_size, learning_rate, x_train_norm, y_train, x_test_norm, y_test)\n"
   ]
  },
  {
   "cell_type": "code",
   "execution_count": 54,
   "metadata": {
    "id": "4Mezplo7wGUH"
   },
   "outputs": [
    {
     "data": {
      "image/png": "[encoded data removed]",
      "text/plain": [
       "<Figure size 1600x400 with 2 Axes>"
      ]
     },
     "metadata": {},
     "output_type": "display_data"
    }
   ],
   "source": [
    "vis_history(acc_train_all, loss_train_all, acc_test_all, loss_test_all)"
   ]
  },
  {
   "cell_type": "markdown",
   "metadata": {
    "id": "T4BICv8uouPM"
   },
   "source": [
    "<a id=\"3.3\"></a>\n",
    "## 3.3. Инициализация весов"
   ]
  },
  {
   "cell_type": "markdown",
   "metadata": {},
   "source": [
    "__Случайно__  \n",
    "$ w = a * N(0, 1)$, но тогда если $a \\gg 1$, то на выходе $b\\gg1$ и если $a \\ll 1 $, то $b \\approx 0 $  \n",
    "\n",
    "$ D(w^T*x) = n*D(w)*D(x) $ar(x)\n",
    "\n",
    "__Xavier__  \n",
    "$a = \\frac{1}{\\sqrt{n}}$, где $n$ - кол-во нейронов на входе\n",
    "\n",
    "__He__  \n",
    "$a = \\frac{1}{\\sqrt{\\frac{n}{2}}}$, где $n$ - кол-во нейронов на входе"
   ]
  },
  {
   "cell_type": "code",
   "execution_count": 56,
   "metadata": {
    "id": "XswYTN_LouPM"
   },
   "outputs": [],
   "source": [
    "def init_weights(m):\n",
    "    if type(m) == torch.nn.Linear:\n",
    "        torch.nn.init.kaiming_normal_(m.weight)\n",
    "        m.bias.data.fill_(0.01)"
   ]
  },
  {
   "cell_type": "markdown",
   "metadata": {
    "id": "aZ4-dwjOouPO"
   },
   "source": [
    "Применим к модели  функцию инициации весов с помощью метода .apply()"
   ]
  },
  {
   "cell_type": "code",
   "execution_count": 57,
   "metadata": {
    "id": "be7BL4lqIahs"
   },
   "outputs": [],
   "source": [
    "model_relu = ModelReLU()"
   ]
  },
  {
   "cell_type": "code",
   "execution_count": 58,
   "metadata": {
    "id": "7aPFssk4ouPP"
   },
   "outputs": [],
   "source": [
    "model_he = model_relu.apply(init_weights)"
   ]
  },
  {
   "cell_type": "code",
   "execution_count": 59,
   "metadata": {
    "id": "mcBd7Ot3ouPR"
   },
   "outputs": [
    {
     "name": "stderr",
     "output_type": "stream",
     "text": [
      "100%|██████████████████████████████████████████████████████████████████████████████████| 60/60 [00:00<00:00, 87.88it/s]\n"
     ]
    },
    {
     "name": "stdout",
     "output_type": "stream",
     "text": [
      "Epoch 0: \n",
      " Accuracy - train: 0.7996 | test: 0.7894 \n",
      " Loss - train: 1.6949808597564697 | test: 1.7040828466415405\n"
     ]
    },
    {
     "name": "stderr",
     "output_type": "stream",
     "text": [
      "100%|█████████████████████████████████████████████████████████████████████████████████| 60/60 [00:00<00:00, 131.26it/s]\n"
     ]
    },
    {
     "name": "stdout",
     "output_type": "stream",
     "text": [
      "Epoch 1: \n",
      " Accuracy - train: 0.8484 | test: 0.8347 \n",
      " Loss - train: 1.6288186311721802 | test: 1.6420620679855347\n"
     ]
    },
    {
     "name": "stderr",
     "output_type": "stream",
     "text": [
      "100%|█████████████████████████████████████████████████████████████████████████████████| 60/60 [00:00<00:00, 138.91it/s]\n"
     ]
    },
    {
     "name": "stdout",
     "output_type": "stream",
     "text": [
      "Epoch 2: \n",
      " Accuracy - train: 0.8566833333333334 | test: 0.8432 \n",
      " Loss - train: 1.6140865087509155 | test: 1.6284027099609375\n"
     ]
    },
    {
     "name": "stderr",
     "output_type": "stream",
     "text": [
      "100%|█████████████████████████████████████████████████████████████████████████████████| 60/60 [00:00<00:00, 145.99it/s]\n"
     ]
    },
    {
     "name": "stdout",
     "output_type": "stream",
     "text": [
      "Epoch 3: \n",
      " Accuracy - train: 0.8642666666666666 | test: 0.845 \n",
      " Loss - train: 1.6057780981063843 | test: 1.6249030828475952\n"
     ]
    },
    {
     "name": "stderr",
     "output_type": "stream",
     "text": [
      "100%|█████████████████████████████████████████████████████████████████████████████████| 60/60 [00:00<00:00, 155.80it/s]\n"
     ]
    },
    {
     "name": "stdout",
     "output_type": "stream",
     "text": [
      "Epoch 4: \n",
      " Accuracy - train: 0.86645 | test: 0.8473 \n",
      " Loss - train: 1.6020065546035767 | test: 1.6206761598587036\n"
     ]
    },
    {
     "name": "stderr",
     "output_type": "stream",
     "text": [
      "100%|█████████████████████████████████████████████████████████████████████████████████| 60/60 [00:00<00:00, 141.86it/s]\n"
     ]
    },
    {
     "name": "stdout",
     "output_type": "stream",
     "text": [
      "Epoch 5: \n",
      " Accuracy - train: 0.8804 | test: 0.8539 \n",
      " Loss - train: 1.587243914604187 | test: 1.6104457378387451\n"
     ]
    },
    {
     "name": "stderr",
     "output_type": "stream",
     "text": [
      "100%|█████████████████████████████████████████████████████████████████████████████████| 60/60 [00:00<00:00, 156.63it/s]\n"
     ]
    },
    {
     "name": "stdout",
     "output_type": "stream",
     "text": [
      "Epoch 6: \n",
      " Accuracy - train: 0.8882166666666667 | test: 0.8628 \n",
      " Loss - train: 1.578229546546936 | test: 1.603442907333374\n"
     ]
    },
    {
     "name": "stderr",
     "output_type": "stream",
     "text": [
      "100%|█████████████████████████████████████████████████████████████████████████████████| 60/60 [00:00<00:00, 138.27it/s]\n"
     ]
    },
    {
     "name": "stdout",
     "output_type": "stream",
     "text": [
      "Epoch 7: \n",
      " Accuracy - train: 0.89305 | test: 0.8647 \n",
      " Loss - train: 1.5737817287445068 | test: 1.6008299589157104\n"
     ]
    },
    {
     "name": "stderr",
     "output_type": "stream",
     "text": [
      "100%|█████████████████████████████████████████████████████████████████████████████████| 60/60 [00:00<00:00, 132.91it/s]\n"
     ]
    },
    {
     "name": "stdout",
     "output_type": "stream",
     "text": [
      "Epoch 8: \n",
      " Accuracy - train: 0.8910666666666667 | test: 0.863 \n",
      " Loss - train: 1.5757701396942139 | test: 1.6014697551727295\n"
     ]
    },
    {
     "name": "stderr",
     "output_type": "stream",
     "text": [
      "100%|█████████████████████████████████████████████████████████████████████████████████| 60/60 [00:00<00:00, 160.39it/s]\n"
     ]
    },
    {
     "name": "stdout",
     "output_type": "stream",
     "text": [
      "Epoch 9: \n",
      " Accuracy - train: 0.8996333333333333 | test: 0.8688 \n",
      " Loss - train: 1.5657391548156738 | test: 1.5950403213500977\n"
     ]
    }
   ],
   "source": [
    "n_epochs = 10\n",
    "batch_size = 1000\n",
    "learning_rate = 1\n",
    "\n",
    "acc_train_all, loss_train_all, acc_test_all, loss_test_all = train(model_he, n_epochs, batch_size, learning_rate,\n",
    "                                                                   x_train_norm, y_train, x_test_norm, y_test)\n"
   ]
  },
  {
   "cell_type": "code",
   "execution_count": 60,
   "metadata": {
    "id": "7GnH4Sj6ouPT"
   },
   "outputs": [
    {
     "data": {
      "image/png": "[encoded data removed]",
      "text/plain": [
       "<Figure size 1600x400 with 2 Axes>"
      ]
     },
     "metadata": {},
     "output_type": "display_data"
    }
   ],
   "source": [
    "vis_history(acc_train_all, loss_train_all, acc_test_all, loss_test_all)"
   ]
  },
  {
   "cell_type": "markdown",
   "metadata": {
    "id": "rUS8D8PdouPe"
   },
   "source": [
    "<a id=\"3.4\"></a>\n",
    "## 3.4. Влияние метода оптимизации градиентного спуска"
   ]
  },
  {
   "attachments": {},
   "cell_type": "markdown",
   "metadata": {
    "id": "MSPLQfCrouPe"
   },
   "source": [
    "![picture](img/optimizers7.gif)\n",
    "\n",
    "**Momentum**\n",
    "\n",
    "![img](img/momentum_formula.png)\n",
    "\n",
    "Вместо того, чтобы использовать только градиент текущего шага, мы будем накапливать импульс градиента прошлых шагов для определения направления движения.\n",
    "![img](img/momentum.jpg)\n",
    "\n",
    "В связи со стохастической природой, обновления градиента происходят \"зигзагообразно\", с помощью момента мы усиливаем движение вдоль основного направления. На практике коэффициент у момента инициализируется на уровне 0,5 и постепенно увеличивается до 0,9 в течение нескольких эпох.\n",
    "![img](img/sgd_momentum.jpg)\n",
    "  \n",
    "**RMSProp** (Root Mean Square Propogation)\n",
    "\n",
    "Покомпонентно накапливаем квадрат векторов градиентов и используем в качестве нормировки. Коэффициент $\\beta$ отвечает за то, что нам важнее сохранить, предыдущие градиенты или новые.\n",
    "\n",
    "![image](img/rmsprop.png)\n",
    "\n",
    "**Adam** (Adaptive momentum)\n",
    "\n",
    "Используем и накопленный импульс, и накопленный квадрат градиентов\n",
    "\n",
    "![image](img/adam.png)новления весов для типичных признаков"
   ]
  },
  {
   "cell_type": "markdown",
   "metadata": {
    "id": "UeZNsbc8DCpG"
   },
   "source": [
    "### Update batch train"
   ]
  },
  {
   "cell_type": "code",
   "execution_count": 61,
   "metadata": {
    "id": "x-1WqtKJouPh"
   },
   "outputs": [],
   "source": [
    "def batch_train(model, optimizer, x, y):\n",
    "    y_pred = model(x)\n",
    "    loss = loss_fn(y_pred, y)\n",
    "    model.zero_grad()\n",
    "    loss.backward()\n",
    "    optimizer.step()\n",
    "    return (loss.item())"
   ]
  },
  {
   "cell_type": "markdown",
   "metadata": {
    "id": "fSwkCFvNDVL8"
   },
   "source": [
    "### Prepare models"
   ]
  },
  {
   "cell_type": "code",
   "execution_count": 62,
   "metadata": {
    "id": "eqxjE2MBDXTv"
   },
   "outputs": [],
   "source": [
    "model_relu = ModelReLU()\n",
    "model_he_SGD = model_relu.apply(init_weights)"
   ]
  },
  {
   "cell_type": "code",
   "execution_count": 63,
   "metadata": {
    "id": "dKCYT_k0DjZC"
   },
   "outputs": [],
   "source": [
    "model_relu = ModelReLU()\n",
    "model_he_Momentum = model_relu.apply(init_weights)"
   ]
  },
  {
   "cell_type": "code",
   "execution_count": 64,
   "metadata": {
    "id": "RZwTimzDDjcJ"
   },
   "outputs": [],
   "source": [
    "model_relu = ModelReLU()\n",
    "model_he_Adam = model_relu.apply(init_weights)"
   ]
  },
  {
   "cell_type": "markdown",
   "metadata": {
    "id": "SGlQF6QNDIDr"
   },
   "source": [
    "### Prepare optimizers"
   ]
  },
  {
   "cell_type": "code",
   "execution_count": 65,
   "metadata": {
    "id": "kiNYQh0fouPe"
   },
   "outputs": [],
   "source": [
    "optimizerSGD = torch.optim.SGD(model_he_SGD.parameters(), lr=0.01, momentum=0.0)"
   ]
  },
  {
   "cell_type": "code",
   "execution_count": 66,
   "metadata": {
    "id": "QGBGQLx-DLTY"
   },
   "outputs": [],
   "source": [
    "optimizerMomentum = torch.optim.SGD(model_he_Momentum.parameters(), lr=0.01, momentum=0.9)"
   ]
  },
  {
   "cell_type": "code",
   "execution_count": 67,
   "metadata": {
    "id": "hhsdruqUDLWv"
   },
   "outputs": [],
   "source": [
    "optimizerAdam = torch.optim.Adam(model_he_Adam.parameters(), lr=0.01)"
   ]
  },
  {
   "cell_type": "markdown",
   "metadata": {
    "id": "ygKUF5dZErqk"
   },
   "source": [
    "### Train"
   ]
  },
  {
   "cell_type": "code",
   "execution_count": 68,
   "metadata": {
    "id": "l1nZ_qEQouPj",
    "scrolled": true
   },
   "outputs": [
    {
     "name": "stderr",
     "output_type": "stream",
     "text": [
      "100%|██████████████████████████████████████████████████████████████████████████████████| 60/60 [00:02<00:00, 27.27it/s]\n"
     ]
    },
    {
     "name": "stdout",
     "output_type": "stream",
     "text": [
      " SGD Epoch: 0 loss 2.2584598064422607\n",
      " Momentum Epoch: 0 loss 2.114394187927246\n",
      " Adam Epoch: 0 loss 1.699170708656311\n"
     ]
    },
    {
     "name": "stderr",
     "output_type": "stream",
     "text": [
      "100%|██████████████████████████████████████████████████████████████████████████████████| 60/60 [00:01<00:00, 49.86it/s]\n"
     ]
    },
    {
     "name": "stdout",
     "output_type": "stream",
     "text": [
      " SGD Epoch: 1 loss 2.1968445777893066\n",
      " Momentum Epoch: 1 loss 2.043215036392212\n",
      " Adam Epoch: 1 loss 1.6252323389053345\n"
     ]
    },
    {
     "name": "stderr",
     "output_type": "stream",
     "text": [
      "100%|██████████████████████████████████████████████████████████████████████████████████| 60/60 [00:01<00:00, 48.12it/s]\n"
     ]
    },
    {
     "name": "stdout",
     "output_type": "stream",
     "text": [
      " SGD Epoch: 2 loss 2.151888132095337\n",
      " Momentum Epoch: 2 loss 1.9961919784545898\n",
      " Adam Epoch: 2 loss 1.608061671257019\n"
     ]
    },
    {
     "name": "stderr",
     "output_type": "stream",
     "text": [
      "100%|██████████████████████████████████████████████████████████████████████████████████| 60/60 [00:01<00:00, 52.16it/s]\n"
     ]
    },
    {
     "name": "stdout",
     "output_type": "stream",
     "text": [
      " SGD Epoch: 3 loss 2.1184134483337402\n",
      " Momentum Epoch: 3 loss 1.950531005859375\n",
      " Adam Epoch: 3 loss 1.5994218587875366\n"
     ]
    },
    {
     "name": "stderr",
     "output_type": "stream",
     "text": [
      "100%|██████████████████████████████████████████████████████████████████████████████████| 60/60 [00:01<00:00, 54.31it/s]\n"
     ]
    },
    {
     "name": "stdout",
     "output_type": "stream",
     "text": [
      " SGD Epoch: 4 loss 2.0925419330596924\n",
      " Momentum Epoch: 4 loss 1.905349612236023\n",
      " Adam Epoch: 4 loss 1.5927021503448486\n"
     ]
    },
    {
     "name": "stderr",
     "output_type": "stream",
     "text": [
      "100%|██████████████████████████████████████████████████████████████████████████████████| 60/60 [00:01<00:00, 54.23it/s]\n"
     ]
    },
    {
     "name": "stdout",
     "output_type": "stream",
     "text": [
      " SGD Epoch: 5 loss 2.070706367492676\n",
      " Momentum Epoch: 5 loss 1.8506025075912476\n",
      " Adam Epoch: 5 loss 1.5949535369873047\n"
     ]
    },
    {
     "name": "stderr",
     "output_type": "stream",
     "text": [
      "100%|██████████████████████████████████████████████████████████████████████████████████| 60/60 [00:01<00:00, 53.56it/s]\n"
     ]
    },
    {
     "name": "stdout",
     "output_type": "stream",
     "text": [
      " SGD Epoch: 6 loss 2.0513432025909424\n",
      " Momentum Epoch: 6 loss 1.7992876768112183\n",
      " Adam Epoch: 6 loss 1.5918344259262085\n"
     ]
    },
    {
     "name": "stderr",
     "output_type": "stream",
     "text": [
      "100%|██████████████████████████████████████████████████████████████████████████████████| 60/60 [00:01<00:00, 53.39it/s]\n"
     ]
    },
    {
     "name": "stdout",
     "output_type": "stream",
     "text": [
      " SGD Epoch: 7 loss 2.0337178707122803\n",
      " Momentum Epoch: 7 loss 1.7656155824661255\n",
      " Adam Epoch: 7 loss 1.5887634754180908\n"
     ]
    },
    {
     "name": "stderr",
     "output_type": "stream",
     "text": [
      "100%|██████████████████████████████████████████████████████████████████████████████████| 60/60 [00:01<00:00, 53.30it/s]\n"
     ]
    },
    {
     "name": "stdout",
     "output_type": "stream",
     "text": [
      " SGD Epoch: 8 loss 2.0174710750579834\n",
      " Momentum Epoch: 8 loss 1.7412406206130981\n",
      " Adam Epoch: 8 loss 1.5834989547729492\n"
     ]
    },
    {
     "name": "stderr",
     "output_type": "stream",
     "text": [
      "100%|██████████████████████████████████████████████████████████████████████████████████| 60/60 [00:01<00:00, 53.56it/s]"
     ]
    },
    {
     "name": "stdout",
     "output_type": "stream",
     "text": [
      " SGD Epoch: 9 loss 2.0024399757385254\n",
      " Momentum Epoch: 9 loss 1.7234244346618652\n",
      " Adam Epoch: 9 loss 1.5873984098434448\n"
     ]
    },
    {
     "name": "stderr",
     "output_type": "stream",
     "text": [
      "\n"
     ]
    }
   ],
   "source": [
    "n_epochs = 10\n",
    "batch_size = 1000\n",
    "\n",
    "\n",
    "loss_test_sgd = []\n",
    "loss_test_sgd_moment = []\n",
    "loss_test_adam = []\n",
    "\n",
    "for epoch in range(n_epochs):\n",
    "\n",
    "    permutation = torch.randperm(x_train_norm.size()[0])\n",
    "\n",
    "    for i in tqdm(range(0,x_train_norm.float().size()[0], batch_size)):\n",
    "        indices = permutation[i:i+batch_size]\n",
    "        batch_x, batch_y = x_train_norm[indices], y_train[indices]\n",
    "        batch_train(model_he_SGD, optimizerSGD, batch_x, batch_y)\n",
    "        batch_train(model_he_Momentum, optimizerMomentum, batch_x, batch_y)\n",
    "        batch_train(model_he_Adam, optimizerAdam, batch_x, batch_y)\n",
    "\n",
    "    y_test_pred = model_he_SGD(x_test_norm)\n",
    "    loss_train = loss_fn(y_test_pred, y_test).detach().numpy()\n",
    "    print(f' SGD Epoch: {epoch} loss {loss_train}')\n",
    "    loss_test_sgd.append(loss_train)\n",
    "\n",
    "    y_test_pred = model_he_Momentum(x_test_norm)\n",
    "    loss_train = loss_fn(y_test_pred, y_test).detach().numpy()\n",
    "    print(f' Momentum Epoch: {epoch} loss {loss_train}')\n",
    "    loss_test_sgd_moment.append(loss_train)\n",
    "\n",
    "    y_test_pred = model_he_Adam(x_test_norm)\n",
    "    loss_train = loss_fn(y_test_pred, y_test).detach().numpy()\n",
    "    print(f' Adam Epoch: {epoch} loss {loss_train}')\n",
    "    loss_test_adam.append(loss_train)"
   ]
  },
  {
   "cell_type": "code",
   "execution_count": 69,
   "metadata": {
    "id": "CN6ZsupyouPm"
   },
   "outputs": [
    {
     "data": {
      "image/png": "[encoded data removed]",
      "text/plain": [
       "<Figure size 1600x400 with 1 Axes>"
      ]
     },
     "metadata": {},
     "output_type": "display_data"
    }
   ],
   "source": [
    "fig = plt.figure(figsize=(16, 4))\n",
    "\n",
    "plt.plot(loss_test_sgd, label='SGD')\n",
    "plt.plot(loss_test_sgd_moment, label='SGD with momentum')\n",
    "plt.plot(loss_test_adam, label='Adam')\n",
    "\n",
    "plt.legend()\n",
    "plt.show()"
   ]
  },
  {
   "cell_type": "markdown",
   "metadata": {
    "id": "UA9GBCWtouPW"
   },
   "source": [
    "<a id=\"3.5\"></a>\n",
    "## 3.5. Влияние скорости обучения\n",
    "Посмотрим, как влияет параметр `learning_rate` на качество нашей модели на обучающей выборке"
   ]
  },
  {
   "cell_type": "code",
   "execution_count": 70,
   "metadata": {
    "id": "Gdic06-GIdKV"
   },
   "outputs": [],
   "source": [
    "model_relu = ModelReLU()\n",
    "model_he_Adam = model_relu.apply(init_weights)"
   ]
  },
  {
   "cell_type": "code",
   "execution_count": 71,
   "metadata": {
    "id": "-Xjy5SIYIgzz"
   },
   "outputs": [],
   "source": [
    "optimizerAdam = torch.optim.Adam(model_he_Adam.parameters(), lr=0.01)"
   ]
  },
  {
   "cell_type": "code",
   "execution_count": 72,
   "metadata": {
    "id": "cdnAz8odIYLg"
   },
   "outputs": [],
   "source": [
    "import torch.optim.lr_scheduler as lr_scheduler\n",
    "\n",
    "scheduler = lr_scheduler.LinearLR(optimizerAdam, start_factor=1.0, end_factor=0.01, total_iters=10)"
   ]
  },
  {
   "cell_type": "code",
   "execution_count": 73,
   "metadata": {
    "id": "mywM8rbdKOJW"
   },
   "outputs": [],
   "source": [
    "def train(model, optimizer, scheduler, n_epochs, batch_size,  X, y, X_test, y_test):\n",
    "    acc_train_all = []\n",
    "    loss_train_all = []\n",
    "    acc_test_all = []\n",
    "    loss_test_all = []\n",
    "\n",
    "    for epoch in range(n_epochs):\n",
    "\n",
    "        permutation = torch.randperm(X.size()[0])\n",
    "\n",
    "        for i in tqdm(range(0,X.float().size()[0], batch_size)):\n",
    "            indices = permutation[i:i+batch_size]\n",
    "            batch_x, batch_y = X[indices], y[indices]\n",
    "            batch_train(model, optimizer, batch_x, batch_y)\n",
    "\n",
    "        scheduler.step()\n",
    "\n",
    "        y_test_pred = model(X_test)\n",
    "        y_train_pred = model(X)\n",
    "\n",
    "\n",
    "        acc_train = accuracy_score(y, y_train_pred.argmax(dim=1))\n",
    "        loss_train = loss_fn(y_train_pred, y).detach()\n",
    "        acc_test = accuracy_score(y_test, y_test_pred.argmax(dim=1))\n",
    "        loss_test = loss_fn(y_test_pred, y_test).detach()\n",
    "\n",
    "        acc_train_all = np.append(acc_train_all, acc_train)\n",
    "        loss_train_all = np.append(loss_train_all, loss_train)\n",
    "        acc_test_all = np.append(acc_test_all, acc_test)\n",
    "        loss_test_all = np.append(loss_test_all, loss_test)\n",
    "\n",
    "\n",
    "        print(f'Epoch {epoch}: \\n Accuracy - train: {acc_train} | test: {acc_test} \\n Loss - train: {loss_train} | test: {loss_test}')\n",
    "\n",
    "    return(acc_train_all, loss_train_all, acc_test_all, loss_test_all)"
   ]
  },
  {
   "cell_type": "code",
   "execution_count": 74,
   "metadata": {
    "id": "sP8QSOGDouPZ"
   },
   "outputs": [
    {
     "name": "stderr",
     "output_type": "stream",
     "text": [
      "100%|█████████████████████████████████████████████████████████████████████████████████| 60/60 [00:00<00:00, 124.39it/s]\n"
     ]
    },
    {
     "name": "stdout",
     "output_type": "stream",
     "text": [
      "Epoch 0: \n",
      " Accuracy - train: 0.8346333333333333 | test: 0.8218 \n",
      " Loss - train: 1.6588525772094727 | test: 1.6691032648086548\n"
     ]
    },
    {
     "name": "stderr",
     "output_type": "stream",
     "text": [
      "100%|█████████████████████████████████████████████████████████████████████████████████| 60/60 [00:00<00:00, 127.54it/s]\n"
     ]
    },
    {
     "name": "stdout",
     "output_type": "stream",
     "text": [
      "Epoch 1: \n",
      " Accuracy - train: 0.8721833333333333 | test: 0.8553 \n",
      " Loss - train: 1.6011810302734375 | test: 1.6170878410339355\n"
     ]
    },
    {
     "name": "stderr",
     "output_type": "stream",
     "text": [
      "100%|█████████████████████████████████████████████████████████████████████████████████| 60/60 [00:00<00:00, 122.38it/s]\n"
     ]
    },
    {
     "name": "stdout",
     "output_type": "stream",
     "text": [
      "Epoch 2: \n",
      " Accuracy - train: 0.8819166666666667 | test: 0.8607 \n",
      " Loss - train: 1.58648681640625 | test: 1.6075180768966675\n"
     ]
    },
    {
     "name": "stderr",
     "output_type": "stream",
     "text": [
      "100%|█████████████████████████████████████████████████████████████████████████████████| 60/60 [00:00<00:00, 127.87it/s]\n"
     ]
    },
    {
     "name": "stdout",
     "output_type": "stream",
     "text": [
      "Epoch 3: \n",
      " Accuracy - train: 0.8915333333333333 | test: 0.8678 \n",
      " Loss - train: 1.5757230520248413 | test: 1.5986015796661377\n"
     ]
    },
    {
     "name": "stderr",
     "output_type": "stream",
     "text": [
      "100%|█████████████████████████████████████████████████████████████████████████████████| 60/60 [00:00<00:00, 120.42it/s]\n"
     ]
    },
    {
     "name": "stdout",
     "output_type": "stream",
     "text": [
      "Epoch 4: \n",
      " Accuracy - train: 0.8976333333333333 | test: 0.8716 \n",
      " Loss - train: 1.5685011148452759 | test: 1.5939031839370728\n"
     ]
    },
    {
     "name": "stderr",
     "output_type": "stream",
     "text": [
      "100%|█████████████████████████████████████████████████████████████████████████████████| 60/60 [00:00<00:00, 130.09it/s]\n"
     ]
    },
    {
     "name": "stdout",
     "output_type": "stream",
     "text": [
      "Epoch 5: \n",
      " Accuracy - train: 0.9009666666666667 | test: 0.873 \n",
      " Loss - train: 1.5657299757003784 | test: 1.593740463256836\n"
     ]
    },
    {
     "name": "stderr",
     "output_type": "stream",
     "text": [
      "100%|█████████████████████████████████████████████████████████████████████████████████| 60/60 [00:00<00:00, 127.71it/s]\n"
     ]
    },
    {
     "name": "stdout",
     "output_type": "stream",
     "text": [
      "Epoch 6: \n",
      " Accuracy - train: 0.9121166666666667 | test: 0.8785 \n",
      " Loss - train: 1.5545982122421265 | test: 1.5861730575561523\n"
     ]
    },
    {
     "name": "stderr",
     "output_type": "stream",
     "text": [
      "100%|█████████████████████████████████████████████████████████████████████████████████| 60/60 [00:00<00:00, 129.22it/s]\n"
     ]
    },
    {
     "name": "stdout",
     "output_type": "stream",
     "text": [
      "Epoch 7: \n",
      " Accuracy - train: 0.9155333333333333 | test: 0.8786 \n",
      " Loss - train: 1.5502170324325562 | test: 1.5850400924682617\n"
     ]
    },
    {
     "name": "stderr",
     "output_type": "stream",
     "text": [
      "100%|█████████████████████████████████████████████████████████████████████████████████| 60/60 [00:00<00:00, 126.85it/s]\n"
     ]
    },
    {
     "name": "stdout",
     "output_type": "stream",
     "text": [
      "Epoch 8: \n",
      " Accuracy - train: 0.9202833333333333 | test: 0.8831 \n",
      " Loss - train: 1.5458520650863647 | test: 1.582241177558899\n"
     ]
    },
    {
     "name": "stderr",
     "output_type": "stream",
     "text": [
      "100%|█████████████████████████████████████████████████████████████████████████████████| 60/60 [00:00<00:00, 127.94it/s]\n"
     ]
    },
    {
     "name": "stdout",
     "output_type": "stream",
     "text": [
      "Epoch 9: \n",
      " Accuracy - train: 0.92395 | test: 0.8843 \n",
      " Loss - train: 1.5422383546829224 | test: 1.5812082290649414\n"
     ]
    }
   ],
   "source": [
    "n_epochs = 10\n",
    "batch_size = 1000\n",
    "\n",
    "acc_train_all, loss_train_all, acc_test_all, loss_test_all = train(model_he_Adam, optimizerAdam, scheduler, n_epochs, batch_size,\n",
    "                                                                    x_train_norm, y_train, x_test_norm, y_test)"
   ]
  },
  {
   "cell_type": "code",
   "execution_count": 75,
   "metadata": {
    "id": "_uw84G_DouPb"
   },
   "outputs": [
    {
     "data": {
      "image/png": "[encoded data removed]",
      "text/plain": [
       "<Figure size 1600x400 with 2 Axes>"
      ]
     },
     "metadata": {},
     "output_type": "display_data"
    }
   ],
   "source": [
    "vis_history(acc_train_all, loss_train_all, acc_test_all, loss_test_all)"
   ]
  },
  {
   "cell_type": "markdown",
   "metadata": {
    "id": "iKGry9LYouPo"
   },
   "source": [
    "<a id=\"4\"></a>\n",
    "# 4. Полезные ссылки\n",
    "- [Курс \"Deep learning на пальцах\", лекция 4](https://youtu.be/tnrbx7V9RbA)\n",
    "- [Статья: Методы оптимизации нейронных сетей](https://habr.com/ru/post/318970/)\n",
    "- YSDA [Practical RL course week04 materials](https://github.com/yandexdataschool/Practical_RL/tree/master/week04_%5Brecap%5D_deep_learning).\n",
    "- PyTorch official tutorials and [this kaggle kernel](https://www.kaggle.com/pinocookie/pytorch-dataset-and-dataloader)\n",
    "- PyTorch tutorial by [Stanford CS 231n course](http://cs231n.stanford.edu)\n",
    "\n",
    "Полезные ссылки 2.0:\n",
    "- [Инициализация весов](https://machinelearningmastery.com/weight-initialization-for-deep-learning-neural-networks/)\n",
    "- [Почему инициализация весов нулями плохая идея?](https://habr.com/ru/articles/592711/)\n",
    "- [Тонкости обучения нейронных сетей](https://education.yandex.ru/handbook/ml/article/tonkosti-obucheniya#inicializiruem-pravilno): инициализация, оптимизация, регуляризация\n",
    "- [Подробнее про оптимизацию](https://education.yandex.ru/handbook/ml/article/optimizaciya-v-ml)"
   ]
  },
  {
   "cell_type": "code",
   "execution_count": null,
   "metadata": {},
   "outputs": [],
   "source": []
  }
 ],
 "metadata": {
  "accelerator": "GPU",
  "colab": {
   "provenance": [],
   "toc_visible": true
  },
  "kernelspec": {
   "display_name": "Python 3 (ipykernel)",
   "language": "python",
   "name": "python3"
  },
  "language_info": {
   "codemirror_mode": {
    "name": "ipython",
    "version": 3
   },
   "file_extension": ".py",
   "mimetype": "text/x-python",
   "name": "python",
   "nbconvert_exporter": "python",
   "pygments_lexer": "ipython3",
   "version": "3.11.5"
  }
 },
 "nbformat": 4,
 "nbformat_minor": 4
}
