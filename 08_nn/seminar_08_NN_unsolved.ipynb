{
 "cells": [
  {
   "cell_type": "markdown",
   "metadata": {
    "id": "RUF68Fc70QVm"
   },
   "source": [
    "# Семинар 08 - Нейросети"
   ]
  },
  {
   "cell_type": "code",
   "execution_count": null,
   "metadata": {
    "id": "c2k0b73c-H6W"
   },
   "outputs": [],
   "source": [
    "!pip install torchvision"
   ]
  },
  {
   "cell_type": "code",
   "execution_count": 1,
   "metadata": {
    "ExecuteTime": {
     "end_time": "2020-02-28T00:59:42.103233Z",
     "start_time": "2020-02-28T00:59:42.099338Z"
    },
    "id": "bX7WKpm20QVp"
   },
   "outputs": [
    {
     "name": "stderr",
     "output_type": "stream",
     "text": [
      "D:\\Anaconda3\\Lib\\site-packages\\pandas\\core\\arrays\\masked.py:60: UserWarning: Pandas requires version '1.3.6' or newer of 'bottleneck' (version '1.3.5' currently installed).\n",
      "  from pandas.core import (\n"
     ]
    },
    {
     "name": "stdout",
     "output_type": "stream",
     "text": [
      "2.1.0+cu121\n"
     ]
    }
   ],
   "source": [
    "import pandas as pd\n",
    "import numpy as np\n",
    "from sklearn.metrics import accuracy_score\n",
    "import numpy as np\n",
    "import pandas as pd\n",
    "import matplotlib.pyplot as plt\n",
    "import matplotlib.pyplot as plt\n",
    "from tqdm import tqdm\n",
    "import warnings\n",
    "# warnings.simplefilter('ignore')\n",
    "import torch\n",
    "from torch.utils.data import DataLoader, Dataset, Subset\n",
    "import torchvision\n",
    "from torchvision import transforms\n",
    "from matplotlib import pyplot as plt\n",
    "import numpy as np\n",
    "from sklearn import datasets\n",
    "from sklearn.model_selection import train_test_split\n",
    "import torch\n",
    "print(torch.__version__)"
   ]
  },
  {
   "cell_type": "markdown",
   "metadata": {},
   "source": [
    "<a id=\"Content\"></a>\n",
    "# Содержание\n",
    "0. [Вспомним PyTorch](#0)\n",
    "1. [Подготовка данных](#1)\n",
    "2. [Определим архитектуру нейросети в PyTorch](#2)\n",
    "3. [Что мы можем улучшить?](#3)\n",
    "   - [Нормировка](#3.1)\n",
    "   - [Функции активации](#3.2)\n",
    "   - [Инициализация весов](#3.3)\n",
    "   - [Влияние метода оптимизации градиентного спуска](#3.4)\n",
    "   - [Влияние скорости обучения](#3.5)\n",
    "4. [Полезные ссылки](#4)"
   ]
  },
  {
   "cell_type": "markdown",
   "metadata": {
    "id": "kb0b0s_tw0ft"
   },
   "source": [
    "<a id=\"0\"></a>\n",
    "# 0. Вспомним PyTorch"
   ]
  },
  {
   "cell_type": "markdown",
   "metadata": {
    "id": "3F-2IcFB0QVu"
   },
   "source": [
    "Нахождение сложной производной\n",
    "\n",
    "Найдите производную по x от функции\n",
    "$$\\sin\\left(\\tan(x)\\frac{x^2}{y} + \\ln(e^{-x^2 + 3}+x^3y)\\right)\\tan(x^2e^{x^9})$$\n",
    "\n",
    "При этом надо пользоваться встроенным в PyTorch autograd. Численное вычисление производной может не дать нужный результат."
   ]
  },
  {
   "cell_type": "code",
   "execution_count": 2,
   "metadata": {
    "ExecuteTime": {
     "end_time": "2020-02-28T00:13:20.890514Z",
     "start_time": "2020-02-28T00:13:20.639022Z"
    },
    "id": "dicy-gHI0QVu"
   },
   "outputs": [],
   "source": [
    "def find_x_derivative(x, y):\n",
    "    x_with_grad = torch.tensor([float(x)], requires_grad=True)\n",
    "    y_with_grad = torch.tensor([float(y)], requires_grad=True)\n",
    "\n",
    "    z = torch.sin(torch.tan(x_with_grad)*(x_with_grad**2/y_with_grad) + torch.log(torch.exp(-x_with_grad**2+3) + y_with_grad*x_with_grad**3))*torch.tan(torch.exp(x_with_grad**9)*x_with_grad**2)\n",
    "    z.backward()\n",
    "\n",
    "    dz_dx = x_with_grad.grad\n",
    "    return dz_dx.item(), z"
   ]
  },
  {
   "cell_type": "code",
   "execution_count": 3,
   "metadata": {
    "id": "bDUuuezl4Ant"
   },
   "outputs": [
    {
     "data": {
      "text/plain": [
       "(-9.020709991455078, tensor([0.1239], grad_fn=<MulBackward0>))"
      ]
     },
     "execution_count": 3,
     "metadata": {},
     "output_type": "execute_result"
    }
   ],
   "source": [
    "find_x_derivative(1,21)"
   ]
  },
  {
   "cell_type": "markdown",
   "metadata": {
    "id": "E4WixrwoouOI"
   },
   "source": [
    "<a id=\"1\"></a>\n",
    "# 1. Подготовка данных"
   ]
  },
  {
   "cell_type": "markdown",
   "metadata": {
    "id": "zFXUhoLdsB8B"
   },
   "source": [
    "### В семинаре, будем использовать набор данных `fashion_mnist`, загрузим их"
   ]
  },
  {
   "cell_type": "code",
   "execution_count": 4,
   "metadata": {
    "id": "817LGj2touOJ"
   },
   "outputs": [],
   "source": [
    "from torchvision import datasets, transforms"
   ]
  },
  {
   "cell_type": "code",
   "execution_count": 5,
   "metadata": {
    "id": "_1yTnOKlouON"
   },
   "outputs": [],
   "source": [
    "trainset = datasets.FashionMNIST('~/.pytorch/F_MNIST_data/', train = True, download=True)"
   ]
  },
  {
   "cell_type": "code",
   "execution_count": 6,
   "metadata": {
    "id": "5Y_gHUUaouOQ"
   },
   "outputs": [],
   "source": [
    "testset = datasets.FashionMNIST('~/.pytorch/F_MNIST_data/', train = False, download = True)"
   ]
  },
  {
   "cell_type": "code",
   "execution_count": 7,
   "metadata": {
    "id": "M-yhD9MIouOT"
   },
   "outputs": [],
   "source": [
    "num_classes = len(trainset.classes)"
   ]
  },
  {
   "cell_type": "code",
   "execution_count": 8,
   "metadata": {
    "id": "IwATUm42gW3I"
   },
   "outputs": [
    {
     "data": {
      "text/plain": [
       "['T-shirt/top',\n",
       " 'Trouser',\n",
       " 'Pullover',\n",
       " 'Dress',\n",
       " 'Coat',\n",
       " 'Sandal',\n",
       " 'Shirt',\n",
       " 'Sneaker',\n",
       " 'Bag',\n",
       " 'Ankle boot']"
      ]
     },
     "execution_count": 8,
     "metadata": {},
     "output_type": "execute_result"
    }
   ],
   "source": [
    "trainset.classes"
   ]
  },
  {
   "cell_type": "code",
   "execution_count": 9,
   "metadata": {
    "id": "tw3moMZ4ouOW"
   },
   "outputs": [],
   "source": [
    "x_train = trainset.data\n",
    "y_train = trainset.targets\n",
    "\n",
    "x_test = testset.data\n",
    "y_test = testset.targets"
   ]
  },
  {
   "cell_type": "code",
   "execution_count": 10,
   "metadata": {
    "id": "9BOoVSZBouOZ"
   },
   "outputs": [
    {
     "data": {
      "image/png": "[encoded data removed]",
      "text/plain": [
       "<Figure size 1500x500 with 10 Axes>"
      ]
     },
     "metadata": {},
     "output_type": "display_data"
    }
   ],
   "source": [
    "fig = plt.figure(figsize=(15,5))\n",
    "for i in range(num_classes):\n",
    "    ax = fig.add_subplot(2, 5, 1 + i, xticks=[], yticks=[])\n",
    "    idx = np.where(y_train[:]==i)[0]\n",
    "    features_idx = x_train[idx,::]\n",
    "    img_num = np.random.randint(features_idx.shape[0])\n",
    "    im = features_idx[img_num]\n",
    "    ax.set_title(trainset.classes[i])\n",
    "    plt.imshow(im, cmap='gray_r')\n",
    "plt.show()"
   ]
  },
  {
   "cell_type": "markdown",
   "metadata": {
    "id": "XEwx6Wp4ouOc"
   },
   "source": [
    "### Проведем небольшие предобработки"
   ]
  },
  {
   "cell_type": "code",
   "execution_count": 11,
   "metadata": {
    "id": "d1swzXaqouOc"
   },
   "outputs": [
    {
     "name": "stdout",
     "output_type": "stream",
     "text": [
      "Была размерность: torch.Size([60000, 28, 28]), стала: torch.Size([60000, 784])\n",
      "Была размерность: torch.Size([10000, 28, 28]), стала: torch.Size([10000, 784])\n"
     ]
    }
   ],
   "source": [
    "x_train_flat = x_train.flatten(start_dim=1).float()\n",
    "x_test_flat = x_test.flatten(start_dim=1).float()\n",
    "print(f'Была размерность: {x_train.shape}, стала: {x_train_flat.shape}')\n",
    "print(f'Была размерность: {x_test.shape}, стала: {x_test_flat.shape}')"
   ]
  },
  {
   "cell_type": "code",
   "execution_count": 12,
   "metadata": {
    "id": "2eXoS2gMouOf"
   },
   "outputs": [],
   "source": [
    "D_out = num_classes\n",
    "D_in = x_train_flat.shape[1]"
   ]
  },
  {
   "cell_type": "markdown",
   "metadata": {
    "id": "5ZYEiMQ3DpVB"
   },
   "source": [
    "<a id=\"2\"></a>\n",
    "# 2. Определим архитектуру нейросети в PyTorch\n",
    "\n",
    "Вариантов определения архитектуры много, рассмотрим 2 наиболее популярных варианта"
   ]
  },
  {
   "cell_type": "code",
   "execution_count": 13,
   "metadata": {
    "id": "9C-YR6PGouOh"
   },
   "outputs": [],
   "source": [
    "model = torch.nn.Sequential(\n",
    "    torch.nn.Linear(D_in, 128),\n",
    "    torch.nn.Sigmoid(),\n",
    "    torch.nn.Linear(128, 10),\n",
    "    torch.nn.Sigmoid(),\n",
    "    torch.nn.Linear(10, D_out),\n",
    "    torch.nn.Softmax(dim=1)\n",
    ")"
   ]
  },
  {
   "cell_type": "code",
   "execution_count": 32,
   "metadata": {
    "id": "3Uv5d7YFouOp"
   },
   "outputs": [],
   "source": [
    "import torch.nn.functional as F\n",
    "\n",
    "class Model(torch.nn.Module):\n",
    "    def __init__(self):\n",
    "        super(Model, self).__init__()\n",
    "        self.fc1 = torch.nn.Linear(D_in, 128)\n",
    "        self.act1 = torch.nn.Sigmoid()\n",
    "        self.fc2 = torch.nn.Linear(128, 10)\n",
    "        self.act2 = torch.nn.Sigmoid()\n",
    "        self.fc3 = torch.nn.Linear(10, D_out)\n",
    "        self.act3 = torch.nn.Softmax(dim=1)\n",
    "\n",
    "    def forward(self, x):\n",
    "        x = self.fc1(x)\n",
    "        x = self.act1(x)\n",
    "        x = self.fc2(x)\n",
    "        x = self.act2(x)\n",
    "        x = self.fc3(x)\n",
    "        x = self.act3(x)\n",
    "        return x\n",
    "\n",
    "model = Model()"
   ]
  },
  {
   "cell_type": "code",
   "execution_count": 33,
   "metadata": {
    "id": "IL0biu-EouOr"
   },
   "outputs": [
    {
     "data": {
      "text/plain": [
       "Model(\n",
       "  (fc1): Linear(in_features=784, out_features=128, bias=True)\n",
       "  (act1): Sigmoid()\n",
       "  (fc2): Linear(in_features=128, out_features=10, bias=True)\n",
       "  (act2): Sigmoid()\n",
       "  (fc3): Linear(in_features=10, out_features=10, bias=True)\n",
       "  (act3): Softmax(dim=1)\n",
       ")"
      ]
     },
     "execution_count": 33,
     "metadata": {},
     "output_type": "execute_result"
    }
   ],
   "source": [
    "model"
   ]
  },
  {
   "cell_type": "code",
   "execution_count": 34,
   "metadata": {},
   "outputs": [
    {
     "data": {
      "text/plain": [
       "torch.Size([60000, 784])"
      ]
     },
     "execution_count": 34,
     "metadata": {},
     "output_type": "execute_result"
    }
   ],
   "source": [
    "x_train_flat.shape"
   ]
  },
  {
   "cell_type": "code",
   "execution_count": 35,
   "metadata": {
    "id": "X1JmI-2fouOu"
   },
   "outputs": [],
   "source": [
    "# Forward pass: compute predicted y by passing x to the model. Module objects\n",
    "# override the __call__ operator so you can call them like functions. When\n",
    "# doing so you pass a Tensor of input data to the Module and it produces\n",
    "# a Tensor of output data.\n",
    "y_pred = model(x_train_flat)"
   ]
  },
  {
   "cell_type": "code",
   "execution_count": 36,
   "metadata": {
    "id": "aJtuDQ6sjvea"
   },
   "outputs": [
    {
     "data": {
      "text/plain": [
       "torch.Size([60000, 10])"
      ]
     },
     "execution_count": 36,
     "metadata": {},
     "output_type": "execute_result"
    }
   ],
   "source": [
    "y_pred.shape"
   ]
  },
  {
   "cell_type": "code",
   "execution_count": 37,
   "metadata": {
    "id": "c5JD6xWqouOw"
   },
   "outputs": [],
   "source": [
    "loss_fn = torch.nn.CrossEntropyLoss()"
   ]
  },
  {
   "cell_type": "code",
   "execution_count": 38,
   "metadata": {
    "id": "KWHhi6hTiVOB"
   },
   "outputs": [
    {
     "data": {
      "text/plain": [
       "tensor(2.3034, grad_fn=<NllLossBackward0>)"
      ]
     },
     "execution_count": 38,
     "metadata": {},
     "output_type": "execute_result"
    }
   ],
   "source": [
    "# Compute and print loss. We pass Tensors containing the predicted and true\n",
    "# values of y, and the loss function returns a Tensor containing the\n",
    "# loss.\n",
    "loss_old = loss_fn(y_pred, y_train)\n",
    "loss_old"
   ]
  },
  {
   "cell_type": "code",
   "execution_count": 39,
   "metadata": {
    "id": "bK5o-0gNihzV"
   },
   "outputs": [
    {
     "data": {
      "text/plain": [
       "0.1"
      ]
     },
     "execution_count": 39,
     "metadata": {},
     "output_type": "execute_result"
    }
   ],
   "source": [
    "acc_old = accuracy_score(y_train.numpy(), y_pred.argmax(dim=1))\n",
    "acc_old"
   ]
  },
  {
   "cell_type": "code",
   "execution_count": 40,
   "metadata": {
    "id": "KM8oRGwlih2f"
   },
   "outputs": [],
   "source": [
    "# Zero the gradients before running the backward pass.\n",
    "model.zero_grad()"
   ]
  },
  {
   "cell_type": "code",
   "execution_count": 41,
   "metadata": {
    "id": "4DqxPMqRih5L"
   },
   "outputs": [],
   "source": [
    "# Backward pass: compute gradient of the loss with respect to all the learnable\n",
    "# parameters of the model. Internally, the parameters of each Module are stored\n",
    "# in Tensors with requires_grad=True, so this call will compute gradients for\n",
    "# all learnable parameters in the model.\n",
    "loss_old.backward()"
   ]
  },
  {
   "cell_type": "code",
   "execution_count": 42,
   "metadata": {
    "id": "loqaoy8Zi1PH"
   },
   "outputs": [],
   "source": [
    "learning_rate = 1e-2"
   ]
  },
  {
   "cell_type": "markdown",
   "metadata": {},
   "source": [
    "**Задание 0:** Обновите веса, используя градиентный спуск. \n",
    "\n",
    "*Hint:* Каждый параметр - это тензор из PyTorch, так что градиенты можно получить так же, как мы это делали в начале семинара. Параметры для обновления хранятся в model.parameters()"
   ]
  },
  {
   "cell_type": "code",
   "execution_count": 43,
   "metadata": {
    "id": "C1fPGyDKiw-U"
   },
   "outputs": [],
   "source": [
    "# Update the weights using gradient descent. Each parameter is a Tensor, so\n",
    "# we can access its gradients like we did before.\n",
    "with torch.no_grad():\n",
    "    for parameter in model.parameters():\n",
    "        parameter -= learning_rate * parameter.grad"
   ]
  },
  {
   "cell_type": "code",
   "execution_count": 44,
   "metadata": {
    "id": "JSIGz0wnixBE"
   },
   "outputs": [
    {
     "name": "stdout",
     "output_type": "stream",
     "text": [
      "Лосс: 2.3033647537231445 -> 2.303344964981079. Step -1.9788742065429688e-05 \n",
      "Accuracy: 0.1 -> 0.1\n"
     ]
    }
   ],
   "source": [
    "y_pred = model(x_train_flat.float())\n",
    "loss_new = loss_fn(y_pred, y_train)\n",
    "step = loss_new.item()-loss_old.item()\n",
    "\n",
    "acc_new = accuracy_score(y_train, y_pred.argmax(dim=1))\n",
    "\n",
    "print(f'Лосс: {loss_old.item()} -> {loss_new.item()}. Step {step} ')\n",
    "print(f'Accuracy: {acc_old} -> {acc_new}')"
   ]
  },
  {
   "cell_type": "markdown",
   "metadata": {},
   "source": [
    "**Задание 1:** Реализуйте обучение модели на одном батче."
   ]
  },
  {
   "cell_type": "code",
   "execution_count": 45,
   "metadata": {
    "id": "tFGhystlouO1"
   },
   "outputs": [],
   "source": [
    "def batch_train(model, loss_fn, learning_rate, x, y):\n",
    "    y_pred = model(x)\n",
    "    loss = loss_fn(y_pred, y)\n",
    "    loss.backward()\n",
    "\n",
    "    with torch.no_grad(): \n",
    "        for param in model.parameters():\n",
    "            param -= learning_rate * param.grad\n",
    "\n",
    "    model.zero_grad()\n",
    "\n",
    "    return(loss.item())"
   ]
  },
  {
   "cell_type": "code",
   "execution_count": 46,
   "metadata": {
    "id": "nG1SImTaouO3"
   },
   "outputs": [],
   "source": [
    "def train(model, n_epochs, batch_size, learning_rate,  X, y, X_test, y_test):\n",
    "    acc_train_all = []\n",
    "    loss_train_all = []\n",
    "    acc_test_all = []\n",
    "    loss_test_all = []\n",
    "\n",
    "    for epoch in range(n_epochs):\n",
    "\n",
    "        permutation = torch.randperm(X.size()[0])\n",
    "\n",
    "        for i in tqdm(range(0,X.float().size()[0], batch_size)):\n",
    "            indices = permutation[i:i+batch_size]\n",
    "            batch_x, batch_y = X[indices], y[indices]\n",
    "            batch_train(model, loss_fn, learning_rate, batch_x, batch_y)\n",
    "\n",
    "        y_test_pred = model(X_test)\n",
    "        y_train_pred = model(X)\n",
    "\n",
    "\n",
    "        acc_train = accuracy_score(y, y_train_pred.argmax(dim=1))\n",
    "        loss_train = loss_fn(y_train_pred, y).detach()\n",
    "        acc_test = accuracy_score(y_test, y_test_pred.argmax(dim=1))\n",
    "        loss_test = loss_fn(y_test_pred, y_test).detach()\n",
    "\n",
    "        acc_train_all = np.append(acc_train_all, acc_train)\n",
    "        loss_train_all = np.append(loss_train_all, loss_train)\n",
    "        acc_test_all = np.append(acc_test_all, acc_test)\n",
    "        loss_test_all = np.append(loss_test_all, loss_test)\n",
    "\n",
    "\n",
    "        print(f'Epoch {epoch}: \\n Accuracy - train: {acc_train} | test: {acc_test} \\n Loss - train: {loss_train} | test: {loss_test}')\n",
    "\n",
    "    return(acc_train_all, loss_train_all, acc_test_all, loss_test_all)"
   ]
  },
  {
   "cell_type": "code",
   "execution_count": 47,
   "metadata": {
    "id": "tvQm6qs8ouO6",
    "scrolled": true
   },
   "outputs": [
    {
     "name": "stderr",
     "output_type": "stream",
     "text": [
      "100%|██████████████████████████████████████████████████████████████████████████████████| 60/60 [00:02<00:00, 20.92it/s]\n"
     ]
    },
    {
     "name": "stdout",
     "output_type": "stream",
     "text": [
      "Epoch 0: \n",
      " Accuracy - train: 0.1997 | test: 0.1995 \n",
      " Loss - train: 2.216144323348999 | test: 2.2166857719421387\n"
     ]
    },
    {
     "name": "stderr",
     "output_type": "stream",
     "text": [
      "100%|██████████████████████████████████████████████████████████████████████████████████| 60/60 [00:01<00:00, 44.51it/s]\n"
     ]
    },
    {
     "name": "stdout",
     "output_type": "stream",
     "text": [
      "Epoch 1: \n",
      " Accuracy - train: 0.29506666666666664 | test: 0.2934 \n",
      " Loss - train: 2.1468052864074707 | test: 2.14788818359375\n"
     ]
    },
    {
     "name": "stderr",
     "output_type": "stream",
     "text": [
      "100%|██████████████████████████████████████████████████████████████████████████████████| 60/60 [00:01<00:00, 45.71it/s]\n"
     ]
    },
    {
     "name": "stdout",
     "output_type": "stream",
     "text": [
      "Epoch 2: \n",
      " Accuracy - train: 0.38613333333333333 | test: 0.3841 \n",
      " Loss - train: 2.106844186782837 | test: 2.1084773540496826\n"
     ]
    },
    {
     "name": "stderr",
     "output_type": "stream",
     "text": [
      "100%|██████████████████████████████████████████████████████████████████████████████████| 60/60 [00:01<00:00, 46.69it/s]\n"
     ]
    },
    {
     "name": "stdout",
     "output_type": "stream",
     "text": [
      "Epoch 3: \n",
      " Accuracy - train: 0.3857833333333333 | test: 0.382 \n",
      " Loss - train: 2.06917142868042 | test: 2.070736885070801\n"
     ]
    },
    {
     "name": "stderr",
     "output_type": "stream",
     "text": [
      "100%|██████████████████████████████████████████████████████████████████████████████████| 60/60 [00:01<00:00, 38.73it/s]\n"
     ]
    },
    {
     "name": "stdout",
     "output_type": "stream",
     "text": [
      "Epoch 4: \n",
      " Accuracy - train: 0.39493333333333336 | test: 0.3922 \n",
      " Loss - train: 2.042485475540161 | test: 2.044604778289795\n"
     ]
    },
    {
     "name": "stderr",
     "output_type": "stream",
     "text": [
      "100%|██████████████████████████████████████████████████████████████████████████████████| 60/60 [00:01<00:00, 32.44it/s]\n"
     ]
    },
    {
     "name": "stdout",
     "output_type": "stream",
     "text": [
      "Epoch 5: \n",
      " Accuracy - train: 0.5325666666666666 | test: 0.5275 \n",
      " Loss - train: 1.9851922988891602 | test: 1.9868369102478027\n"
     ]
    },
    {
     "name": "stderr",
     "output_type": "stream",
     "text": [
      "100%|██████████████████████████████████████████████████████████████████████████████████| 60/60 [00:01<00:00, 47.54it/s]\n"
     ]
    },
    {
     "name": "stdout",
     "output_type": "stream",
     "text": [
      "Epoch 6: \n",
      " Accuracy - train: 0.5372 | test: 0.5342 \n",
      " Loss - train: 1.953107476234436 | test: 1.9552134275436401\n"
     ]
    },
    {
     "name": "stderr",
     "output_type": "stream",
     "text": [
      "100%|██████████████████████████████████████████████████████████████████████████████████| 60/60 [00:01<00:00, 39.30it/s]\n"
     ]
    },
    {
     "name": "stdout",
     "output_type": "stream",
     "text": [
      "Epoch 7: \n",
      " Accuracy - train: 0.5793 | test: 0.5755 \n",
      " Loss - train: 1.9247756004333496 | test: 1.927567720413208\n"
     ]
    },
    {
     "name": "stderr",
     "output_type": "stream",
     "text": [
      "100%|██████████████████████████████████████████████████████████████████████████████████| 60/60 [00:01<00:00, 43.99it/s]\n"
     ]
    },
    {
     "name": "stdout",
     "output_type": "stream",
     "text": [
      "Epoch 8: \n",
      " Accuracy - train: 0.6395333333333333 | test: 0.6336 \n",
      " Loss - train: 1.8839006423950195 | test: 1.888049602508545\n"
     ]
    },
    {
     "name": "stderr",
     "output_type": "stream",
     "text": [
      "100%|██████████████████████████████████████████████████████████████████████████████████| 60/60 [00:01<00:00, 47.97it/s]\n"
     ]
    },
    {
     "name": "stdout",
     "output_type": "stream",
     "text": [
      "Epoch 9: \n",
      " Accuracy - train: 0.64025 | test: 0.6353 \n",
      " Loss - train: 1.8586381673812866 | test: 1.8631643056869507\n"
     ]
    }
   ],
   "source": [
    "n_epochs = 10\n",
    "batch_size = 1000\n",
    "learning_rate = 1\n",
    "model = Model()\n",
    "acc_train_all, loss_train_all, acc_test_all, loss_test_all = \\\n",
    "          train(model, n_epochs, batch_size, learning_rate, x_train_flat, y_train, x_test_flat, y_test)\n"
   ]
  },
  {
   "cell_type": "code",
   "execution_count": 48,
   "metadata": {
    "id": "xUytpKIuouO9"
   },
   "outputs": [],
   "source": [
    "def vis_history(acc_train_all, loss_train_all, acc_test_all, loss_test_all):\n",
    "    fig = plt.figure(figsize=(16, 4))\n",
    "\n",
    "    plt.subplot(1, 2, 1)\n",
    "\n",
    "    plt.plot(loss_train_all, label='loss')\n",
    "    plt.plot(loss_test_all, label='val_loss')\n",
    "\n",
    "    plt.legend()\n",
    "\n",
    "    plt.subplot(1, 2, 2)\n",
    "    plt.plot(acc_train_all, label='acc')\n",
    "    plt.plot(acc_test_all, label='val_acc')\n",
    "\n",
    "    plt.legend()\n",
    "    plt.show()"
   ]
  },
  {
   "cell_type": "code",
   "execution_count": 49,
   "metadata": {
    "id": "rchVUmigouO_"
   },
   "outputs": [
    {
     "data": {
      "image/png": "[encoded data removed]",
      "text/plain": [
       "<Figure size 1600x400 with 2 Axes>"
      ]
     },
     "metadata": {},
     "output_type": "display_data"
    }
   ],
   "source": [
    "vis_history(acc_train_all, loss_train_all, acc_test_all, loss_test_all)"
   ]
  },
  {
   "cell_type": "markdown",
   "metadata": {
    "id": "sdDt8drzouPE"
   },
   "source": [
    "<a id=\"3\"></a>\n",
    "# 3. Что мы можем улучшить?\n",
    "- Отнормировать признаки\n",
    "- Задать правила инициации весов\n",
    "- Выбрать функцию активации\n",
    "- Настроить скорость обучения"
   ]
  },
  {
   "cell_type": "markdown",
   "metadata": {
    "id": "EZWTYU3xouPE"
   },
   "source": [
    "<a id=\"3.1\"></a>\n",
    "## 3.1. Нормировка\n",
    "![picture](img/normalize.png)\n",
    "\n",
    "![img](img/batch_norm.png)"
   ]
  },
  {
   "cell_type": "code",
   "execution_count": 50,
   "metadata": {
    "id": "-D5UHislr4HQ"
   },
   "outputs": [],
   "source": [
    "import torch.nn.functional as F\n",
    "\n",
    "class ModelNorm(torch.nn.Module):\n",
    "    def __init__(self):\n",
    "        super(ModelNorm, self).__init__()\n",
    "        self.act1 = torch.nn.Sigmoid()\n",
    "        self.fc1 = torch.nn.Linear(D_in, 128)\n",
    "        self.bn1 = torch.nn.BatchNorm1d(128)\n",
    "        self.fc2 = torch.nn.Linear(128, 10)\n",
    "        self.bn2 = torch.nn.BatchNorm1d(10)\n",
    "        self.fc3 = torch.nn.Linear(10, D_out)\n",
    "        self.act2 = torch.nn.Softmax(dim=1)\n",
    "\n",
    "    def forward(self, x):\n",
    "        x = self.fc1(x)\n",
    "        x = self.bn1(x)\n",
    "        x = self.act1(x)\n",
    "        x = self.fc2(x)\n",
    "        x = self.bn2(x)\n",
    "        x = self.act1(x)\n",
    "        x = self.fc3(x)\n",
    "        x = self.act2(x)\n",
    "        return x\n",
    "\n",
    "model_norm = ModelNorm()"
   ]
  },
  {
   "cell_type": "code",
   "execution_count": 51,
   "metadata": {
    "id": "DDCj3aJBouPF"
   },
   "outputs": [],
   "source": [
    "mean = x_train_flat.mean()\n",
    "std = x_train_flat.std()\n",
    "\n",
    "x_train_norm = (x_train_flat - mean) / std\n",
    "x_test_norm = (x_test_flat - mean) / std"
   ]
  },
  {
   "cell_type": "code",
   "execution_count": 53,
   "metadata": {
    "id": "EkqCvSZzouPJ"
   },
   "outputs": [
    {
     "data": {
      "text/plain": [
       "(tensor(2.0224), tensor(-0.8103))"
      ]
     },
     "execution_count": 53,
     "metadata": {},
     "output_type": "execute_result"
    }
   ],
   "source": [
    "x_train_norm.max(), x_train_norm.min()"
   ]
  },
  {
   "cell_type": "code",
   "execution_count": 54,
   "metadata": {
    "id": "j8efS67TuNmA",
    "scrolled": true
   },
   "outputs": [
    {
     "name": "stderr",
     "output_type": "stream",
     "text": [
      "100%|██████████████████████████████████████████████████████████████████████████████████| 60/60 [00:01<00:00, 32.94it/s]\n"
     ]
    },
    {
     "name": "stdout",
     "output_type": "stream",
     "text": [
      "Epoch 0: \n",
      " Accuracy - train: 0.37566666666666665 | test: 0.3749 \n",
      " Loss - train: 2.1673827171325684 | test: 2.1673531532287598\n"
     ]
    },
    {
     "name": "stderr",
     "output_type": "stream",
     "text": [
      "100%|██████████████████████████████████████████████████████████████████████████████████| 60/60 [00:00<00:00, 65.06it/s]\n"
     ]
    },
    {
     "name": "stdout",
     "output_type": "stream",
     "text": [
      "Epoch 1: \n",
      " Accuracy - train: 0.47105 | test: 0.4706 \n",
      " Loss - train: 2.047064781188965 | test: 2.04723858833313\n"
     ]
    },
    {
     "name": "stderr",
     "output_type": "stream",
     "text": [
      "100%|██████████████████████████████████████████████████████████████████████████████████| 60/60 [00:01<00:00, 48.15it/s]\n"
     ]
    },
    {
     "name": "stdout",
     "output_type": "stream",
     "text": [
      "Epoch 2: \n",
      " Accuracy - train: 0.47868333333333335 | test: 0.4781 \n",
      " Loss - train: 1.9821490049362183 | test: 1.9832267761230469\n"
     ]
    },
    {
     "name": "stderr",
     "output_type": "stream",
     "text": [
      "100%|██████████████████████████████████████████████████████████████████████████████████| 60/60 [00:01<00:00, 46.06it/s]\n"
     ]
    },
    {
     "name": "stdout",
     "output_type": "stream",
     "text": [
      "Epoch 3: \n",
      " Accuracy - train: 0.5391166666666667 | test: 0.5374 \n",
      " Loss - train: 1.948373556137085 | test: 1.9500187635421753\n"
     ]
    },
    {
     "name": "stderr",
     "output_type": "stream",
     "text": [
      "100%|██████████████████████████████████████████████████████████████████████████████████| 60/60 [00:00<00:00, 68.28it/s]\n"
     ]
    },
    {
     "name": "stdout",
     "output_type": "stream",
     "text": [
      "Epoch 4: \n",
      " Accuracy - train: 0.5853666666666667 | test: 0.5817 \n",
      " Loss - train: 1.9067095518112183 | test: 1.9090784788131714\n"
     ]
    },
    {
     "name": "stderr",
     "output_type": "stream",
     "text": [
      "100%|██████████████████████████████████████████████████████████████████████████████████| 60/60 [00:00<00:00, 70.94it/s]\n"
     ]
    },
    {
     "name": "stdout",
     "output_type": "stream",
     "text": [
      "Epoch 5: \n",
      " Accuracy - train: 0.6997166666666667 | test: 0.6917 \n",
      " Loss - train: 1.8574193716049194 | test: 1.8609907627105713\n"
     ]
    },
    {
     "name": "stderr",
     "output_type": "stream",
     "text": [
      "100%|██████████████████████████████████████████████████████████████████████████████████| 60/60 [00:01<00:00, 59.19it/s]\n"
     ]
    },
    {
     "name": "stdout",
     "output_type": "stream",
     "text": [
      "Epoch 6: \n",
      " Accuracy - train: 0.7141 | test: 0.7087 \n",
      " Loss - train: 1.8095455169677734 | test: 1.8141376972198486\n"
     ]
    },
    {
     "name": "stderr",
     "output_type": "stream",
     "text": [
      "100%|██████████████████████████████████████████████████████████████████████████████████| 60/60 [00:01<00:00, 53.92it/s]\n"
     ]
    },
    {
     "name": "stdout",
     "output_type": "stream",
     "text": [
      "Epoch 7: \n",
      " Accuracy - train: 0.7215 | test: 0.7119 \n",
      " Loss - train: 1.7802424430847168 | test: 1.7876560688018799\n"
     ]
    },
    {
     "name": "stderr",
     "output_type": "stream",
     "text": [
      "100%|██████████████████████████████████████████████████████████████████████████████████| 60/60 [00:01<00:00, 57.51it/s]\n"
     ]
    },
    {
     "name": "stdout",
     "output_type": "stream",
     "text": [
      "Epoch 8: \n",
      " Accuracy - train: 0.7240833333333333 | test: 0.7175 \n",
      " Loss - train: 1.7661927938461304 | test: 1.7730997800827026\n"
     ]
    },
    {
     "name": "stderr",
     "output_type": "stream",
     "text": [
      "100%|██████████████████████████████████████████████████████████████████████████████████| 60/60 [00:00<00:00, 67.34it/s]\n"
     ]
    },
    {
     "name": "stdout",
     "output_type": "stream",
     "text": [
      "Epoch 9: \n",
      " Accuracy - train: 0.7286333333333334 | test: 0.7213 \n",
      " Loss - train: 1.75481379032135 | test: 1.7626523971557617\n"
     ]
    }
   ],
   "source": [
    "n_epochs = 10\n",
    "batch_size = 1000\n",
    "learning_rate = 1\n",
    "acc_train_all, loss_train_all, acc_test_all, loss_test_all = train(model_norm, n_epochs, batch_size, learning_rate,\n",
    "                                                                   x_train_norm, y_train, x_test_norm, y_test)\n"
   ]
  },
  {
   "cell_type": "code",
   "execution_count": 55,
   "metadata": {
    "id": "gm1OG8zyuNmC"
   },
   "outputs": [
    {
     "data": {
      "image/png": "[encoded data removed]",
      "text/plain": [
       "<Figure size 1600x400 with 2 Axes>"
      ]
     },
     "metadata": {},
     "output_type": "display_data"
    }
   ],
   "source": [
    "vis_history(acc_train_all, loss_train_all, acc_test_all, loss_test_all)"
   ]
  },
  {
   "cell_type": "markdown",
   "metadata": {
    "id": "eo3z_0ojqYaN"
   },
   "source": [
    "<a id=\"3.2\"></a>\n",
    "## 3.2. Функции активации\n",
    "![picture](img/activations.png)"
   ]
  },
  {
   "cell_type": "code",
   "execution_count": 56,
   "metadata": {
    "id": "yL5kSrl7wGT-"
   },
   "outputs": [],
   "source": [
    "class ModelReLU(torch.nn.Module):\n",
    "    def __init__(self):\n",
    "        super(ModelReLU, self).__init__()\n",
    "        self.act1 = torch.nn.ReLU()\n",
    "        self.fc1 = torch.nn.Linear(D_in, 128)\n",
    "        self.bn1 = torch.nn.BatchNorm1d(128)\n",
    "        self.fc2 = torch.nn.Linear(128, 10)\n",
    "        self.bn2 = torch.nn.BatchNorm1d(10)\n",
    "        self.fc3 = torch.nn.Linear(10, D_out)\n",
    "        self.act2 = torch.nn.Softmax(dim=1)\n",
    "\n",
    "    def forward(self, x):\n",
    "        x = self.fc1(x)\n",
    "        x = self.bn1(x)\n",
    "        x = self.act1(x)\n",
    "        x = self.fc2(x)\n",
    "        x = self.bn2(x)\n",
    "        x = self.act1(x)\n",
    "        x = self.fc3(x)\n",
    "        x = self.act2(x)\n",
    "        return x\n",
    "\n",
    "model_relu = ModelReLU()"
   ]
  },
  {
   "cell_type": "code",
   "execution_count": 57,
   "metadata": {
    "id": "IVgMmIa0wGUD",
    "scrolled": true
   },
   "outputs": [
    {
     "name": "stderr",
     "output_type": "stream",
     "text": [
      "100%|██████████████████████████████████████████████████████████████████████████████████| 60/60 [00:01<00:00, 38.49it/s]\n"
     ]
    },
    {
     "name": "stdout",
     "output_type": "stream",
     "text": [
      "Epoch 0: \n",
      " Accuracy - train: 0.7732 | test: 0.7686 \n",
      " Loss - train: 1.7364230155944824 | test: 1.7411953210830688\n"
     ]
    },
    {
     "name": "stderr",
     "output_type": "stream",
     "text": [
      "100%|██████████████████████████████████████████████████████████████████████████████████| 60/60 [00:00<00:00, 61.73it/s]\n"
     ]
    },
    {
     "name": "stdout",
     "output_type": "stream",
     "text": [
      "Epoch 1: \n",
      " Accuracy - train: 0.8141833333333334 | test: 0.8022 \n",
      " Loss - train: 1.659974455833435 | test: 1.6696525812149048\n"
     ]
    },
    {
     "name": "stderr",
     "output_type": "stream",
     "text": [
      "100%|██████████████████████████████████████████████████████████████████████████████████| 60/60 [00:00<00:00, 69.61it/s]\n"
     ]
    },
    {
     "name": "stdout",
     "output_type": "stream",
     "text": [
      "Epoch 2: \n",
      " Accuracy - train: 0.82785 | test: 0.8166 \n",
      " Loss - train: 1.6395565271377563 | test: 1.6508289575576782\n"
     ]
    },
    {
     "name": "stderr",
     "output_type": "stream",
     "text": [
      "100%|██████████████████████████████████████████████████████████████████████████████████| 60/60 [00:00<00:00, 81.22it/s]\n"
     ]
    },
    {
     "name": "stdout",
     "output_type": "stream",
     "text": [
      "Epoch 3: \n",
      " Accuracy - train: 0.82595 | test: 0.8111 \n",
      " Loss - train: 1.6405270099639893 | test: 1.6536669731140137\n"
     ]
    },
    {
     "name": "stderr",
     "output_type": "stream",
     "text": [
      "100%|██████████████████████████████████████████████████████████████████████████████████| 60/60 [00:00<00:00, 79.35it/s]\n"
     ]
    },
    {
     "name": "stdout",
     "output_type": "stream",
     "text": [
      "Epoch 4: \n",
      " Accuracy - train: 0.85255 | test: 0.8339 \n",
      " Loss - train: 1.620679259300232 | test: 1.637203574180603\n"
     ]
    },
    {
     "name": "stderr",
     "output_type": "stream",
     "text": [
      "100%|██████████████████████████████████████████████████████████████████████████████████| 60/60 [00:00<00:00, 68.66it/s]\n"
     ]
    },
    {
     "name": "stdout",
     "output_type": "stream",
     "text": [
      "Epoch 5: \n",
      " Accuracy - train: 0.8796 | test: 0.8582 \n",
      " Loss - train: 1.590839147567749 | test: 1.611696481704712\n"
     ]
    },
    {
     "name": "stderr",
     "output_type": "stream",
     "text": [
      "100%|██████████████████████████████████████████████████████████████████████████████████| 60/60 [00:00<00:00, 70.06it/s]\n"
     ]
    },
    {
     "name": "stdout",
     "output_type": "stream",
     "text": [
      "Epoch 6: \n",
      " Accuracy - train: 0.8841666666666667 | test: 0.8617 \n",
      " Loss - train: 1.5839976072311401 | test: 1.6053545475006104\n"
     ]
    },
    {
     "name": "stderr",
     "output_type": "stream",
     "text": [
      "100%|██████████████████████████████████████████████████████████████████████████████████| 60/60 [00:00<00:00, 64.93it/s]\n"
     ]
    },
    {
     "name": "stdout",
     "output_type": "stream",
     "text": [
      "Epoch 7: \n",
      " Accuracy - train: 0.8765166666666667 | test: 0.8524 \n",
      " Loss - train: 1.591023564338684 | test: 1.615029215812683\n"
     ]
    },
    {
     "name": "stderr",
     "output_type": "stream",
     "text": [
      "100%|██████████████████████████████████████████████████████████████████████████████████| 60/60 [00:00<00:00, 76.41it/s]\n"
     ]
    },
    {
     "name": "stdout",
     "output_type": "stream",
     "text": [
      "Epoch 8: \n",
      " Accuracy - train: 0.8994833333333333 | test: 0.8685 \n",
      " Loss - train: 1.5675485134124756 | test: 1.595285177230835\n"
     ]
    },
    {
     "name": "stderr",
     "output_type": "stream",
     "text": [
      "100%|██████████████████████████████████████████████████████████████████████████████████| 60/60 [00:00<00:00, 78.90it/s]\n"
     ]
    },
    {
     "name": "stdout",
     "output_type": "stream",
     "text": [
      "Epoch 9: \n",
      " Accuracy - train: 0.8983166666666667 | test: 0.87 \n",
      " Loss - train: 1.5679101943969727 | test: 1.5947786569595337\n"
     ]
    }
   ],
   "source": [
    "n_epochs = 10\n",
    "batch_size = 1000\n",
    "learning_rate = 1\n",
    "\n",
    "acc_train_all, loss_train_all, acc_test_all, loss_test_all = train(model_relu, n_epochs, batch_size, learning_rate, x_train_norm, y_train, x_test_norm, y_test)\n"
   ]
  },
  {
   "cell_type": "code",
   "execution_count": 58,
   "metadata": {
    "id": "4Mezplo7wGUH"
   },
   "outputs": [
    {
     "data": {
      "image/png": "[encoded data removed]",
      "text/plain": [
       "<Figure size 1600x400 with 2 Axes>"
      ]
     },
     "metadata": {},
     "output_type": "display_data"
    }
   ],
   "source": [
    "vis_history(acc_train_all, loss_train_all, acc_test_all, loss_test_all)"
   ]
  },
  {
   "cell_type": "markdown",
   "metadata": {
    "id": "T4BICv8uouPM"
   },
   "source": [
    "<a id=\"3.3\"></a>\n",
    "## 3.3. Инициализация весов"
   ]
  },
  {
   "cell_type": "markdown",
   "metadata": {},
   "source": [
    "__Случайно__  \n",
    "$ w = a * N(0, 1)$, но тогда если $a \\gg 1$, то на выходе $b\\gg1$ и если $a \\ll 1 $, то $b \\approx 0 $  \n",
    "\n",
    "$ D(w^T*x) = n*D(w)*D(x) $ar(x)\n",
    "\n",
    "__Xavier__  \n",
    "$a = \\frac{1}{\\sqrt{n}}$, где $n$ - кол-во нейронов на входе\n",
    "\n",
    "__He__  \n",
    "$a = \\frac{1}{\\sqrt{\\frac{n}{2}}}$, где $n$ - кол-во нейронов на входе"
   ]
  },
  {
   "cell_type": "code",
   "execution_count": 62,
   "metadata": {
    "id": "XswYTN_LouPM"
   },
   "outputs": [],
   "source": [
    "def init_weights(m):\n",
    "    if type(m) == torch.nn.Linear:\n",
    "        torch.nn.init.kaiming_normal_(m.weight)\n",
    "        m.bias.data.fill_(0.01)"
   ]
  },
  {
   "cell_type": "markdown",
   "metadata": {
    "id": "aZ4-dwjOouPO"
   },
   "source": [
    "Применим к модели  функцию инициации весов с помощью метода .apply()"
   ]
  },
  {
   "cell_type": "code",
   "execution_count": 63,
   "metadata": {
    "id": "be7BL4lqIahs"
   },
   "outputs": [],
   "source": [
    "model_relu = ModelReLU()"
   ]
  },
  {
   "cell_type": "code",
   "execution_count": 64,
   "metadata": {
    "id": "7aPFssk4ouPP"
   },
   "outputs": [],
   "source": [
    "model_he = model_relu.apply(init_weights)"
   ]
  },
  {
   "cell_type": "code",
   "execution_count": 65,
   "metadata": {
    "id": "mcBd7Ot3ouPR",
    "scrolled": true
   },
   "outputs": [
    {
     "name": "stderr",
     "output_type": "stream",
     "text": [
      "100%|██████████████████████████████████████████████████████████████████████████████████| 60/60 [00:03<00:00, 16.50it/s]\n"
     ]
    },
    {
     "name": "stdout",
     "output_type": "stream",
     "text": [
      "Epoch 0: \n",
      " Accuracy - train: 0.7797 | test: 0.7658 \n",
      " Loss - train: 1.7354803085327148 | test: 1.7471531629562378\n"
     ]
    },
    {
     "name": "stderr",
     "output_type": "stream",
     "text": [
      "100%|██████████████████████████████████████████████████████████████████████████████████| 60/60 [00:01<00:00, 46.29it/s]\n"
     ]
    },
    {
     "name": "stdout",
     "output_type": "stream",
     "text": [
      "Epoch 1: \n",
      " Accuracy - train: 0.8500166666666666 | test: 0.8311 \n",
      " Loss - train: 1.6289207935333252 | test: 1.6442091464996338\n"
     ]
    },
    {
     "name": "stderr",
     "output_type": "stream",
     "text": [
      "100%|██████████████████████████████████████████████████████████████████████████████████| 60/60 [00:01<00:00, 42.01it/s]\n"
     ]
    },
    {
     "name": "stdout",
     "output_type": "stream",
     "text": [
      "Epoch 2: \n",
      " Accuracy - train: 0.8624333333333334 | test: 0.8419 \n",
      " Loss - train: 1.6115235090255737 | test: 1.6299735307693481\n"
     ]
    },
    {
     "name": "stderr",
     "output_type": "stream",
     "text": [
      "100%|██████████████████████████████████████████████████████████████████████████████████| 60/60 [00:01<00:00, 44.12it/s]\n"
     ]
    },
    {
     "name": "stdout",
     "output_type": "stream",
     "text": [
      "Epoch 3: \n",
      " Accuracy - train: 0.874 | test: 0.8496 \n",
      " Loss - train: 1.5972797870635986 | test: 1.6175329685211182\n"
     ]
    },
    {
     "name": "stderr",
     "output_type": "stream",
     "text": [
      "100%|██████████████████████████████████████████████████████████████████████████████████| 60/60 [00:01<00:00, 47.39it/s]\n"
     ]
    },
    {
     "name": "stdout",
     "output_type": "stream",
     "text": [
      "Epoch 4: \n",
      " Accuracy - train: 0.8822833333333333 | test: 0.8568 \n",
      " Loss - train: 1.5874032974243164 | test: 1.6093482971191406\n"
     ]
    },
    {
     "name": "stderr",
     "output_type": "stream",
     "text": [
      "100%|██████████████████████████████████████████████████████████████████████████████████| 60/60 [00:01<00:00, 33.54it/s]\n"
     ]
    },
    {
     "name": "stdout",
     "output_type": "stream",
     "text": [
      "Epoch 5: \n",
      " Accuracy - train: 0.8732333333333333 | test: 0.8507 \n",
      " Loss - train: 1.5946539640426636 | test: 1.6154102087020874\n"
     ]
    },
    {
     "name": "stderr",
     "output_type": "stream",
     "text": [
      "100%|██████████████████████████████████████████████████████████████████████████████████| 60/60 [00:01<00:00, 43.45it/s]\n"
     ]
    },
    {
     "name": "stdout",
     "output_type": "stream",
     "text": [
      "Epoch 6: \n",
      " Accuracy - train: 0.8883 | test: 0.8593 \n",
      " Loss - train: 1.5784499645233154 | test: 1.6056143045425415\n"
     ]
    },
    {
     "name": "stderr",
     "output_type": "stream",
     "text": [
      "100%|██████████████████████████████████████████████████████████████████████████████████| 60/60 [00:01<00:00, 52.76it/s]\n"
     ]
    },
    {
     "name": "stdout",
     "output_type": "stream",
     "text": [
      "Epoch 7: \n",
      " Accuracy - train: 0.896 | test: 0.8656 \n",
      " Loss - train: 1.571360468864441 | test: 1.5995221138000488\n"
     ]
    },
    {
     "name": "stderr",
     "output_type": "stream",
     "text": [
      "100%|██████████████████████████████████████████████████████████████████████████████████| 60/60 [00:01<00:00, 47.68it/s]\n"
     ]
    },
    {
     "name": "stdout",
     "output_type": "stream",
     "text": [
      "Epoch 8: \n",
      " Accuracy - train: 0.8899333333333334 | test: 0.8611 \n",
      " Loss - train: 1.5759036540985107 | test: 1.6044392585754395\n"
     ]
    },
    {
     "name": "stderr",
     "output_type": "stream",
     "text": [
      "100%|██████████████████████████████████████████████████████████████████████████████████| 60/60 [00:01<00:00, 50.99it/s]\n"
     ]
    },
    {
     "name": "stdout",
     "output_type": "stream",
     "text": [
      "Epoch 9: \n",
      " Accuracy - train: 0.9015 | test: 0.8691 \n",
      " Loss - train: 1.5646836757659912 | test: 1.5946650505065918\n"
     ]
    }
   ],
   "source": [
    "n_epochs = 10\n",
    "batch_size = 1000\n",
    "learning_rate = 1\n",
    "\n",
    "acc_train_all, loss_train_all, acc_test_all, loss_test_all = train(model_he, n_epochs, batch_size, learning_rate,\n",
    "                                                                   x_train_norm, y_train, x_test_norm, y_test)\n"
   ]
  },
  {
   "cell_type": "code",
   "execution_count": 66,
   "metadata": {
    "id": "7GnH4Sj6ouPT"
   },
   "outputs": [
    {
     "data": {
      "image/png": "[encoded data removed]",
      "text/plain": [
       "<Figure size 1600x400 with 2 Axes>"
      ]
     },
     "metadata": {},
     "output_type": "display_data"
    }
   ],
   "source": [
    "vis_history(acc_train_all, loss_train_all, acc_test_all, loss_test_all)"
   ]
  },
  {
   "cell_type": "markdown",
   "metadata": {
    "id": "rUS8D8PdouPe"
   },
   "source": [
    "<a id=\"3.4\"></a>\n",
    "## 3.4. Влияние метода оптимизации градиентного спуска"
   ]
  },
  {
   "attachments": {},
   "cell_type": "markdown",
   "metadata": {
    "id": "MSPLQfCrouPe"
   },
   "source": [
    "![picture](img/optimizers7.gif)\n",
    "\n",
    "**Momentum**\n",
    "\n",
    "![img](img/momentum_formula.png)\n",
    "\n",
    "Вместо того, чтобы использовать только градиент текущего шага, мы будем накапливать импульс градиента прошлых шагов для определения направления движения.\n",
    "![img](img/momentum.jpg)\n",
    "\n",
    "В связи со стохастической природой, обновления градиента происходят \"зигзагообразно\", с помощью момента мы усиливаем движение вдоль основного направления. На практике коэффициент у момента инициализируется на уровне 0,5 и постепенно увеличивается до 0,9 в течение нескольких эпох.\n",
    "![img](img/sgd_momentum.jpg)\n",
    "  \n",
    "**RMSProp** (Root Mean Square Propogation)\n",
    "\n",
    "Покомпонентно накапливаем квадрат векторов градиентов и используем в качестве нормировки. Коэффициент $\\beta$ отвечает за то, что нам важнее сохранить, предыдущие градиенты или новые.\n",
    "\n",
    "![image](img/rmsprop.png)\n",
    "\n",
    "**Adam** (Adaptive momentum)\n",
    "\n",
    "Используем и накопленный импульс, и накопленный квадрат градиентов\n",
    "\n",
    "![image](img/adam.png)новления весов для типичных признаков"
   ]
  },
  {
   "cell_type": "markdown",
   "metadata": {
    "id": "UeZNsbc8DCpG"
   },
   "source": [
    "### Update batch train"
   ]
  },
  {
   "cell_type": "code",
   "execution_count": 67,
   "metadata": {
    "id": "x-1WqtKJouPh"
   },
   "outputs": [],
   "source": [
    "def batch_train(model, optimizer, x, y):\n",
    "    y_pred = model(x)\n",
    "    loss = loss_fn(y_pred, y)\n",
    "    model.zero_grad()\n",
    "    loss.backward()\n",
    "    optimizer.step()\n",
    "    return (loss.item())"
   ]
  },
  {
   "cell_type": "markdown",
   "metadata": {
    "id": "fSwkCFvNDVL8"
   },
   "source": [
    "### Prepare models"
   ]
  },
  {
   "cell_type": "code",
   "execution_count": 68,
   "metadata": {
    "id": "eqxjE2MBDXTv"
   },
   "outputs": [],
   "source": [
    "model_relu = ModelReLU()\n",
    "model_he_SGD = model_relu.apply(init_weights)"
   ]
  },
  {
   "cell_type": "code",
   "execution_count": 69,
   "metadata": {
    "id": "dKCYT_k0DjZC"
   },
   "outputs": [],
   "source": [
    "model_relu = ModelReLU()\n",
    "model_he_Momentum = model_relu.apply(init_weights)"
   ]
  },
  {
   "cell_type": "code",
   "execution_count": 70,
   "metadata": {
    "id": "RZwTimzDDjcJ"
   },
   "outputs": [],
   "source": [
    "model_relu = ModelReLU()\n",
    "model_he_Adam = model_relu.apply(init_weights)"
   ]
  },
  {
   "cell_type": "markdown",
   "metadata": {
    "id": "SGlQF6QNDIDr"
   },
   "source": [
    "### Prepare optimizers"
   ]
  },
  {
   "cell_type": "code",
   "execution_count": 71,
   "metadata": {
    "id": "kiNYQh0fouPe"
   },
   "outputs": [],
   "source": [
    "optimizerSGD = torch.optim.SGD(model_he_SGD.parameters(), lr=0.01, momentum=0.0)"
   ]
  },
  {
   "cell_type": "code",
   "execution_count": 72,
   "metadata": {
    "id": "QGBGQLx-DLTY"
   },
   "outputs": [],
   "source": [
    "optimizerMomentum = torch.optim.SGD(model_he_Momentum.parameters(), lr=0.01, momentum=0.9)"
   ]
  },
  {
   "cell_type": "code",
   "execution_count": 73,
   "metadata": {
    "id": "hhsdruqUDLWv"
   },
   "outputs": [],
   "source": [
    "optimizerAdam = torch.optim.Adam(model_he_Adam.parameters(), lr=0.01)"
   ]
  },
  {
   "cell_type": "markdown",
   "metadata": {
    "id": "ygKUF5dZErqk"
   },
   "source": [
    "### Train"
   ]
  },
  {
   "cell_type": "code",
   "execution_count": 74,
   "metadata": {
    "id": "l1nZ_qEQouPj",
    "scrolled": true
   },
   "outputs": [
    {
     "name": "stderr",
     "output_type": "stream",
     "text": [
      "100%|██████████████████████████████████████████████████████████████████████████████████| 60/60 [00:03<00:00, 15.75it/s]\n"
     ]
    },
    {
     "name": "stdout",
     "output_type": "stream",
     "text": [
      " SGD Epoch: 0 loss 2.2566235065460205\n",
      " Momentum Epoch: 0 loss 2.079772710800171\n",
      " Adam Epoch: 0 loss 1.6789816617965698\n"
     ]
    },
    {
     "name": "stderr",
     "output_type": "stream",
     "text": [
      "100%|██████████████████████████████████████████████████████████████████████████████████| 60/60 [00:02<00:00, 28.01it/s]\n"
     ]
    },
    {
     "name": "stdout",
     "output_type": "stream",
     "text": [
      " SGD Epoch: 1 loss 2.191195487976074\n",
      " Momentum Epoch: 1 loss 1.9489392042160034\n",
      " Adam Epoch: 1 loss 1.6228690147399902\n"
     ]
    },
    {
     "name": "stderr",
     "output_type": "stream",
     "text": [
      "100%|██████████████████████████████████████████████████████████████████████████████████| 60/60 [00:02<00:00, 26.43it/s]\n"
     ]
    },
    {
     "name": "stdout",
     "output_type": "stream",
     "text": [
      " SGD Epoch: 2 loss 2.1494593620300293\n",
      " Momentum Epoch: 2 loss 1.8762258291244507\n",
      " Adam Epoch: 2 loss 1.6125329732894897\n"
     ]
    },
    {
     "name": "stderr",
     "output_type": "stream",
     "text": [
      "100%|██████████████████████████████████████████████████████████████████████████████████| 60/60 [00:01<00:00, 31.50it/s]\n"
     ]
    },
    {
     "name": "stdout",
     "output_type": "stream",
     "text": [
      " SGD Epoch: 3 loss 2.1219184398651123\n",
      " Momentum Epoch: 3 loss 1.8312804698944092\n",
      " Adam Epoch: 3 loss 1.5944569110870361\n"
     ]
    },
    {
     "name": "stderr",
     "output_type": "stream",
     "text": [
      "100%|██████████████████████████████████████████████████████████████████████████████████| 60/60 [00:02<00:00, 24.47it/s]\n"
     ]
    },
    {
     "name": "stdout",
     "output_type": "stream",
     "text": [
      " SGD Epoch: 4 loss 2.102182149887085\n",
      " Momentum Epoch: 4 loss 1.8013172149658203\n",
      " Adam Epoch: 4 loss 1.5959798097610474\n"
     ]
    },
    {
     "name": "stderr",
     "output_type": "stream",
     "text": [
      "100%|██████████████████████████████████████████████████████████████████████████████████| 60/60 [00:02<00:00, 24.59it/s]\n"
     ]
    },
    {
     "name": "stdout",
     "output_type": "stream",
     "text": [
      " SGD Epoch: 5 loss 2.0874037742614746\n",
      " Momentum Epoch: 5 loss 1.7826497554779053\n",
      " Adam Epoch: 5 loss 1.5950936079025269\n"
     ]
    },
    {
     "name": "stderr",
     "output_type": "stream",
     "text": [
      "100%|██████████████████████████████████████████████████████████████████████████████████| 60/60 [00:01<00:00, 30.46it/s]\n"
     ]
    },
    {
     "name": "stdout",
     "output_type": "stream",
     "text": [
      " SGD Epoch: 6 loss 2.075228214263916\n",
      " Momentum Epoch: 6 loss 1.7697603702545166\n",
      " Adam Epoch: 6 loss 1.588870644569397\n"
     ]
    },
    {
     "name": "stderr",
     "output_type": "stream",
     "text": [
      "100%|██████████████████████████████████████████████████████████████████████████████████| 60/60 [00:01<00:00, 31.08it/s]\n"
     ]
    },
    {
     "name": "stdout",
     "output_type": "stream",
     "text": [
      " SGD Epoch: 7 loss 2.064675807952881\n",
      " Momentum Epoch: 7 loss 1.7606980800628662\n",
      " Adam Epoch: 7 loss 1.5901989936828613\n"
     ]
    },
    {
     "name": "stderr",
     "output_type": "stream",
     "text": [
      "100%|██████████████████████████████████████████████████████████████████████████████████| 60/60 [00:02<00:00, 29.57it/s]\n"
     ]
    },
    {
     "name": "stdout",
     "output_type": "stream",
     "text": [
      " SGD Epoch: 8 loss 2.055309295654297\n",
      " Momentum Epoch: 8 loss 1.7533127069473267\n",
      " Adam Epoch: 8 loss 1.5880059003829956\n"
     ]
    },
    {
     "name": "stderr",
     "output_type": "stream",
     "text": [
      "100%|██████████████████████████████████████████████████████████████████████████████████| 60/60 [00:01<00:00, 33.10it/s]\n"
     ]
    },
    {
     "name": "stdout",
     "output_type": "stream",
     "text": [
      " SGD Epoch: 9 loss 2.04687762260437\n",
      " Momentum Epoch: 9 loss 1.7467961311340332\n",
      " Adam Epoch: 9 loss 1.5872024297714233\n"
     ]
    }
   ],
   "source": [
    "n_epochs = 10\n",
    "batch_size = 1000\n",
    "\n",
    "\n",
    "loss_test_sgd = []\n",
    "loss_test_sgd_moment = []\n",
    "loss_test_adam = []\n",
    "\n",
    "for epoch in range(n_epochs):\n",
    "\n",
    "    permutation = torch.randperm(x_train_norm.size()[0])\n",
    "\n",
    "    for i in tqdm(range(0,x_train_norm.float().size()[0], batch_size)):\n",
    "        indices = permutation[i:i+batch_size]\n",
    "        batch_x, batch_y = x_train_norm[indices], y_train[indices]\n",
    "        batch_train(model_he_SGD, optimizerSGD, batch_x, batch_y)\n",
    "        batch_train(model_he_Momentum, optimizerMomentum, batch_x, batch_y)\n",
    "        batch_train(model_he_Adam, optimizerAdam, batch_x, batch_y)\n",
    "\n",
    "    y_test_pred = model_he_SGD(x_test_norm)\n",
    "    loss_train = loss_fn(y_test_pred, y_test).detach().numpy()\n",
    "    print(f' SGD Epoch: {epoch} loss {loss_train}')\n",
    "    loss_test_sgd.append(loss_train)\n",
    "\n",
    "    y_test_pred = model_he_Momentum(x_test_norm)\n",
    "    loss_train = loss_fn(y_test_pred, y_test).detach().numpy()\n",
    "    print(f' Momentum Epoch: {epoch} loss {loss_train}')\n",
    "    loss_test_sgd_moment.append(loss_train)\n",
    "\n",
    "    y_test_pred = model_he_Adam(x_test_norm)\n",
    "    loss_train = loss_fn(y_test_pred, y_test).detach().numpy()\n",
    "    print(f' Adam Epoch: {epoch} loss {loss_train}')\n",
    "    loss_test_adam.append(loss_train)"
   ]
  },
  {
   "cell_type": "code",
   "execution_count": 75,
   "metadata": {
    "id": "CN6ZsupyouPm"
   },
   "outputs": [
    {
     "data": {
      "image/png": "[encoded data removed]",
      "text/plain": [
       "<Figure size 1600x400 with 1 Axes>"
      ]
     },
     "metadata": {},
     "output_type": "display_data"
    }
   ],
   "source": [
    "fig = plt.figure(figsize=(16, 4))\n",
    "\n",
    "plt.plot(loss_test_sgd, label='SGD')\n",
    "plt.plot(loss_test_sgd_moment, label='SGD with momentum')\n",
    "plt.plot(loss_test_adam, label='Adam')\n",
    "\n",
    "plt.legend()\n",
    "plt.show()"
   ]
  },
  {
   "cell_type": "markdown",
   "metadata": {
    "id": "UA9GBCWtouPW"
   },
   "source": [
    "<a id=\"3.5\"></a>\n",
    "## 3.5. Влияние скорости обучения\n",
    "Посмотрим, как влияет параметр `learning_rate` на качество нашей модели на обучающей выборке"
   ]
  },
  {
   "cell_type": "code",
   "execution_count": 76,
   "metadata": {
    "id": "Gdic06-GIdKV"
   },
   "outputs": [],
   "source": [
    "model_relu = ModelReLU()\n",
    "model_he_Adam = model_relu.apply(init_weights)"
   ]
  },
  {
   "cell_type": "code",
   "execution_count": 77,
   "metadata": {
    "id": "-Xjy5SIYIgzz"
   },
   "outputs": [],
   "source": [
    "optimizerAdam = torch.optim.Adam(model_he_Adam.parameters(), lr=0.01)"
   ]
  },
  {
   "cell_type": "code",
   "execution_count": 78,
   "metadata": {
    "id": "cdnAz8odIYLg"
   },
   "outputs": [],
   "source": [
    "import torch.optim.lr_scheduler as lr_scheduler\n",
    "\n",
    "scheduler = lr_scheduler.LinearLR(optimizerAdam, start_factor=1.0, end_factor=0.01, total_iters=10)"
   ]
  },
  {
   "cell_type": "code",
   "execution_count": 79,
   "metadata": {
    "id": "mywM8rbdKOJW"
   },
   "outputs": [],
   "source": [
    "def train(model, optimizer, scheduler, n_epochs, batch_size,  X, y, X_test, y_test):\n",
    "    acc_train_all = []\n",
    "    loss_train_all = []\n",
    "    acc_test_all = []\n",
    "    loss_test_all = []\n",
    "\n",
    "    for epoch in range(n_epochs):\n",
    "\n",
    "        permutation = torch.randperm(X.size()[0])\n",
    "\n",
    "        for i in tqdm(range(0,X.float().size()[0], batch_size)):\n",
    "            indices = permutation[i:i+batch_size]\n",
    "            batch_x, batch_y = X[indices], y[indices]\n",
    "            batch_train(model, optimizer, batch_x, batch_y)\n",
    "\n",
    "        scheduler.step()\n",
    "\n",
    "        y_test_pred = model(X_test)\n",
    "        y_train_pred = model(X)\n",
    "\n",
    "\n",
    "        acc_train = accuracy_score(y, y_train_pred.argmax(dim=1))\n",
    "        loss_train = loss_fn(y_train_pred, y).detach()\n",
    "        acc_test = accuracy_score(y_test, y_test_pred.argmax(dim=1))\n",
    "        loss_test = loss_fn(y_test_pred, y_test).detach()\n",
    "\n",
    "        acc_train_all = np.append(acc_train_all, acc_train)\n",
    "        loss_train_all = np.append(loss_train_all, loss_train)\n",
    "        acc_test_all = np.append(acc_test_all, acc_test)\n",
    "        loss_test_all = np.append(loss_test_all, loss_test)\n",
    "\n",
    "\n",
    "        print(f'Epoch {epoch}: \\n Accuracy - train: {acc_train} | test: {acc_test} \\n Loss - train: {loss_train} | test: {loss_test}')\n",
    "\n",
    "    return(acc_train_all, loss_train_all, acc_test_all, loss_test_all)"
   ]
  },
  {
   "cell_type": "code",
   "execution_count": 80,
   "metadata": {
    "id": "sP8QSOGDouPZ",
    "scrolled": true
   },
   "outputs": [
    {
     "name": "stderr",
     "output_type": "stream",
     "text": [
      "100%|██████████████████████████████████████████████████████████████████████████████████| 60/60 [00:00<00:00, 65.59it/s]\n"
     ]
    },
    {
     "name": "stdout",
     "output_type": "stream",
     "text": [
      "Epoch 0: \n",
      " Accuracy - train: 0.8123 | test: 0.8001 \n",
      " Loss - train: 1.6688268184661865 | test: 1.6787445545196533\n"
     ]
    },
    {
     "name": "stderr",
     "output_type": "stream",
     "text": [
      "100%|██████████████████████████████████████████████████████████████████████████████████| 60/60 [00:00<00:00, 83.26it/s]\n"
     ]
    },
    {
     "name": "stdout",
     "output_type": "stream",
     "text": [
      "Epoch 1: \n",
      " Accuracy - train: 0.8577333333333333 | test: 0.843 \n",
      " Loss - train: 1.6201103925704956 | test: 1.635166883468628\n"
     ]
    },
    {
     "name": "stderr",
     "output_type": "stream",
     "text": [
      "100%|██████████████████████████████████████████████████████████████████████████████████| 60/60 [00:00<00:00, 83.48it/s]\n"
     ]
    },
    {
     "name": "stdout",
     "output_type": "stream",
     "text": [
      "Epoch 2: \n",
      " Accuracy - train: 0.8784 | test: 0.8536 \n",
      " Loss - train: 1.5919415950775146 | test: 1.612781047821045\n"
     ]
    },
    {
     "name": "stderr",
     "output_type": "stream",
     "text": [
      "100%|██████████████████████████████████████████████████████████████████████████████████| 60/60 [00:00<00:00, 78.88it/s]\n"
     ]
    },
    {
     "name": "stdout",
     "output_type": "stream",
     "text": [
      "Epoch 3: \n",
      " Accuracy - train: 0.8913833333333333 | test: 0.8683 \n",
      " Loss - train: 1.5763916969299316 | test: 1.598333477973938\n"
     ]
    },
    {
     "name": "stderr",
     "output_type": "stream",
     "text": [
      "100%|██████████████████████████████████████████████████████████████████████████████████| 60/60 [00:00<00:00, 80.58it/s]\n"
     ]
    },
    {
     "name": "stdout",
     "output_type": "stream",
     "text": [
      "Epoch 4: \n",
      " Accuracy - train: 0.8921333333333333 | test: 0.8671 \n",
      " Loss - train: 1.5740901231765747 | test: 1.5974031686782837\n"
     ]
    },
    {
     "name": "stderr",
     "output_type": "stream",
     "text": [
      "100%|██████████████████████████████████████████████████████████████████████████████████| 60/60 [00:00<00:00, 81.39it/s]\n"
     ]
    },
    {
     "name": "stdout",
     "output_type": "stream",
     "text": [
      "Epoch 5: \n",
      " Accuracy - train: 0.9037 | test: 0.8744 \n",
      " Loss - train: 1.5627244710922241 | test: 1.5897635221481323\n"
     ]
    },
    {
     "name": "stderr",
     "output_type": "stream",
     "text": [
      "100%|██████████████████████████████████████████████████████████████████████████████████| 60/60 [00:00<00:00, 80.13it/s]\n"
     ]
    },
    {
     "name": "stdout",
     "output_type": "stream",
     "text": [
      "Epoch 6: \n",
      " Accuracy - train: 0.9028666666666667 | test: 0.873 \n",
      " Loss - train: 1.5634841918945312 | test: 1.5917366743087769\n"
     ]
    },
    {
     "name": "stderr",
     "output_type": "stream",
     "text": [
      "100%|██████████████████████████████████████████████████████████████████████████████████| 60/60 [00:00<00:00, 66.14it/s]\n"
     ]
    },
    {
     "name": "stdout",
     "output_type": "stream",
     "text": [
      "Epoch 7: \n",
      " Accuracy - train: 0.9106833333333333 | test: 0.879 \n",
      " Loss - train: 1.5553414821624756 | test: 1.585669994354248\n"
     ]
    },
    {
     "name": "stderr",
     "output_type": "stream",
     "text": [
      "100%|██████████████████████████████████████████████████████████████████████████████████| 60/60 [00:00<00:00, 73.51it/s]\n"
     ]
    },
    {
     "name": "stdout",
     "output_type": "stream",
     "text": [
      "Epoch 8: \n",
      " Accuracy - train: 0.91695 | test: 0.8778 \n",
      " Loss - train: 1.549241304397583 | test: 1.5843151807785034\n"
     ]
    },
    {
     "name": "stderr",
     "output_type": "stream",
     "text": [
      "100%|██████████████████████████████████████████████████████████████████████████████████| 60/60 [00:01<00:00, 58.75it/s]\n"
     ]
    },
    {
     "name": "stdout",
     "output_type": "stream",
     "text": [
      "Epoch 9: \n",
      " Accuracy - train: 0.9197666666666666 | test: 0.8807 \n",
      " Loss - train: 1.5464704036712646 | test: 1.582554578781128\n"
     ]
    }
   ],
   "source": [
    "n_epochs = 10\n",
    "batch_size = 1000\n",
    "\n",
    "acc_train_all, loss_train_all, acc_test_all, loss_test_all = train(model_he_Adam, optimizerAdam, scheduler, n_epochs, batch_size,\n",
    "                                                                    x_train_norm, y_train, x_test_norm, y_test)"
   ]
  },
  {
   "cell_type": "code",
   "execution_count": 81,
   "metadata": {
    "id": "_uw84G_DouPb"
   },
   "outputs": [
    {
     "data": {
      "image/png": "[encoded data removed]",
      "text/plain": [
       "<Figure size 1600x400 with 2 Axes>"
      ]
     },
     "metadata": {},
     "output_type": "display_data"
    }
   ],
   "source": [
    "vis_history(acc_train_all, loss_train_all, acc_test_all, loss_test_all)"
   ]
  },
  {
   "cell_type": "markdown",
   "metadata": {
    "id": "iKGry9LYouPo"
   },
   "source": [
    "<a id=\"4\"></a>\n",
    "# 4. Полезные ссылки\n",
    "- [Курс \"Deep learning на пальцах\", лекция 4](https://youtu.be/tnrbx7V9RbA)\n",
    "- [Статья: Методы оптимизации нейронных сетей](https://habr.com/ru/post/318970/)\n",
    "- YSDA [Practical RL course week04 materials](https://github.com/yandexdataschool/Practical_RL/tree/master/week04_%5Brecap%5D_deep_learning).\n",
    "- PyTorch official tutorials and [this kaggle kernel](https://www.kaggle.com/pinocookie/pytorch-dataset-and-dataloader)\n",
    "- PyTorch tutorial by [Stanford CS 231n course](http://cs231n.stanford.edu)\n",
    "\n",
    "Полезные ссылки 2.0:\n",
    "- [Инициализация весов](https://machinelearningmastery.com/weight-initialization-for-deep-learning-neural-networks/)\n",
    "- [Почему инициализация весов нулями плохая идея?](https://habr.com/ru/articles/592711/)\n",
    "- [Тонкости обучения нейронных сетей](https://education.yandex.ru/handbook/ml/article/tonkosti-obucheniya#inicializiruem-pravilno): инициализация, оптимизация, регуляризация\n",
    "- [Подробнее про оптимизацию](https://education.yandex.ru/handbook/ml/article/optimizaciya-v-ml)"
   ]
  },
  {
   "cell_type": "code",
   "execution_count": null,
   "metadata": {},
   "outputs": [],
   "source": []
  }
 ],
 "metadata": {
  "accelerator": "GPU",
  "colab": {
   "provenance": [],
   "toc_visible": true
  },
  "kernelspec": {
   "display_name": "Python 3 (ipykernel)",
   "language": "python",
   "name": "python3"
  },
  "language_info": {
   "codemirror_mode": {
    "name": "ipython",
    "version": 3
   },
   "file_extension": ".py",
   "mimetype": "text/x-python",
   "name": "python",
   "nbconvert_exporter": "python",
   "pygments_lexer": "ipython3",
   "version": "3.11.5"
  }
 },
 "nbformat": 4,
 "nbformat_minor": 4
}
