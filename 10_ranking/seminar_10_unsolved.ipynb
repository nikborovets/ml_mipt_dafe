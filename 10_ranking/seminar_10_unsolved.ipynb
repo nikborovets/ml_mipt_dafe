{
 "cells": [
  {
   "cell_type": "markdown",
   "id": "2b8978a6-8494-42a0-84df-36569f26a074",
   "metadata": {
    "tags": []
   },
   "source": [
    "# Семинар 10 - Ранжирование на деревянных моделях"
   ]
  },
  {
   "cell_type": "code",
   "execution_count": 2,
   "id": "d254fb0b-17d4-47ab-9fc4-4a97c77bda75",
   "metadata": {},
   "outputs": [
    {
     "name": "stderr",
     "output_type": "stream",
     "text": [
      "D:\\Anaconda3\\Lib\\site-packages\\pandas\\core\\arrays\\masked.py:60: UserWarning: Pandas requires version '1.3.6' or newer of 'bottleneck' (version '1.3.5' currently installed).\n",
      "  from pandas.core import (\n"
     ]
    }
   ],
   "source": [
    "import numpy as np\n",
    "import pandas as pd\n",
    "import torch\n",
    "\n",
    "import math\n",
    "\n",
    "import numpy as np\n",
    "import torch\n",
    "from catboost.datasets import msrank_10k\n",
    "from sklearn.preprocessing import StandardScaler\n",
    "from tqdm.auto import tqdm\n",
    "import matplotlib.pyplot as plt\n",
    "\n",
    "from typing import List\n",
    "\n",
    "from utils import dcg, ndcg\n",
    "\n",
    "seed = 42\n",
    "np.random.seed(seed)"
   ]
  },
  {
   "cell_type": "markdown",
   "id": "322719c7-6662-4831-bdcd-4c00ef126418",
   "metadata": {},
   "source": [
    "<a id=\"Content\"></a>\n",
    "# Содержание\n",
    "0. [ListNet](#0)\n",
    "   - [Подготовка данных](#0.1)\n",
    "   - [Подготовка этапов обучения](#0.2)\n",
    "   - [Обучение](#0.3)\n",
    "2. [LambdaRank](#1)\n",
    "3. [Полезные ссылки](#2)"
   ]
  },
  {
   "cell_type": "markdown",
   "id": "29e599fa-fb41-4e7d-8745-2fc9cb3ff7e1",
   "metadata": {
    "id": "IyKW4l6ZGsGO",
    "tags": []
   },
   "source": [
    "<a id=\"0\"></a>\n",
    "# 0. ListNet"
   ]
  },
  {
   "cell_type": "code",
   "execution_count": 3,
   "id": "816f89b3-946a-4e9a-a9d7-e35f32729c55",
   "metadata": {},
   "outputs": [],
   "source": [
    "class ListNet(torch.nn.Module):\n",
    "    def __init__(self, num_input_features: int, hidden_dim: int):\n",
    "        super().__init__()\n",
    "        self.hidden_dim = hidden_dim\n",
    "        self.model = torch.nn.Sequential(\n",
    "            torch.nn.Linear(num_input_features, self.hidden_dim),\n",
    "            torch.nn.ReLU(),\n",
    "            torch.nn.Linear(self.hidden_dim, 1),\n",
    "        )\n",
    "\n",
    "    def forward(self, input_1: torch.Tensor) -> torch.Tensor:\n",
    "        logits = self.model(input_1)\n",
    "\n",
    "        return logits\n",
    "    \n",
    "    \n",
    "def init_weights(module):\n",
    "    if isinstance(module, torch.nn.Embedding):\n",
    "        module.weight.data.normal_(mean=0.0, std=1.0)\n",
    "        if module.padding_idx is not None:\n",
    "            module.weight.data[module.padding_idx].zero_()\n",
    "    elif isinstance(module, torch.nn.LayerNorm):\n",
    "        module.bias.data.zero_()\n",
    "        module.weight.data.fill_(1.0)\n",
    "        \n",
    "        \n",
    "def create_model(listnet_num_input_features: int, listnet_hidden_dim: int) -> torch.nn.Module:\n",
    "    torch.manual_seed(0)\n",
    "    net = ListNet(listnet_num_input_features, listnet_hidden_dim)\n",
    "    init_weights(net)\n",
    "\n",
    "    return net"
   ]
  },
  {
   "cell_type": "markdown",
   "id": "f246f6c0-f375-439e-9da3-5f642e424342",
   "metadata": {},
   "source": [
    "<a id=\"0.1\"></a>\n",
    "## 0.1. Подготовка данных\n",
    "\n",
    "Описание датасета [msrank_10k](https://catboost.ai/en/docs/concepts/python-reference_datasets_msrank_10k)"
   ]
  },
  {
   "cell_type": "code",
   "execution_count": 4,
   "id": "ee6f3cb5-41f3-4f21-8796-647870a4a343",
   "metadata": {},
   "outputs": [],
   "source": [
    "train_df, test_df = msrank_10k()"
   ]
  },
  {
   "cell_type": "code",
   "execution_count": 13,
   "id": "9308ecf9-6d72-4922-a80c-9ee85201a321",
   "metadata": {},
   "outputs": [
    {
     "data": {
      "text/html": [
       "<div>\n",
       "<style scoped>\n",
       "    .dataframe tbody tr th:only-of-type {\n",
       "        vertical-align: middle;\n",
       "    }\n",
       "\n",
       "    .dataframe tbody tr th {\n",
       "        vertical-align: top;\n",
       "    }\n",
       "\n",
       "    .dataframe thead th {\n",
       "        text-align: right;\n",
       "    }\n",
       "</style>\n",
       "<table border=\"1\" class=\"dataframe\">\n",
       "  <thead>\n",
       "    <tr style=\"text-align: right;\">\n",
       "      <th></th>\n",
       "      <th>0</th>\n",
       "      <th>1</th>\n",
       "      <th>2</th>\n",
       "      <th>3</th>\n",
       "      <th>4</th>\n",
       "      <th>5</th>\n",
       "      <th>6</th>\n",
       "      <th>7</th>\n",
       "      <th>8</th>\n",
       "      <th>9</th>\n",
       "      <th>...</th>\n",
       "      <th>128</th>\n",
       "      <th>129</th>\n",
       "      <th>130</th>\n",
       "      <th>131</th>\n",
       "      <th>132</th>\n",
       "      <th>133</th>\n",
       "      <th>134</th>\n",
       "      <th>135</th>\n",
       "      <th>136</th>\n",
       "      <th>137</th>\n",
       "    </tr>\n",
       "  </thead>\n",
       "  <tbody>\n",
       "    <tr>\n",
       "      <th>0</th>\n",
       "      <td>2.0</td>\n",
       "      <td>1</td>\n",
       "      <td>3</td>\n",
       "      <td>3</td>\n",
       "      <td>0</td>\n",
       "      <td>0</td>\n",
       "      <td>3</td>\n",
       "      <td>1.000000</td>\n",
       "      <td>1.000000</td>\n",
       "      <td>0.000000</td>\n",
       "      <td>...</td>\n",
       "      <td>62</td>\n",
       "      <td>11089534</td>\n",
       "      <td>2</td>\n",
       "      <td>116</td>\n",
       "      <td>64034</td>\n",
       "      <td>13</td>\n",
       "      <td>3</td>\n",
       "      <td>0</td>\n",
       "      <td>0</td>\n",
       "      <td>0.0</td>\n",
       "    </tr>\n",
       "    <tr>\n",
       "      <th>1</th>\n",
       "      <td>2.0</td>\n",
       "      <td>1</td>\n",
       "      <td>3</td>\n",
       "      <td>0</td>\n",
       "      <td>3</td>\n",
       "      <td>0</td>\n",
       "      <td>3</td>\n",
       "      <td>1.000000</td>\n",
       "      <td>0.000000</td>\n",
       "      <td>1.000000</td>\n",
       "      <td>...</td>\n",
       "      <td>54</td>\n",
       "      <td>11089534</td>\n",
       "      <td>2</td>\n",
       "      <td>124</td>\n",
       "      <td>64034</td>\n",
       "      <td>1</td>\n",
       "      <td>2</td>\n",
       "      <td>0</td>\n",
       "      <td>0</td>\n",
       "      <td>0.0</td>\n",
       "    </tr>\n",
       "    <tr>\n",
       "      <th>2</th>\n",
       "      <td>0.0</td>\n",
       "      <td>1</td>\n",
       "      <td>3</td>\n",
       "      <td>0</td>\n",
       "      <td>2</td>\n",
       "      <td>0</td>\n",
       "      <td>3</td>\n",
       "      <td>1.000000</td>\n",
       "      <td>0.000000</td>\n",
       "      <td>0.666667</td>\n",
       "      <td>...</td>\n",
       "      <td>45</td>\n",
       "      <td>3</td>\n",
       "      <td>1</td>\n",
       "      <td>124</td>\n",
       "      <td>3344</td>\n",
       "      <td>14</td>\n",
       "      <td>67</td>\n",
       "      <td>0</td>\n",
       "      <td>0</td>\n",
       "      <td>0.0</td>\n",
       "    </tr>\n",
       "    <tr>\n",
       "      <th>3</th>\n",
       "      <td>2.0</td>\n",
       "      <td>1</td>\n",
       "      <td>3</td>\n",
       "      <td>0</td>\n",
       "      <td>3</td>\n",
       "      <td>0</td>\n",
       "      <td>3</td>\n",
       "      <td>1.000000</td>\n",
       "      <td>0.000000</td>\n",
       "      <td>1.000000</td>\n",
       "      <td>...</td>\n",
       "      <td>56</td>\n",
       "      <td>11089534</td>\n",
       "      <td>13</td>\n",
       "      <td>123</td>\n",
       "      <td>63933</td>\n",
       "      <td>1</td>\n",
       "      <td>3</td>\n",
       "      <td>0</td>\n",
       "      <td>0</td>\n",
       "      <td>0.0</td>\n",
       "    </tr>\n",
       "    <tr>\n",
       "      <th>4</th>\n",
       "      <td>1.0</td>\n",
       "      <td>1</td>\n",
       "      <td>3</td>\n",
       "      <td>0</td>\n",
       "      <td>3</td>\n",
       "      <td>0</td>\n",
       "      <td>3</td>\n",
       "      <td>1.000000</td>\n",
       "      <td>0.000000</td>\n",
       "      <td>1.000000</td>\n",
       "      <td>...</td>\n",
       "      <td>64</td>\n",
       "      <td>5</td>\n",
       "      <td>7</td>\n",
       "      <td>256</td>\n",
       "      <td>49697</td>\n",
       "      <td>1</td>\n",
       "      <td>13</td>\n",
       "      <td>0</td>\n",
       "      <td>0</td>\n",
       "      <td>0.0</td>\n",
       "    </tr>\n",
       "    <tr>\n",
       "      <th>...</th>\n",
       "      <td>...</td>\n",
       "      <td>...</td>\n",
       "      <td>...</td>\n",
       "      <td>...</td>\n",
       "      <td>...</td>\n",
       "      <td>...</td>\n",
       "      <td>...</td>\n",
       "      <td>...</td>\n",
       "      <td>...</td>\n",
       "      <td>...</td>\n",
       "      <td>...</td>\n",
       "      <td>...</td>\n",
       "      <td>...</td>\n",
       "      <td>...</td>\n",
       "      <td>...</td>\n",
       "      <td>...</td>\n",
       "      <td>...</td>\n",
       "      <td>...</td>\n",
       "      <td>...</td>\n",
       "      <td>...</td>\n",
       "      <td>...</td>\n",
       "    </tr>\n",
       "    <tr>\n",
       "      <th>81</th>\n",
       "      <td>0.0</td>\n",
       "      <td>1</td>\n",
       "      <td>3</td>\n",
       "      <td>0</td>\n",
       "      <td>3</td>\n",
       "      <td>0</td>\n",
       "      <td>3</td>\n",
       "      <td>1.000000</td>\n",
       "      <td>0.000000</td>\n",
       "      <td>1.000000</td>\n",
       "      <td>...</td>\n",
       "      <td>44</td>\n",
       "      <td>5</td>\n",
       "      <td>30</td>\n",
       "      <td>23860</td>\n",
       "      <td>63634</td>\n",
       "      <td>3</td>\n",
       "      <td>4</td>\n",
       "      <td>0</td>\n",
       "      <td>0</td>\n",
       "      <td>0.0</td>\n",
       "    </tr>\n",
       "    <tr>\n",
       "      <th>82</th>\n",
       "      <td>0.0</td>\n",
       "      <td>1</td>\n",
       "      <td>3</td>\n",
       "      <td>2</td>\n",
       "      <td>2</td>\n",
       "      <td>0</td>\n",
       "      <td>3</td>\n",
       "      <td>1.000000</td>\n",
       "      <td>0.666667</td>\n",
       "      <td>0.666667</td>\n",
       "      <td>...</td>\n",
       "      <td>33</td>\n",
       "      <td>2</td>\n",
       "      <td>2</td>\n",
       "      <td>11886</td>\n",
       "      <td>29019</td>\n",
       "      <td>3</td>\n",
       "      <td>7</td>\n",
       "      <td>0</td>\n",
       "      <td>0</td>\n",
       "      <td>0.0</td>\n",
       "    </tr>\n",
       "    <tr>\n",
       "      <th>83</th>\n",
       "      <td>1.0</td>\n",
       "      <td>1</td>\n",
       "      <td>3</td>\n",
       "      <td>3</td>\n",
       "      <td>3</td>\n",
       "      <td>3</td>\n",
       "      <td>3</td>\n",
       "      <td>1.000000</td>\n",
       "      <td>1.000000</td>\n",
       "      <td>1.000000</td>\n",
       "      <td>...</td>\n",
       "      <td>57</td>\n",
       "      <td>0</td>\n",
       "      <td>3</td>\n",
       "      <td>2468</td>\n",
       "      <td>24730</td>\n",
       "      <td>23</td>\n",
       "      <td>80</td>\n",
       "      <td>0</td>\n",
       "      <td>0</td>\n",
       "      <td>0.0</td>\n",
       "    </tr>\n",
       "    <tr>\n",
       "      <th>84</th>\n",
       "      <td>1.0</td>\n",
       "      <td>1</td>\n",
       "      <td>2</td>\n",
       "      <td>0</td>\n",
       "      <td>2</td>\n",
       "      <td>0</td>\n",
       "      <td>2</td>\n",
       "      <td>0.666667</td>\n",
       "      <td>0.000000</td>\n",
       "      <td>0.666667</td>\n",
       "      <td>...</td>\n",
       "      <td>35</td>\n",
       "      <td>1753</td>\n",
       "      <td>9</td>\n",
       "      <td>6389</td>\n",
       "      <td>30537</td>\n",
       "      <td>1</td>\n",
       "      <td>5</td>\n",
       "      <td>0</td>\n",
       "      <td>20</td>\n",
       "      <td>42.6</td>\n",
       "    </tr>\n",
       "    <tr>\n",
       "      <th>85</th>\n",
       "      <td>0.0</td>\n",
       "      <td>1</td>\n",
       "      <td>3</td>\n",
       "      <td>0</td>\n",
       "      <td>3</td>\n",
       "      <td>0</td>\n",
       "      <td>3</td>\n",
       "      <td>1.000000</td>\n",
       "      <td>0.000000</td>\n",
       "      <td>1.000000</td>\n",
       "      <td>...</td>\n",
       "      <td>44</td>\n",
       "      <td>5</td>\n",
       "      <td>30</td>\n",
       "      <td>22584</td>\n",
       "      <td>63520</td>\n",
       "      <td>3</td>\n",
       "      <td>4</td>\n",
       "      <td>0</td>\n",
       "      <td>0</td>\n",
       "      <td>0.0</td>\n",
       "    </tr>\n",
       "  </tbody>\n",
       "</table>\n",
       "<p>86 rows × 138 columns</p>\n",
       "</div>"
      ],
      "text/plain": [
       "    0    1    2    3    4    5    6         7         8         9    ...  128  \\\n",
       "0   2.0    1    3    3    0    0    3  1.000000  1.000000  0.000000  ...   62   \n",
       "1   2.0    1    3    0    3    0    3  1.000000  0.000000  1.000000  ...   54   \n",
       "2   0.0    1    3    0    2    0    3  1.000000  0.000000  0.666667  ...   45   \n",
       "3   2.0    1    3    0    3    0    3  1.000000  0.000000  1.000000  ...   56   \n",
       "4   1.0    1    3    0    3    0    3  1.000000  0.000000  1.000000  ...   64   \n",
       "..  ...  ...  ...  ...  ...  ...  ...       ...       ...       ...  ...  ...   \n",
       "81  0.0    1    3    0    3    0    3  1.000000  0.000000  1.000000  ...   44   \n",
       "82  0.0    1    3    2    2    0    3  1.000000  0.666667  0.666667  ...   33   \n",
       "83  1.0    1    3    3    3    3    3  1.000000  1.000000  1.000000  ...   57   \n",
       "84  1.0    1    2    0    2    0    2  0.666667  0.000000  0.666667  ...   35   \n",
       "85  0.0    1    3    0    3    0    3  1.000000  0.000000  1.000000  ...   44   \n",
       "\n",
       "         129  130    131    132  133  134  135  136   137  \n",
       "0   11089534    2    116  64034   13    3    0    0   0.0  \n",
       "1   11089534    2    124  64034    1    2    0    0   0.0  \n",
       "2          3    1    124   3344   14   67    0    0   0.0  \n",
       "3   11089534   13    123  63933    1    3    0    0   0.0  \n",
       "4          5    7    256  49697    1   13    0    0   0.0  \n",
       "..       ...  ...    ...    ...  ...  ...  ...  ...   ...  \n",
       "81         5   30  23860  63634    3    4    0    0   0.0  \n",
       "82         2    2  11886  29019    3    7    0    0   0.0  \n",
       "83         0    3   2468  24730   23   80    0    0   0.0  \n",
       "84      1753    9   6389  30537    1    5    0   20  42.6  \n",
       "85         5   30  22584  63520    3    4    0    0   0.0  \n",
       "\n",
       "[86 rows x 138 columns]"
      ]
     },
     "execution_count": 13,
     "metadata": {},
     "output_type": "execute_result"
    }
   ],
   "source": [
    "train_df[train_df[1] == 1]"
   ]
  },
  {
   "cell_type": "code",
   "execution_count": 14,
   "id": "de15004d-de26-423d-a6e7-8ce1b5ff61db",
   "metadata": {},
   "outputs": [],
   "source": [
    "def get_data() -> List[np.ndarray]:\n",
    "    train_df, test_df = msrank_10k()\n",
    "\n",
    "    X_train = train_df.drop([0, 1], axis=1).values\n",
    "    y_train = train_df[0].values\n",
    "    query_ids_train = train_df[1].values.astype(int)\n",
    "\n",
    "    X_test = test_df.drop([0, 1], axis=1).values\n",
    "    y_test = test_df[0].values\n",
    "    query_ids_test = test_df[1].values.astype(int)\n",
    "\n",
    "    return [X_train, y_train, query_ids_train, X_test, y_test, query_ids_test]"
   ]
  },
  {
   "cell_type": "markdown",
   "id": "85f8bc1f-edd5-4ca0-81a7-fd56e613a143",
   "metadata": {},
   "source": [
    "**Задание 0:** Отмасштабируйте данные по каждому уникальному запросу"
   ]
  },
  {
   "cell_type": "code",
   "execution_count": 16,
   "id": "4969dfde-33c2-44b0-8c66-5a050286e7c9",
   "metadata": {},
   "outputs": [],
   "source": [
    "def scale_features_in_query_groups(inp_feat_array: np.ndarray, inp_query_ids: np.ndarray) -> np.ndarray:\n",
    "    # YOUR CODE HERE\n",
    "    # scale each data by query\n",
    "\n",
    "    return inp_feat_array"
   ]
  },
  {
   "cell_type": "markdown",
   "id": "e7a07669-d88b-4550-ab3a-216f5fd64881",
   "metadata": {},
   "source": [
    "**Задание 1:** С помощью реализованной выше функции отмасштабируйте обучающий и тестовый наборы. Затем результат функции конвертируйте в torch.FloatTensor"
   ]
  },
  {
   "cell_type": "code",
   "execution_count": 17,
   "id": "c12728ee-fdb4-4d64-b09d-9550a3d96b7b",
   "metadata": {},
   "outputs": [],
   "source": [
    "def prepare_data() -> List[np.ndarray]:\n",
    "    X_train, y_train, query_ids_train, X_test, y_test, query_ids_test = get_data()\n",
    "    # YOUR CODE HERE \n",
    "    # 1. scale train and test data \n",
    "    # 2. convert data to torch\n",
    "    \n",
    "    return X_train, ys_train, query_ids_train, X_test, ys_test, query_ids_test"
   ]
  },
  {
   "cell_type": "code",
   "execution_count": 18,
   "id": "86f009f6-1f1c-4c03-b972-6ed10c20e042",
   "metadata": {},
   "outputs": [],
   "source": [
    "X_train, ys_train, query_ids_train, X_test, ys_test, query_ids_test = prepare_data()"
   ]
  },
  {
   "cell_type": "markdown",
   "id": "64fda812-10ae-4cf1-ae10-48977d8ca4b2",
   "metadata": {},
   "source": [
    "<a id=\"0.2\"></a>\n",
    "## 0.2. Подготовка этапов обучения"
   ]
  },
  {
   "cell_type": "code",
   "execution_count": 19,
   "id": "4ca5f46a-4f11-43dd-9428-d1ca45f01c25",
   "metadata": {},
   "outputs": [],
   "source": [
    "def ndcg_k(ys_true: torch.Tensor, ys_pred: torch.Tensor, ndcg_top_k: int) -> float:\n",
    "    try:\n",
    "        return ndcg(ys_true[:ndcg_top_k], ys_pred[:ndcg_top_k])\n",
    "    except ZeroDivisionError:\n",
    "        return float(0)"
   ]
  },
  {
   "cell_type": "markdown",
   "id": "a55b7e7d-2d50-49b4-86f9-e59cafc1aed4",
   "metadata": {},
   "source": [
    "**Задание 2:** Реализуйте функцию для подсчёта классической кросс-энтропии:\n",
    "$\\displaystyle L(y^{(i)}, z^{(i)}) = -\\sum^n_{j = 1} P_{y^{(i)}}(j) \\log(P_{z^{(i)}}(j))$,"
   ]
  },
  {
   "cell_type": "code",
   "execution_count": 20,
   "id": "a7f12da0-8893-482d-a3ce-bbd49c2bc7c0",
   "metadata": {},
   "outputs": [],
   "source": [
    "def calc_loss(batch_ys: torch.FloatTensor, batch_pred: torch.FloatTensor) -> torch.FloatTensor:\n",
    "    # YOUR CODE HERE\n",
    "    pass"
   ]
  },
  {
   "cell_type": "code",
   "execution_count": 21,
   "id": "856312a7-5942-4d4d-bd26-3addb5313ef6",
   "metadata": {},
   "outputs": [],
   "source": [
    "n_epochs: int = 5\n",
    "listnet_hidden_dim: int = 30\n",
    "lr: float = 0.001\n",
    "ndcg_top_k: int = 10\n",
    "num_input_features = X_train.shape[1]\n",
    "\n",
    "\n",
    "model = create_model(num_input_features, listnet_hidden_dim)\n",
    "optimizer = torch.optim.Adam(model.parameters(), lr=lr)"
   ]
  },
  {
   "cell_type": "markdown",
   "id": "cf471ba6-cce3-4a23-8eb8-89c0e0ebf1bb",
   "metadata": {},
   "source": [
    "**Задание 3:** Реализуйте функцию обучения на одной эпохе"
   ]
  },
  {
   "cell_type": "code",
   "execution_count": 22,
   "id": "c86494c3-1136-4cd1-9b7f-3453570b77be",
   "metadata": {},
   "outputs": [],
   "source": [
    "def _train_one_epoch(model, optimizer, X_train, ys_train, query_ids_train) -> None:\n",
    "    model.train()\n",
    "    model.zero_grad()\n",
    "    optimizer.zero_grad()\n",
    "\n",
    "    for id in np.unique(query_ids_train):\n",
    "        idxs = query_ids_train == id\n",
    "        x = X_train[idxs]\n",
    "        ys = ys_train[idxs]\n",
    "\n",
    "        with torch.enable_grad():\n",
    "        # YOUR CODE HERE"
   ]
  },
  {
   "cell_type": "code",
   "execution_count": 23,
   "id": "94d0b5f4-2930-48fb-842a-d6389acb732a",
   "metadata": {},
   "outputs": [],
   "source": [
    "_train_one_epoch(model, optimizer, X_train, ys_train, query_ids_train)"
   ]
  },
  {
   "cell_type": "code",
   "execution_count": 24,
   "id": "a86e6ee2-a317-48a7-bd5a-20ea929c5bdd",
   "metadata": {},
   "outputs": [],
   "source": [
    "def _eval_test_set(model, X_test, ys_test, query_ids_test) -> float:\n",
    "    with torch.no_grad():\n",
    "        model.eval()\n",
    "        ndcgs = []\n",
    "\n",
    "        for id in np.unique(query_ids_test):\n",
    "            idxs = query_ids_test == id\n",
    "            x = X_test[idxs]\n",
    "            ys = ys_test[idxs]\n",
    "            pred = model(x)\n",
    "\n",
    "            score = ndcg_k(ys.squeeze(), pred.squeeze(), ndcg_top_k)\n",
    "            ndcgs.append(score)\n",
    "\n",
    "    return np.mean(ndcgs)"
   ]
  },
  {
   "cell_type": "code",
   "execution_count": 25,
   "id": "42ee4f25-657b-44b7-a9bf-2984f572844c",
   "metadata": {},
   "outputs": [
    {
     "data": {
      "text/plain": [
       "0.6616547163739617"
      ]
     },
     "execution_count": 25,
     "metadata": {},
     "output_type": "execute_result"
    }
   ],
   "source": [
    "_eval_test_set(model, X_test, ys_test, query_ids_test)"
   ]
  },
  {
   "cell_type": "markdown",
   "id": "ad0d9c2e-0b60-4650-8d5c-f5f5561d8315",
   "metadata": {},
   "source": [
    "<a id=\"0.3\"></a>\n",
    "## 0.3. Обучение"
   ]
  },
  {
   "cell_type": "code",
   "execution_count": 26,
   "id": "8a2d69d6-f3d4-447d-a88c-0f3f1970f454",
   "metadata": {},
   "outputs": [],
   "source": [
    "def fit(n_epochs, model, optimizer, X_train, ys_train, query_ids_train, X_test, ys_test, query_ids_test) -> List[float]:\n",
    "    val_ndcg = []\n",
    "    \n",
    "    for epoch in tqdm(range(n_epochs)):\n",
    "        _train_one_epoch(model, optimizer, X_train, ys_train, query_ids_train)\n",
    "        val_metric = _eval_test_set(model, X_test, ys_test, query_ids_test)\n",
    "\n",
    "        val_ndcg.append(val_metric)\n",
    "\n",
    "    return val_ndcg"
   ]
  },
  {
   "cell_type": "code",
   "execution_count": 27,
   "id": "1accc3db-f142-4069-9fa4-21a87a003c58",
   "metadata": {
    "tags": []
   },
   "outputs": [
    {
     "data": {
      "application/vnd.jupyter.widget-view+json": {
       "model_id": "f759e5b3c6284630ab0856d752437f9f",
       "version_major": 2,
       "version_minor": 0
      },
      "text/plain": [
       "  0%|          | 0/100 [00:00<?, ?it/s]"
      ]
     },
     "metadata": {},
     "output_type": "display_data"
    }
   ],
   "source": [
    "n_epochs: int = 100\n",
    "listnet_hidden_dim: int = 10\n",
    "lr: float = 0.001\n",
    "ndcg_top_k: int = 10\n",
    "num_input_features = X_train.shape[1]\n",
    "\n",
    "\n",
    "model = create_model(num_input_features, listnet_hidden_dim)\n",
    "optimizer = torch.optim.Adam(model.parameters(), lr=lr)\n",
    "\n",
    "\n",
    "val_ndcg = fit(n_epochs, model, optimizer, X_train, ys_train, query_ids_train, X_test, ys_test, query_ids_test)"
   ]
  },
  {
   "cell_type": "code",
   "execution_count": 28,
   "id": "65424ac8-32e5-49ee-9b4b-8469b9c205ce",
   "metadata": {},
   "outputs": [
    {
     "data": {
      "image/png": "[encoded data removed]",
      "text/plain": [
       "<Figure size 640x480 with 1 Axes>"
      ]
     },
     "metadata": {},
     "output_type": "display_data"
    }
   ],
   "source": [
    "plt.plot(val_ndcg)\n",
    "plt.xlabel('Epochs')\n",
    "plt.ylabel('Val/NDCG')\n",
    "plt.grid()\n",
    "plt.show()"
   ]
  },
  {
   "cell_type": "markdown",
   "id": "4cef057b-e24c-409d-95bc-d5e5c622eb47",
   "metadata": {},
   "source": [
    "<a id=\"1\"></a>\n",
    "# 1. LambdaRank\n",
    "\n",
    "$$p_{ij} = p(x_i > x_j) = \\frac {1}{1 + e^{s_i - s_j}}$$\n",
    "\n",
    "$$\\lambda_{ij} = \\frac{\\partial L_{ij}}{\\partial s_i} = \\left(0.5 * (1 - S_{ij}) - \\frac {1} {1 + e^{s_i - s_j}}\\right) = -\\frac{\\partial L_{ij}}{\\partial s_j}$$\n",
    "\n",
    "$$\\lambda = \\left(0.5 * (1 - S_{ij}) - \\frac {1} {1 + e^{s_i - s_j}}\\right) |\\Delta nDCG|$$\n",
    "\n",
    "$$\\Delta nDCG = \\frac {1} {IdealDCG} (2^i - 2^j) \\left(\\frac {1} {log_2(1+i)} - \\frac {1} {log_2(1+j)}\\right)$$ \n",
    "\n",
    "$\\Delta nDCG$ - насколько поменяется метрика nDCG, если i и j поменяются местами в топе"
   ]
  },
  {
   "cell_type": "code",
   "execution_count": 52,
   "id": "147f800d-36f0-4d1d-a32a-4f67ae976ed0",
   "metadata": {},
   "outputs": [],
   "source": [
    "# в y_true лежат оценки релевантности\n",
    "y_true = torch.LongTensor([[5, 3, 2, 5, 1, 1]]).reshape(-1, 1)\n",
    "y_pred = torch.FloatTensor([3.2, 0.4, -0.1, -2.1, 0.5, 0.01]).reshape(-1, 1)"
   ]
  },
  {
   "cell_type": "code",
   "execution_count": 54,
   "id": "208b829d-10a4-4410-bfb8-1bda31db41ee",
   "metadata": {},
   "outputs": [],
   "source": [
    "def compute_lambdas(y_true, y_pred, ndcg_scheme='exp2'):\n",
    "    # рассчитаем нормировку, IdealDCG\n",
    "    ideal_dcg = dcg(y_true, y_true, ndcg_scheme)\n",
    "    N = 1 / ideal_dcg\n",
    "    \n",
    "    # рассчитаем порядок документов согласно оценкам релевантности\n",
    "    _, rank_order = torch.sort(y_true, descending=True, axis=0)\n",
    "    rank_order += 1\n",
    "    \n",
    "    with torch.no_grad():\n",
    "        # получаем все попарные разницы скоров в батче\n",
    "        pos_pairs_score_diff = 1.0 + torch.exp((y_pred - y_pred.t()))\n",
    "        \n",
    "        # поставим разметку для пар, 1 если первый документ релевантнее\n",
    "        # -1 если второй документ релевантнее\n",
    "        Sij = compute_labels_in_batch(y_true)\n",
    "        # посчитаем изменение gain из-за перестановок\n",
    "        gain_diff = compute_gain_diff(y_true, ndcg_scheme)\n",
    "        \n",
    "        # посчитаем изменение знаменателей-дискаунтеров\n",
    "        decay_diff = (1.0 / torch.log2(rank_order + 1.0)) - (1.0 / torch.log2(rank_order.t() + 1.0))\n",
    "        # посчитаем непосредственное изменение nDCG\n",
    "        delta_ndcg = torch.abs(N * gain_diff * decay_diff)\n",
    "        # посчитаем лямбды\n",
    "        lambda_update =  (0.5 * (1 - Sij) - 1 / pos_pairs_score_diff) * delta_ndcg\n",
    "        lambda_update = torch.sum(lambda_update, dim=1, keepdim=True)\n",
    "        \n",
    "        return Sij, gain_diff, decay_diff, delta_ndcg, lambda_update\n",
    "    \n",
    "    \n",
    "def compute_labels_in_batch(y_true):\n",
    "    \n",
    "    # разница релевантностей каждого с каждым объектом\n",
    "    rel_diff = y_true - y_true.t()\n",
    "    \n",
    "    # 1 в этой матрице - объект более релевантен\n",
    "    pos_pairs = (rel_diff > 0).type(torch.float32)\n",
    "    \n",
    "    # 1 тут - объект менее релевантен\n",
    "    neg_pairs = (rel_diff < 0).type(torch.float32)\n",
    "    Sij = pos_pairs - neg_pairs\n",
    "    return Sij\n",
    "\n",
    "\n",
    "def compute_gain_diff(y_true, gain_scheme):\n",
    "    if gain_scheme == \"exp2\":\n",
    "        gain_diff = torch.pow(2.0, y_true) - torch.pow(2.0, y_true.t())\n",
    "    elif gain_scheme == \"diff\":\n",
    "        gain_diff = y_true - y_true.t()\n",
    "    else:\n",
    "        raise ValueError(f\"{gain_scheme} method not supported\")\n",
    "    return gain_diff"
   ]
  },
  {
   "cell_type": "code",
   "execution_count": 55,
   "id": "53c5b176-e018-4c06-b4a8-9c81c3907d1f",
   "metadata": {},
   "outputs": [
    {
     "data": {
      "text/plain": [
       "tensor([[ 0.0000,  2.8000,  3.3000,  5.3000,  2.7000,  3.1900],\n",
       "        [-2.8000,  0.0000,  0.5000,  2.5000, -0.1000,  0.3900],\n",
       "        [-3.3000, -0.5000,  0.0000,  2.0000, -0.6000, -0.1100],\n",
       "        [-5.3000, -2.5000, -2.0000,  0.0000, -2.6000, -2.1100],\n",
       "        [-2.7000,  0.1000,  0.6000,  2.6000,  0.0000,  0.4900],\n",
       "        [-3.1900, -0.3900,  0.1100,  2.1100, -0.4900,  0.0000]])"
      ]
     },
     "execution_count": 55,
     "metadata": {},
     "output_type": "execute_result"
    }
   ],
   "source": [
    "y_pred - y_pred.t()"
   ]
  },
  {
   "cell_type": "code",
   "execution_count": 56,
   "id": "28745f60-24a5-424b-80a1-282248d21613",
   "metadata": {},
   "outputs": [
    {
     "data": {
      "text/plain": [
       "tensor([[ 0,  2,  3,  0,  4,  4],\n",
       "        [-2,  0,  1, -2,  2,  2],\n",
       "        [-3, -1,  0, -3,  1,  1],\n",
       "        [ 0,  2,  3,  0,  4,  4],\n",
       "        [-4, -2, -1, -4,  0,  0],\n",
       "        [-4, -2, -1, -4,  0,  0]])"
      ]
     },
     "execution_count": 56,
     "metadata": {},
     "output_type": "execute_result"
    }
   ],
   "source": [
    "y_true - y_true.t()"
   ]
  },
  {
   "cell_type": "code",
   "execution_count": 57,
   "id": "033ad15e-9e43-40b1-a393-7862f42e4148",
   "metadata": {},
   "outputs": [],
   "source": [
    "Sij, gain_diff, decay_diff, delta_ndcg, lambda_update = compute_lambdas(y_true, y_pred)"
   ]
  },
  {
   "cell_type": "code",
   "execution_count": 58,
   "id": "3e16fed2-f954-4624-8c26-ec8e83a4d522",
   "metadata": {},
   "outputs": [
    {
     "data": {
      "text/plain": [
       "tensor([[ 0.,  1.,  1.,  0.,  1.,  1.],\n",
       "        [-1.,  0.,  1., -1.,  1.,  1.],\n",
       "        [-1., -1.,  0., -1.,  1.,  1.],\n",
       "        [ 0.,  1.,  1.,  0.,  1.,  1.],\n",
       "        [-1., -1., -1., -1.,  0.,  0.],\n",
       "        [-1., -1., -1., -1.,  0.,  0.]])"
      ]
     },
     "execution_count": 58,
     "metadata": {},
     "output_type": "execute_result"
    }
   ],
   "source": [
    "Sij"
   ]
  },
  {
   "cell_type": "code",
   "execution_count": 59,
   "id": "4c579e60-21ee-4bcb-acce-866134a690bc",
   "metadata": {},
   "outputs": [
    {
     "data": {
      "text/plain": [
       "tensor([[  0.,  24.,  28.,   0.,  30.,  30.],\n",
       "        [-24.,   0.,   4., -24.,   6.,   6.],\n",
       "        [-28.,  -4.,   0., -28.,   2.,   2.],\n",
       "        [  0.,  24.,  28.,   0.,  30.,  30.],\n",
       "        [-30.,  -6.,  -2., -30.,   0.,   0.],\n",
       "        [-30.,  -6.,  -2., -30.,   0.,   0.]])"
      ]
     },
     "execution_count": 59,
     "metadata": {},
     "output_type": "execute_result"
    }
   ],
   "source": [
    "gain_diff"
   ]
  },
  {
   "cell_type": "code",
   "execution_count": 60,
   "id": "05e90a22-4bdf-4b60-9c7f-e707cc7c8963",
   "metadata": {},
   "outputs": [
    {
     "data": {
      "text/plain": [
       "(30, 24)"
      ]
     },
     "execution_count": 60,
     "metadata": {},
     "output_type": "execute_result"
    }
   ],
   "source": [
    "# пример вычисления элемента gain diff для первого (релевантность 5) и последнего документа (1); \n",
    "# для первого (5) и второго (3) документа\n",
    "(2**5 - 1) - (2**1 -1), (2**5 - 1) - (2**3-1)"
   ]
  },
  {
   "cell_type": "code",
   "execution_count": 61,
   "id": "508a252b-9154-4e33-97a1-0084f5584151",
   "metadata": {},
   "outputs": [
    {
     "data": {
      "text/plain": [
       "tensor([[ 0.0000,  0.5693,  0.3691,  0.5000,  0.6131,  0.6438],\n",
       "        [-0.5693,  0.0000, -0.2003, -0.0693,  0.0438,  0.0745],\n",
       "        [-0.3691,  0.2003,  0.0000,  0.1309,  0.2441,  0.2747],\n",
       "        [-0.5000,  0.0693, -0.1309,  0.0000,  0.1131,  0.1438],\n",
       "        [-0.6131, -0.0438, -0.2441, -0.1131,  0.0000,  0.0306],\n",
       "        [-0.6438, -0.0745, -0.2747, -0.1438, -0.0306,  0.0000]])"
      ]
     },
     "execution_count": 61,
     "metadata": {},
     "output_type": "execute_result"
    }
   ],
   "source": [
    "decay_diff"
   ]
  },
  {
   "cell_type": "code",
   "execution_count": 62,
   "id": "06a2dad0-5cc1-417b-aad9-fa11d0a819e9",
   "metadata": {},
   "outputs": [
    {
     "data": {
      "text/plain": [
       "0.6437928128919779"
      ]
     },
     "execution_count": 62,
     "metadata": {},
     "output_type": "execute_result"
    }
   ],
   "source": [
    "# посчитаем изменение знаменателей-дискаунтеров для первого и последнего документа\n",
    "(1 / np.log2(1+1)) - (1 / np.log2(1+6))"
   ]
  },
  {
   "cell_type": "code",
   "execution_count": 63,
   "id": "f6250d0e-1678-4565-828d-335ed4c9edf8",
   "metadata": {},
   "outputs": [
    {
     "data": {
      "text/plain": [
       "tensor([[0.0000, 0.2436, 0.1842, 0.0000, 0.3279, 0.3443],\n",
       "        [0.2436, 0.0000, 0.0143, 0.0297, 0.0047, 0.0080],\n",
       "        [0.1842, 0.0143, 0.0000, 0.0654, 0.0087, 0.0098],\n",
       "        [0.0000, 0.0297, 0.0654, 0.0000, 0.0605, 0.0769],\n",
       "        [0.3279, 0.0047, 0.0087, 0.0605, 0.0000, 0.0000],\n",
       "        [0.3443, 0.0080, 0.0098, 0.0769, 0.0000, 0.0000]])"
      ]
     },
     "execution_count": 63,
     "metadata": {},
     "output_type": "execute_result"
    }
   ],
   "source": [
    "delta_ndcg"
   ]
  },
  {
   "cell_type": "code",
   "execution_count": 64,
   "id": "7afdcbc6-a399-41f7-94a8-54f351137fc1",
   "metadata": {},
   "outputs": [
    {
     "data": {
      "text/plain": [
       "tensor([[-0.0548],\n",
       "        [ 0.0303],\n",
       "        [ 0.0587],\n",
       "        [-0.2099],\n",
       "        [ 0.0851],\n",
       "        [ 0.0906]])"
      ]
     },
     "execution_count": 64,
     "metadata": {},
     "output_type": "execute_result"
    }
   ],
   "source": [
    "lambda_update"
   ]
  },
  {
   "cell_type": "code",
   "execution_count": 65,
   "id": "06439056-4331-4bfa-ad18-d059f4279b29",
   "metadata": {},
   "outputs": [],
   "source": [
    "for _ in range(100):\n",
    "    _, _, _, _, lambda_update = compute_lambdas(y_true, y_pred)\n",
    "    y_pred -= lambda_update"
   ]
  },
  {
   "cell_type": "code",
   "execution_count": 66,
   "id": "1b0bd467-514b-4568-b82a-35e720acd8d6",
   "metadata": {},
   "outputs": [],
   "source": [
    "rank_indexes = torch.argsort(y_pred, dim=0, descending=True)"
   ]
  },
  {
   "cell_type": "code",
   "execution_count": 67,
   "id": "1b0e1be1-7954-4ad4-a9d7-c912ed997aa2",
   "metadata": {},
   "outputs": [
    {
     "data": {
      "text/plain": [
       "tensor([[ 4.3905],\n",
       "        [-0.1219],\n",
       "        [-1.0463],\n",
       "        [ 2.0759],\n",
       "        [-1.5135],\n",
       "        [-1.8746]])"
      ]
     },
     "execution_count": 67,
     "metadata": {},
     "output_type": "execute_result"
    }
   ],
   "source": [
    "y_pred"
   ]
  },
  {
   "cell_type": "code",
   "execution_count": 68,
   "id": "370382f1-9def-4cb5-9e1a-84b0f364e074",
   "metadata": {},
   "outputs": [
    {
     "data": {
      "text/plain": [
       "tensor([[[5]],\n",
       "\n",
       "        [[5]],\n",
       "\n",
       "        [[3]],\n",
       "\n",
       "        [[2]],\n",
       "\n",
       "        [[1]],\n",
       "\n",
       "        [[1]]])"
      ]
     },
     "execution_count": 68,
     "metadata": {},
     "output_type": "execute_result"
    }
   ],
   "source": [
    "y_true[rank_indexes]"
   ]
  },
  {
   "cell_type": "code",
   "execution_count": 69,
   "id": "c627f406-069a-420e-a632-a78e40cf6449",
   "metadata": {},
   "outputs": [
    {
     "data": {
      "text/plain": [
       "tensor([[5],\n",
       "        [5],\n",
       "        [3],\n",
       "        [2],\n",
       "        [1],\n",
       "        [1]])"
      ]
     },
     "execution_count": 69,
     "metadata": {},
     "output_type": "execute_result"
    }
   ],
   "source": [
    "# полностью правильное ранжирование\n",
    "torch.sort(y_true, dim=0, descending=True)[0]"
   ]
  },
  {
   "cell_type": "code",
   "execution_count": 70,
   "id": "88d9b2d2-9e14-424a-8311-9528a97bdf1a",
   "metadata": {},
   "outputs": [],
   "source": [
    "y_true = torch.LongTensor([[5,3,2,5,1,1]]).reshape(-1,1)\n",
    "\n",
    "# совсем плохие предсказанные скоры в начале\n",
    "y_pred = torch.FloatTensor([-3.0, 2.0, 3.0, -4.0, 6.0, 8.5]).reshape(-1,1)"
   ]
  },
  {
   "cell_type": "code",
   "execution_count": 71,
   "id": "2162f535-ede9-4abd-884b-ac37446333bb",
   "metadata": {},
   "outputs": [
    {
     "data": {
      "text/plain": [
       "0.6784099316652937"
      ]
     },
     "execution_count": 71,
     "metadata": {},
     "output_type": "execute_result"
    }
   ],
   "source": [
    "ndcg(y_true, y_pred)"
   ]
  },
  {
   "cell_type": "code",
   "execution_count": 72,
   "id": "95ed0fd0-a8a6-4023-9d6a-7bf90001773b",
   "metadata": {},
   "outputs": [],
   "source": [
    "for _ in range(100):\n",
    "    _, _, _, _, lambda_update = compute_lambdas(y_true, y_pred)\n",
    "    y_pred -= lambda_update"
   ]
  },
  {
   "cell_type": "code",
   "execution_count": 73,
   "id": "ee79e0b4-d2cc-44f7-9642-1a3a0b86c04f",
   "metadata": {},
   "outputs": [
    {
     "data": {
      "text/plain": [
       "1.0"
      ]
     },
     "execution_count": 73,
     "metadata": {},
     "output_type": "execute_result"
    }
   ],
   "source": [
    "ndcg(y_true, y_pred)"
   ]
  },
  {
   "cell_type": "code",
   "execution_count": 74,
   "id": "5e19a733-9aa0-45cc-8abd-89aa53687dae",
   "metadata": {},
   "outputs": [
    {
     "data": {
      "text/plain": [
       "tensor([[6.2690],\n",
       "        [1.2374],\n",
       "        [0.5772],\n",
       "        [3.6842],\n",
       "        [0.3482],\n",
       "        [0.3840]])"
      ]
     },
     "execution_count": 74,
     "metadata": {},
     "output_type": "execute_result"
    }
   ],
   "source": [
    "# полностью правильное ранжирование при увеличении количества итераций\n",
    "y_pred"
   ]
  },
  {
   "cell_type": "markdown",
   "id": "4f3d7de6-ca62-4e01-a0f6-aa326f54f653",
   "metadata": {},
   "source": [
    "<a id=\"2\"></a>\n",
    "## 2. Полезные ссылки"
   ]
  },
  {
   "cell_type": "markdown",
   "id": "b037d71a-a38e-4a13-a722-5a6ca8baa01b",
   "metadata": {},
   "source": [
    "Что посмотреть:\n",
    "1. [Вывод](https://www.youtube.com/watch?v=UfSrgoguDrs&ab_channel=SergeyNikolenko) RankNet и LambdaNet"
   ]
  },
  {
   "cell_type": "code",
   "execution_count": null,
   "id": "b718fef4-8beb-49ba-b592-a3c1db2792a5",
   "metadata": {},
   "outputs": [],
   "source": []
  }
 ],
 "metadata": {
  "kernelspec": {
   "display_name": "Python 3 (ipykernel)",
   "language": "python",
   "name": "python3"
  },
  "language_info": {
   "codemirror_mode": {
    "name": "ipython",
    "version": 3
   },
   "file_extension": ".py",
   "mimetype": "text/x-python",
   "name": "python",
   "nbconvert_exporter": "python",
   "pygments_lexer": "ipython3",
   "version": "3.11.5"
  }
 },
 "nbformat": 4,
 "nbformat_minor": 5
}
